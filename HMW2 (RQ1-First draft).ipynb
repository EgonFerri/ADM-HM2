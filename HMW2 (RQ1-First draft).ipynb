{
 "cells": [
  {
   "cell_type": "code",
   "execution_count": 6,
   "metadata": {},
   "outputs": [],
   "source": [
    "import pandas as pd\n",
    "import numpy as np\n",
    "from datetime import datetime\n",
    "import time\n",
    "\n",
    "import matplotlib.pyplot as plt\n",
    "import seaborn as sns\n",
    "from sys import getsizeof as get\n"
   ]
  },
  {
   "cell_type": "code",
   "execution_count": 7,
   "metadata": {},
   "outputs": [],
   "source": [
    "#pd.show_versions()"
   ]
  },
  {
   "cell_type": "code",
   "execution_count": 8,
   "metadata": {},
   "outputs": [],
   "source": [
    "\n",
    "M1 = pd.read_csv(r\"C:\\Users\\samin\\Desktop\\Homework2\\Data\\yellow_tripdata_2018-01.csv\", encoding = 'latin-1')\n",
    "#M1 = pd.read_csv(r\"C:\\Users\\samin\\Desktop\\Homework2\\Data\\yellow_tripdata_2018-02.csv\", encoding = 'latin-1')\n",
    "#M1 = pd.read_csv(r\"C:\\Users\\samin\\Desktop\\Homework2\\Data\\yellow_tripdata_2018-03.csv\", encoding = 'latin-1')\n",
    "#M1 = pd.read_csv(r\"C:\\Users\\samin\\Desktop\\Homework2\\Data\\yellow_tripdata_2018-04.csv\", encoding = 'latin-1')\n",
    "#M1 = pd.read_csv(r\"C:\\Users\\samin\\Desktop\\Homework2\\Data\\yellow_tripdata_2018-05.csv\", encoding = 'latin-1')\n",
    "#M1 = pd.read_csv(r\"C:\\Users\\samin\\Desktop\\Homework2\\Data\\yellow_tripdata_2018-06.csv\", encoding = 'latin-1')"
   ]
  },
  {
   "cell_type": "code",
   "execution_count": 9,
   "metadata": {},
   "outputs": [
    {
     "data": {
      "text/plain": [
       "2855719028"
      ]
     },
     "execution_count": 9,
     "metadata": {},
     "output_type": "execute_result"
    }
   ],
   "source": [
    "#size of our data frame\n",
    "get(M1)"
   ]
  },
  {
   "cell_type": "code",
   "execution_count": 10,
   "metadata": {},
   "outputs": [
    {
     "name": "stdout",
     "output_type": "stream",
     "text": [
      "(8759874, 17)\n"
     ]
    }
   ],
   "source": [
    "print(M1.shape)"
   ]
  },
  {
   "cell_type": "code",
   "execution_count": 11,
   "metadata": {},
   "outputs": [
    {
     "data": {
      "text/html": [
       "<div>\n",
       "<style scoped>\n",
       "    .dataframe tbody tr th:only-of-type {\n",
       "        vertical-align: middle;\n",
       "    }\n",
       "\n",
       "    .dataframe tbody tr th {\n",
       "        vertical-align: top;\n",
       "    }\n",
       "\n",
       "    .dataframe thead th {\n",
       "        text-align: right;\n",
       "    }\n",
       "</style>\n",
       "<table border=\"1\" class=\"dataframe\">\n",
       "  <thead>\n",
       "    <tr style=\"text-align: right;\">\n",
       "      <th></th>\n",
       "      <th>VendorID</th>\n",
       "      <th>tpep_pickup_datetime</th>\n",
       "      <th>tpep_dropoff_datetime</th>\n",
       "      <th>passenger_count</th>\n",
       "      <th>trip_distance</th>\n",
       "      <th>RatecodeID</th>\n",
       "      <th>store_and_fwd_flag</th>\n",
       "      <th>PULocationID</th>\n",
       "      <th>DOLocationID</th>\n",
       "      <th>payment_type</th>\n",
       "      <th>fare_amount</th>\n",
       "      <th>extra</th>\n",
       "      <th>mta_tax</th>\n",
       "      <th>tip_amount</th>\n",
       "      <th>tolls_amount</th>\n",
       "      <th>improvement_surcharge</th>\n",
       "      <th>total_amount</th>\n",
       "    </tr>\n",
       "  </thead>\n",
       "  <tbody>\n",
       "    <tr>\n",
       "      <th>0</th>\n",
       "      <td>1</td>\n",
       "      <td>2018-01-01 00:21:05</td>\n",
       "      <td>2018-01-01 00:24:23</td>\n",
       "      <td>1</td>\n",
       "      <td>0.5</td>\n",
       "      <td>1</td>\n",
       "      <td>N</td>\n",
       "      <td>41</td>\n",
       "      <td>24</td>\n",
       "      <td>2</td>\n",
       "      <td>4.5</td>\n",
       "      <td>0.5</td>\n",
       "      <td>0.5</td>\n",
       "      <td>0.00</td>\n",
       "      <td>0.0</td>\n",
       "      <td>0.3</td>\n",
       "      <td>5.80</td>\n",
       "    </tr>\n",
       "    <tr>\n",
       "      <th>1</th>\n",
       "      <td>1</td>\n",
       "      <td>2018-01-01 00:44:55</td>\n",
       "      <td>2018-01-01 01:03:05</td>\n",
       "      <td>1</td>\n",
       "      <td>2.7</td>\n",
       "      <td>1</td>\n",
       "      <td>N</td>\n",
       "      <td>239</td>\n",
       "      <td>140</td>\n",
       "      <td>2</td>\n",
       "      <td>14.0</td>\n",
       "      <td>0.5</td>\n",
       "      <td>0.5</td>\n",
       "      <td>0.00</td>\n",
       "      <td>0.0</td>\n",
       "      <td>0.3</td>\n",
       "      <td>15.30</td>\n",
       "    </tr>\n",
       "    <tr>\n",
       "      <th>2</th>\n",
       "      <td>1</td>\n",
       "      <td>2018-01-01 00:08:26</td>\n",
       "      <td>2018-01-01 00:14:21</td>\n",
       "      <td>2</td>\n",
       "      <td>0.8</td>\n",
       "      <td>1</td>\n",
       "      <td>N</td>\n",
       "      <td>262</td>\n",
       "      <td>141</td>\n",
       "      <td>1</td>\n",
       "      <td>6.0</td>\n",
       "      <td>0.5</td>\n",
       "      <td>0.5</td>\n",
       "      <td>1.00</td>\n",
       "      <td>0.0</td>\n",
       "      <td>0.3</td>\n",
       "      <td>8.30</td>\n",
       "    </tr>\n",
       "    <tr>\n",
       "      <th>3</th>\n",
       "      <td>1</td>\n",
       "      <td>2018-01-01 00:20:22</td>\n",
       "      <td>2018-01-01 00:52:51</td>\n",
       "      <td>1</td>\n",
       "      <td>10.2</td>\n",
       "      <td>1</td>\n",
       "      <td>N</td>\n",
       "      <td>140</td>\n",
       "      <td>257</td>\n",
       "      <td>2</td>\n",
       "      <td>33.5</td>\n",
       "      <td>0.5</td>\n",
       "      <td>0.5</td>\n",
       "      <td>0.00</td>\n",
       "      <td>0.0</td>\n",
       "      <td>0.3</td>\n",
       "      <td>34.80</td>\n",
       "    </tr>\n",
       "    <tr>\n",
       "      <th>4</th>\n",
       "      <td>1</td>\n",
       "      <td>2018-01-01 00:09:18</td>\n",
       "      <td>2018-01-01 00:27:06</td>\n",
       "      <td>2</td>\n",
       "      <td>2.5</td>\n",
       "      <td>1</td>\n",
       "      <td>N</td>\n",
       "      <td>246</td>\n",
       "      <td>239</td>\n",
       "      <td>1</td>\n",
       "      <td>12.5</td>\n",
       "      <td>0.5</td>\n",
       "      <td>0.5</td>\n",
       "      <td>2.75</td>\n",
       "      <td>0.0</td>\n",
       "      <td>0.3</td>\n",
       "      <td>16.55</td>\n",
       "    </tr>\n",
       "  </tbody>\n",
       "</table>\n",
       "</div>"
      ],
      "text/plain": [
       "   VendorID tpep_pickup_datetime tpep_dropoff_datetime  passenger_count  \\\n",
       "0         1  2018-01-01 00:21:05   2018-01-01 00:24:23                1   \n",
       "1         1  2018-01-01 00:44:55   2018-01-01 01:03:05                1   \n",
       "2         1  2018-01-01 00:08:26   2018-01-01 00:14:21                2   \n",
       "3         1  2018-01-01 00:20:22   2018-01-01 00:52:51                1   \n",
       "4         1  2018-01-01 00:09:18   2018-01-01 00:27:06                2   \n",
       "\n",
       "   trip_distance  RatecodeID store_and_fwd_flag  PULocationID  DOLocationID  \\\n",
       "0            0.5           1                  N            41            24   \n",
       "1            2.7           1                  N           239           140   \n",
       "2            0.8           1                  N           262           141   \n",
       "3           10.2           1                  N           140           257   \n",
       "4            2.5           1                  N           246           239   \n",
       "\n",
       "   payment_type  fare_amount  extra  mta_tax  tip_amount  tolls_amount  \\\n",
       "0             2          4.5    0.5      0.5        0.00           0.0   \n",
       "1             2         14.0    0.5      0.5        0.00           0.0   \n",
       "2             1          6.0    0.5      0.5        1.00           0.0   \n",
       "3             2         33.5    0.5      0.5        0.00           0.0   \n",
       "4             1         12.5    0.5      0.5        2.75           0.0   \n",
       "\n",
       "   improvement_surcharge  total_amount  \n",
       "0                    0.3          5.80  \n",
       "1                    0.3         15.30  \n",
       "2                    0.3          8.30  \n",
       "3                    0.3         34.80  \n",
       "4                    0.3         16.55  "
      ]
     },
     "execution_count": 11,
     "metadata": {},
     "output_type": "execute_result"
    }
   ],
   "source": [
    "M1.head()"
   ]
  },
  {
   "cell_type": "code",
   "execution_count": 12,
   "metadata": {},
   "outputs": [
    {
     "data": {
      "text/html": [
       "<div>\n",
       "<style scoped>\n",
       "    .dataframe tbody tr th:only-of-type {\n",
       "        vertical-align: middle;\n",
       "    }\n",
       "\n",
       "    .dataframe tbody tr th {\n",
       "        vertical-align: top;\n",
       "    }\n",
       "\n",
       "    .dataframe thead th {\n",
       "        text-align: right;\n",
       "    }\n",
       "</style>\n",
       "<table border=\"1\" class=\"dataframe\">\n",
       "  <thead>\n",
       "    <tr style=\"text-align: right;\">\n",
       "      <th></th>\n",
       "      <th>VendorID</th>\n",
       "      <th>passenger_count</th>\n",
       "      <th>trip_distance</th>\n",
       "      <th>RatecodeID</th>\n",
       "      <th>PULocationID</th>\n",
       "      <th>DOLocationID</th>\n",
       "      <th>payment_type</th>\n",
       "      <th>fare_amount</th>\n",
       "      <th>extra</th>\n",
       "      <th>mta_tax</th>\n",
       "      <th>tip_amount</th>\n",
       "      <th>tolls_amount</th>\n",
       "      <th>improvement_surcharge</th>\n",
       "      <th>total_amount</th>\n",
       "    </tr>\n",
       "  </thead>\n",
       "  <tbody>\n",
       "    <tr>\n",
       "      <th>count</th>\n",
       "      <td>8.759874e+06</td>\n",
       "      <td>8.759874e+06</td>\n",
       "      <td>8.759874e+06</td>\n",
       "      <td>8.759874e+06</td>\n",
       "      <td>8.759874e+06</td>\n",
       "      <td>8.759874e+06</td>\n",
       "      <td>8.759874e+06</td>\n",
       "      <td>8.759874e+06</td>\n",
       "      <td>8.759874e+06</td>\n",
       "      <td>8.759874e+06</td>\n",
       "      <td>8.759874e+06</td>\n",
       "      <td>8.759874e+06</td>\n",
       "      <td>8.759874e+06</td>\n",
       "      <td>8.759874e+06</td>\n",
       "    </tr>\n",
       "    <tr>\n",
       "      <th>mean</th>\n",
       "      <td>1.560940e+00</td>\n",
       "      <td>1.606855e+00</td>\n",
       "      <td>2.804001e+00</td>\n",
       "      <td>1.039545e+00</td>\n",
       "      <td>1.644585e+02</td>\n",
       "      <td>1.627269e+02</td>\n",
       "      <td>1.310611e+00</td>\n",
       "      <td>1.224434e+01</td>\n",
       "      <td>3.246822e-01</td>\n",
       "      <td>4.975067e-01</td>\n",
       "      <td>1.818745e+00</td>\n",
       "      <td>3.026133e-01</td>\n",
       "      <td>2.996306e-01</td>\n",
       "      <td>1.549098e+01</td>\n",
       "    </tr>\n",
       "    <tr>\n",
       "      <th>std</th>\n",
       "      <td>4.962724e-01</td>\n",
       "      <td>1.258464e+00</td>\n",
       "      <td>6.412346e+01</td>\n",
       "      <td>4.450700e-01</td>\n",
       "      <td>6.636021e+01</td>\n",
       "      <td>7.031164e+01</td>\n",
       "      <td>4.817818e-01</td>\n",
       "      <td>1.168321e+01</td>\n",
       "      <td>4.502524e-01</td>\n",
       "      <td>4.333319e-02</td>\n",
       "      <td>2.486341e+00</td>\n",
       "      <td>1.738185e+00</td>\n",
       "      <td>1.442815e-02</td>\n",
       "      <td>1.419540e+01</td>\n",
       "    </tr>\n",
       "    <tr>\n",
       "      <th>min</th>\n",
       "      <td>1.000000e+00</td>\n",
       "      <td>0.000000e+00</td>\n",
       "      <td>0.000000e+00</td>\n",
       "      <td>1.000000e+00</td>\n",
       "      <td>1.000000e+00</td>\n",
       "      <td>1.000000e+00</td>\n",
       "      <td>1.000000e+00</td>\n",
       "      <td>-4.500000e+02</td>\n",
       "      <td>-4.469000e+01</td>\n",
       "      <td>-5.000000e-01</td>\n",
       "      <td>-8.880000e+01</td>\n",
       "      <td>-1.500000e+01</td>\n",
       "      <td>-3.000000e-01</td>\n",
       "      <td>-4.503000e+02</td>\n",
       "    </tr>\n",
       "    <tr>\n",
       "      <th>25%</th>\n",
       "      <td>1.000000e+00</td>\n",
       "      <td>1.000000e+00</td>\n",
       "      <td>9.100000e-01</td>\n",
       "      <td>1.000000e+00</td>\n",
       "      <td>1.160000e+02</td>\n",
       "      <td>1.130000e+02</td>\n",
       "      <td>1.000000e+00</td>\n",
       "      <td>6.000000e+00</td>\n",
       "      <td>0.000000e+00</td>\n",
       "      <td>5.000000e-01</td>\n",
       "      <td>0.000000e+00</td>\n",
       "      <td>0.000000e+00</td>\n",
       "      <td>3.000000e-01</td>\n",
       "      <td>8.300000e+00</td>\n",
       "    </tr>\n",
       "    <tr>\n",
       "      <th>50%</th>\n",
       "      <td>2.000000e+00</td>\n",
       "      <td>1.000000e+00</td>\n",
       "      <td>1.550000e+00</td>\n",
       "      <td>1.000000e+00</td>\n",
       "      <td>1.620000e+02</td>\n",
       "      <td>1.620000e+02</td>\n",
       "      <td>1.000000e+00</td>\n",
       "      <td>9.000000e+00</td>\n",
       "      <td>0.000000e+00</td>\n",
       "      <td>5.000000e-01</td>\n",
       "      <td>1.360000e+00</td>\n",
       "      <td>0.000000e+00</td>\n",
       "      <td>3.000000e-01</td>\n",
       "      <td>1.130000e+01</td>\n",
       "    </tr>\n",
       "    <tr>\n",
       "      <th>75%</th>\n",
       "      <td>2.000000e+00</td>\n",
       "      <td>2.000000e+00</td>\n",
       "      <td>2.840000e+00</td>\n",
       "      <td>1.000000e+00</td>\n",
       "      <td>2.340000e+02</td>\n",
       "      <td>2.340000e+02</td>\n",
       "      <td>2.000000e+00</td>\n",
       "      <td>1.350000e+01</td>\n",
       "      <td>5.000000e-01</td>\n",
       "      <td>5.000000e-01</td>\n",
       "      <td>2.350000e+00</td>\n",
       "      <td>0.000000e+00</td>\n",
       "      <td>3.000000e-01</td>\n",
       "      <td>1.662000e+01</td>\n",
       "    </tr>\n",
       "    <tr>\n",
       "      <th>max</th>\n",
       "      <td>2.000000e+00</td>\n",
       "      <td>9.000000e+00</td>\n",
       "      <td>1.894838e+05</td>\n",
       "      <td>9.900000e+01</td>\n",
       "      <td>2.650000e+02</td>\n",
       "      <td>2.650000e+02</td>\n",
       "      <td>4.000000e+00</td>\n",
       "      <td>8.016000e+03</td>\n",
       "      <td>6.000000e+01</td>\n",
       "      <td>4.549000e+01</td>\n",
       "      <td>4.417100e+02</td>\n",
       "      <td>9.507000e+02</td>\n",
       "      <td>1.000000e+00</td>\n",
       "      <td>8.016800e+03</td>\n",
       "    </tr>\n",
       "  </tbody>\n",
       "</table>\n",
       "</div>"
      ],
      "text/plain": [
       "           VendorID  passenger_count  trip_distance    RatecodeID  \\\n",
       "count  8.759874e+06     8.759874e+06   8.759874e+06  8.759874e+06   \n",
       "mean   1.560940e+00     1.606855e+00   2.804001e+00  1.039545e+00   \n",
       "std    4.962724e-01     1.258464e+00   6.412346e+01  4.450700e-01   \n",
       "min    1.000000e+00     0.000000e+00   0.000000e+00  1.000000e+00   \n",
       "25%    1.000000e+00     1.000000e+00   9.100000e-01  1.000000e+00   \n",
       "50%    2.000000e+00     1.000000e+00   1.550000e+00  1.000000e+00   \n",
       "75%    2.000000e+00     2.000000e+00   2.840000e+00  1.000000e+00   \n",
       "max    2.000000e+00     9.000000e+00   1.894838e+05  9.900000e+01   \n",
       "\n",
       "       PULocationID  DOLocationID  payment_type   fare_amount         extra  \\\n",
       "count  8.759874e+06  8.759874e+06  8.759874e+06  8.759874e+06  8.759874e+06   \n",
       "mean   1.644585e+02  1.627269e+02  1.310611e+00  1.224434e+01  3.246822e-01   \n",
       "std    6.636021e+01  7.031164e+01  4.817818e-01  1.168321e+01  4.502524e-01   \n",
       "min    1.000000e+00  1.000000e+00  1.000000e+00 -4.500000e+02 -4.469000e+01   \n",
       "25%    1.160000e+02  1.130000e+02  1.000000e+00  6.000000e+00  0.000000e+00   \n",
       "50%    1.620000e+02  1.620000e+02  1.000000e+00  9.000000e+00  0.000000e+00   \n",
       "75%    2.340000e+02  2.340000e+02  2.000000e+00  1.350000e+01  5.000000e-01   \n",
       "max    2.650000e+02  2.650000e+02  4.000000e+00  8.016000e+03  6.000000e+01   \n",
       "\n",
       "            mta_tax    tip_amount  tolls_amount  improvement_surcharge  \\\n",
       "count  8.759874e+06  8.759874e+06  8.759874e+06           8.759874e+06   \n",
       "mean   4.975067e-01  1.818745e+00  3.026133e-01           2.996306e-01   \n",
       "std    4.333319e-02  2.486341e+00  1.738185e+00           1.442815e-02   \n",
       "min   -5.000000e-01 -8.880000e+01 -1.500000e+01          -3.000000e-01   \n",
       "25%    5.000000e-01  0.000000e+00  0.000000e+00           3.000000e-01   \n",
       "50%    5.000000e-01  1.360000e+00  0.000000e+00           3.000000e-01   \n",
       "75%    5.000000e-01  2.350000e+00  0.000000e+00           3.000000e-01   \n",
       "max    4.549000e+01  4.417100e+02  9.507000e+02           1.000000e+00   \n",
       "\n",
       "       total_amount  \n",
       "count  8.759874e+06  \n",
       "mean   1.549098e+01  \n",
       "std    1.419540e+01  \n",
       "min   -4.503000e+02  \n",
       "25%    8.300000e+00  \n",
       "50%    1.130000e+01  \n",
       "75%    1.662000e+01  \n",
       "max    8.016800e+03  "
      ]
     },
     "execution_count": 12,
     "metadata": {},
     "output_type": "execute_result"
    }
   ],
   "source": [
    "M1.describe()\n"
   ]
  },
  {
   "cell_type": "code",
   "execution_count": 13,
   "metadata": {},
   "outputs": [
    {
     "name": "stdout",
     "output_type": "stream",
     "text": [
      "<class 'pandas.core.frame.DataFrame'>\n",
      "RangeIndex: 8759874 entries, 0 to 8759873\n",
      "Data columns (total 17 columns):\n",
      "VendorID                 int64\n",
      "tpep_pickup_datetime     object\n",
      "tpep_dropoff_datetime    object\n",
      "passenger_count          int64\n",
      "trip_distance            float64\n",
      "RatecodeID               int64\n",
      "store_and_fwd_flag       object\n",
      "PULocationID             int64\n",
      "DOLocationID             int64\n",
      "payment_type             int64\n",
      "fare_amount              float64\n",
      "extra                    float64\n",
      "mta_tax                  float64\n",
      "tip_amount               float64\n",
      "tolls_amount             float64\n",
      "improvement_surcharge    float64\n",
      "total_amount             float64\n",
      "dtypes: float64(8), int64(6), object(3)\n",
      "memory usage: 1.1+ GB\n"
     ]
    }
   ],
   "source": [
    "M1.info()"
   ]
  },
  {
   "cell_type": "code",
   "execution_count": 14,
   "metadata": {},
   "outputs": [
    {
     "data": {
      "text/plain": [
       "False"
      ]
     },
     "execution_count": 14,
     "metadata": {},
     "output_type": "execute_result"
    }
   ],
   "source": [
    "# ANY NAN VALUES IN THE MONTH OF JANUARY?\n",
    "\n",
    "\n",
    "#is there any NaN (not a number) values in the dataframe?\n",
    "#Returns a dataframe of boolena values (true/false)\n",
    "#M1.isnull()\n",
    "\n",
    "#Now find only those columns which have NaN values\n",
    "#M1.isnull().any()\n",
    "\n",
    "#one more any() will tell us if any of the above is true?\n",
    "M1.isnull().any().any()\n"
   ]
  },
  {
   "cell_type": "code",
   "execution_count": 15,
   "metadata": {},
   "outputs": [
    {
     "data": {
      "text/plain": [
       "False"
      ]
     },
     "execution_count": 15,
     "metadata": {},
     "output_type": "execute_result"
    }
   ],
   "source": [
    "#another way to see if our dataframe has any NaN vales\n",
    "M1.isnull().values.any()\n"
   ]
  },
  {
   "cell_type": "markdown",
   "metadata": {},
   "source": [
    "# RQ1"
   ]
  },
  {
   "cell_type": "code",
   "execution_count": 16,
   "metadata": {},
   "outputs": [],
   "source": [
    "#to answer this question, we need for columns. So, we drob the others. \n",
    "#keep tpep_pickup_datetime, tpep_dropoff_datetime, PULocationID, DOLocationID\n",
    "\n",
    "#dropping vs keeping the ones I need?\n",
    "#df.drop(columns=['', 'C'])\n",
    "M2 = M1.filter(['tpep_pickup_datetime', 'PULocationID'])\n",
    "#free the memory from this big object M1 is! \n",
    "del M1\n"
   ]
  },
  {
   "cell_type": "code",
   "execution_count": 17,
   "metadata": {},
   "outputs": [
    {
     "data": {
      "text/html": [
       "<div>\n",
       "<style scoped>\n",
       "    .dataframe tbody tr th:only-of-type {\n",
       "        vertical-align: middle;\n",
       "    }\n",
       "\n",
       "    .dataframe tbody tr th {\n",
       "        vertical-align: top;\n",
       "    }\n",
       "\n",
       "    .dataframe thead th {\n",
       "        text-align: right;\n",
       "    }\n",
       "</style>\n",
       "<table border=\"1\" class=\"dataframe\">\n",
       "  <thead>\n",
       "    <tr style=\"text-align: right;\">\n",
       "      <th></th>\n",
       "      <th>tpep_pickup_datetime</th>\n",
       "      <th>PULocationID</th>\n",
       "    </tr>\n",
       "  </thead>\n",
       "  <tbody>\n",
       "    <tr>\n",
       "      <th>0</th>\n",
       "      <td>2018-01-01 00:21:05</td>\n",
       "      <td>41</td>\n",
       "    </tr>\n",
       "    <tr>\n",
       "      <th>1</th>\n",
       "      <td>2018-01-01 00:44:55</td>\n",
       "      <td>239</td>\n",
       "    </tr>\n",
       "  </tbody>\n",
       "</table>\n",
       "</div>"
      ],
      "text/plain": [
       "  tpep_pickup_datetime  PULocationID\n",
       "0  2018-01-01 00:21:05            41\n",
       "1  2018-01-01 00:44:55           239"
      ]
     },
     "execution_count": 17,
     "metadata": {},
     "output_type": "execute_result"
    }
   ],
   "source": [
    "M2.head(2)"
   ]
  },
  {
   "cell_type": "code",
   "execution_count": 18,
   "metadata": {},
   "outputs": [
    {
     "name": "stdout",
     "output_type": "stream",
     "text": [
      "<class 'pandas.core.frame.DataFrame'>\n",
      "RangeIndex: 8759874 entries, 0 to 8759873\n",
      "Data columns (total 2 columns):\n",
      "tpep_pickup_datetime    object\n",
      "PULocationID            int64\n",
      "dtypes: int64(1), object(1)\n",
      "memory usage: 133.7+ MB\n"
     ]
    }
   ],
   "source": [
    "M2.info()"
   ]
  },
  {
   "cell_type": "code",
   "execution_count": 19,
   "metadata": {},
   "outputs": [],
   "source": [
    "# we have two datetime objects. Let's convert them into usable data columns:  day, hour, minutes,..\n",
    "\n",
    "#M2[\"hour\"] = [t.hour for t in pd.DatetimeIndex(M2.datetime)]\n",
    "#M2[\"day\"] = [t.dayofweek for t in pd.DatetimeIndex(M2.datetime)]\n",
    "\n",
    "M2['pickup_day'] = pd.DatetimeIndex(M2['tpep_pickup_datetime']).day\n",
    "#M2['pickup_hour'] = pd.DatetimeIndex(M2['tpep_pickup_datetime']).hour\n",
    "\n",
    "#M2['dropoff_day'] = pd.DatetimeIndex(M2['tpep_dropoff_datetime']).day\n",
    "#M2['dropoff_hour'] = pd.DatetimeIndex(M2['tpep_dropoff_datetime']).hour\n",
    "\n",
    "\n",
    "#M2['tpep_pickup-datetime'] = pd.to_datetime(M2['tpep_pickup_datetime'])\n",
    "#M2.info()\n",
    "#M2['Hour'] = M2['tpep_pickup_datetime'].apply(lambda time:time.hour)\n",
    "#M2['Day'] = M2['tpep_pickup_datetime'].apply(lambda time: time.dayofweek)\n",
    "#M2['Month'] = M2['tpep_pickup_datetime'].apply(lambda time: time.month)\n",
    "#M2['year'] = M2['tpep_pickup_datetime'].apply(lambda time: time.year)\n"
   ]
  },
  {
   "cell_type": "code",
   "execution_count": 20,
   "metadata": {},
   "outputs": [
    {
     "data": {
      "text/html": [
       "<div>\n",
       "<style scoped>\n",
       "    .dataframe tbody tr th:only-of-type {\n",
       "        vertical-align: middle;\n",
       "    }\n",
       "\n",
       "    .dataframe tbody tr th {\n",
       "        vertical-align: top;\n",
       "    }\n",
       "\n",
       "    .dataframe thead th {\n",
       "        text-align: right;\n",
       "    }\n",
       "</style>\n",
       "<table border=\"1\" class=\"dataframe\">\n",
       "  <thead>\n",
       "    <tr style=\"text-align: right;\">\n",
       "      <th></th>\n",
       "      <th>tpep_pickup_datetime</th>\n",
       "      <th>PULocationID</th>\n",
       "      <th>pickup_day</th>\n",
       "    </tr>\n",
       "  </thead>\n",
       "  <tbody>\n",
       "    <tr>\n",
       "      <th>0</th>\n",
       "      <td>2018-01-01 00:21:05</td>\n",
       "      <td>41</td>\n",
       "      <td>1</td>\n",
       "    </tr>\n",
       "    <tr>\n",
       "      <th>1</th>\n",
       "      <td>2018-01-01 00:44:55</td>\n",
       "      <td>239</td>\n",
       "      <td>1</td>\n",
       "    </tr>\n",
       "    <tr>\n",
       "      <th>2</th>\n",
       "      <td>2018-01-01 00:08:26</td>\n",
       "      <td>262</td>\n",
       "      <td>1</td>\n",
       "    </tr>\n",
       "    <tr>\n",
       "      <th>3</th>\n",
       "      <td>2018-01-01 00:20:22</td>\n",
       "      <td>140</td>\n",
       "      <td>1</td>\n",
       "    </tr>\n",
       "    <tr>\n",
       "      <th>4</th>\n",
       "      <td>2018-01-01 00:09:18</td>\n",
       "      <td>246</td>\n",
       "      <td>1</td>\n",
       "    </tr>\n",
       "  </tbody>\n",
       "</table>\n",
       "</div>"
      ],
      "text/plain": [
       "  tpep_pickup_datetime  PULocationID  pickup_day\n",
       "0  2018-01-01 00:21:05            41           1\n",
       "1  2018-01-01 00:44:55           239           1\n",
       "2  2018-01-01 00:08:26           262           1\n",
       "3  2018-01-01 00:20:22           140           1\n",
       "4  2018-01-01 00:09:18           246           1"
      ]
     },
     "execution_count": 20,
     "metadata": {},
     "output_type": "execute_result"
    }
   ],
   "source": [
    "M2.head()"
   ]
  },
  {
   "cell_type": "code",
   "execution_count": 21,
   "metadata": {},
   "outputs": [],
   "source": [
    "#Drop the columns we don't need anymore\n",
    "M3 = M2.drop(columns = ['tpep_pickup_datetime'])"
   ]
  },
  {
   "cell_type": "code",
   "execution_count": 22,
   "metadata": {},
   "outputs": [],
   "source": [
    "#Free up memory space \n",
    "del M2"
   ]
  },
  {
   "cell_type": "code",
   "execution_count": 23,
   "metadata": {},
   "outputs": [
    {
     "data": {
      "text/html": [
       "<div>\n",
       "<style scoped>\n",
       "    .dataframe tbody tr th:only-of-type {\n",
       "        vertical-align: middle;\n",
       "    }\n",
       "\n",
       "    .dataframe tbody tr th {\n",
       "        vertical-align: top;\n",
       "    }\n",
       "\n",
       "    .dataframe thead th {\n",
       "        text-align: right;\n",
       "    }\n",
       "</style>\n",
       "<table border=\"1\" class=\"dataframe\">\n",
       "  <thead>\n",
       "    <tr style=\"text-align: right;\">\n",
       "      <th></th>\n",
       "      <th>PULocationID</th>\n",
       "      <th>pickup_day</th>\n",
       "    </tr>\n",
       "  </thead>\n",
       "  <tbody>\n",
       "    <tr>\n",
       "      <th>0</th>\n",
       "      <td>41</td>\n",
       "      <td>1</td>\n",
       "    </tr>\n",
       "    <tr>\n",
       "      <th>1</th>\n",
       "      <td>239</td>\n",
       "      <td>1</td>\n",
       "    </tr>\n",
       "    <tr>\n",
       "      <th>2</th>\n",
       "      <td>262</td>\n",
       "      <td>1</td>\n",
       "    </tr>\n",
       "    <tr>\n",
       "      <th>3</th>\n",
       "      <td>140</td>\n",
       "      <td>1</td>\n",
       "    </tr>\n",
       "    <tr>\n",
       "      <th>4</th>\n",
       "      <td>246</td>\n",
       "      <td>1</td>\n",
       "    </tr>\n",
       "  </tbody>\n",
       "</table>\n",
       "</div>"
      ],
      "text/plain": [
       "   PULocationID  pickup_day\n",
       "0            41           1\n",
       "1           239           1\n",
       "2           262           1\n",
       "3           140           1\n",
       "4           246           1"
      ]
     },
     "execution_count": 23,
     "metadata": {},
     "output_type": "execute_result"
    }
   ],
   "source": [
    "M3.head()"
   ]
  },
  {
   "cell_type": "code",
   "execution_count": 26,
   "metadata": {},
   "outputs": [],
   "source": [
    "#concatenate(join/merge)M3 and taxi_zone_lookup dataframe\n",
    "\n",
    "#read taxi_zone_lookup\n",
    "borough = pd.read_csv(r\"C:\\Users\\samin\\Desktop\\Homework2\\taxi_zone_lookup.csv\", encoding = 'latin-1')\n"
   ]
  },
  {
   "cell_type": "code",
   "execution_count": 27,
   "metadata": {},
   "outputs": [
    {
     "data": {
      "text/html": [
       "<div>\n",
       "<style scoped>\n",
       "    .dataframe tbody tr th:only-of-type {\n",
       "        vertical-align: middle;\n",
       "    }\n",
       "\n",
       "    .dataframe tbody tr th {\n",
       "        vertical-align: top;\n",
       "    }\n",
       "\n",
       "    .dataframe thead th {\n",
       "        text-align: right;\n",
       "    }\n",
       "</style>\n",
       "<table border=\"1\" class=\"dataframe\">\n",
       "  <thead>\n",
       "    <tr style=\"text-align: right;\">\n",
       "      <th></th>\n",
       "      <th>LocationID</th>\n",
       "      <th>Borough</th>\n",
       "      <th>Zone</th>\n",
       "      <th>service_zone</th>\n",
       "    </tr>\n",
       "  </thead>\n",
       "  <tbody>\n",
       "    <tr>\n",
       "      <th>0</th>\n",
       "      <td>1</td>\n",
       "      <td>EWR</td>\n",
       "      <td>Newark Airport</td>\n",
       "      <td>EWR</td>\n",
       "    </tr>\n",
       "    <tr>\n",
       "      <th>1</th>\n",
       "      <td>2</td>\n",
       "      <td>Queens</td>\n",
       "      <td>Jamaica Bay</td>\n",
       "      <td>Boro Zone</td>\n",
       "    </tr>\n",
       "    <tr>\n",
       "      <th>2</th>\n",
       "      <td>3</td>\n",
       "      <td>Bronx</td>\n",
       "      <td>Allerton/Pelham Gardens</td>\n",
       "      <td>Boro Zone</td>\n",
       "    </tr>\n",
       "    <tr>\n",
       "      <th>3</th>\n",
       "      <td>4</td>\n",
       "      <td>Manhattan</td>\n",
       "      <td>Alphabet City</td>\n",
       "      <td>Yellow Zone</td>\n",
       "    </tr>\n",
       "    <tr>\n",
       "      <th>4</th>\n",
       "      <td>5</td>\n",
       "      <td>Staten Island</td>\n",
       "      <td>Arden Heights</td>\n",
       "      <td>Boro Zone</td>\n",
       "    </tr>\n",
       "  </tbody>\n",
       "</table>\n",
       "</div>"
      ],
      "text/plain": [
       "   LocationID        Borough                     Zone service_zone\n",
       "0           1            EWR           Newark Airport          EWR\n",
       "1           2         Queens              Jamaica Bay    Boro Zone\n",
       "2           3          Bronx  Allerton/Pelham Gardens    Boro Zone\n",
       "3           4      Manhattan            Alphabet City  Yellow Zone\n",
       "4           5  Staten Island            Arden Heights    Boro Zone"
      ]
     },
     "execution_count": 27,
     "metadata": {},
     "output_type": "execute_result"
    }
   ],
   "source": [
    "borough.head(5)"
   ]
  },
  {
   "cell_type": "code",
   "execution_count": null,
   "metadata": {},
   "outputs": [],
   "source": [
    "borough.info()"
   ]
  },
  {
   "cell_type": "code",
   "execution_count": null,
   "metadata": {},
   "outputs": [],
   "source": [
    "#the key column is LocationID in boroughs and (PULocationID or DOLocationID) in M3. They contain the same data: LocationIDs. \n",
    "#How to merge these two dataframes when two columns' keys are not in the same order?\n",
    "\n",
    "result = pd.merge(M3,\n",
    "                 borough[['LocationID', 'Borough']],\n",
    "                 left_on='PULocationID',\n",
    "                 right_on='LocationID',\n",
    "                 how='inner' \n",
    "                 )\n",
    "result.head()\n"
   ]
  },
  {
   "cell_type": "code",
   "execution_count": null,
   "metadata": {},
   "outputs": [],
   "source": [
    "print(\"M3 dimensions: {}\".format(M3.shape))\n",
    "print(\"borough dimensions: {}\".format(borough.shape))\n",
    "print(\"result dimension: {}\".format(result.shape))\n",
    "\n"
   ]
  },
  {
   "cell_type": "code",
   "execution_count": null,
   "metadata": {},
   "outputs": [],
   "source": [
    "#The pickup boroughs are taken into consideration\n",
    "\n",
    "M4 = result.drop(['LocationID'], 1)\n",
    "M4.head()"
   ]
  },
  {
   "cell_type": "code",
   "execution_count": null,
   "metadata": {},
   "outputs": [],
   "source": [
    "del result "
   ]
  },
  {
   "cell_type": "code",
   "execution_count": null,
   "metadata": {},
   "outputs": [],
   "source": [
    "#now, we need to use groupby function. We need the frequency of taxis used in each day and for each borough seperately. \n",
    "#first we group by based on our boroughs.\n",
    "\n",
    "M4.info()"
   ]
  },
  {
   "cell_type": "code",
   "execution_count": null,
   "metadata": {},
   "outputs": [],
   "source": [
    "M4.groupby(['Borough']).groups.keys()"
   ]
  },
  {
   "cell_type": "code",
   "execution_count": null,
   "metadata": {},
   "outputs": [],
   "source": [
    "len(M4.groupby(['Borough']).groups['Bronx'])\n",
    "\n",
    "#len(M4.groupby(['Borough']).groups['unknown'])"
   ]
  },
  {
   "cell_type": "code",
   "execution_count": null,
   "metadata": {},
   "outputs": [],
   "source": [
    "len(M4.groupby(['Borough']).groups['Brooklyn'])"
   ]
  },
  {
   "cell_type": "code",
   "execution_count": null,
   "metadata": {},
   "outputs": [],
   "source": [
    "len(M4.groupby(['Borough']).groups['EWR'])"
   ]
  },
  {
   "cell_type": "code",
   "execution_count": null,
   "metadata": {},
   "outputs": [],
   "source": [
    "len(M4.groupby(['Borough']).groups['Manhattan'])"
   ]
  },
  {
   "cell_type": "code",
   "execution_count": null,
   "metadata": {},
   "outputs": [],
   "source": [
    "len(M4.groupby(['Borough']).groups['Queens'])"
   ]
  },
  {
   "cell_type": "code",
   "execution_count": null,
   "metadata": {},
   "outputs": [],
   "source": [
    "len(M4.groupby(['Borough']).groups['Staten Island'])"
   ]
  },
  {
   "cell_type": "code",
   "execution_count": null,
   "metadata": {},
   "outputs": [],
   "source": [
    "len(M4.groupby(['Borough']).groups['Unknown'])"
   ]
  },
  {
   "cell_type": "code",
   "execution_count": null,
   "metadata": {},
   "outputs": [],
   "source": []
  },
  {
   "cell_type": "code",
   "execution_count": null,
   "metadata": {},
   "outputs": [],
   "source": [
    "#\n",
    "\n",
    "s = M4.groupby('Borough')['pickup_day'].count()"
   ]
  },
  {
   "cell_type": "code",
   "execution_count": null,
   "metadata": {},
   "outputs": [],
   "source": []
  },
  {
   "cell_type": "code",
   "execution_count": null,
   "metadata": {},
   "outputs": [],
   "source": [
    "borAvgs=[]\n",
    "for i in range (7):\n",
    "    borAvgs.append(s[i]//31)\n",
    "NYAvgs=sum(borAvgs)\n",
    "borAvgs.append(NYAvgs)"
   ]
  },
  {
   "cell_type": "code",
   "execution_count": null,
   "metadata": {},
   "outputs": [],
   "source": [
    "print(borAvgs)\n",
    "\n",
    "print(NYAvgs)"
   ]
  },
  {
   "cell_type": "code",
   "execution_count": null,
   "metadata": {},
   "outputs": [],
   "source": [
    "columns=[]\n",
    "index= ['Bronx','Brooklyn','EWR','Manhattan','queens','Staten Island','Unknow', 'NYC']\n",
    "#df=pd.DataFrame(index=index, columns=columns)"
   ]
  },
  {
   "cell_type": "code",
   "execution_count": null,
   "metadata": {},
   "outputs": [],
   "source": [
    "df"
   ]
  },
  {
   "cell_type": "code",
   "execution_count": null,
   "metadata": {},
   "outputs": [],
   "source": [
    "df['May']=borAvgs"
   ]
  },
  {
   "cell_type": "code",
   "execution_count": null,
   "metadata": {},
   "outputs": [],
   "source": [
    "df"
   ]
  },
  {
   "cell_type": "markdown",
   "metadata": {},
   "source": [
    "### Observations\n",
    "###### 1. Manhattan has the highest trafic of taxis. \n",
    "###### 2. Not much can be understood from the plot. Just the fourth day of month in each borough has a lower trafic. To understand why, we need to refer to the clalnder of NewYork city. Maybe it has been an off day and not many people have been outside. \n",
    "pickups are more heavily concentrated in Manhattan, while drop offs extend further into the outer boroughs."
   ]
  },
  {
   "cell_type": "code",
   "execution_count": null,
   "metadata": {},
   "outputs": [],
   "source": [
    "df_tra=df.T\n",
    "df_tra"
   ]
  },
  {
   "cell_type": "code",
   "execution_count": null,
   "metadata": {},
   "outputs": [],
   "source": [
    "df_tra.plot.bar()"
   ]
  },
  {
   "cell_type": "code",
   "execution_count": null,
   "metadata": {},
   "outputs": [],
   "source": [
    "df_tra.plot(kind = '')"
   ]
  },
  {
   "cell_type": "code",
   "execution_count": null,
   "metadata": {},
   "outputs": [],
   "source": [
    "df_tra2=df_tra.drop(columns = ['EWR', 'Manhattan','Unknow', 'NYC'])"
   ]
  },
  {
   "cell_type": "code",
   "execution_count": null,
   "metadata": {},
   "outputs": [],
   "source": [
    "df_tra2.plot.line()"
   ]
  }
 ],
 "metadata": {
  "kernelspec": {
   "display_name": "Python 3",
   "language": "python",
   "name": "python3"
  },
  "language_info": {
   "codemirror_mode": {
    "name": "ipython",
    "version": 3
   },
   "file_extension": ".py",
   "mimetype": "text/x-python",
   "name": "python",
   "nbconvert_exporter": "python",
   "pygments_lexer": "ipython3",
   "version": "3.6.5"
  }
 },
 "nbformat": 4,
 "nbformat_minor": 2
}
