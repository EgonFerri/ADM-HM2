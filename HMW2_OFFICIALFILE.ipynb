{
 "cells": [
  {
   "cell_type": "markdown",
   "metadata": {},
   "source": [
    "# HOMEWORK 2 ADM\n",
    "#### Samin Hamidi, Egon Ferri, Davide Manfredini"
   ]
  },
  {
   "cell_type": "code",
   "execution_count": 3,
   "metadata": {},
   "outputs": [],
   "source": [
    "import pandas as pd\n",
    "import numpy as np\n",
    "from datetime import datetime\n",
    "import time\n",
    "import scipy.stats as stats\n",
    "import matplotlib.pyplot as plt\n",
    "import seaborn as sns\n",
    "from sys import getsizeof as get\n",
    "from collections import Counter\n",
    "import folium\n",
    "import json\n",
    "import branca.colormap as cm\n",
    "import os\n",
    "from branca.colormap import linear"
   ]
  },
  {
   "cell_type": "markdown",
   "metadata": {},
   "source": [
    "## PRELIMINARY ANALYSIS\n",
    "###### We load our data file and we took a glance at it"
   ]
  },
  {
   "cell_type": "code",
   "execution_count": 412,
   "metadata": {},
   "outputs": [],
   "source": [
    "M1 = pd.read_csv(r\"C:\\Users\\Egon\\Desktop\\Universita\\ADM\\homework2\\dati\\yellow_tripdata_2018-01.csv\", encoding = 'latin-1')"
   ]
  },
  {
   "cell_type": "markdown",
   "metadata": {},
   "source": [
    "Size, shape, and basic charateristics of our data frame:"
   ]
  },
  {
   "cell_type": "code",
   "execution_count": 413,
   "metadata": {},
   "outputs": [
    {
     "data": {
      "text/plain": [
       "2855719028"
      ]
     },
     "execution_count": 413,
     "metadata": {},
     "output_type": "execute_result"
    }
   ],
   "source": [
    "get(M1)"
   ]
  },
  {
   "cell_type": "code",
   "execution_count": 414,
   "metadata": {},
   "outputs": [
    {
     "name": "stdout",
     "output_type": "stream",
     "text": [
      "(8759874, 17)\n"
     ]
    }
   ],
   "source": [
    "print(M1.shape)"
   ]
  },
  {
   "cell_type": "code",
   "execution_count": 415,
   "metadata": {},
   "outputs": [
    {
     "data": {
      "text/html": [
       "<div>\n",
       "<style scoped>\n",
       "    .dataframe tbody tr th:only-of-type {\n",
       "        vertical-align: middle;\n",
       "    }\n",
       "\n",
       "    .dataframe tbody tr th {\n",
       "        vertical-align: top;\n",
       "    }\n",
       "\n",
       "    .dataframe thead th {\n",
       "        text-align: right;\n",
       "    }\n",
       "</style>\n",
       "<table border=\"1\" class=\"dataframe\">\n",
       "  <thead>\n",
       "    <tr style=\"text-align: right;\">\n",
       "      <th></th>\n",
       "      <th>VendorID</th>\n",
       "      <th>tpep_pickup_datetime</th>\n",
       "      <th>tpep_dropoff_datetime</th>\n",
       "      <th>passenger_count</th>\n",
       "      <th>trip_distance</th>\n",
       "      <th>RatecodeID</th>\n",
       "      <th>store_and_fwd_flag</th>\n",
       "      <th>PULocationID</th>\n",
       "      <th>DOLocationID</th>\n",
       "      <th>payment_type</th>\n",
       "      <th>fare_amount</th>\n",
       "      <th>extra</th>\n",
       "      <th>mta_tax</th>\n",
       "      <th>tip_amount</th>\n",
       "      <th>tolls_amount</th>\n",
       "      <th>improvement_surcharge</th>\n",
       "      <th>total_amount</th>\n",
       "    </tr>\n",
       "  </thead>\n",
       "  <tbody>\n",
       "    <tr>\n",
       "      <th>0</th>\n",
       "      <td>1</td>\n",
       "      <td>2018-01-01 00:21:05</td>\n",
       "      <td>2018-01-01 00:24:23</td>\n",
       "      <td>1</td>\n",
       "      <td>0.5</td>\n",
       "      <td>1</td>\n",
       "      <td>N</td>\n",
       "      <td>41</td>\n",
       "      <td>24</td>\n",
       "      <td>2</td>\n",
       "      <td>4.5</td>\n",
       "      <td>0.5</td>\n",
       "      <td>0.5</td>\n",
       "      <td>0.00</td>\n",
       "      <td>0.0</td>\n",
       "      <td>0.3</td>\n",
       "      <td>5.80</td>\n",
       "    </tr>\n",
       "    <tr>\n",
       "      <th>1</th>\n",
       "      <td>1</td>\n",
       "      <td>2018-01-01 00:44:55</td>\n",
       "      <td>2018-01-01 01:03:05</td>\n",
       "      <td>1</td>\n",
       "      <td>2.7</td>\n",
       "      <td>1</td>\n",
       "      <td>N</td>\n",
       "      <td>239</td>\n",
       "      <td>140</td>\n",
       "      <td>2</td>\n",
       "      <td>14.0</td>\n",
       "      <td>0.5</td>\n",
       "      <td>0.5</td>\n",
       "      <td>0.00</td>\n",
       "      <td>0.0</td>\n",
       "      <td>0.3</td>\n",
       "      <td>15.30</td>\n",
       "    </tr>\n",
       "    <tr>\n",
       "      <th>2</th>\n",
       "      <td>1</td>\n",
       "      <td>2018-01-01 00:08:26</td>\n",
       "      <td>2018-01-01 00:14:21</td>\n",
       "      <td>2</td>\n",
       "      <td>0.8</td>\n",
       "      <td>1</td>\n",
       "      <td>N</td>\n",
       "      <td>262</td>\n",
       "      <td>141</td>\n",
       "      <td>1</td>\n",
       "      <td>6.0</td>\n",
       "      <td>0.5</td>\n",
       "      <td>0.5</td>\n",
       "      <td>1.00</td>\n",
       "      <td>0.0</td>\n",
       "      <td>0.3</td>\n",
       "      <td>8.30</td>\n",
       "    </tr>\n",
       "    <tr>\n",
       "      <th>3</th>\n",
       "      <td>1</td>\n",
       "      <td>2018-01-01 00:20:22</td>\n",
       "      <td>2018-01-01 00:52:51</td>\n",
       "      <td>1</td>\n",
       "      <td>10.2</td>\n",
       "      <td>1</td>\n",
       "      <td>N</td>\n",
       "      <td>140</td>\n",
       "      <td>257</td>\n",
       "      <td>2</td>\n",
       "      <td>33.5</td>\n",
       "      <td>0.5</td>\n",
       "      <td>0.5</td>\n",
       "      <td>0.00</td>\n",
       "      <td>0.0</td>\n",
       "      <td>0.3</td>\n",
       "      <td>34.80</td>\n",
       "    </tr>\n",
       "    <tr>\n",
       "      <th>4</th>\n",
       "      <td>1</td>\n",
       "      <td>2018-01-01 00:09:18</td>\n",
       "      <td>2018-01-01 00:27:06</td>\n",
       "      <td>2</td>\n",
       "      <td>2.5</td>\n",
       "      <td>1</td>\n",
       "      <td>N</td>\n",
       "      <td>246</td>\n",
       "      <td>239</td>\n",
       "      <td>1</td>\n",
       "      <td>12.5</td>\n",
       "      <td>0.5</td>\n",
       "      <td>0.5</td>\n",
       "      <td>2.75</td>\n",
       "      <td>0.0</td>\n",
       "      <td>0.3</td>\n",
       "      <td>16.55</td>\n",
       "    </tr>\n",
       "  </tbody>\n",
       "</table>\n",
       "</div>"
      ],
      "text/plain": [
       "   VendorID tpep_pickup_datetime tpep_dropoff_datetime  passenger_count  \\\n",
       "0         1  2018-01-01 00:21:05   2018-01-01 00:24:23                1   \n",
       "1         1  2018-01-01 00:44:55   2018-01-01 01:03:05                1   \n",
       "2         1  2018-01-01 00:08:26   2018-01-01 00:14:21                2   \n",
       "3         1  2018-01-01 00:20:22   2018-01-01 00:52:51                1   \n",
       "4         1  2018-01-01 00:09:18   2018-01-01 00:27:06                2   \n",
       "\n",
       "   trip_distance  RatecodeID store_and_fwd_flag  PULocationID  DOLocationID  \\\n",
       "0            0.5           1                  N            41            24   \n",
       "1            2.7           1                  N           239           140   \n",
       "2            0.8           1                  N           262           141   \n",
       "3           10.2           1                  N           140           257   \n",
       "4            2.5           1                  N           246           239   \n",
       "\n",
       "   payment_type  fare_amount  extra  mta_tax  tip_amount  tolls_amount  \\\n",
       "0             2          4.5    0.5      0.5        0.00           0.0   \n",
       "1             2         14.0    0.5      0.5        0.00           0.0   \n",
       "2             1          6.0    0.5      0.5        1.00           0.0   \n",
       "3             2         33.5    0.5      0.5        0.00           0.0   \n",
       "4             1         12.5    0.5      0.5        2.75           0.0   \n",
       "\n",
       "   improvement_surcharge  total_amount  \n",
       "0                    0.3          5.80  \n",
       "1                    0.3         15.30  \n",
       "2                    0.3          8.30  \n",
       "3                    0.3         34.80  \n",
       "4                    0.3         16.55  "
      ]
     },
     "execution_count": 415,
     "metadata": {},
     "output_type": "execute_result"
    }
   ],
   "source": [
    "M1.head()"
   ]
  },
  {
   "cell_type": "code",
   "execution_count": 416,
   "metadata": {},
   "outputs": [
    {
     "data": {
      "text/html": [
       "<div>\n",
       "<style scoped>\n",
       "    .dataframe tbody tr th:only-of-type {\n",
       "        vertical-align: middle;\n",
       "    }\n",
       "\n",
       "    .dataframe tbody tr th {\n",
       "        vertical-align: top;\n",
       "    }\n",
       "\n",
       "    .dataframe thead th {\n",
       "        text-align: right;\n",
       "    }\n",
       "</style>\n",
       "<table border=\"1\" class=\"dataframe\">\n",
       "  <thead>\n",
       "    <tr style=\"text-align: right;\">\n",
       "      <th></th>\n",
       "      <th>VendorID</th>\n",
       "      <th>passenger_count</th>\n",
       "      <th>trip_distance</th>\n",
       "      <th>RatecodeID</th>\n",
       "      <th>PULocationID</th>\n",
       "      <th>DOLocationID</th>\n",
       "      <th>payment_type</th>\n",
       "      <th>fare_amount</th>\n",
       "      <th>extra</th>\n",
       "      <th>mta_tax</th>\n",
       "      <th>tip_amount</th>\n",
       "      <th>tolls_amount</th>\n",
       "      <th>improvement_surcharge</th>\n",
       "      <th>total_amount</th>\n",
       "    </tr>\n",
       "  </thead>\n",
       "  <tbody>\n",
       "    <tr>\n",
       "      <th>count</th>\n",
       "      <td>8.759874e+06</td>\n",
       "      <td>8.759874e+06</td>\n",
       "      <td>8.759874e+06</td>\n",
       "      <td>8.759874e+06</td>\n",
       "      <td>8.759874e+06</td>\n",
       "      <td>8.759874e+06</td>\n",
       "      <td>8.759874e+06</td>\n",
       "      <td>8.759874e+06</td>\n",
       "      <td>8.759874e+06</td>\n",
       "      <td>8.759874e+06</td>\n",
       "      <td>8.759874e+06</td>\n",
       "      <td>8.759874e+06</td>\n",
       "      <td>8.759874e+06</td>\n",
       "      <td>8.759874e+06</td>\n",
       "    </tr>\n",
       "    <tr>\n",
       "      <th>mean</th>\n",
       "      <td>1.560940e+00</td>\n",
       "      <td>1.606855e+00</td>\n",
       "      <td>2.804001e+00</td>\n",
       "      <td>1.039545e+00</td>\n",
       "      <td>1.644585e+02</td>\n",
       "      <td>1.627269e+02</td>\n",
       "      <td>1.310611e+00</td>\n",
       "      <td>1.224434e+01</td>\n",
       "      <td>3.246822e-01</td>\n",
       "      <td>4.975067e-01</td>\n",
       "      <td>1.818745e+00</td>\n",
       "      <td>3.026133e-01</td>\n",
       "      <td>2.996306e-01</td>\n",
       "      <td>1.549098e+01</td>\n",
       "    </tr>\n",
       "    <tr>\n",
       "      <th>std</th>\n",
       "      <td>4.962724e-01</td>\n",
       "      <td>1.258464e+00</td>\n",
       "      <td>6.412346e+01</td>\n",
       "      <td>4.450700e-01</td>\n",
       "      <td>6.636021e+01</td>\n",
       "      <td>7.031164e+01</td>\n",
       "      <td>4.817818e-01</td>\n",
       "      <td>1.168321e+01</td>\n",
       "      <td>4.502524e-01</td>\n",
       "      <td>4.333319e-02</td>\n",
       "      <td>2.486341e+00</td>\n",
       "      <td>1.738185e+00</td>\n",
       "      <td>1.442815e-02</td>\n",
       "      <td>1.419540e+01</td>\n",
       "    </tr>\n",
       "    <tr>\n",
       "      <th>min</th>\n",
       "      <td>1.000000e+00</td>\n",
       "      <td>0.000000e+00</td>\n",
       "      <td>0.000000e+00</td>\n",
       "      <td>1.000000e+00</td>\n",
       "      <td>1.000000e+00</td>\n",
       "      <td>1.000000e+00</td>\n",
       "      <td>1.000000e+00</td>\n",
       "      <td>-4.500000e+02</td>\n",
       "      <td>-4.469000e+01</td>\n",
       "      <td>-5.000000e-01</td>\n",
       "      <td>-8.880000e+01</td>\n",
       "      <td>-1.500000e+01</td>\n",
       "      <td>-3.000000e-01</td>\n",
       "      <td>-4.503000e+02</td>\n",
       "    </tr>\n",
       "    <tr>\n",
       "      <th>25%</th>\n",
       "      <td>1.000000e+00</td>\n",
       "      <td>1.000000e+00</td>\n",
       "      <td>9.100000e-01</td>\n",
       "      <td>1.000000e+00</td>\n",
       "      <td>1.160000e+02</td>\n",
       "      <td>1.130000e+02</td>\n",
       "      <td>1.000000e+00</td>\n",
       "      <td>6.000000e+00</td>\n",
       "      <td>0.000000e+00</td>\n",
       "      <td>5.000000e-01</td>\n",
       "      <td>0.000000e+00</td>\n",
       "      <td>0.000000e+00</td>\n",
       "      <td>3.000000e-01</td>\n",
       "      <td>8.300000e+00</td>\n",
       "    </tr>\n",
       "    <tr>\n",
       "      <th>50%</th>\n",
       "      <td>2.000000e+00</td>\n",
       "      <td>1.000000e+00</td>\n",
       "      <td>1.550000e+00</td>\n",
       "      <td>1.000000e+00</td>\n",
       "      <td>1.620000e+02</td>\n",
       "      <td>1.620000e+02</td>\n",
       "      <td>1.000000e+00</td>\n",
       "      <td>9.000000e+00</td>\n",
       "      <td>0.000000e+00</td>\n",
       "      <td>5.000000e-01</td>\n",
       "      <td>1.360000e+00</td>\n",
       "      <td>0.000000e+00</td>\n",
       "      <td>3.000000e-01</td>\n",
       "      <td>1.130000e+01</td>\n",
       "    </tr>\n",
       "    <tr>\n",
       "      <th>75%</th>\n",
       "      <td>2.000000e+00</td>\n",
       "      <td>2.000000e+00</td>\n",
       "      <td>2.840000e+00</td>\n",
       "      <td>1.000000e+00</td>\n",
       "      <td>2.340000e+02</td>\n",
       "      <td>2.340000e+02</td>\n",
       "      <td>2.000000e+00</td>\n",
       "      <td>1.350000e+01</td>\n",
       "      <td>5.000000e-01</td>\n",
       "      <td>5.000000e-01</td>\n",
       "      <td>2.350000e+00</td>\n",
       "      <td>0.000000e+00</td>\n",
       "      <td>3.000000e-01</td>\n",
       "      <td>1.662000e+01</td>\n",
       "    </tr>\n",
       "    <tr>\n",
       "      <th>max</th>\n",
       "      <td>2.000000e+00</td>\n",
       "      <td>9.000000e+00</td>\n",
       "      <td>1.894838e+05</td>\n",
       "      <td>9.900000e+01</td>\n",
       "      <td>2.650000e+02</td>\n",
       "      <td>2.650000e+02</td>\n",
       "      <td>4.000000e+00</td>\n",
       "      <td>8.016000e+03</td>\n",
       "      <td>6.000000e+01</td>\n",
       "      <td>4.549000e+01</td>\n",
       "      <td>4.417100e+02</td>\n",
       "      <td>9.507000e+02</td>\n",
       "      <td>1.000000e+00</td>\n",
       "      <td>8.016800e+03</td>\n",
       "    </tr>\n",
       "  </tbody>\n",
       "</table>\n",
       "</div>"
      ],
      "text/plain": [
       "           VendorID  passenger_count  trip_distance    RatecodeID  \\\n",
       "count  8.759874e+06     8.759874e+06   8.759874e+06  8.759874e+06   \n",
       "mean   1.560940e+00     1.606855e+00   2.804001e+00  1.039545e+00   \n",
       "std    4.962724e-01     1.258464e+00   6.412346e+01  4.450700e-01   \n",
       "min    1.000000e+00     0.000000e+00   0.000000e+00  1.000000e+00   \n",
       "25%    1.000000e+00     1.000000e+00   9.100000e-01  1.000000e+00   \n",
       "50%    2.000000e+00     1.000000e+00   1.550000e+00  1.000000e+00   \n",
       "75%    2.000000e+00     2.000000e+00   2.840000e+00  1.000000e+00   \n",
       "max    2.000000e+00     9.000000e+00   1.894838e+05  9.900000e+01   \n",
       "\n",
       "       PULocationID  DOLocationID  payment_type   fare_amount         extra  \\\n",
       "count  8.759874e+06  8.759874e+06  8.759874e+06  8.759874e+06  8.759874e+06   \n",
       "mean   1.644585e+02  1.627269e+02  1.310611e+00  1.224434e+01  3.246822e-01   \n",
       "std    6.636021e+01  7.031164e+01  4.817818e-01  1.168321e+01  4.502524e-01   \n",
       "min    1.000000e+00  1.000000e+00  1.000000e+00 -4.500000e+02 -4.469000e+01   \n",
       "25%    1.160000e+02  1.130000e+02  1.000000e+00  6.000000e+00  0.000000e+00   \n",
       "50%    1.620000e+02  1.620000e+02  1.000000e+00  9.000000e+00  0.000000e+00   \n",
       "75%    2.340000e+02  2.340000e+02  2.000000e+00  1.350000e+01  5.000000e-01   \n",
       "max    2.650000e+02  2.650000e+02  4.000000e+00  8.016000e+03  6.000000e+01   \n",
       "\n",
       "            mta_tax    tip_amount  tolls_amount  improvement_surcharge  \\\n",
       "count  8.759874e+06  8.759874e+06  8.759874e+06           8.759874e+06   \n",
       "mean   4.975067e-01  1.818745e+00  3.026133e-01           2.996306e-01   \n",
       "std    4.333319e-02  2.486341e+00  1.738185e+00           1.442815e-02   \n",
       "min   -5.000000e-01 -8.880000e+01 -1.500000e+01          -3.000000e-01   \n",
       "25%    5.000000e-01  0.000000e+00  0.000000e+00           3.000000e-01   \n",
       "50%    5.000000e-01  1.360000e+00  0.000000e+00           3.000000e-01   \n",
       "75%    5.000000e-01  2.350000e+00  0.000000e+00           3.000000e-01   \n",
       "max    4.549000e+01  4.417100e+02  9.507000e+02           1.000000e+00   \n",
       "\n",
       "       total_amount  \n",
       "count  8.759874e+06  \n",
       "mean   1.549098e+01  \n",
       "std    1.419540e+01  \n",
       "min   -4.503000e+02  \n",
       "25%    8.300000e+00  \n",
       "50%    1.130000e+01  \n",
       "75%    1.662000e+01  \n",
       "max    8.016800e+03  "
      ]
     },
     "execution_count": 416,
     "metadata": {},
     "output_type": "execute_result"
    }
   ],
   "source": [
    "M1.describe()\n"
   ]
  },
  {
   "cell_type": "code",
   "execution_count": 417,
   "metadata": {},
   "outputs": [
    {
     "name": "stdout",
     "output_type": "stream",
     "text": [
      "<class 'pandas.core.frame.DataFrame'>\n",
      "RangeIndex: 8759874 entries, 0 to 8759873\n",
      "Data columns (total 17 columns):\n",
      "VendorID                 int64\n",
      "tpep_pickup_datetime     object\n",
      "tpep_dropoff_datetime    object\n",
      "passenger_count          int64\n",
      "trip_distance            float64\n",
      "RatecodeID               int64\n",
      "store_and_fwd_flag       object\n",
      "PULocationID             int64\n",
      "DOLocationID             int64\n",
      "payment_type             int64\n",
      "fare_amount              float64\n",
      "extra                    float64\n",
      "mta_tax                  float64\n",
      "tip_amount               float64\n",
      "tolls_amount             float64\n",
      "improvement_surcharge    float64\n",
      "total_amount             float64\n",
      "dtypes: float64(8), int64(6), object(3)\n",
      "memory usage: 1.1+ GB\n"
     ]
    }
   ],
   "source": [
    "M1.info()"
   ]
  },
  {
   "cell_type": "markdown",
   "metadata": {},
   "source": [
    "We check if are there any NaN values in the month of January.\n"
   ]
  },
  {
   "cell_type": "code",
   "execution_count": 418,
   "metadata": {},
   "outputs": [
    {
     "name": "stdout",
     "output_type": "stream",
     "text": [
      "VendorID                 False\n",
      "tpep_pickup_datetime     False\n",
      "tpep_dropoff_datetime    False\n",
      "passenger_count          False\n",
      "trip_distance            False\n",
      "RatecodeID               False\n",
      "store_and_fwd_flag       False\n",
      "PULocationID             False\n",
      "DOLocationID             False\n",
      "payment_type             False\n",
      "fare_amount              False\n",
      "extra                    False\n",
      "mta_tax                  False\n",
      "tip_amount               False\n",
      "tolls_amount             False\n",
      "improvement_surcharge    False\n",
      "total_amount             False\n",
      "dtype: bool\n",
      "False\n"
     ]
    }
   ],
   "source": [
    "\n",
    "#is there any NaN (not a number) values in the dataframe?\n",
    "#Returns a dataframe of boolean values (true/false)\n",
    "#M1.isnull()\n",
    "\n",
    "#If we want to find only those columns which have NaN values\n",
    "print(M1.isnull().any())\n",
    "\n",
    "#one more any() will tell us if any of the above is true?\n",
    "print(M1.isnull().any().any())\n"
   ]
  },
  {
   "cell_type": "code",
   "execution_count": 419,
   "metadata": {},
   "outputs": [
    {
     "data": {
      "text/plain": [
       "False"
      ]
     },
     "execution_count": 419,
     "metadata": {},
     "output_type": "execute_result"
    }
   ],
   "source": [
    "#another way to see if our dataframe has any NaN vales\n",
    "M1.isnull().values.any()\n"
   ]
  },
  {
   "cell_type": "markdown",
   "metadata": {},
   "source": [
    "So we see that we have not NaN values. Looking at the dataframe we see that some cells have 0 value. We will see how to manage them."
   ]
  },
  {
   "cell_type": "markdown",
   "metadata": {},
   "source": [
    "## RQ1\n",
    "##### In what period of the year Taxis are used more? Create a plot that, for each month, shows the average number of trips recorded each day. Due to the differences among New York zones, we want to visualize the same information for each boroughs. Do you notice any difference among them? Provide comments and plausible explanations about what you observe (e.g.: what is the month with the highest daily average?)."
   ]
  },
  {
   "cell_type": "markdown",
   "metadata": {},
   "source": [
    "The pickup boroughs are taken into consideration.\n",
    "To answer this question, we need two columns. So, we drop the others. \n",
    "We keep tpep_pickup_datetime, PULocationID."
   ]
  },
  {
   "cell_type": "code",
   "execution_count": 420,
   "metadata": {},
   "outputs": [],
   "source": [
    "\n",
    "#dropping vs keeping the ones I need?\n",
    "#df.drop(columns=['', 'C'])\n",
    "M2 = M1.filter(['tpep_pickup_datetime', 'PULocationID'])\n",
    "#free the memory from this big object M1 is! \n",
    "del M1\n"
   ]
  },
  {
   "cell_type": "code",
   "execution_count": 421,
   "metadata": {},
   "outputs": [
    {
     "data": {
      "text/html": [
       "<div>\n",
       "<style scoped>\n",
       "    .dataframe tbody tr th:only-of-type {\n",
       "        vertical-align: middle;\n",
       "    }\n",
       "\n",
       "    .dataframe tbody tr th {\n",
       "        vertical-align: top;\n",
       "    }\n",
       "\n",
       "    .dataframe thead th {\n",
       "        text-align: right;\n",
       "    }\n",
       "</style>\n",
       "<table border=\"1\" class=\"dataframe\">\n",
       "  <thead>\n",
       "    <tr style=\"text-align: right;\">\n",
       "      <th></th>\n",
       "      <th>tpep_pickup_datetime</th>\n",
       "      <th>PULocationID</th>\n",
       "    </tr>\n",
       "  </thead>\n",
       "  <tbody>\n",
       "    <tr>\n",
       "      <th>0</th>\n",
       "      <td>2018-01-01 00:21:05</td>\n",
       "      <td>41</td>\n",
       "    </tr>\n",
       "    <tr>\n",
       "      <th>1</th>\n",
       "      <td>2018-01-01 00:44:55</td>\n",
       "      <td>239</td>\n",
       "    </tr>\n",
       "  </tbody>\n",
       "</table>\n",
       "</div>"
      ],
      "text/plain": [
       "  tpep_pickup_datetime  PULocationID\n",
       "0  2018-01-01 00:21:05            41\n",
       "1  2018-01-01 00:44:55           239"
      ]
     },
     "execution_count": 421,
     "metadata": {},
     "output_type": "execute_result"
    }
   ],
   "source": [
    "M2.head(2)"
   ]
  },
  {
   "cell_type": "code",
   "execution_count": 422,
   "metadata": {},
   "outputs": [
    {
     "name": "stdout",
     "output_type": "stream",
     "text": [
      "<class 'pandas.core.frame.DataFrame'>\n",
      "RangeIndex: 8759874 entries, 0 to 8759873\n",
      "Data columns (total 2 columns):\n",
      "tpep_pickup_datetime    object\n",
      "PULocationID            int64\n",
      "dtypes: int64(1), object(1)\n",
      "memory usage: 133.7+ MB\n"
     ]
    }
   ],
   "source": [
    "M2.info()"
   ]
  },
  {
   "cell_type": "markdown",
   "metadata": {},
   "source": [
    "We have two datetime objects. Let's convert them into usable data columns:  day, hour, minutes,.."
   ]
  },
  {
   "cell_type": "code",
   "execution_count": 423,
   "metadata": {},
   "outputs": [],
   "source": [
    "M2['pickup_day'] = pd.DatetimeIndex(M2['tpep_pickup_datetime']).day\n"
   ]
  },
  {
   "cell_type": "code",
   "execution_count": 424,
   "metadata": {},
   "outputs": [
    {
     "data": {
      "text/html": [
       "<div>\n",
       "<style scoped>\n",
       "    .dataframe tbody tr th:only-of-type {\n",
       "        vertical-align: middle;\n",
       "    }\n",
       "\n",
       "    .dataframe tbody tr th {\n",
       "        vertical-align: top;\n",
       "    }\n",
       "\n",
       "    .dataframe thead th {\n",
       "        text-align: right;\n",
       "    }\n",
       "</style>\n",
       "<table border=\"1\" class=\"dataframe\">\n",
       "  <thead>\n",
       "    <tr style=\"text-align: right;\">\n",
       "      <th></th>\n",
       "      <th>tpep_pickup_datetime</th>\n",
       "      <th>PULocationID</th>\n",
       "      <th>pickup_day</th>\n",
       "    </tr>\n",
       "  </thead>\n",
       "  <tbody>\n",
       "    <tr>\n",
       "      <th>0</th>\n",
       "      <td>2018-01-01 00:21:05</td>\n",
       "      <td>41</td>\n",
       "      <td>1</td>\n",
       "    </tr>\n",
       "    <tr>\n",
       "      <th>1</th>\n",
       "      <td>2018-01-01 00:44:55</td>\n",
       "      <td>239</td>\n",
       "      <td>1</td>\n",
       "    </tr>\n",
       "    <tr>\n",
       "      <th>2</th>\n",
       "      <td>2018-01-01 00:08:26</td>\n",
       "      <td>262</td>\n",
       "      <td>1</td>\n",
       "    </tr>\n",
       "    <tr>\n",
       "      <th>3</th>\n",
       "      <td>2018-01-01 00:20:22</td>\n",
       "      <td>140</td>\n",
       "      <td>1</td>\n",
       "    </tr>\n",
       "    <tr>\n",
       "      <th>4</th>\n",
       "      <td>2018-01-01 00:09:18</td>\n",
       "      <td>246</td>\n",
       "      <td>1</td>\n",
       "    </tr>\n",
       "  </tbody>\n",
       "</table>\n",
       "</div>"
      ],
      "text/plain": [
       "  tpep_pickup_datetime  PULocationID  pickup_day\n",
       "0  2018-01-01 00:21:05            41           1\n",
       "1  2018-01-01 00:44:55           239           1\n",
       "2  2018-01-01 00:08:26           262           1\n",
       "3  2018-01-01 00:20:22           140           1\n",
       "4  2018-01-01 00:09:18           246           1"
      ]
     },
     "execution_count": 424,
     "metadata": {},
     "output_type": "execute_result"
    }
   ],
   "source": [
    "M2.head()"
   ]
  },
  {
   "cell_type": "markdown",
   "metadata": {},
   "source": [
    "Drop the columns we don't need anymore."
   ]
  },
  {
   "cell_type": "code",
   "execution_count": 425,
   "metadata": {},
   "outputs": [],
   "source": [
    "M3 = M2.drop(columns = ['tpep_pickup_datetime'])"
   ]
  },
  {
   "cell_type": "code",
   "execution_count": 426,
   "metadata": {},
   "outputs": [],
   "source": [
    "#Free up memory space \n",
    "del M2"
   ]
  },
  {
   "cell_type": "code",
   "execution_count": 427,
   "metadata": {},
   "outputs": [
    {
     "data": {
      "text/html": [
       "<div>\n",
       "<style scoped>\n",
       "    .dataframe tbody tr th:only-of-type {\n",
       "        vertical-align: middle;\n",
       "    }\n",
       "\n",
       "    .dataframe tbody tr th {\n",
       "        vertical-align: top;\n",
       "    }\n",
       "\n",
       "    .dataframe thead th {\n",
       "        text-align: right;\n",
       "    }\n",
       "</style>\n",
       "<table border=\"1\" class=\"dataframe\">\n",
       "  <thead>\n",
       "    <tr style=\"text-align: right;\">\n",
       "      <th></th>\n",
       "      <th>PULocationID</th>\n",
       "      <th>pickup_day</th>\n",
       "    </tr>\n",
       "  </thead>\n",
       "  <tbody>\n",
       "    <tr>\n",
       "      <th>0</th>\n",
       "      <td>41</td>\n",
       "      <td>1</td>\n",
       "    </tr>\n",
       "    <tr>\n",
       "      <th>1</th>\n",
       "      <td>239</td>\n",
       "      <td>1</td>\n",
       "    </tr>\n",
       "    <tr>\n",
       "      <th>2</th>\n",
       "      <td>262</td>\n",
       "      <td>1</td>\n",
       "    </tr>\n",
       "    <tr>\n",
       "      <th>3</th>\n",
       "      <td>140</td>\n",
       "      <td>1</td>\n",
       "    </tr>\n",
       "    <tr>\n",
       "      <th>4</th>\n",
       "      <td>246</td>\n",
       "      <td>1</td>\n",
       "    </tr>\n",
       "  </tbody>\n",
       "</table>\n",
       "</div>"
      ],
      "text/plain": [
       "   PULocationID  pickup_day\n",
       "0            41           1\n",
       "1           239           1\n",
       "2           262           1\n",
       "3           140           1\n",
       "4           246           1"
      ]
     },
     "execution_count": 427,
     "metadata": {},
     "output_type": "execute_result"
    }
   ],
   "source": [
    "M3.head()"
   ]
  },
  {
   "cell_type": "markdown",
   "metadata": {},
   "source": [
    "Now we want to substitute PULocationID with corrispondent Borough."
   ]
  },
  {
   "cell_type": "code",
   "execution_count": 428,
   "metadata": {},
   "outputs": [],
   "source": [
    "#concatenate(join/merge)M3 and taxi_zone_lookup dataframe\n",
    "\n",
    "#read taxi_zone_lookup\n",
    "borough = pd.read_csv(r\"C:\\Users\\Egon\\Desktop\\Universita\\ADM\\homework2\\dati\\taxi_zone_lookup.csv\", encoding = 'latin-1')"
   ]
  },
  {
   "cell_type": "code",
   "execution_count": 429,
   "metadata": {},
   "outputs": [
    {
     "data": {
      "text/html": [
       "<div>\n",
       "<style scoped>\n",
       "    .dataframe tbody tr th:only-of-type {\n",
       "        vertical-align: middle;\n",
       "    }\n",
       "\n",
       "    .dataframe tbody tr th {\n",
       "        vertical-align: top;\n",
       "    }\n",
       "\n",
       "    .dataframe thead th {\n",
       "        text-align: right;\n",
       "    }\n",
       "</style>\n",
       "<table border=\"1\" class=\"dataframe\">\n",
       "  <thead>\n",
       "    <tr style=\"text-align: right;\">\n",
       "      <th></th>\n",
       "      <th>LocationID</th>\n",
       "      <th>Borough</th>\n",
       "      <th>Zone</th>\n",
       "      <th>service_zone</th>\n",
       "    </tr>\n",
       "  </thead>\n",
       "  <tbody>\n",
       "    <tr>\n",
       "      <th>0</th>\n",
       "      <td>1</td>\n",
       "      <td>EWR</td>\n",
       "      <td>Newark Airport</td>\n",
       "      <td>EWR</td>\n",
       "    </tr>\n",
       "    <tr>\n",
       "      <th>1</th>\n",
       "      <td>2</td>\n",
       "      <td>Queens</td>\n",
       "      <td>Jamaica Bay</td>\n",
       "      <td>Boro Zone</td>\n",
       "    </tr>\n",
       "    <tr>\n",
       "      <th>2</th>\n",
       "      <td>3</td>\n",
       "      <td>Bronx</td>\n",
       "      <td>Allerton/Pelham Gardens</td>\n",
       "      <td>Boro Zone</td>\n",
       "    </tr>\n",
       "    <tr>\n",
       "      <th>3</th>\n",
       "      <td>4</td>\n",
       "      <td>Manhattan</td>\n",
       "      <td>Alphabet City</td>\n",
       "      <td>Yellow Zone</td>\n",
       "    </tr>\n",
       "    <tr>\n",
       "      <th>4</th>\n",
       "      <td>5</td>\n",
       "      <td>Staten Island</td>\n",
       "      <td>Arden Heights</td>\n",
       "      <td>Boro Zone</td>\n",
       "    </tr>\n",
       "  </tbody>\n",
       "</table>\n",
       "</div>"
      ],
      "text/plain": [
       "   LocationID        Borough                     Zone service_zone\n",
       "0           1            EWR           Newark Airport          EWR\n",
       "1           2         Queens              Jamaica Bay    Boro Zone\n",
       "2           3          Bronx  Allerton/Pelham Gardens    Boro Zone\n",
       "3           4      Manhattan            Alphabet City  Yellow Zone\n",
       "4           5  Staten Island            Arden Heights    Boro Zone"
      ]
     },
     "execution_count": 429,
     "metadata": {},
     "output_type": "execute_result"
    }
   ],
   "source": [
    "borough.head(5)"
   ]
  },
  {
   "cell_type": "markdown",
   "metadata": {},
   "source": [
    "The key column is LocationID in boroughs and (PULocationID or DOLocationID) in M3. They contain the same data: LocationIDs. "
   ]
  },
  {
   "cell_type": "code",
   "execution_count": 430,
   "metadata": {},
   "outputs": [
    {
     "data": {
      "text/html": [
       "<div>\n",
       "<style scoped>\n",
       "    .dataframe tbody tr th:only-of-type {\n",
       "        vertical-align: middle;\n",
       "    }\n",
       "\n",
       "    .dataframe tbody tr th {\n",
       "        vertical-align: top;\n",
       "    }\n",
       "\n",
       "    .dataframe thead th {\n",
       "        text-align: right;\n",
       "    }\n",
       "</style>\n",
       "<table border=\"1\" class=\"dataframe\">\n",
       "  <thead>\n",
       "    <tr style=\"text-align: right;\">\n",
       "      <th></th>\n",
       "      <th>PULocationID</th>\n",
       "      <th>pickup_day</th>\n",
       "      <th>LocationID</th>\n",
       "      <th>Borough</th>\n",
       "    </tr>\n",
       "  </thead>\n",
       "  <tbody>\n",
       "    <tr>\n",
       "      <th>0</th>\n",
       "      <td>41</td>\n",
       "      <td>1</td>\n",
       "      <td>41</td>\n",
       "      <td>Manhattan</td>\n",
       "    </tr>\n",
       "    <tr>\n",
       "      <th>1</th>\n",
       "      <td>41</td>\n",
       "      <td>1</td>\n",
       "      <td>41</td>\n",
       "      <td>Manhattan</td>\n",
       "    </tr>\n",
       "    <tr>\n",
       "      <th>2</th>\n",
       "      <td>41</td>\n",
       "      <td>1</td>\n",
       "      <td>41</td>\n",
       "      <td>Manhattan</td>\n",
       "    </tr>\n",
       "    <tr>\n",
       "      <th>3</th>\n",
       "      <td>41</td>\n",
       "      <td>1</td>\n",
       "      <td>41</td>\n",
       "      <td>Manhattan</td>\n",
       "    </tr>\n",
       "    <tr>\n",
       "      <th>4</th>\n",
       "      <td>41</td>\n",
       "      <td>1</td>\n",
       "      <td>41</td>\n",
       "      <td>Manhattan</td>\n",
       "    </tr>\n",
       "  </tbody>\n",
       "</table>\n",
       "</div>"
      ],
      "text/plain": [
       "   PULocationID  pickup_day  LocationID    Borough\n",
       "0            41           1          41  Manhattan\n",
       "1            41           1          41  Manhattan\n",
       "2            41           1          41  Manhattan\n",
       "3            41           1          41  Manhattan\n",
       "4            41           1          41  Manhattan"
      ]
     },
     "execution_count": 430,
     "metadata": {},
     "output_type": "execute_result"
    }
   ],
   "source": [
    "#the key column is LocationID in boroughs and (PULocationID or DOLocationID) in M3. They contain the same data: LocationIDs. \n",
    "#How to merge these two dataframes when two columns' keys are not in the same order?\n",
    "\n",
    "result = pd.merge(M3,\n",
    "                 borough[['LocationID', 'Borough']],\n",
    "                 left_on='PULocationID',\n",
    "                 right_on='LocationID',\n",
    "                 how='inner' \n",
    "                 )\n",
    "result.head()\n"
   ]
  },
  {
   "cell_type": "code",
   "execution_count": 431,
   "metadata": {},
   "outputs": [
    {
     "data": {
      "text/html": [
       "<div>\n",
       "<style scoped>\n",
       "    .dataframe tbody tr th:only-of-type {\n",
       "        vertical-align: middle;\n",
       "    }\n",
       "\n",
       "    .dataframe tbody tr th {\n",
       "        vertical-align: top;\n",
       "    }\n",
       "\n",
       "    .dataframe thead th {\n",
       "        text-align: right;\n",
       "    }\n",
       "</style>\n",
       "<table border=\"1\" class=\"dataframe\">\n",
       "  <thead>\n",
       "    <tr style=\"text-align: right;\">\n",
       "      <th></th>\n",
       "      <th>PULocationID</th>\n",
       "      <th>pickup_day</th>\n",
       "      <th>Borough</th>\n",
       "    </tr>\n",
       "  </thead>\n",
       "  <tbody>\n",
       "    <tr>\n",
       "      <th>0</th>\n",
       "      <td>41</td>\n",
       "      <td>1</td>\n",
       "      <td>Manhattan</td>\n",
       "    </tr>\n",
       "    <tr>\n",
       "      <th>1</th>\n",
       "      <td>41</td>\n",
       "      <td>1</td>\n",
       "      <td>Manhattan</td>\n",
       "    </tr>\n",
       "    <tr>\n",
       "      <th>2</th>\n",
       "      <td>41</td>\n",
       "      <td>1</td>\n",
       "      <td>Manhattan</td>\n",
       "    </tr>\n",
       "    <tr>\n",
       "      <th>3</th>\n",
       "      <td>41</td>\n",
       "      <td>1</td>\n",
       "      <td>Manhattan</td>\n",
       "    </tr>\n",
       "    <tr>\n",
       "      <th>4</th>\n",
       "      <td>41</td>\n",
       "      <td>1</td>\n",
       "      <td>Manhattan</td>\n",
       "    </tr>\n",
       "  </tbody>\n",
       "</table>\n",
       "</div>"
      ],
      "text/plain": [
       "   PULocationID  pickup_day    Borough\n",
       "0            41           1  Manhattan\n",
       "1            41           1  Manhattan\n",
       "2            41           1  Manhattan\n",
       "3            41           1  Manhattan\n",
       "4            41           1  Manhattan"
      ]
     },
     "execution_count": 431,
     "metadata": {},
     "output_type": "execute_result"
    }
   ],
   "source": [
    "M4 = result.drop(['LocationID'], 1)\n",
    "M4.head()"
   ]
  },
  {
   "cell_type": "code",
   "execution_count": 432,
   "metadata": {},
   "outputs": [],
   "source": [
    "del result "
   ]
  },
  {
   "cell_type": "markdown",
   "metadata": {},
   "source": [
    "Now, we need to use groupby function. We need the average frequency of taxis used in each day and for each borough seperately. \n",
    "\n",
    "First we group by based on our boroughs.\n"
   ]
  },
  {
   "cell_type": "code",
   "execution_count": 433,
   "metadata": {},
   "outputs": [
    {
     "data": {
      "text/plain": [
       "dict_keys(['Bronx', 'Brooklyn', 'EWR', 'Manhattan', 'Queens', 'Staten Island', 'Unknown'])"
      ]
     },
     "execution_count": 433,
     "metadata": {},
     "output_type": "execute_result"
    }
   ],
   "source": [
    "M4.groupby(['Borough']).groups.keys()"
   ]
  },
  {
   "cell_type": "code",
   "execution_count": 434,
   "metadata": {},
   "outputs": [],
   "source": [
    "s = M4.groupby('Borough')['pickup_day'].count()\n"
   ]
  },
  {
   "cell_type": "markdown",
   "metadata": {},
   "source": [
    "Now we create a list of averages of each borough  and we append to the list the cumulative value of New York City."
   ]
  },
  {
   "cell_type": "code",
   "execution_count": 435,
   "metadata": {},
   "outputs": [],
   "source": [
    "borAvgs=[]\n",
    "for i in range (7):\n",
    "    borAvgs.append(s[i]//31)\n",
    "NYAvgs=sum(borAvgs)\n",
    "borAvgs.append(NYAvgs)"
   ]
  },
  {
   "cell_type": "code",
   "execution_count": 436,
   "metadata": {},
   "outputs": [
    {
     "name": "stdout",
     "output_type": "stream",
     "text": [
      "[238, 3233, 18, 256958, 16996, 4, 5126, 282573]\n",
      "282573\n"
     ]
    }
   ],
   "source": [
    "print(borAvgs)\n",
    "print(NYAvgs)"
   ]
  },
  {
   "cell_type": "markdown",
   "metadata": {},
   "source": [
    "Now we want to repeat this analysis for each month.\n",
    "We create a dataframe to store the analisy."
   ]
  },
  {
   "cell_type": "code",
   "execution_count": 437,
   "metadata": {},
   "outputs": [],
   "source": [
    "columns=[]\n",
    "index= ['Bronx','Brooklyn','EWR','Manhattan','queens','Staten Island','Unknow', 'NYC']\n",
    "df=pd.DataFrame(index=index, columns=columns) "
   ]
  },
  {
   "cell_type": "code",
   "execution_count": 438,
   "metadata": {},
   "outputs": [
    {
     "data": {
      "text/html": [
       "<div>\n",
       "<style scoped>\n",
       "    .dataframe tbody tr th:only-of-type {\n",
       "        vertical-align: middle;\n",
       "    }\n",
       "\n",
       "    .dataframe tbody tr th {\n",
       "        vertical-align: top;\n",
       "    }\n",
       "\n",
       "    .dataframe thead th {\n",
       "        text-align: right;\n",
       "    }\n",
       "</style>\n",
       "<table border=\"1\" class=\"dataframe\">\n",
       "  <thead>\n",
       "    <tr style=\"text-align: right;\">\n",
       "      <th></th>\n",
       "    </tr>\n",
       "  </thead>\n",
       "  <tbody>\n",
       "    <tr>\n",
       "      <th>Bronx</th>\n",
       "    </tr>\n",
       "    <tr>\n",
       "      <th>Brooklyn</th>\n",
       "    </tr>\n",
       "    <tr>\n",
       "      <th>EWR</th>\n",
       "    </tr>\n",
       "    <tr>\n",
       "      <th>Manhattan</th>\n",
       "    </tr>\n",
       "    <tr>\n",
       "      <th>queens</th>\n",
       "    </tr>\n",
       "    <tr>\n",
       "      <th>Staten Island</th>\n",
       "    </tr>\n",
       "    <tr>\n",
       "      <th>Unknow</th>\n",
       "    </tr>\n",
       "    <tr>\n",
       "      <th>NYC</th>\n",
       "    </tr>\n",
       "  </tbody>\n",
       "</table>\n",
       "</div>"
      ],
      "text/plain": [
       "Empty DataFrame\n",
       "Columns: []\n",
       "Index: [Bronx, Brooklyn, EWR, Manhattan, queens, Staten Island, Unknow, NYC]"
      ]
     },
     "execution_count": 438,
     "metadata": {},
     "output_type": "execute_result"
    }
   ],
   "source": [
    "df"
   ]
  },
  {
   "cell_type": "code",
   "execution_count": 439,
   "metadata": {},
   "outputs": [],
   "source": [
    "df['January']=borAvgs\n"
   ]
  },
  {
   "cell_type": "code",
   "execution_count": 440,
   "metadata": {},
   "outputs": [
    {
     "data": {
      "text/html": [
       "<div>\n",
       "<style scoped>\n",
       "    .dataframe tbody tr th:only-of-type {\n",
       "        vertical-align: middle;\n",
       "    }\n",
       "\n",
       "    .dataframe tbody tr th {\n",
       "        vertical-align: top;\n",
       "    }\n",
       "\n",
       "    .dataframe thead th {\n",
       "        text-align: right;\n",
       "    }\n",
       "</style>\n",
       "<table border=\"1\" class=\"dataframe\">\n",
       "  <thead>\n",
       "    <tr style=\"text-align: right;\">\n",
       "      <th></th>\n",
       "      <th>January</th>\n",
       "    </tr>\n",
       "  </thead>\n",
       "  <tbody>\n",
       "    <tr>\n",
       "      <th>Bronx</th>\n",
       "      <td>238</td>\n",
       "    </tr>\n",
       "    <tr>\n",
       "      <th>Brooklyn</th>\n",
       "      <td>3233</td>\n",
       "    </tr>\n",
       "    <tr>\n",
       "      <th>EWR</th>\n",
       "      <td>18</td>\n",
       "    </tr>\n",
       "    <tr>\n",
       "      <th>Manhattan</th>\n",
       "      <td>256958</td>\n",
       "    </tr>\n",
       "    <tr>\n",
       "      <th>queens</th>\n",
       "      <td>16996</td>\n",
       "    </tr>\n",
       "    <tr>\n",
       "      <th>Staten Island</th>\n",
       "      <td>4</td>\n",
       "    </tr>\n",
       "    <tr>\n",
       "      <th>Unknow</th>\n",
       "      <td>5126</td>\n",
       "    </tr>\n",
       "    <tr>\n",
       "      <th>NYC</th>\n",
       "      <td>282573</td>\n",
       "    </tr>\n",
       "  </tbody>\n",
       "</table>\n",
       "</div>"
      ],
      "text/plain": [
       "               January\n",
       "Bronx              238\n",
       "Brooklyn          3233\n",
       "EWR                 18\n",
       "Manhattan       256958\n",
       "queens           16996\n",
       "Staten Island        4\n",
       "Unknow            5126\n",
       "NYC             282573"
      ]
     },
     "execution_count": 440,
     "metadata": {},
     "output_type": "execute_result"
    }
   ],
   "source": [
    "df"
   ]
  },
  {
   "cell_type": "markdown",
   "metadata": {},
   "source": [
    "Now we want to repeat and store our analysis for each month."
   ]
  },
  {
   "cell_type": "code",
   "execution_count": 441,
   "metadata": {},
   "outputs": [],
   "source": [
    "months=[' ','January','February','March','April','May','June']\n",
    "for i in range(2,7):\n",
    "    M1= pd.read_csv(r\"C:\\Users\\Egon\\Desktop\\Universita\\ADM\\homework2\\dati\\yellow_tripdata_2018-0\"+str(i)+\".csv\", encoding = 'latin-1')\n",
    "    M2 = M1.filter(['tpep_pickup_datetime', 'PULocationID'])\n",
    "    del M1\n",
    "    M2['pickup_day'] = pd.DatetimeIndex(M2['tpep_pickup_datetime']).day\n",
    "    M3 = M2.drop(columns = ['tpep_pickup_datetime'])\n",
    "    result = pd.merge(M3,\n",
    "                 borough[['LocationID', 'Borough']],\n",
    "                 left_on='PULocationID',\n",
    "                 right_on='LocationID',\n",
    "                 how='inner' \n",
    "                 )\n",
    "    M4 = result.drop(['LocationID'], 1)\n",
    "    M4.groupby(['Borough']).groups.keys()\n",
    "    s = M4.groupby('Borough')['pickup_day'].count()\n",
    "    borAvgs=[]\n",
    "    for j in range (7):\n",
    "        if months[i] == 'March' or months[i] == 'May':\n",
    "            borAvgs.append(s[j]//31)\n",
    "        if months[i] == 'February':\n",
    "            borAvgs.append(s[j]//28)\n",
    "        if months[i] == 'April' or months[i] == 'June':\n",
    "            borAvgs.append(s[j]//30)\n",
    "    NYAvgs=sum(borAvgs)\n",
    "    borAvgs.append(NYAvgs)\n",
    "    df[months[i]]=borAvgs\n"
   ]
  },
  {
   "cell_type": "code",
   "execution_count": 442,
   "metadata": {},
   "outputs": [
    {
     "data": {
      "text/html": [
       "<div>\n",
       "<style scoped>\n",
       "    .dataframe tbody tr th:only-of-type {\n",
       "        vertical-align: middle;\n",
       "    }\n",
       "\n",
       "    .dataframe tbody tr th {\n",
       "        vertical-align: top;\n",
       "    }\n",
       "\n",
       "    .dataframe thead th {\n",
       "        text-align: right;\n",
       "    }\n",
       "</style>\n",
       "<table border=\"1\" class=\"dataframe\">\n",
       "  <thead>\n",
       "    <tr style=\"text-align: right;\">\n",
       "      <th></th>\n",
       "      <th>January</th>\n",
       "      <th>February</th>\n",
       "      <th>March</th>\n",
       "      <th>April</th>\n",
       "      <th>May</th>\n",
       "      <th>June</th>\n",
       "    </tr>\n",
       "  </thead>\n",
       "  <tbody>\n",
       "    <tr>\n",
       "      <th>Bronx</th>\n",
       "      <td>238</td>\n",
       "      <td>234</td>\n",
       "      <td>333</td>\n",
       "      <td>347</td>\n",
       "      <td>350</td>\n",
       "      <td>340</td>\n",
       "    </tr>\n",
       "    <tr>\n",
       "      <th>Brooklyn</th>\n",
       "      <td>3233</td>\n",
       "      <td>3396</td>\n",
       "      <td>3965</td>\n",
       "      <td>3969</td>\n",
       "      <td>3961</td>\n",
       "      <td>4098</td>\n",
       "    </tr>\n",
       "    <tr>\n",
       "      <th>EWR</th>\n",
       "      <td>18</td>\n",
       "      <td>17</td>\n",
       "      <td>21</td>\n",
       "      <td>23</td>\n",
       "      <td>24</td>\n",
       "      <td>22</td>\n",
       "    </tr>\n",
       "    <tr>\n",
       "      <th>Manhattan</th>\n",
       "      <td>256958</td>\n",
       "      <td>277424</td>\n",
       "      <td>276408</td>\n",
       "      <td>280959</td>\n",
       "      <td>269354</td>\n",
       "      <td>262626</td>\n",
       "    </tr>\n",
       "    <tr>\n",
       "      <th>queens</th>\n",
       "      <td>16996</td>\n",
       "      <td>17304</td>\n",
       "      <td>18221</td>\n",
       "      <td>19877</td>\n",
       "      <td>19704</td>\n",
       "      <td>19158</td>\n",
       "    </tr>\n",
       "    <tr>\n",
       "      <th>Staten Island</th>\n",
       "      <td>4</td>\n",
       "      <td>3</td>\n",
       "      <td>4</td>\n",
       "      <td>4</td>\n",
       "      <td>4</td>\n",
       "      <td>5</td>\n",
       "    </tr>\n",
       "    <tr>\n",
       "      <th>Unknow</th>\n",
       "      <td>5126</td>\n",
       "      <td>4907</td>\n",
       "      <td>5251</td>\n",
       "      <td>5001</td>\n",
       "      <td>4150</td>\n",
       "      <td>4209</td>\n",
       "    </tr>\n",
       "    <tr>\n",
       "      <th>NYC</th>\n",
       "      <td>282573</td>\n",
       "      <td>303285</td>\n",
       "      <td>304203</td>\n",
       "      <td>310180</td>\n",
       "      <td>297547</td>\n",
       "      <td>290458</td>\n",
       "    </tr>\n",
       "  </tbody>\n",
       "</table>\n",
       "</div>"
      ],
      "text/plain": [
       "               January  February   March   April     May    June\n",
       "Bronx              238       234     333     347     350     340\n",
       "Brooklyn          3233      3396    3965    3969    3961    4098\n",
       "EWR                 18        17      21      23      24      22\n",
       "Manhattan       256958    277424  276408  280959  269354  262626\n",
       "queens           16996     17304   18221   19877   19704   19158\n",
       "Staten Island        4         3       4       4       4       5\n",
       "Unknow            5126      4907    5251    5001    4150    4209\n",
       "NYC             282573    303285  304203  310180  297547  290458"
      ]
     },
     "execution_count": 442,
     "metadata": {},
     "output_type": "execute_result"
    }
   ],
   "source": [
    "df"
   ]
  },
  {
   "cell_type": "markdown",
   "metadata": {},
   "source": [
    "We transpose the dataframe to get plot of the keys that we want (boroughs)."
   ]
  },
  {
   "cell_type": "code",
   "execution_count": 443,
   "metadata": {},
   "outputs": [
    {
     "data": {
      "text/html": [
       "<div>\n",
       "<style scoped>\n",
       "    .dataframe tbody tr th:only-of-type {\n",
       "        vertical-align: middle;\n",
       "    }\n",
       "\n",
       "    .dataframe tbody tr th {\n",
       "        vertical-align: top;\n",
       "    }\n",
       "\n",
       "    .dataframe thead th {\n",
       "        text-align: right;\n",
       "    }\n",
       "</style>\n",
       "<table border=\"1\" class=\"dataframe\">\n",
       "  <thead>\n",
       "    <tr style=\"text-align: right;\">\n",
       "      <th></th>\n",
       "      <th>Bronx</th>\n",
       "      <th>Brooklyn</th>\n",
       "      <th>EWR</th>\n",
       "      <th>Manhattan</th>\n",
       "      <th>queens</th>\n",
       "      <th>Staten Island</th>\n",
       "      <th>Unknow</th>\n",
       "      <th>NYC</th>\n",
       "    </tr>\n",
       "  </thead>\n",
       "  <tbody>\n",
       "    <tr>\n",
       "      <th>January</th>\n",
       "      <td>238</td>\n",
       "      <td>3233</td>\n",
       "      <td>18</td>\n",
       "      <td>256958</td>\n",
       "      <td>16996</td>\n",
       "      <td>4</td>\n",
       "      <td>5126</td>\n",
       "      <td>282573</td>\n",
       "    </tr>\n",
       "    <tr>\n",
       "      <th>February</th>\n",
       "      <td>234</td>\n",
       "      <td>3396</td>\n",
       "      <td>17</td>\n",
       "      <td>277424</td>\n",
       "      <td>17304</td>\n",
       "      <td>3</td>\n",
       "      <td>4907</td>\n",
       "      <td>303285</td>\n",
       "    </tr>\n",
       "    <tr>\n",
       "      <th>March</th>\n",
       "      <td>333</td>\n",
       "      <td>3965</td>\n",
       "      <td>21</td>\n",
       "      <td>276408</td>\n",
       "      <td>18221</td>\n",
       "      <td>4</td>\n",
       "      <td>5251</td>\n",
       "      <td>304203</td>\n",
       "    </tr>\n",
       "    <tr>\n",
       "      <th>April</th>\n",
       "      <td>347</td>\n",
       "      <td>3969</td>\n",
       "      <td>23</td>\n",
       "      <td>280959</td>\n",
       "      <td>19877</td>\n",
       "      <td>4</td>\n",
       "      <td>5001</td>\n",
       "      <td>310180</td>\n",
       "    </tr>\n",
       "    <tr>\n",
       "      <th>May</th>\n",
       "      <td>350</td>\n",
       "      <td>3961</td>\n",
       "      <td>24</td>\n",
       "      <td>269354</td>\n",
       "      <td>19704</td>\n",
       "      <td>4</td>\n",
       "      <td>4150</td>\n",
       "      <td>297547</td>\n",
       "    </tr>\n",
       "    <tr>\n",
       "      <th>June</th>\n",
       "      <td>340</td>\n",
       "      <td>4098</td>\n",
       "      <td>22</td>\n",
       "      <td>262626</td>\n",
       "      <td>19158</td>\n",
       "      <td>5</td>\n",
       "      <td>4209</td>\n",
       "      <td>290458</td>\n",
       "    </tr>\n",
       "  </tbody>\n",
       "</table>\n",
       "</div>"
      ],
      "text/plain": [
       "          Bronx  Brooklyn  EWR  Manhattan  queens  Staten Island  Unknow  \\\n",
       "January     238      3233   18     256958   16996              4    5126   \n",
       "February    234      3396   17     277424   17304              3    4907   \n",
       "March       333      3965   21     276408   18221              4    5251   \n",
       "April       347      3969   23     280959   19877              4    5001   \n",
       "May         350      3961   24     269354   19704              4    4150   \n",
       "June        340      4098   22     262626   19158              5    4209   \n",
       "\n",
       "             NYC  \n",
       "January   282573  \n",
       "February  303285  \n",
       "March     304203  \n",
       "April     310180  \n",
       "May       297547  \n",
       "June      290458  "
      ]
     },
     "execution_count": 443,
     "metadata": {},
     "output_type": "execute_result"
    }
   ],
   "source": [
    "df_tra=df.T\n",
    "df_tra"
   ]
  },
  {
   "cell_type": "markdown",
   "metadata": {},
   "source": [
    "We plot some graphs to get a good visualization of our problem.\n",
    "\n",
    "Graph of taxis taken in New York in each month:"
   ]
  },
  {
   "cell_type": "code",
   "execution_count": 450,
   "metadata": {
    "scrolled": false
   },
   "outputs": [
    {
     "data": {
      "text/plain": [
       "<matplotlib.axes._subplots.AxesSubplot at 0x2caa5d02908>"
      ]
     },
     "execution_count": 450,
     "metadata": {},
     "output_type": "execute_result"
    },
    {
     "data": {
      "image/png": "[encoded data removed]",
      "text/plain": [
       "<Figure size 1080x360 with 1 Axes>"
      ]
     },
     "metadata": {},
     "output_type": "display_data"
    }
   ],
   "source": [
    "df_tra['NYC'].plot(kind='bar', figsize=(15,5))\n"
   ]
  },
  {
   "cell_type": "markdown",
   "metadata": {},
   "source": [
    "Graph of taxis taken in New York in each month in each borough."
   ]
  },
  {
   "cell_type": "code",
   "execution_count": 449,
   "metadata": {},
   "outputs": [
    {
     "data": {
      "text/plain": [
       "<matplotlib.axes._subplots.AxesSubplot at 0x2cbb659ee80>"
      ]
     },
     "execution_count": 449,
     "metadata": {},
     "output_type": "execute_result"
    },
    {
     "data": {
      "image/png": "[encoded data removed]",
      "text/plain": [
       "<Figure size 1080x360 with 1 Axes>"
      ]
     },
     "metadata": {},
     "output_type": "display_data"
    }
   ],
   "source": [
    "df_tra.plot(kind='bar', figsize=(15,5))"
   ]
  },
  {
   "cell_type": "markdown",
   "metadata": {},
   "source": [
    "Another one:"
   ]
  },
  {
   "cell_type": "code",
   "execution_count": 446,
   "metadata": {},
   "outputs": [
    {
     "data": {
      "text/plain": [
       "<matplotlib.axes._subplots.AxesSubplot at 0x2cbe8aa1cc0>"
      ]
     },
     "execution_count": 446,
     "metadata": {},
     "output_type": "execute_result"
    },
    {
     "data": {
      "image/png": "[encoded data removed]",
      "text/plain": [
       "<Figure size 1080x360 with 1 Axes>"
      ]
     },
     "metadata": {},
     "output_type": "display_data"
    }
   ],
   "source": [
    "df_tra.plot(kind='line', figsize=(15,5))"
   ]
  },
  {
   "cell_type": "markdown",
   "metadata": {},
   "source": [
    "Unfortunatly those plots don't give us a very good representation becouse Boroughs are very differents from each other in average number of Taxis, so they don't fit well in a unique graph. However we can describe some minor common patterns."
   ]
  },
  {
   "cell_type": "markdown",
   "metadata": {},
   "source": [
    "## OBSERVATIONS\n",
    " 1.As it's easy to see from our data frame and from our graphs, Manhattan has the highest trafic of taxis in each of six month compared to other boroughs. \n",
    " 2.Another thing observable, is that pick ups in January and June are less frequent. April is the month with the highest number of pick ups. "
   ]
  },
  {
   "cell_type": "markdown",
   "metadata": {},
   "source": [
    "## RQ3\n",
    "##### Do the all trips last the same? Let's put our attention on the distribution of trip's duration. Provide a plot for it and comment what you see. Run this analysis for NYC and for each borough (and obviously comment the results!)."
   ]
  },
  {
   "cell_type": "markdown",
   "metadata": {},
   "source": [
    "The first that we want is to intialize empty data frames for Nyc and for each boroughs."
   ]
  },
  {
   "cell_type": "code",
   "execution_count": 453,
   "metadata": {},
   "outputs": [],
   "source": [
    "index=['Short','Short/Medium','Medium','Medium/Long','Long','Very Long']\n",
    "col=[]\n",
    "months=[' ','January','February','March','April','May','June']\n",
    "nycdf = pd.DataFrame(index=index, columns=col)\n",
    "bronx_df = pd.DataFrame(index=index, columns=col)\n",
    "brooklyn_df = pd.DataFrame(index=index, columns=col)\n",
    "ewr_df = pd.DataFrame(index=index, columns=col)\n",
    "manhattan_df = pd.DataFrame(index=index, columns=col)\n",
    "queens_df = pd.DataFrame(index=index, columns=col)\n",
    "staten_island_df = pd.DataFrame(index=index, columns=col)\n",
    "unknown_df = pd.DataFrame(index=index, columns=col)"
   ]
  },
  {
   "cell_type": "markdown",
   "metadata": {},
   "source": [
    "##### New York analysis "
   ]
  },
  {
   "cell_type": "code",
   "execution_count": 456,
   "metadata": {},
   "outputs": [],
   "source": [
    "for i in range(1,7):\n",
    "    #We use a loop in order to pick data from each dataset\n",
    "    M1=pd.read_csv(r\"C:\\Users\\Egon\\Desktop\\Universita\\ADM\\homework2\\dati\\yellow_tripdata_2018-0\"+str(i)+\".csv\" , encoding = 'latin-1')\n",
    "    #We Clean it, saving only this columns.\n",
    "    M2 = M1.filter(['tpep_pickup_datetime','tpep_dropoff_datetime', 'PULocationID'])\n",
    "    #read the file with ID of each boroughs and merge it with the cleaned Df, after I removed the column PULocation ID\n",
    "    #because we don't need it\n",
    "    borough = pd.read_csv(r\"C:\\Users\\Egon\\Desktop\\Universita\\ADM\\homework2\\dati\\taxi_zone_lookup.csv\", encoding = 'latin-1')\n",
    "    result = pd.merge(M2,\n",
    "                 borough[['LocationID', 'Borough']],\n",
    "                 left_on='PULocationID',\n",
    "                 right_on='LocationID',\n",
    "                 how='inner' \n",
    "                 )\n",
    "    df=result.drop('PULocationID',axis=1)\n",
    "    del result \n",
    "    #For each trip I compute the duration of the trip\n",
    "    format_date='%Y-%m-%d %H:%M:%S'\n",
    "    pickup=pd.to_datetime(df['tpep_pickup_datetime'].str.strip(),format=format_date)\n",
    "    dropoff=pd.to_datetime(df['tpep_dropoff_datetime'].str.strip(), format=format_date)\n",
    "    difference=(dropoff-pickup).astype('timedelta64[m]')\n",
    "    df['Duration']=difference\n",
    "    #Then I put each trip in a category\n",
    "    l=[]\n",
    "    for ele in df['Duration']:\n",
    "        if ele<=10:\n",
    "            l.append('Short')\n",
    "        if 10<ele<=20:\n",
    "            l.append('Short/Medium')\n",
    "        if 20<ele<=30:\n",
    "            l.append('Medium')\n",
    "        if 30<ele<=40:\n",
    "            l.append('Medium/Long')\n",
    "        if 40<ele<=50:\n",
    "            l.append('Long')\n",
    "        if ele>50:\n",
    "            l.append('Very Long')\n",
    "            \n",
    "    df['Trip type']=l\n",
    "    #Now the date of pickup and dropoff are unnecessary so I remove them\n",
    "    df=df.drop(['tpep_pickup_datetime','tpep_dropoff_datetime'], axis=1)\n",
    "    \n",
    "    #We compute the number of each trip with Counter \n",
    "    d=Counter(l)\n",
    "    c=[]\n",
    "    for ind in index:\n",
    "        if ind not in d:\n",
    "            c.append(0)\n",
    "        else:\n",
    "            c.append(d[ind])\n",
    "    #We store results in a dataframe\n",
    "    nycdf[months[i]]=c"
   ]
  },
  {
   "cell_type": "markdown",
   "metadata": {},
   "source": [
    "Now we have our dataframe."
   ]
  },
  {
   "cell_type": "code",
   "execution_count": 457,
   "metadata": {},
   "outputs": [
    {
     "data": {
      "text/html": [
       "<div>\n",
       "<style scoped>\n",
       "    .dataframe tbody tr th:only-of-type {\n",
       "        vertical-align: middle;\n",
       "    }\n",
       "\n",
       "    .dataframe tbody tr th {\n",
       "        vertical-align: top;\n",
       "    }\n",
       "\n",
       "    .dataframe thead th {\n",
       "        text-align: right;\n",
       "    }\n",
       "</style>\n",
       "<table border=\"1\" class=\"dataframe\">\n",
       "  <thead>\n",
       "    <tr style=\"text-align: right;\">\n",
       "      <th></th>\n",
       "      <th>January</th>\n",
       "      <th>February</th>\n",
       "      <th>March</th>\n",
       "      <th>April</th>\n",
       "      <th>May</th>\n",
       "      <th>June</th>\n",
       "    </tr>\n",
       "  </thead>\n",
       "  <tbody>\n",
       "    <tr>\n",
       "      <th>Short</th>\n",
       "      <td>4659268</td>\n",
       "      <td>4478160</td>\n",
       "      <td>4885675</td>\n",
       "      <td>4616870</td>\n",
       "      <td>4412217</td>\n",
       "      <td>4233733</td>\n",
       "    </tr>\n",
       "    <tr>\n",
       "      <th>Short/Medium</th>\n",
       "      <td>2689383</td>\n",
       "      <td>2628352</td>\n",
       "      <td>2866181</td>\n",
       "      <td>2892146</td>\n",
       "      <td>2877496</td>\n",
       "      <td>2711580</td>\n",
       "    </tr>\n",
       "    <tr>\n",
       "      <th>Medium</th>\n",
       "      <td>884029</td>\n",
       "      <td>869236</td>\n",
       "      <td>984822</td>\n",
       "      <td>1047933</td>\n",
       "      <td>1084813</td>\n",
       "      <td>1002209</td>\n",
       "    </tr>\n",
       "    <tr>\n",
       "      <th>Medium/Long</th>\n",
       "      <td>300755</td>\n",
       "      <td>298614</td>\n",
       "      <td>359627</td>\n",
       "      <td>393228</td>\n",
       "      <td>425440</td>\n",
       "      <td>381506</td>\n",
       "    </tr>\n",
       "    <tr>\n",
       "      <th>Long</th>\n",
       "      <td>115888</td>\n",
       "      <td>116005</td>\n",
       "      <td>158084</td>\n",
       "      <td>172589</td>\n",
       "      <td>193717</td>\n",
       "      <td>178363</td>\n",
       "    </tr>\n",
       "    <tr>\n",
       "      <th>Very Long</th>\n",
       "      <td>110551</td>\n",
       "      <td>101709</td>\n",
       "      <td>175987</td>\n",
       "      <td>182749</td>\n",
       "      <td>230380</td>\n",
       "      <td>206440</td>\n",
       "    </tr>\n",
       "  </tbody>\n",
       "</table>\n",
       "</div>"
      ],
      "text/plain": [
       "              January  February    March    April      May     June\n",
       "Short         4659268   4478160  4885675  4616870  4412217  4233733\n",
       "Short/Medium  2689383   2628352  2866181  2892146  2877496  2711580\n",
       "Medium         884029    869236   984822  1047933  1084813  1002209\n",
       "Medium/Long    300755    298614   359627   393228   425440   381506\n",
       "Long           115888    116005   158084   172589   193717   178363\n",
       "Very Long      110551    101709   175987   182749   230380   206440"
      ]
     },
     "execution_count": 457,
     "metadata": {},
     "output_type": "execute_result"
    }
   ],
   "source": [
    "nycdf"
   ]
  },
  {
   "cell_type": "markdown",
   "metadata": {},
   "source": [
    "Let's plot it!"
   ]
  },
  {
   "cell_type": "code",
   "execution_count": 458,
   "metadata": {},
   "outputs": [
    {
     "data": {
      "text/plain": [
       "<matplotlib.axes._subplots.AxesSubplot at 0x2ccce9dfe80>"
      ]
     },
     "execution_count": 458,
     "metadata": {},
     "output_type": "execute_result"
    },
    {
     "data": {
      "image/png": "[encoded data removed]",
      "text/plain": [
       "<Figure size 1080x504 with 1 Axes>"
      ]
     },
     "metadata": {},
     "output_type": "display_data"
    }
   ],
   "source": [
    "nycdf.plot.bar(figsize=(15,7))"
   ]
  },
  {
   "cell_type": "markdown",
   "metadata": {},
   "source": [
    "##### Boroughs analysis "
   ]
  },
  {
   "cell_type": "markdown",
   "metadata": {},
   "source": [
    "We repeat same analysis for each boroughs."
   ]
  },
  {
   "cell_type": "code",
   "execution_count": 460,
   "metadata": {
    "collapsed": true
   },
   "outputs": [
    {
     "name": "stderr",
     "output_type": "stream",
     "text": [
      "C:\\Users\\Egon\\Anaconda3\\lib\\site-packages\\ipykernel_launcher.py:45: SettingWithCopyWarning: \n",
      "A value is trying to be set on a copy of a slice from a DataFrame.\n",
      "Try using .loc[row_indexer,col_indexer] = value instead\n",
      "\n",
      "See the caveats in the documentation: http://pandas.pydata.org/pandas-docs/stable/indexing.html#indexing-view-versus-copy\n"
     ]
    }
   ],
   "source": [
    "months=[' ','January','February','March','April','May','June']\n",
    "bor=['Bronx', 'Brooklyn', 'EWR', 'Manhattan', 'Queens', 'Staten Island', 'Unknown']\n",
    "for i in range(1,7):\n",
    "    M1=pd.read_csv(r\"C:\\Users\\Egon\\Desktop\\Universita\\ADM\\homework2\\dati\\yellow_tripdata_2018-0\"+str(i)+\".csv\" , encoding = 'latin-1')\n",
    "    #Clean it saving only this column\n",
    "    \n",
    "    M2 = M1.filter(['tpep_pickup_datetime','tpep_dropoff_datetime', 'PULocationID'])\n",
    "    #read the file with ID of each boroughs and merge it with the cleaned Df, after I removed the column PULocation ID\n",
    "    #because we don't need it\n",
    "    \n",
    "    borough = pd.read_csv(r\"C:\\Users\\Egon\\Desktop\\Universita\\ADM\\homework2\\dati\\taxi_zone_lookup.csv\", encoding = 'latin-1')\n",
    "    result = pd.merge(M2,\n",
    "                 borough[['LocationID', 'Borough']],\n",
    "                 left_on='PULocationID',\n",
    "                 right_on='LocationID',\n",
    "                 how='inner' \n",
    "                 )\n",
    "    df=result.drop('PULocationID',axis=1)\n",
    "    del result \n",
    "    \n",
    "    #For each trip I compute the duration of the trip\n",
    "    format_date='%Y-%m-%d %H:%M:%S'\n",
    "    pickup=pd.to_datetime(df['tpep_pickup_datetime'].str.strip(),format=format_date)\n",
    "    dropoff=pd.to_datetime(df['tpep_dropoff_datetime'].str.strip(), format=format_date)\n",
    "    difference=(dropoff-pickup).astype('timedelta64[m]')\n",
    "    \n",
    "    df['Duration']=difference\n",
    "    for b in bor:\n",
    "        s =df.loc[df['Borough'] == b]\n",
    "        #Then I put each trip in a category\n",
    "        l=[]\n",
    "        for ele in s['Duration']:\n",
    "            if ele<=10:\n",
    "                l.append('Short')\n",
    "            if 10<ele<=20:\n",
    "                l.append('Short/Medium')\n",
    "            if 20<ele<=30:\n",
    "                l.append('Medium')\n",
    "            if 30<ele<=40:\n",
    "                l.append('Medium/Long')\n",
    "            if 40<ele<=50:\n",
    "                l.append('Long')\n",
    "            if ele>50:\n",
    "                l.append('Very Long')\n",
    "        s['Trip type']=l\n",
    "        #Now the date of pickup and dropoff are unnecessary so I remove them\n",
    "        s=s.drop(['tpep_pickup_datetime','tpep_dropoff_datetime'], axis=1)\n",
    "        #I compute the number of each trip, using the category\n",
    "        d=Counter(l)\n",
    "        c=[]\n",
    "        for ind in index:\n",
    "            if ind not in d:\n",
    "                c.append(0)\n",
    "            else:\n",
    "                c.append(d[ind])\n",
    "        if b == 'Bronx':\n",
    "            bronx_df[months[i]]=c\n",
    "        if b == 'Brooklyn':\n",
    "            brooklyn_df[months[i]]=c\n",
    "        if b == 'EWR':\n",
    "            ewr_df[months[i]]=c \n",
    "        if b == 'Manhattan':\n",
    "            manhattan_df[months[i]]=c\n",
    "        if b == 'Queens':\n",
    "            queens_df[months[i]]=c\n",
    "        if b == 'Staten Island':\n",
    "            staten_island_df[months[i]]=c \n",
    "        if b == 'Unknown':\n",
    "            unknown_df[months[i]]=c"
   ]
  },
  {
   "cell_type": "code",
   "execution_count": 475,
   "metadata": {
    "scrolled": false
   },
   "outputs": [
    {
     "data": {
      "text/plain": [
       "<matplotlib.axes._subplots.AxesSubplot at 0x2ccecd72358>"
      ]
     },
     "execution_count": 475,
     "metadata": {},
     "output_type": "execute_result"
    },
    {
     "data": {
      "image/png": "[encoded data removed]",
      "text/plain": [
       "<Figure size 1080x504 with 1 Axes>"
      ]
     },
     "metadata": {},
     "output_type": "display_data"
    },
    {
     "data": {
      "image/png": "[encoded data removed]",
      "text/plain": [
       "<Figure size 1080x504 with 1 Axes>"
      ]
     },
     "metadata": {},
     "output_type": "display_data"
    },
    {
     "data": {
      "image/png": "[encoded data removed]",
      "text/plain": [
       "<Figure size 1080x504 with 1 Axes>"
      ]
     },
     "metadata": {},
     "output_type": "display_data"
    },
    {
     "data": {
      "image/png": "[encoded data removed]",
      "text/plain": [
       "<Figure size 1080x504 with 1 Axes>"
      ]
     },
     "metadata": {},
     "output_type": "display_data"
    },
    {
     "data": {
      "image/png": "[encoded data removed]",
      "text/plain": [
       "<Figure size 1080x504 with 1 Axes>"
      ]
     },
     "metadata": {},
     "output_type": "display_data"
    },
    {
     "data": {
      "image/png": "[encoded data removed]",
      "text/plain": [
       "<Figure size 1080x504 with 1 Axes>"
      ]
     },
     "metadata": {},
     "output_type": "display_data"
    }
   ],
   "source": [
    "bronx_df.plot.bar(figsize=(15,7), title= 'Bronx')\n",
    "brooklyn_df.plot.bar(figsize=(15,7), title= 'Brooklyn')\n",
    "ewr_df.plot.bar(figsize=(15,7), title= 'Ewr')\n",
    "manhattan_df.plot.bar(figsize=(15,7), title= 'Manhattan')\n",
    "queens_df.plot.bar(figsize=(15,7), title= 'Queens')\n",
    "staten_island_df.plot.bar(figsize=(15,7), title= 'Staten Island')"
   ]
  },
  {
   "cell_type": "markdown",
   "metadata": {},
   "source": [
    "## OBSERVATIONS\n",
    " 1.We see that most common trips are the short trips (0-10) min. The number of trips decreases with the duration.\n",
    " \n",
    " 2.Almost all the boroughs follow the same distro of New York. In Queens we have a strange peak in medium trips. EWR has almost every trips dureation between (0-10) minutes. These doesn't make sense to us, since trips from the airport should not behave this way. Probably it is a bug in the registration system of taxi trips."
   ]
  },
  {
   "cell_type": "markdown",
   "metadata": {},
   "source": [
    "## RQ4\n",
    "##### What is the most common way of payments? Discover the way payments are executed in each borough and visualize the number of payments for any possible means. Then run the Chi-squared test to see whether the method of payment is correlated to the borough. Then, comment the results."
   ]
  },
  {
   "cell_type": "markdown",
   "metadata": {},
   "source": [
    "The pickup boroughs are taken into consideration.\n",
    "To answer this question, we need two columns: payment_type, PULocationID.\n",
    "\n"
   ]
  },
  {
   "cell_type": "code",
   "execution_count": 2,
   "metadata": {},
   "outputs": [],
   "source": [
    "M1 = pd.read_csv(r\"C:\\Users\\Egon\\Desktop\\Universita\\ADM\\homework2\\dati\\yellow_tripdata_2018-01.csv\",  usecols=['payment_type', 'PULocationID'])"
   ]
  },
  {
   "cell_type": "code",
   "execution_count": 4,
   "metadata": {},
   "outputs": [
    {
     "data": {
      "text/html": [
       "<div>\n",
       "<style scoped>\n",
       "    .dataframe tbody tr th:only-of-type {\n",
       "        vertical-align: middle;\n",
       "    }\n",
       "\n",
       "    .dataframe tbody tr th {\n",
       "        vertical-align: top;\n",
       "    }\n",
       "\n",
       "    .dataframe thead th {\n",
       "        text-align: right;\n",
       "    }\n",
       "</style>\n",
       "<table border=\"1\" class=\"dataframe\">\n",
       "  <thead>\n",
       "    <tr style=\"text-align: right;\">\n",
       "      <th></th>\n",
       "      <th>PULocationID</th>\n",
       "      <th>payment_type</th>\n",
       "    </tr>\n",
       "  </thead>\n",
       "  <tbody>\n",
       "    <tr>\n",
       "      <th>0</th>\n",
       "      <td>41</td>\n",
       "      <td>2</td>\n",
       "    </tr>\n",
       "    <tr>\n",
       "      <th>1</th>\n",
       "      <td>239</td>\n",
       "      <td>2</td>\n",
       "    </tr>\n",
       "    <tr>\n",
       "      <th>2</th>\n",
       "      <td>262</td>\n",
       "      <td>1</td>\n",
       "    </tr>\n",
       "    <tr>\n",
       "      <th>3</th>\n",
       "      <td>140</td>\n",
       "      <td>2</td>\n",
       "    </tr>\n",
       "    <tr>\n",
       "      <th>4</th>\n",
       "      <td>246</td>\n",
       "      <td>1</td>\n",
       "    </tr>\n",
       "  </tbody>\n",
       "</table>\n",
       "</div>"
      ],
      "text/plain": [
       "   PULocationID  payment_type\n",
       "0            41             2\n",
       "1           239             2\n",
       "2           262             1\n",
       "3           140             2\n",
       "4           246             1"
      ]
     },
     "execution_count": 4,
     "metadata": {},
     "output_type": "execute_result"
    }
   ],
   "source": [
    "M1.head()"
   ]
  },
  {
   "cell_type": "markdown",
   "metadata": {},
   "source": [
    "FROM THE LEGEND OF THE COLUMN WE KNOW WHAT EACH NUMERIC CODE MEANS:\n",
    "\n",
    "1= Credit card\n",
    "2= Cash\n",
    "3= No charge\n",
    "4= Dispute\n",
    "5= Unknown\n",
    "6= Voided trip"
   ]
  },
  {
   "cell_type": "markdown",
   "metadata": {},
   "source": [
    "Now we want Boroughs instead of PULocations:"
   ]
  },
  {
   "cell_type": "code",
   "execution_count": 6,
   "metadata": {},
   "outputs": [
    {
     "data": {
      "text/html": [
       "<div>\n",
       "<style scoped>\n",
       "    .dataframe tbody tr th:only-of-type {\n",
       "        vertical-align: middle;\n",
       "    }\n",
       "\n",
       "    .dataframe tbody tr th {\n",
       "        vertical-align: top;\n",
       "    }\n",
       "\n",
       "    .dataframe thead th {\n",
       "        text-align: right;\n",
       "    }\n",
       "</style>\n",
       "<table border=\"1\" class=\"dataframe\">\n",
       "  <thead>\n",
       "    <tr style=\"text-align: right;\">\n",
       "      <th></th>\n",
       "      <th>payment_type</th>\n",
       "      <th>Borough</th>\n",
       "    </tr>\n",
       "  </thead>\n",
       "  <tbody>\n",
       "    <tr>\n",
       "      <th>0</th>\n",
       "      <td>2</td>\n",
       "      <td>Manhattan</td>\n",
       "    </tr>\n",
       "    <tr>\n",
       "      <th>1</th>\n",
       "      <td>2</td>\n",
       "      <td>Manhattan</td>\n",
       "    </tr>\n",
       "    <tr>\n",
       "      <th>2</th>\n",
       "      <td>2</td>\n",
       "      <td>Manhattan</td>\n",
       "    </tr>\n",
       "    <tr>\n",
       "      <th>3</th>\n",
       "      <td>1</td>\n",
       "      <td>Manhattan</td>\n",
       "    </tr>\n",
       "    <tr>\n",
       "      <th>4</th>\n",
       "      <td>1</td>\n",
       "      <td>Manhattan</td>\n",
       "    </tr>\n",
       "  </tbody>\n",
       "</table>\n",
       "</div>"
      ],
      "text/plain": [
       "   payment_type    Borough\n",
       "0             2  Manhattan\n",
       "1             2  Manhattan\n",
       "2             2  Manhattan\n",
       "3             1  Manhattan\n",
       "4             1  Manhattan"
      ]
     },
     "execution_count": 6,
     "metadata": {},
     "output_type": "execute_result"
    }
   ],
   "source": [
    "borough = pd.read_csv(r\"C:\\Users\\Egon\\Desktop\\Universita\\ADM\\homework2\\dati\\taxi_zone_lookup.csv\")\n",
    "result = pd.merge(M1,\n",
    "                 borough[['LocationID', 'Borough']],\n",
    "                 left_on='PULocationID',\n",
    "                 right_on='LocationID',\n",
    "                 how='inner' \n",
    "                 )\n",
    "M2 = result.drop(['LocationID','PULocationID'],1)\n",
    "M2.head()"
   ]
  },
  {
   "cell_type": "markdown",
   "metadata": {},
   "source": [
    "Now that we have our df, we start to look at it.\n"
   ]
  },
  {
   "cell_type": "code",
   "execution_count": 7,
   "metadata": {},
   "outputs": [
    {
     "data": {
      "text/html": [
       "<div>\n",
       "<style scoped>\n",
       "    .dataframe tbody tr th:only-of-type {\n",
       "        vertical-align: middle;\n",
       "    }\n",
       "\n",
       "    .dataframe tbody tr th {\n",
       "        vertical-align: top;\n",
       "    }\n",
       "\n",
       "    .dataframe thead th {\n",
       "        text-align: right;\n",
       "    }\n",
       "</style>\n",
       "<table border=\"1\" class=\"dataframe\">\n",
       "  <thead>\n",
       "    <tr style=\"text-align: right;\">\n",
       "      <th></th>\n",
       "      <th>payment_type</th>\n",
       "      <th>Borough</th>\n",
       "    </tr>\n",
       "  </thead>\n",
       "  <tbody>\n",
       "    <tr>\n",
       "      <th>count</th>\n",
       "      <td>8.759874e+06</td>\n",
       "      <td>8759874</td>\n",
       "    </tr>\n",
       "    <tr>\n",
       "      <th>unique</th>\n",
       "      <td>NaN</td>\n",
       "      <td>7</td>\n",
       "    </tr>\n",
       "    <tr>\n",
       "      <th>top</th>\n",
       "      <td>NaN</td>\n",
       "      <td>Manhattan</td>\n",
       "    </tr>\n",
       "    <tr>\n",
       "      <th>freq</th>\n",
       "      <td>NaN</td>\n",
       "      <td>7965703</td>\n",
       "    </tr>\n",
       "    <tr>\n",
       "      <th>mean</th>\n",
       "      <td>1.310611e+00</td>\n",
       "      <td>NaN</td>\n",
       "    </tr>\n",
       "    <tr>\n",
       "      <th>std</th>\n",
       "      <td>4.817818e-01</td>\n",
       "      <td>NaN</td>\n",
       "    </tr>\n",
       "    <tr>\n",
       "      <th>min</th>\n",
       "      <td>1.000000e+00</td>\n",
       "      <td>NaN</td>\n",
       "    </tr>\n",
       "    <tr>\n",
       "      <th>25%</th>\n",
       "      <td>1.000000e+00</td>\n",
       "      <td>NaN</td>\n",
       "    </tr>\n",
       "    <tr>\n",
       "      <th>50%</th>\n",
       "      <td>1.000000e+00</td>\n",
       "      <td>NaN</td>\n",
       "    </tr>\n",
       "    <tr>\n",
       "      <th>75%</th>\n",
       "      <td>2.000000e+00</td>\n",
       "      <td>NaN</td>\n",
       "    </tr>\n",
       "    <tr>\n",
       "      <th>max</th>\n",
       "      <td>4.000000e+00</td>\n",
       "      <td>NaN</td>\n",
       "    </tr>\n",
       "  </tbody>\n",
       "</table>\n",
       "</div>"
      ],
      "text/plain": [
       "        payment_type    Borough\n",
       "count   8.759874e+06    8759874\n",
       "unique           NaN          7\n",
       "top              NaN  Manhattan\n",
       "freq             NaN    7965703\n",
       "mean    1.310611e+00        NaN\n",
       "std     4.817818e-01        NaN\n",
       "min     1.000000e+00        NaN\n",
       "25%     1.000000e+00        NaN\n",
       "50%     1.000000e+00        NaN\n",
       "75%     2.000000e+00        NaN\n",
       "max     4.000000e+00        NaN"
      ]
     },
     "execution_count": 7,
     "metadata": {},
     "output_type": "execute_result"
    }
   ],
   "source": [
    "M2.describe(include='all')"
   ]
  },
  {
   "cell_type": "markdown",
   "metadata": {},
   "source": [
    "As we see, payment type are treated as nummerical data we would like to have that as a cathegory."
   ]
  },
  {
   "cell_type": "code",
   "execution_count": 8,
   "metadata": {},
   "outputs": [
    {
     "data": {
      "text/html": [
       "<div>\n",
       "<style scoped>\n",
       "    .dataframe tbody tr th:only-of-type {\n",
       "        vertical-align: middle;\n",
       "    }\n",
       "\n",
       "    .dataframe tbody tr th {\n",
       "        vertical-align: top;\n",
       "    }\n",
       "\n",
       "    .dataframe thead th {\n",
       "        text-align: right;\n",
       "    }\n",
       "</style>\n",
       "<table border=\"1\" class=\"dataframe\">\n",
       "  <thead>\n",
       "    <tr style=\"text-align: right;\">\n",
       "      <th></th>\n",
       "      <th>ID</th>\n",
       "      <th>wayofpay</th>\n",
       "    </tr>\n",
       "  </thead>\n",
       "  <tbody>\n",
       "    <tr>\n",
       "      <th>0</th>\n",
       "      <td>1</td>\n",
       "      <td>Credit card</td>\n",
       "    </tr>\n",
       "    <tr>\n",
       "      <th>1</th>\n",
       "      <td>2</td>\n",
       "      <td>Cash</td>\n",
       "    </tr>\n",
       "    <tr>\n",
       "      <th>2</th>\n",
       "      <td>3</td>\n",
       "      <td>No charge</td>\n",
       "    </tr>\n",
       "    <tr>\n",
       "      <th>3</th>\n",
       "      <td>4</td>\n",
       "      <td>Dispute</td>\n",
       "    </tr>\n",
       "    <tr>\n",
       "      <th>4</th>\n",
       "      <td>5</td>\n",
       "      <td>Unknown</td>\n",
       "    </tr>\n",
       "    <tr>\n",
       "      <th>5</th>\n",
       "      <td>6</td>\n",
       "      <td>Voided trip</td>\n",
       "    </tr>\n",
       "  </tbody>\n",
       "</table>\n",
       "</div>"
      ],
      "text/plain": [
       "   ID     wayofpay\n",
       "0   1  Credit card\n",
       "1   2         Cash\n",
       "2   3    No charge\n",
       "3   4      Dispute\n",
       "4   5      Unknown\n",
       "5   6  Voided trip"
      ]
     },
     "execution_count": 8,
     "metadata": {},
     "output_type": "execute_result"
    }
   ],
   "source": [
    "columns=[]\n",
    "index= [0,1,2,3,4,5]\n",
    "typeofpay=pd.DataFrame(index=index, columns=columns)\n",
    "ID=list(range(1,7))\n",
    "typeofpay['ID']=ID\n",
    "typeofpay['wayofpay']=['Credit card', 'Cash', 'No charge', 'Dispute', 'Unknown', 'Voided trip']\n",
    "typeofpay"
   ]
  },
  {
   "cell_type": "markdown",
   "metadata": {},
   "source": [
    "Now we have a df that we can merge with our data."
   ]
  },
  {
   "cell_type": "code",
   "execution_count": 10,
   "metadata": {},
   "outputs": [
    {
     "data": {
      "text/html": [
       "<div>\n",
       "<style scoped>\n",
       "    .dataframe tbody tr th:only-of-type {\n",
       "        vertical-align: middle;\n",
       "    }\n",
       "\n",
       "    .dataframe tbody tr th {\n",
       "        vertical-align: top;\n",
       "    }\n",
       "\n",
       "    .dataframe thead th {\n",
       "        text-align: right;\n",
       "    }\n",
       "</style>\n",
       "<table border=\"1\" class=\"dataframe\">\n",
       "  <thead>\n",
       "    <tr style=\"text-align: right;\">\n",
       "      <th></th>\n",
       "      <th>Borough</th>\n",
       "      <th>ID</th>\n",
       "      <th>wayofpay</th>\n",
       "    </tr>\n",
       "  </thead>\n",
       "  <tbody>\n",
       "    <tr>\n",
       "      <th>0</th>\n",
       "      <td>Manhattan</td>\n",
       "      <td>2</td>\n",
       "      <td>Cash</td>\n",
       "    </tr>\n",
       "    <tr>\n",
       "      <th>1</th>\n",
       "      <td>Manhattan</td>\n",
       "      <td>2</td>\n",
       "      <td>Cash</td>\n",
       "    </tr>\n",
       "    <tr>\n",
       "      <th>2</th>\n",
       "      <td>Manhattan</td>\n",
       "      <td>2</td>\n",
       "      <td>Cash</td>\n",
       "    </tr>\n",
       "    <tr>\n",
       "      <th>3</th>\n",
       "      <td>Manhattan</td>\n",
       "      <td>2</td>\n",
       "      <td>Cash</td>\n",
       "    </tr>\n",
       "    <tr>\n",
       "      <th>4</th>\n",
       "      <td>Manhattan</td>\n",
       "      <td>2</td>\n",
       "      <td>Cash</td>\n",
       "    </tr>\n",
       "  </tbody>\n",
       "</table>\n",
       "</div>"
      ],
      "text/plain": [
       "     Borough  ID wayofpay\n",
       "0  Manhattan   2     Cash\n",
       "1  Manhattan   2     Cash\n",
       "2  Manhattan   2     Cash\n",
       "3  Manhattan   2     Cash\n",
       "4  Manhattan   2     Cash"
      ]
     },
     "execution_count": 10,
     "metadata": {},
     "output_type": "execute_result"
    }
   ],
   "source": [
    "df= pd.merge(M2,\n",
    "              typeofpay,\n",
    "              left_on='payment_type',\n",
    "              right_on='ID',\n",
    "              how='inner')\n",
    "df=df.drop(['payment_type'], 1)\n",
    "df.head()"
   ]
  },
  {
   "cell_type": "markdown",
   "metadata": {},
   "source": [
    "Now we can rerun describe to extract some info."
   ]
  },
  {
   "cell_type": "code",
   "execution_count": 12,
   "metadata": {},
   "outputs": [
    {
     "data": {
      "text/plain": [
       "count         8759874\n",
       "unique              4\n",
       "top       Credit card\n",
       "freq          6105871\n",
       "Name: wayofpay, dtype: object"
      ]
     },
     "execution_count": 12,
     "metadata": {},
     "output_type": "execute_result"
    }
   ],
   "source": [
    "df.wayofpay.describe()"
   ]
  },
  {
   "cell_type": "code",
   "execution_count": 13,
   "metadata": {},
   "outputs": [
    {
     "data": {
      "text/plain": [
       "array(['Cash', 'Credit card', 'No charge', 'Dispute'], dtype=object)"
      ]
     },
     "execution_count": 13,
     "metadata": {},
     "output_type": "execute_result"
    }
   ],
   "source": [
    "df.wayofpay.unique()"
   ]
  },
  {
   "cell_type": "code",
   "execution_count": 14,
   "metadata": {},
   "outputs": [
    {
     "data": {
      "text/plain": [
       "<matplotlib.axes._subplots.AxesSubplot at 0x14a0837d7b8>"
      ]
     },
     "execution_count": 14,
     "metadata": {},
     "output_type": "execute_result"
    },
    {
     "data": {
      "image/png": "[encoded data removed]",
      "text/plain": [
       "<Figure size 720x288 with 1 Axes>"
      ]
     },
     "metadata": {},
     "output_type": "display_data"
    }
   ],
   "source": [
    "df['wayofpay'].value_counts().plot(kind='bar', figsize=(10,4), color='pink')"
   ]
  },
  {
   "cell_type": "markdown",
   "metadata": {},
   "source": [
    "Now we know something more: Credit card is by far (more than 60% of the payments) the most common way to pay. Almost the totality of the other fairs is payed in cash.\n",
    "Our dataframe has only four unique value: Unknown and voided trip are missing."
   ]
  },
  {
   "cell_type": "code",
   "execution_count": 15,
   "metadata": {},
   "outputs": [
    {
     "data": {
      "text/plain": [
       "Borough\n",
       "Bronx            AxesSubplot(0.125,0.125;0.775x0.755)\n",
       "Brooklyn         AxesSubplot(0.125,0.125;0.775x0.755)\n",
       "EWR              AxesSubplot(0.125,0.125;0.775x0.755)\n",
       "Manhattan        AxesSubplot(0.125,0.125;0.775x0.755)\n",
       "Queens           AxesSubplot(0.125,0.125;0.775x0.755)\n",
       "Staten Island    AxesSubplot(0.125,0.125;0.775x0.755)\n",
       "Unknown          AxesSubplot(0.125,0.125;0.775x0.755)\n",
       "Name: ID, dtype: object"
      ]
     },
     "execution_count": 15,
     "metadata": {},
     "output_type": "execute_result"
    },
    {
     "data": {
      "image/png": "[encoded data removed]",
      "text/plain": [
       "<Figure size 720x288 with 1 Axes>"
      ]
     },
     "metadata": {},
     "output_type": "display_data"
    }
   ],
   "source": [
    "df.groupby('Borough')['ID'].hist(figsize=(10,4))"
   ]
  },
  {
   "cell_type": "markdown",
   "metadata": {},
   "source": [
    "From this quick graphical analisys we can't see any correlation between borough and way of payments, but we have to run a chi-squared test to be sure."
   ]
  },
  {
   "cell_type": "markdown",
   "metadata": {},
   "source": [
    "We create a dataframe with wayofpay as rows and Boroughs as columns."
   ]
  },
  {
   "cell_type": "code",
   "execution_count": 20,
   "metadata": {},
   "outputs": [],
   "source": [
    "columns=['Bronx', 'Brooklyn', 'Manhattan', 'Queens'] #excluding EWR, uknonwn and Staten Island for scarsity of statistical relevance\n",
    "index= ['Cash', 'Credit card', 'No charge', 'Dispute','Total']\n",
    "tab=pd.DataFrame(index=index, columns=columns)\n",
    "for i in columns:\n",
    "    k= pd.DataFrame(df[df['Borough'] == i]).groupby('wayofpay')\n",
    "    s= k['Borough'].count()\n",
    "    s= list(s)\n",
    "    s.append(sum(s))\n",
    "    tab[i]=s"
   ]
  },
  {
   "cell_type": "code",
   "execution_count": 22,
   "metadata": {},
   "outputs": [
    {
     "data": {
      "text/plain": [
       "<matplotlib.axes._subplots.AxesSubplot at 0x14a0836ad68>"
      ]
     },
     "execution_count": 22,
     "metadata": {},
     "output_type": "execute_result"
    },
    {
     "data": {
      "image/png": "[encoded data removed]",
      "text/plain": [
       "<Figure size 432x288 with 1 Axes>"
      ]
     },
     "metadata": {},
     "output_type": "display_data"
    }
   ],
   "source": [
    "tab.plot(kind='bar')"
   ]
  },
  {
   "cell_type": "code",
   "execution_count": 24,
   "metadata": {},
   "outputs": [
    {
     "data": {
      "text/html": [
       "<div>\n",
       "<style scoped>\n",
       "    .dataframe tbody tr th:only-of-type {\n",
       "        vertical-align: middle;\n",
       "    }\n",
       "\n",
       "    .dataframe tbody tr th {\n",
       "        vertical-align: top;\n",
       "    }\n",
       "\n",
       "    .dataframe thead th {\n",
       "        text-align: right;\n",
       "    }\n",
       "</style>\n",
       "<table border=\"1\" class=\"dataframe\">\n",
       "  <thead>\n",
       "    <tr style=\"text-align: right;\">\n",
       "      <th></th>\n",
       "      <th>Bronx</th>\n",
       "      <th>Brooklyn</th>\n",
       "      <th>Manhattan</th>\n",
       "      <th>Queens</th>\n",
       "    </tr>\n",
       "  </thead>\n",
       "  <tbody>\n",
       "    <tr>\n",
       "      <th>Cash</th>\n",
       "      <td>4114</td>\n",
       "      <td>35339</td>\n",
       "      <td>2356898</td>\n",
       "      <td>154704</td>\n",
       "    </tr>\n",
       "    <tr>\n",
       "      <th>Credit card</th>\n",
       "      <td>2939</td>\n",
       "      <td>63280</td>\n",
       "      <td>5564803</td>\n",
       "      <td>365207</td>\n",
       "    </tr>\n",
       "    <tr>\n",
       "      <th>No charge</th>\n",
       "      <td>65</td>\n",
       "      <td>311</td>\n",
       "      <td>9762</td>\n",
       "      <td>1298</td>\n",
       "    </tr>\n",
       "    <tr>\n",
       "      <th>Dispute</th>\n",
       "      <td>271</td>\n",
       "      <td>1320</td>\n",
       "      <td>34240</td>\n",
       "      <td>5697</td>\n",
       "    </tr>\n",
       "  </tbody>\n",
       "</table>\n",
       "</div>"
      ],
      "text/plain": [
       "             Bronx  Brooklyn  Manhattan  Queens\n",
       "Cash          4114     35339    2356898  154704\n",
       "Credit card   2939     63280    5564803  365207\n",
       "No charge       65       311       9762    1298\n",
       "Dispute        271      1320      34240    5697"
      ]
     },
     "execution_count": 24,
     "metadata": {},
     "output_type": "execute_result"
    }
   ],
   "source": [
    "tot=[]\n",
    "for i in range (5):\n",
    "    som=tab.Bronx[i]+tab.Brooklyn[i]+tab.Manhattan[i]+tab.Queens[i]\n",
    "    tot.append(som)\n",
    "tab['Total']=tot\n",
    "observed= tab.iloc[0:4,0:4]   # Get table without totals for later use\n",
    "observed"
   ]
  },
  {
   "cell_type": "code",
   "execution_count": 25,
   "metadata": {},
   "outputs": [
    {
     "data": {
      "text/html": [
       "<div>\n",
       "<style scoped>\n",
       "    .dataframe tbody tr th:only-of-type {\n",
       "        vertical-align: middle;\n",
       "    }\n",
       "\n",
       "    .dataframe tbody tr th {\n",
       "        vertical-align: top;\n",
       "    }\n",
       "\n",
       "    .dataframe thead th {\n",
       "        text-align: right;\n",
       "    }\n",
       "</style>\n",
       "<table border=\"1\" class=\"dataframe\">\n",
       "  <thead>\n",
       "    <tr style=\"text-align: right;\">\n",
       "      <th></th>\n",
       "      <th>Bronx</th>\n",
       "      <th>Brooklyn</th>\n",
       "      <th>Manhattan</th>\n",
       "      <th>Queens</th>\n",
       "      <th>Total</th>\n",
       "    </tr>\n",
       "  </thead>\n",
       "  <tbody>\n",
       "    <tr>\n",
       "      <th>Cash</th>\n",
       "      <td>4114</td>\n",
       "      <td>35339</td>\n",
       "      <td>2356898</td>\n",
       "      <td>154704</td>\n",
       "      <td>2551055</td>\n",
       "    </tr>\n",
       "    <tr>\n",
       "      <th>Credit card</th>\n",
       "      <td>2939</td>\n",
       "      <td>63280</td>\n",
       "      <td>5564803</td>\n",
       "      <td>365207</td>\n",
       "      <td>5996229</td>\n",
       "    </tr>\n",
       "    <tr>\n",
       "      <th>No charge</th>\n",
       "      <td>65</td>\n",
       "      <td>311</td>\n",
       "      <td>9762</td>\n",
       "      <td>1298</td>\n",
       "      <td>11436</td>\n",
       "    </tr>\n",
       "    <tr>\n",
       "      <th>Dispute</th>\n",
       "      <td>271</td>\n",
       "      <td>1320</td>\n",
       "      <td>34240</td>\n",
       "      <td>5697</td>\n",
       "      <td>41528</td>\n",
       "    </tr>\n",
       "    <tr>\n",
       "      <th>Total</th>\n",
       "      <td>7389</td>\n",
       "      <td>100250</td>\n",
       "      <td>7965703</td>\n",
       "      <td>526906</td>\n",
       "      <td>8600248</td>\n",
       "    </tr>\n",
       "  </tbody>\n",
       "</table>\n",
       "</div>"
      ],
      "text/plain": [
       "             Bronx  Brooklyn  Manhattan  Queens    Total\n",
       "Cash          4114     35339    2356898  154704  2551055\n",
       "Credit card   2939     63280    5564803  365207  5996229\n",
       "No charge       65       311       9762    1298    11436\n",
       "Dispute        271      1320      34240    5697    41528\n",
       "Total         7389    100250    7965703  526906  8600248"
      ]
     },
     "execution_count": 25,
     "metadata": {},
     "output_type": "execute_result"
    }
   ],
   "source": [
    "tab"
   ]
  },
  {
   "cell_type": "markdown",
   "metadata": {},
   "source": [
    "Now that we have our data frame, we can perform our chi-squared test \n",
    "\n",
    "H0: Type of payment is not associated with Borough, and\n",
    "\n",
    "H1: Type of payment is associated with Borough."
   ]
  },
  {
   "cell_type": "markdown",
   "metadata": {},
   "source": [
    "First thing we calculate the df of expected values\n"
   ]
  },
  {
   "cell_type": "code",
   "execution_count": 26,
   "metadata": {},
   "outputs": [
    {
     "data": {
      "text/html": [
       "<div>\n",
       "<style scoped>\n",
       "    .dataframe tbody tr th:only-of-type {\n",
       "        vertical-align: middle;\n",
       "    }\n",
       "\n",
       "    .dataframe tbody tr th {\n",
       "        vertical-align: top;\n",
       "    }\n",
       "\n",
       "    .dataframe thead th {\n",
       "        text-align: right;\n",
       "    }\n",
       "</style>\n",
       "<table border=\"1\" class=\"dataframe\">\n",
       "  <thead>\n",
       "    <tr style=\"text-align: right;\">\n",
       "      <th></th>\n",
       "      <th>Bronx</th>\n",
       "      <th>Brooklyn</th>\n",
       "      <th>Manhattan</th>\n",
       "      <th>Queens</th>\n",
       "    </tr>\n",
       "  </thead>\n",
       "  <tbody>\n",
       "    <tr>\n",
       "      <th>Cash</th>\n",
       "      <td>2191.767655</td>\n",
       "      <td>29736.731284</td>\n",
       "      <td>2.362833e+06</td>\n",
       "      <td>156293.886622</td>\n",
       "    </tr>\n",
       "    <tr>\n",
       "      <th>Credit card</th>\n",
       "      <td>5151.727727</td>\n",
       "      <td>69895.886404</td>\n",
       "      <td>5.553814e+06</td>\n",
       "      <td>367367.201210</td>\n",
       "    </tr>\n",
       "    <tr>\n",
       "      <th>No charge</th>\n",
       "      <td>9.825368</td>\n",
       "      <td>133.305342</td>\n",
       "      <td>1.059223e+04</td>\n",
       "      <td>700.642239</td>\n",
       "    </tr>\n",
       "    <tr>\n",
       "      <th>Dispute</th>\n",
       "      <td>35.679249</td>\n",
       "      <td>484.076971</td>\n",
       "      <td>3.846397e+04</td>\n",
       "      <td>2544.269929</td>\n",
       "    </tr>\n",
       "  </tbody>\n",
       "</table>\n",
       "</div>"
      ],
      "text/plain": [
       "                   Bronx      Brooklyn     Manhattan         Queens\n",
       "Cash         2191.767655  29736.731284  2.362833e+06  156293.886622\n",
       "Credit card  5151.727727  69895.886404  5.553814e+06  367367.201210\n",
       "No charge       9.825368    133.305342  1.059223e+04     700.642239\n",
       "Dispute        35.679249    484.076971  3.846397e+04    2544.269929"
      ]
     },
     "execution_count": 26,
     "metadata": {},
     "output_type": "execute_result"
    }
   ],
   "source": [
    "expected =  np.outer(tab[\"Total\"][0:4],\n",
    "                     tab.loc[\"Total\"][0:4]) / 8600248\n",
    "\n",
    "expected = pd.DataFrame(expected)\n",
    "\n",
    "expected.columns = ['Bronx', 'Brooklyn', 'Manhattan', 'Queens']\n",
    "expected.index = ['Cash', 'Credit card', 'No charge', 'Dispute']\n",
    "\n",
    "expected"
   ]
  },
  {
   "cell_type": "code",
   "execution_count": 27,
   "metadata": {},
   "outputs": [
    {
     "name": "stdout",
     "output_type": "stream",
     "text": [
      "12870.606976136387\n"
     ]
    }
   ],
   "source": [
    "chi_squared_stat = (((observed-expected)**2)/expected).sum().sum()\n",
    "\n",
    "#We call .sum() twice:once to get the column sums and a second time to add the column sums together,\n",
    "#returning the sum of the entire 2D table.\n",
    "print(chi_squared_stat)"
   ]
  },
  {
   "cell_type": "code",
   "execution_count": 28,
   "metadata": {},
   "outputs": [
    {
     "name": "stdout",
     "output_type": "stream",
     "text": [
      "Critical value\n",
      "16.918977604620448\n",
      "P value\n",
      "0.0\n"
     ]
    }
   ],
   "source": [
    "crit = stats.chi2.ppf(q = 0.95, # Find the critical value for 95% confidence*\n",
    "                      df = 9)   # Degrees of fredom for a test of independence equals the product of the number of categories\n",
    "                                # in each variable minus 1. In this case we have a 4x4 table so df = 3x3 = 9.\n",
    "\n",
    "print(\"Critical value\")\n",
    "print(crit)\n",
    "p_value = 1 - stats.chi2.cdf(x=chi_squared_stat,  # Find the p-value\n",
    "                             df=9)\n",
    "print(\"P value\")\n",
    "print(p_value)"
   ]
  },
  {
   "cell_type": "markdown",
   "metadata": {},
   "source": [
    "We could use directly scipy to conduct a test of independence quickly. Use stats.chi2_contingency() function to conduct a test of independence automatically given a frequency table of observed counts:"
   ]
  },
  {
   "cell_type": "code",
   "execution_count": 30,
   "metadata": {},
   "outputs": [
    {
     "data": {
      "text/plain": [
       "(12870.606976136387,\n",
       " 0.0,\n",
       " 9,\n",
       " array([[2.19176766e+03, 2.97367313e+04, 2.36283261e+06, 1.56293887e+05],\n",
       "        [5.15172773e+03, 6.98958864e+04, 5.55381418e+06, 3.67367201e+05],\n",
       "        [9.82536829e+00, 1.33305342e+02, 1.05922271e+04, 7.00642239e+02],\n",
       "        [3.56792492e+01, 4.84076971e+02, 3.84639739e+04, 2.54426993e+03]]))"
      ]
     },
     "execution_count": 30,
     "metadata": {},
     "output_type": "execute_result"
    }
   ],
   "source": [
    "stats.chi2_contingency(observed= observed)"
   ]
  },
  {
   "cell_type": "markdown",
   "metadata": {},
   "source": [
    "The output shows the chi-square statistic, the p-value and the degrees of freedom followed by the expected counts."
   ]
  },
  {
   "cell_type": "markdown",
   "metadata": {},
   "source": [
    "###### RESULTS\n",
    "\n",
    "The chi-squared test statistic is 12870.6 (very far away from the critical value of 16) with an associated p < 0.001.\n",
    "(.000 should not be interpreted as exactly zero, as in the computer print-out.)\n",
    "\n",
    "The null hypothesis is rejected, since p < 0.001, and a conclusion is made that way of payment is associated with borough. Examining the pattern of numbers it is noted that in Brooklyn, Bronx and Queens there are a lot more of dispute than as we would expect.\n",
    "We can also denote that in Bronx and in Brooklyn, in respect to other boroughs, there is a preference for cash over credit cards. In manatthan, viceversa, there is a preference for credit cards in respect to cash money."
   ]
  },
  {
   "cell_type": "markdown",
   "metadata": {},
   "source": [
    "###### RUN SAME ANALYSIS FOR EACH MONTH IN ORDER TO CONFIRM OUR RESULTS\n",
    "We can now run same analysis for each month."
   ]
  },
  {
   "cell_type": "code",
   "execution_count": 33,
   "metadata": {},
   "outputs": [],
   "source": [
    "chisq=stats.chi2_contingency(observed= observed)\n",
    "chisq=list(chisq)\n",
    "columns=[]\n",
    "index= ['chisq', 'p_value']\n",
    "dfMonths=pd.DataFrame(index=index, columns=columns)\n",
    "dfMonths['Jan']=chisq[0:2]"
   ]
  },
  {
   "cell_type": "code",
   "execution_count": 35,
   "metadata": {},
   "outputs": [],
   "source": [
    "months=[' ','Jan','Feb','Mar','Apr','May','Jun']\n",
    "for i in range(2,7):\n",
    "    M1= pd.read_csv(r\"C:\\Users\\Egon\\Desktop\\Universita\\ADM\\homework2\\dati\\yellow_tripdata_2018-0\"+str(i)+\".csv\", usecols=['payment_type', 'PULocationID'])\n",
    "    result = pd.merge(M1,\n",
    "                 borough[['LocationID', 'Borough']],\n",
    "                 left_on='PULocationID',\n",
    "                 right_on='LocationID',\n",
    "                 how='inner' \n",
    "                 )\n",
    "    M2 = result.drop(['LocationID','PULocationID'],1)\n",
    "    columns=[]\n",
    "    index= [0,1,2,3,4,5]\n",
    "    typeofpay=pd.DataFrame(index=index, columns=columns)\n",
    "    ID=list(range(1,7))\n",
    "    typeofpay['ID']=ID\n",
    "    typeofpay['wayofpay']=['Credit card', 'Cash', 'No charge', 'Dispute', 'Unknown', 'Voided trip']\n",
    "    df= pd.merge(M2,\n",
    "              typeofpay,\n",
    "              left_on='payment_type',\n",
    "              right_on='ID',\n",
    "              how='inner')\n",
    "    df=df.drop(['payment_type'], 1)\n",
    "    columns=['Bronx', 'Brooklyn', 'Manhattan', 'Queens'] \n",
    "    index= ['Cash', 'Credit card', 'No charge', 'Dispute','Total']\n",
    "    tab=pd.DataFrame(index=index, columns=columns)\n",
    "    for j in columns:\n",
    "        k= pd.DataFrame(df[df['Borough'] == j]).groupby('wayofpay')\n",
    "        s= k['Borough'].count()\n",
    "        s= list(s)\n",
    "        s.append(sum(s))\n",
    "        tab[j]=s\n",
    "    tot=[]\n",
    "    for bor in range (5):\n",
    "        som=tab.Bronx[bor]+tab.Brooklyn[bor]+tab.Manhattan[bor]+tab.Queens[bor]\n",
    "        tot.append(som)\n",
    "    tab['Total']=tot\n",
    "    observed= tab.iloc[0:4,0:4]\n",
    "    chisq=stats.chi2_contingency(observed= observed)\n",
    "    chisq=list(chisq)\n",
    "    dfMonths[months[i]]=chisq[0:2]"
   ]
  },
  {
   "cell_type": "code",
   "execution_count": 36,
   "metadata": {},
   "outputs": [
    {
     "data": {
      "text/html": [
       "<div>\n",
       "<style scoped>\n",
       "    .dataframe tbody tr th:only-of-type {\n",
       "        vertical-align: middle;\n",
       "    }\n",
       "\n",
       "    .dataframe tbody tr th {\n",
       "        vertical-align: top;\n",
       "    }\n",
       "\n",
       "    .dataframe thead th {\n",
       "        text-align: right;\n",
       "    }\n",
       "</style>\n",
       "<table border=\"1\" class=\"dataframe\">\n",
       "  <thead>\n",
       "    <tr style=\"text-align: right;\">\n",
       "      <th></th>\n",
       "      <th>Jan</th>\n",
       "      <th>Feb</th>\n",
       "      <th>Mar</th>\n",
       "      <th>Apr</th>\n",
       "      <th>May</th>\n",
       "      <th>Jun</th>\n",
       "    </tr>\n",
       "  </thead>\n",
       "  <tbody>\n",
       "    <tr>\n",
       "      <th>chisq</th>\n",
       "      <td>12870.606976</td>\n",
       "      <td>11180.856199</td>\n",
       "      <td>11358.214749</td>\n",
       "      <td>9753.274561</td>\n",
       "      <td>8851.041357</td>\n",
       "      <td>8653.506051</td>\n",
       "    </tr>\n",
       "    <tr>\n",
       "      <th>p_value</th>\n",
       "      <td>0.000000</td>\n",
       "      <td>0.000000</td>\n",
       "      <td>0.000000</td>\n",
       "      <td>0.000000</td>\n",
       "      <td>0.000000</td>\n",
       "      <td>0.000000</td>\n",
       "    </tr>\n",
       "  </tbody>\n",
       "</table>\n",
       "</div>"
      ],
      "text/plain": [
       "                  Jan           Feb           Mar          Apr          May  \\\n",
       "chisq    12870.606976  11180.856199  11358.214749  9753.274561  8851.041357   \n",
       "p_value      0.000000      0.000000      0.000000     0.000000     0.000000   \n",
       "\n",
       "                 Jun  \n",
       "chisq    8653.506051  \n",
       "p_value     0.000000  "
      ]
     },
     "execution_count": 36,
     "metadata": {},
     "output_type": "execute_result"
    }
   ],
   "source": [
    "dfMonths"
   ]
  },
  {
   "cell_type": "markdown",
   "metadata": {},
   "source": [
    "As we can se from our last data frame. Our precedent hypotesis are validated analizing other months."
   ]
  },
  {
   "cell_type": "markdown",
   "metadata": {},
   "source": [
    "## CRQ2\n",
    "##### Visualize Taxis movements! NYC is divided in many Taxis zones. For each yellow cab trip we know the zone Taxis pick up and drop off passengers. Let's visualize, on a choropleth map, the number of trips that starts in each zone. Than, do another map to count the races that end up in one single zone. Comment your discoveries. To perform this task we use the library folium. "
   ]
  },
  {
   "cell_type": "code",
   "execution_count": 38,
   "metadata": {},
   "outputs": [],
   "source": [
    "M1 = pd.read_csv(r\"C:\\Users\\Egon\\Desktop\\Universita\\ADM\\homework2\\dati\\yellow_tripdata_2018-01.csv\", usecols=['DOLocationID', 'PULocationID'])\n"
   ]
  },
  {
   "cell_type": "markdown",
   "metadata": {},
   "source": [
    "At first we want a map with pickup locations. "
   ]
  },
  {
   "cell_type": "code",
   "execution_count": 39,
   "metadata": {},
   "outputs": [
    {
     "data": {
      "text/html": [
       "<div>\n",
       "<style scoped>\n",
       "    .dataframe tbody tr th:only-of-type {\n",
       "        vertical-align: middle;\n",
       "    }\n",
       "\n",
       "    .dataframe tbody tr th {\n",
       "        vertical-align: top;\n",
       "    }\n",
       "\n",
       "    .dataframe thead th {\n",
       "        text-align: right;\n",
       "    }\n",
       "</style>\n",
       "<table border=\"1\" class=\"dataframe\">\n",
       "  <thead>\n",
       "    <tr style=\"text-align: right;\">\n",
       "      <th></th>\n",
       "      <th>PULocationID</th>\n",
       "    </tr>\n",
       "  </thead>\n",
       "  <tbody>\n",
       "    <tr>\n",
       "      <th>0</th>\n",
       "      <td>41</td>\n",
       "    </tr>\n",
       "    <tr>\n",
       "      <th>1</th>\n",
       "      <td>239</td>\n",
       "    </tr>\n",
       "    <tr>\n",
       "      <th>2</th>\n",
       "      <td>262</td>\n",
       "    </tr>\n",
       "    <tr>\n",
       "      <th>3</th>\n",
       "      <td>140</td>\n",
       "    </tr>\n",
       "    <tr>\n",
       "      <th>4</th>\n",
       "      <td>246</td>\n",
       "    </tr>\n",
       "  </tbody>\n",
       "</table>\n",
       "</div>"
      ],
      "text/plain": [
       "   PULocationID\n",
       "0            41\n",
       "1           239\n",
       "2           262\n",
       "3           140\n",
       "4           246"
      ]
     },
     "execution_count": 39,
     "metadata": {},
     "output_type": "execute_result"
    }
   ],
   "source": [
    "pickup=M1.filter(['PULocationID'])\n",
    "pickup.head()"
   ]
  },
  {
   "cell_type": "markdown",
   "metadata": {},
   "source": [
    "Let's create a map of NewYork!"
   ]
  },
  {
   "cell_type": "code",
   "execution_count": 40,
   "metadata": {},
   "outputs": [
    {
     "data": {
      "text/html": [
       "<div style=\"width:100%;\"><div style=\"position:relative;width:100%;height:0;padding-bottom:60%;\"><iframe src=\"data:text/html;charset=utf-8;base64,PCFET0NUWVBFIGh0bWw+CjxoZWFkPiAgICAKICAgIDxtZXRhIGh0dHAtZXF1aXY9ImNvbnRlbnQtdHlwZSIgY29udGVudD0idGV4dC9odG1sOyBjaGFyc2V0PVVURi04IiAvPgogICAgPHNjcmlwdD5MX1BSRUZFUl9DQU5WQVM9ZmFsc2U7IExfTk9fVE9VQ0g9ZmFsc2U7IExfRElTQUJMRV8zRD1mYWxzZTs8L3NjcmlwdD4KICAgIDxzY3JpcHQgc3JjPSJodHRwczovL2Nkbi5qc2RlbGl2ci5uZXQvbnBtL2xlYWZsZXRAMS4yLjAvZGlzdC9sZWFmbGV0LmpzIj48L3NjcmlwdD4KICAgIDxzY3JpcHQgc3JjPSJodHRwczovL2FqYXguZ29vZ2xlYXBpcy5jb20vYWpheC9saWJzL2pxdWVyeS8xLjExLjEvanF1ZXJ5Lm1pbi5qcyI+PC9zY3JpcHQ+CiAgICA8c2NyaXB0IHNyYz0iaHR0cHM6Ly9tYXhjZG4uYm9vdHN0cmFwY2RuLmNvbS9ib290c3RyYXAvMy4yLjAvanMvYm9vdHN0cmFwLm1pbi5qcyI+PC9zY3JpcHQ+CiAgICA8c2NyaXB0IHNyYz0iaHR0cHM6Ly9jZG5qcy5jbG91ZGZsYXJlLmNvbS9hamF4L2xpYnMvTGVhZmxldC5hd2Vzb21lLW1hcmtlcnMvMi4wLjIvbGVhZmxldC5hd2Vzb21lLW1hcmtlcnMuanMiPjwvc2NyaXB0PgogICAgPGxpbmsgcmVsPSJzdHlsZXNoZWV0IiBocmVmPSJodHRwczovL2Nkbi5qc2RlbGl2ci5uZXQvbnBtL2xlYWZsZXRAMS4yLjAvZGlzdC9sZWFmbGV0LmNzcyIvPgogICAgPGxpbmsgcmVsPSJzdHlsZXNoZWV0IiBocmVmPSJodHRwczovL21heGNkbi5ib290c3RyYXBjZG4uY29tL2Jvb3RzdHJhcC8zLjIuMC9jc3MvYm9vdHN0cmFwLm1pbi5jc3MiLz4KICAgIDxsaW5rIHJlbD0ic3R5bGVzaGVldCIgaHJlZj0iaHR0cHM6Ly9tYXhjZG4uYm9vdHN0cmFwY2RuLmNvbS9ib290c3RyYXAvMy4yLjAvY3NzL2Jvb3RzdHJhcC10aGVtZS5taW4uY3NzIi8+CiAgICA8bGluayByZWw9InN0eWxlc2hlZXQiIGhyZWY9Imh0dHBzOi8vbWF4Y2RuLmJvb3RzdHJhcGNkbi5jb20vZm9udC1hd2Vzb21lLzQuNi4zL2Nzcy9mb250LWF3ZXNvbWUubWluLmNzcyIvPgogICAgPGxpbmsgcmVsPSJzdHlsZXNoZWV0IiBocmVmPSJodHRwczovL2NkbmpzLmNsb3VkZmxhcmUuY29tL2FqYXgvbGlicy9MZWFmbGV0LmF3ZXNvbWUtbWFya2Vycy8yLjAuMi9sZWFmbGV0LmF3ZXNvbWUtbWFya2Vycy5jc3MiLz4KICAgIDxsaW5rIHJlbD0ic3R5bGVzaGVldCIgaHJlZj0iaHR0cHM6Ly9yYXdnaXQuY29tL3B5dGhvbi12aXN1YWxpemF0aW9uL2ZvbGl1bS9tYXN0ZXIvZm9saXVtL3RlbXBsYXRlcy9sZWFmbGV0LmF3ZXNvbWUucm90YXRlLmNzcyIvPgogICAgPHN0eWxlPmh0bWwsIGJvZHkge3dpZHRoOiAxMDAlO2hlaWdodDogMTAwJTttYXJnaW46IDA7cGFkZGluZzogMDt9PC9zdHlsZT4KICAgIDxzdHlsZT4jbWFwIHtwb3NpdGlvbjphYnNvbHV0ZTt0b3A6MDtib3R0b206MDtyaWdodDowO2xlZnQ6MDt9PC9zdHlsZT4KICAgIAogICAgPHN0eWxlPiNtYXBfM2I5M2RlY2MwY2VmNGRhMzk4MmVkZTZkNDg4NzI4ZDIgewogICAgICAgIHBvc2l0aW9uOiByZWxhdGl2ZTsKICAgICAgICB3aWR0aDogMTAwLjAlOwogICAgICAgIGhlaWdodDogMTAwLjAlOwogICAgICAgIGxlZnQ6IDAuMCU7CiAgICAgICAgdG9wOiAwLjAlOwogICAgICAgIH0KICAgIDwvc3R5bGU+CjwvaGVhZD4KPGJvZHk+ICAgIAogICAgCiAgICA8ZGl2IGNsYXNzPSJmb2xpdW0tbWFwIiBpZD0ibWFwXzNiOTNkZWNjMGNlZjRkYTM5ODJlZGU2ZDQ4ODcyOGQyIiA+PC9kaXY+CjwvYm9keT4KPHNjcmlwdD4gICAgCiAgICAKICAgIAogICAgICAgIHZhciBib3VuZHMgPSBudWxsOwogICAgCgogICAgdmFyIG1hcF8zYjkzZGVjYzBjZWY0ZGEzOTgyZWRlNmQ0ODg3MjhkMiA9IEwubWFwKAogICAgICAgICdtYXBfM2I5M2RlY2MwY2VmNGRhMzk4MmVkZTZkNDg4NzI4ZDInLCB7CiAgICAgICAgY2VudGVyOiBbNDAuNzE0MjcsIC03NC4wMDU5N10sCiAgICAgICAgem9vbTogMTEsCiAgICAgICAgbWF4Qm91bmRzOiBib3VuZHMsCiAgICAgICAgbGF5ZXJzOiBbXSwKICAgICAgICB3b3JsZENvcHlKdW1wOiBmYWxzZSwKICAgICAgICBjcnM6IEwuQ1JTLkVQU0czODU3LAogICAgICAgIHpvb21Db250cm9sOiB0cnVlLAogICAgICAgIH0pOwoKICAgIAogICAgCiAgICB2YXIgdGlsZV9sYXllcl82NWI3ZGVmNTljZTQ0Y2FiODA4ZjlmNDMxZWI0ZDYxOCA9IEwudGlsZUxheWVyKAogICAgICAgICdodHRwczovL2NhcnRvZGItYmFzZW1hcHMte3N9Lmdsb2JhbC5zc2wuZmFzdGx5Lm5ldC9saWdodF9hbGwve3p9L3t4fS97eX0ucG5nJywKICAgICAgICB7CiAgICAgICAgImF0dHJpYnV0aW9uIjogbnVsbCwKICAgICAgICAiZGV0ZWN0UmV0aW5hIjogZmFsc2UsCiAgICAgICAgIm1heE5hdGl2ZVpvb20iOiAxOCwKICAgICAgICAibWF4Wm9vbSI6IDE4LAogICAgICAgICJtaW5ab29tIjogMCwKICAgICAgICAibm9XcmFwIjogZmFsc2UsCiAgICAgICAgInN1YmRvbWFpbnMiOiAiYWJjIgp9KS5hZGRUbyhtYXBfM2I5M2RlY2MwY2VmNGRhMzk4MmVkZTZkNDg4NzI4ZDIpOwo8L3NjcmlwdD4=\" style=\"position:absolute;width:100%;height:100%;left:0;top:0;border:none !important;\" allowfullscreen webkitallowfullscreen mozallowfullscreen></iframe></div></div>"
      ],
      "text/plain": [
       "<folium.folium.Map at 0x14a0811a748>"
      ]
     },
     "execution_count": 40,
     "metadata": {},
     "output_type": "execute_result"
    }
   ],
   "source": [
    "NYmap=folium.Map(\n",
    "    location=[40.7142700, -74.0059700],   #coordinates of new York\n",
    "    zoom_start=11,                        \n",
    "    tiles='CartoDB positron'              #style of our map\n",
    ")\n",
    "NYmap"
   ]
  },
  {
   "cell_type": "markdown",
   "metadata": {},
   "source": [
    "Let's add zones to our map. "
   ]
  },
  {
   "cell_type": "code",
   "execution_count": 41,
   "metadata": {},
   "outputs": [],
   "source": [
    "zone_geo = os.path.join('data', r\"C:\\Users\\Egon\\Desktop\\Universita\\ADM\\homework2\\dati\\taxi_zones.json\")\n",
    "\n",
    "geo_json_data = json.load(open(zone_geo))\n"
   ]
  },
  {
   "cell_type": "code",
   "execution_count": 42,
   "metadata": {},
   "outputs": [],
   "source": [
    "folium.GeoJson(\n",
    "    geo_json_data,\n",
    "    style_function=lambda feature: {\n",
    "        'fillColor': '#0000ff',\n",
    "        'color': 'black',\n",
    "        'weight': 0.2,\n",
    "        'dashArray': '1, 1'\n",
    "    }\n",
    ").add_to(NYmap)\n",
    "#unfortunatly jupyter can't load our map so we store it (and next maps)\n",
    "#in a file that we will give separatly in the folder \"Choropletmaps\"\n",
    "NYmap.save(os.path.join('results', r\"C:\\Users\\Egon\\Desktop\\Universita\\ADM\\homework2\\dati\\NYCzones.html\"))"
   ]
  },
  {
   "cell_type": "markdown",
   "metadata": {},
   "source": [
    "Now that we know ho to create maps, we want to create a clorphlet map that represents the number of trips that starts in each zone. First thing we need a data frame with counts of taxi pick ups in the zone."
   ]
  },
  {
   "cell_type": "code",
   "execution_count": 43,
   "metadata": {},
   "outputs": [
    {
     "data": {
      "text/plain": [
       "dict_keys([1, 2, 3, 4, 5, 6, 7, 8, 9, 10, 11, 12, 13, 14, 15, 16, 17, 18, 19, 20, 21, 22, 23, 24, 25, 26, 27, 28, 29, 30, 31, 32, 33, 34, 35, 36, 37, 38, 39, 40, 41, 42, 43, 44, 45, 46, 47, 48, 49, 50, 51, 52, 53, 54, 55, 56, 57, 58, 60, 61, 62, 63, 64, 65, 66, 67, 68, 69, 70, 71, 72, 73, 74, 75, 76, 77, 78, 79, 80, 81, 82, 83, 84, 85, 86, 87, 88, 89, 90, 91, 92, 93, 94, 95, 96, 97, 98, 100, 101, 102, 105, 106, 107, 108, 109, 111, 112, 113, 114, 115, 116, 117, 118, 119, 120, 121, 122, 123, 124, 125, 126, 127, 128, 129, 130, 131, 132, 133, 134, 135, 136, 137, 138, 139, 140, 141, 142, 143, 144, 145, 146, 147, 148, 149, 150, 151, 152, 153, 154, 155, 156, 157, 158, 159, 160, 161, 162, 163, 164, 165, 166, 167, 168, 169, 170, 171, 173, 174, 175, 176, 177, 178, 179, 180, 181, 182, 183, 184, 185, 186, 187, 188, 189, 190, 191, 192, 193, 194, 195, 196, 197, 198, 199, 200, 201, 202, 203, 204, 205, 206, 207, 208, 209, 210, 211, 212, 213, 214, 215, 216, 217, 218, 219, 220, 221, 222, 223, 224, 225, 226, 227, 228, 229, 230, 231, 232, 233, 234, 235, 236, 237, 238, 239, 240, 241, 242, 243, 244, 245, 246, 247, 248, 249, 250, 251, 252, 253, 254, 255, 256, 257, 258, 259, 260, 261, 262, 263, 264, 265])"
      ]
     },
     "execution_count": 43,
     "metadata": {},
     "output_type": "execute_result"
    }
   ],
   "source": [
    "pickup.groupby(['PULocationID']).groups.keys()"
   ]
  },
  {
   "cell_type": "code",
   "execution_count": 44,
   "metadata": {},
   "outputs": [
    {
     "data": {
      "text/plain": [
       "259"
      ]
     },
     "execution_count": 44,
     "metadata": {},
     "output_type": "execute_result"
    }
   ],
   "source": [
    "len(pickup.groupby(['PULocationID']).groups.keys()) #we see that some zones are missing (maybe 0 taxi taken in that zone)"
   ]
  },
  {
   "cell_type": "code",
   "execution_count": 46,
   "metadata": {},
   "outputs": [
    {
     "data": {
      "text/plain": [
       "PULocationID\n",
       "1      571\n",
       "2        4\n",
       "3       37\n",
       "4    19656\n",
       "5        2\n",
       "Name: PULocationID, dtype: int64"
      ]
     },
     "execution_count": 46,
     "metadata": {},
     "output_type": "execute_result"
    }
   ],
   "source": [
    "pickupser=pickup.groupby('PULocationID')['PULocationID'].count()\n",
    "pickupser.head()"
   ]
  },
  {
   "cell_type": "code",
   "execution_count": 47,
   "metadata": {},
   "outputs": [
    {
     "data": {
      "text/html": [
       "<div>\n",
       "<style scoped>\n",
       "    .dataframe tbody tr th:only-of-type {\n",
       "        vertical-align: middle;\n",
       "    }\n",
       "\n",
       "    .dataframe tbody tr th {\n",
       "        vertical-align: top;\n",
       "    }\n",
       "\n",
       "    .dataframe thead th {\n",
       "        text-align: right;\n",
       "    }\n",
       "</style>\n",
       "<table border=\"1\" class=\"dataframe\">\n",
       "  <thead>\n",
       "    <tr style=\"text-align: right;\">\n",
       "      <th></th>\n",
       "      <th>zone</th>\n",
       "      <th>Taxitaken</th>\n",
       "    </tr>\n",
       "  </thead>\n",
       "  <tbody>\n",
       "    <tr>\n",
       "      <th>1</th>\n",
       "      <td>1</td>\n",
       "      <td>571</td>\n",
       "    </tr>\n",
       "    <tr>\n",
       "      <th>2</th>\n",
       "      <td>2</td>\n",
       "      <td>4</td>\n",
       "    </tr>\n",
       "    <tr>\n",
       "      <th>3</th>\n",
       "      <td>3</td>\n",
       "      <td>37</td>\n",
       "    </tr>\n",
       "    <tr>\n",
       "      <th>4</th>\n",
       "      <td>4</td>\n",
       "      <td>19656</td>\n",
       "    </tr>\n",
       "    <tr>\n",
       "      <th>5</th>\n",
       "      <td>5</td>\n",
       "      <td>2</td>\n",
       "    </tr>\n",
       "  </tbody>\n",
       "</table>\n",
       "</div>"
      ],
      "text/plain": [
       "   zone  Taxitaken\n",
       "1     1        571\n",
       "2     2          4\n",
       "3     3         37\n",
       "4     4      19656\n",
       "5     5          2"
      ]
     },
     "execution_count": 47,
     "metadata": {},
     "output_type": "execute_result"
    }
   ],
   "source": [
    "pickupdf=pd.DataFrame(index=list(range(1,266)),columns=[])\n",
    "pickupdf['zone']=list(range(1,266))\n",
    "counts=[]\n",
    "for i in range(1,266):\n",
    "    if i in pickupser:\n",
    "        counts.append(pickupser[i])\n",
    "    else:\n",
    "        counts.append(0)     #we need to do this check line becouse some zones are missing (maybe 0 taxi taken in that zone)\n",
    "pickupdf['Taxitaken']=counts\n",
    "pickupdf.head()"
   ]
  },
  {
   "cell_type": "markdown",
   "metadata": {},
   "source": [
    "Now he have our fixed data frame that we can use to create our fantastic Choropleth maps."
   ]
  },
  {
   "cell_type": "code",
   "execution_count": 48,
   "metadata": {},
   "outputs": [],
   "source": [
    "NYmap2 = folium.Map(\n",
    "    location=[40.7142700, -74.0059700],   #coordinates of new York\n",
    "    zoom_start=11,                        \n",
    "    tiles='CartoDB positron'              #style of our map\n",
    ")\n",
    "\n",
    "NYmap2.choropleth(\n",
    "    geo_data=geo_json_data,  #our geojson datas\n",
    "    data=pickupdf,    #our dataframe\n",
    "    columns=['zone', 'Taxitaken'],\n",
    "    key_on='feature.properties.LocationID', #the key in geojson file that we want to take as zone\n",
    "    fill_color='YlOrRd',   #the color scale that we want\n",
    "    fill_opacity=0.7,\n",
    "    line_opacity=0.2,\n",
    "    legend_name='Number of taxis taken in January',\n",
    "    highlight=True    #enable the highlight function, to enable highlight functionality when you hover over each area.\n",
    ")"
   ]
  },
  {
   "cell_type": "markdown",
   "metadata": {},
   "source": [
    "We also add some Markers in relevant places."
   ]
  },
  {
   "cell_type": "code",
   "execution_count": 50,
   "metadata": {},
   "outputs": [],
   "source": [
    "folium.Marker(\n",
    "    location=[40.7730135746, -73.8702298524],\n",
    "    popup='LaGuardia Airport',\n",
    "    icon=folium.Icon(icon='plane')\n",
    ").add_to(NYmap2)\n",
    "\n",
    "folium.Marker(\n",
    "    location=[40.6413111, -73.7781391],\n",
    "    popup='JFK airport',\n",
    "    icon=folium.Icon(icon='plane')\n",
    ").add_to(NYmap2)\n",
    "\n",
    "folium.Marker(\n",
    "    location=[40.760656, -73.984600],\n",
    "    popup='Manhattan',\n",
    "    icon=folium.Icon(color='red')\n",
    ").add_to(NYmap2)\n",
    "#unfortunatly jupyter can't load our map so we store it (and next maps)\n",
    "#in a file that we will give separatly in the folder \"Choropletmaps\"\n",
    "NYmap2.save(os.path.join('results', r\"C:\\Users\\Egon\\Desktop\\Universita\\ADM\\homework2\\dati\\NYCpickupJan.html\"))"
   ]
  },
  {
   "cell_type": "markdown",
   "metadata": {},
   "source": [
    "Now we want to do the same job but for drop location."
   ]
  },
  {
   "cell_type": "code",
   "execution_count": 51,
   "metadata": {},
   "outputs": [],
   "source": [
    "drops=M1.filter(['DOLocationID'])\n",
    "dropser=drops.groupby('DOLocationID')['DOLocationID'].count()\n",
    "dropsdf=pd.DataFrame(index=list(range(1,266)),columns=[])\n",
    "dropsdf['zone']=list(range(1,266))\n",
    "counts=[]\n",
    "for i in range(1,266):\n",
    "    if i in dropser:\n",
    "        counts.append(dropser[i])\n",
    "    else:\n",
    "        counts.append(0)     #we need to do this check becouse some zones are missing (maybe 0 taxi taken in that zone)\n",
    "dropsdf['Taxileaved']=counts\n",
    "NYmap3 = folium.Map(\n",
    "    location=[40.7142700, -74.0059700],   #coordinates of new York\n",
    "    zoom_start=11,                        \n",
    "    tiles='CartoDB positron'              #style of our map\n",
    ")\n",
    "\n",
    "NYmap3.choropleth(\n",
    "    geo_data=geo_json_data,\n",
    "    data=dropsdf,\n",
    "    columns=['zone', 'Taxileaved'],\n",
    "    key_on='feature.properties.LocationID',\n",
    "    fill_color='YlOrRd',\n",
    "    fill_opacity=0.7,\n",
    "    line_opacity=0.2,\n",
    "    legend_name='Number of taxi drops in january',\n",
    "    highlight=True    \n",
    ")\n",
    "folium.Marker(\n",
    "    location=[40.7730135746, -73.8702298524],\n",
    "    popup='LaGuardia Airport',\n",
    "    icon=folium.Icon(icon='plane')\n",
    ").add_to(NYmap3)\n",
    "\n",
    "folium.Marker(\n",
    "    location=[40.6413111, -73.7781391],\n",
    "    popup='JFK airport',\n",
    "    icon=folium.Icon(icon='plane')\n",
    ").add_to(NYmap3)\n",
    "\n",
    "folium.Marker(\n",
    "    location=[40.760656, -73.984600],\n",
    "    popup='Manhattan',\n",
    "    icon=folium.Icon(color='red')\n",
    ").add_to(NYmap3)\n",
    "NYmap3.save(os.path.join('results', r\"C:\\Users\\Egon\\Desktop\\Universita\\ADM\\homework2\\dati\\NYCdropsJan.html\"))"
   ]
  },
  {
   "cell_type": "markdown",
   "metadata": {},
   "source": [
    "## RESULTS\n",
    "\n",
    "As we can appreciate from maps, use of Yellow taxis is highly concentrated in Manhattan. This is true for taxi drops and even more for taxi pickups.\n",
    "We see that, outside Manhattan, we have two other zones where taxi are used a lot.\n",
    "\n",
    "Predictably, One is \"John Fitzgerald Kennedy International\", the other one is \"La Guardia\" airport."
   ]
  },
  {
   "cell_type": "markdown",
   "metadata": {},
   "source": [
    "To validate our results, we want more general maps that can represent all trips of 2018."
   ]
  },
  {
   "cell_type": "code",
   "execution_count": 52,
   "metadata": {},
   "outputs": [],
   "source": [
    "months=[' ','Jan','Feb','Mar','Apr','May','Jun']\n",
    "pickupTOT=pickupdf\n",
    "dropTOT=dropsdf\n",
    "for i in range(2,7):\n",
    "    M1= pd.read_csv(r\"C:\\Users\\Egon\\Desktop\\Universita\\ADM\\homework2\\dati\\yellow_tripdata_2018-0\"+str(i)+\".csv\", usecols=['DOLocationID', 'PULocationID'])\n",
    "    pickup=M1.filter(['PULocationID'])\n",
    "    pickupser=pickup.groupby('PULocationID')['PULocationID'].count()\n",
    "    counts=[]\n",
    "    for j in range(1,266):\n",
    "        if j in pickupser:\n",
    "            counts.append(pickupser[j])\n",
    "        else:\n",
    "            counts.append(0) \n",
    "    pickupTOT['Taxitaken']+=counts\n",
    "    drops=M1.filter(['DOLocationID'])\n",
    "    dropser=drops.groupby('DOLocationID')['DOLocationID'].count()\n",
    "    counts=[]\n",
    "    for idx in range(1,266):\n",
    "        if idx in dropser:\n",
    "            counts.append(dropser[idx])\n",
    "        else:\n",
    "            counts.append(0)     #we need to do this check becouse some zones are missing (maybe 0 taxi taken in that zone)\n",
    "    dropTOT['Taxileaved']+=counts"
   ]
  },
  {
   "cell_type": "code",
   "execution_count": 53,
   "metadata": {},
   "outputs": [],
   "source": [
    "NYmap2 = folium.Map(\n",
    "    location=[40.7142700, -74.0059700],   #coordinates of new York\n",
    "    zoom_start=11,                        \n",
    "    tiles='CartoDB positron'              #style of our map\n",
    ")\n",
    "\n",
    "NYmap2.choropleth(\n",
    "    geo_data=geo_json_data,  #our geojson datas\n",
    "    data=pickupTOT,    #our dataframe\n",
    "    columns=['zone', 'Taxitaken'],\n",
    "    key_on='feature.properties.LocationID', #the key in geojson file that way want to take as zone\n",
    "    fill_color='YlOrRd',   #the color scale that we want\n",
    "    fill_opacity=0.7,\n",
    "    line_opacity=0.2,\n",
    "    legend_name='Number of taxi taken in 2018',\n",
    "    highlight=True    #enable the highlight function, to enable highlight functionality when you hover over each area.\n",
    ")\n",
    "folium.Marker(\n",
    "    location=[40.7730135746, -73.8702298524],\n",
    "    popup='LaGuardia Airport',\n",
    "    icon=folium.Icon(icon='plane')\n",
    ").add_to(NYmap2)\n",
    "\n",
    "folium.Marker(\n",
    "    location=[40.6413111, -73.7781391],\n",
    "    popup='JFK airport',\n",
    "    icon=folium.Icon(icon='plane')\n",
    ").add_to(NYmap2)\n",
    "\n",
    "folium.Marker(\n",
    "    location=[40.760656, -73.984600],\n",
    "    popup='Manhattan',\n",
    "    icon=folium.Icon(color='red')\n",
    ").add_to(NYmap2)\n",
    "#unfortunatly jupyter can't load our map so we store it in a file that we will give separatly\n",
    "NYmap2.save(os.path.join('results', r\"C:\\Users\\Egon\\Desktop\\Universita\\ADM\\homework2\\dati\\NYCpickup2018.html\"))"
   ]
  },
  {
   "cell_type": "code",
   "execution_count": 54,
   "metadata": {},
   "outputs": [],
   "source": [
    "NYmap3 = folium.Map(\n",
    "    location=[40.7142700, -74.0059700],   #coordinates of new York\n",
    "    zoom_start=11,                        \n",
    "    tiles='CartoDB positron'              #style of our map\n",
    ")\n",
    "\n",
    "NYmap3.choropleth(\n",
    "    geo_data=geo_json_data,\n",
    "    data=dropTOT,\n",
    "    columns=['zone', 'Taxileaved'],\n",
    "    key_on='feature.properties.LocationID',\n",
    "    fill_color='YlOrRd',\n",
    "    fill_opacity=0.7,\n",
    "    line_opacity=0.2,\n",
    "    legend_name='Number of taxi drops in 2018',\n",
    "    highlight=True    \n",
    ")\n",
    "folium.Marker(\n",
    "    location=[40.7730135746, -73.8702298524],\n",
    "    popup='LaGuardia Airport',\n",
    "    icon=folium.Icon(icon='plane')\n",
    ").add_to(NYmap3)\n",
    "\n",
    "folium.Marker(\n",
    "    location=[40.6413111, -73.7781391],\n",
    "    popup='JFK airport',\n",
    "    icon=folium.Icon(icon='plane')\n",
    ").add_to(NYmap3)\n",
    "\n",
    "folium.Marker(\n",
    "    location=[40.760656, -73.984600],\n",
    "    popup='Manhattan',\n",
    "    icon=folium.Icon(color='red')\n",
    ").add_to(NYmap3)\n",
    "#unfortunatly jupyter can't load our map so we store it in a file that we will give separatly\n",
    "NYmap3.save(os.path.join('results', r\"C:\\Users\\Egon\\Desktop\\Universita\\ADM\\homework2\\dati\\NYCdrops2018.html\"))"
   ]
  },
  {
   "cell_type": "markdown",
   "metadata": {},
   "source": [
    "We see that we obtain same results of january, so conclusions stay the same."
   ]
  },
  {
   "cell_type": "markdown",
   "metadata": {},
   "source": [
    "### RQ2\n",
    "###### What are the time slots with more passengers? Set your own time slots and discover which are those when Taxis drive the highest number of passengers overall New York and repeat the analysis for each borough. Provide the results through a visualization and comment them."
   ]
  },
  {
   "cell_type": "markdown",
   "metadata": {},
   "source": [
    "We choose the departure boroughs. \n",
    "\n",
    "We know prior which columns of the dataset we need so by using usecols while reading .csv files, try to save some memory."
   ]
  },
  {
   "cell_type": "code",
   "execution_count": 48,
   "metadata": {},
   "outputs": [],
   "source": [
    "df = pd.read_csv(r\"C:\\Users\\Egon\\Desktop\\Universita\\ADM\\homework2\\dati\\yellow_tripdata_2018-01.csv\", usecols = ['tpep_pickup_datetime','passenger_count', 'PULocationID'])"
   ]
  },
  {
   "cell_type": "code",
   "execution_count": 49,
   "metadata": {},
   "outputs": [
    {
     "name": "stdout",
     "output_type": "stream",
     "text": [
      "<class 'pandas.core.frame.DataFrame'>\n",
      "RangeIndex: 8759874 entries, 0 to 8759873\n",
      "Data columns (total 3 columns):\n",
      "tpep_pickup_datetime    object\n",
      "passenger_count         int64\n",
      "PULocationID            int64\n",
      "dtypes: int64(2), object(1)\n",
      "memory usage: 768.6 MB\n"
     ]
    }
   ],
   "source": [
    "df.info(memory_usage='deep')"
   ]
  },
  {
   "cell_type": "markdown",
   "metadata": {},
   "source": [
    "###### Data Cleaning\n",
    "\n",
    "We have already done a bit of data cleaning; At the time of loading the dataset, by filtering these columns:['tpep_pickup_datetime', 'passenger_count', 'PULocationID'].\n",
    "\n",
    "We know the contet of the dataset prior, so we keep those columns that we will use for this certain question."
   ]
  },
  {
   "cell_type": "code",
   "execution_count": 50,
   "metadata": {},
   "outputs": [
    {
     "data": {
      "text/plain": [
       "False"
      ]
     },
     "execution_count": 50,
     "metadata": {},
     "output_type": "execute_result"
    }
   ],
   "source": [
    "#Check if there are any NaN values\n",
    "df.isnull().any().any()"
   ]
  },
  {
   "cell_type": "markdown",
   "metadata": {},
   "source": [
    "'tpep_pickup_datetime' is of Object type. we need to convert it into datetime. This saves memory(average memory usage of an object type is 9.5 mb\n"
   ]
  },
  {
   "cell_type": "code",
   "execution_count": 51,
   "metadata": {},
   "outputs": [],
   "source": [
    "df['tpep_pickup_datetime'] = pd.to_datetime(df['tpep_pickup_datetime'])"
   ]
  },
  {
   "cell_type": "markdown",
   "metadata": {},
   "source": [
    "We have two numeric collumns of subtype int64\n",
    "One is 'passenger_count'. This columns contains positve numbers and they are supposed to between 1 and 6\n",
    "The other column is the Zone numbers, 'PULocationID' which again are positive numbers between 1 and 265 (according to taxi_zone lookup table data)\n",
    "To save these numbers another integer suntyoe which uses less memory can be used too: uint8 and uint16.\n",
    "These two save 1 and 2 bytes respectively, compared to int64 that uses 8 bytes per number. "
   ]
  },
  {
   "cell_type": "code",
   "execution_count": 52,
   "metadata": {},
   "outputs": [],
   "source": [
    "df['passenger_count'] = df['passenger_count'].astype(np.uint8)\n",
    "df['PULocationID'] = df['PULocationID'].astype(np.uint16)"
   ]
  },
  {
   "cell_type": "code",
   "execution_count": 53,
   "metadata": {},
   "outputs": [
    {
     "name": "stdout",
     "output_type": "stream",
     "text": [
      "<class 'pandas.core.frame.DataFrame'>\n",
      "RangeIndex: 8759874 entries, 0 to 8759873\n",
      "Data columns (total 3 columns):\n",
      "tpep_pickup_datetime    datetime64[ns]\n",
      "passenger_count         uint8\n",
      "PULocationID            uint16\n",
      "dtypes: datetime64[ns](1), uint16(1), uint8(1)\n",
      "memory usage: 91.9 MB\n"
     ]
    }
   ],
   "source": [
    "df.info(memory_usage='deep')"
   ]
  },
  {
   "cell_type": "markdown",
   "metadata": {},
   "source": [
    "Much better!"
   ]
  },
  {
   "cell_type": "markdown",
   "metadata": {},
   "source": [
    "###### Datetime"
   ]
  },
  {
   "cell_type": "markdown",
   "metadata": {},
   "source": [
    " Extract year and month to check if each row contains the right values: year 2018 and month 1(January). \n",
    " \n",
    " Extract hour in order to create the time slots."
   ]
  },
  {
   "cell_type": "code",
   "execution_count": 54,
   "metadata": {},
   "outputs": [],
   "source": [
    "\n",
    "df['Year'] = pd.DatetimeIndex(df['tpep_pickup_datetime']).year #for the sake of data cleaning\n",
    "df['Month'] = pd.DatetimeIndex(df['tpep_pickup_datetime']).month #for the sake of data cleaning. We will keep this column. We need it after merging all the months together\n",
    "df['Day'] = pd.DatetimeIndex(df['tpep_pickup_datetime']).day #for the sake of data cleaning. \n",
    "df['Hour'] = pd.DatetimeIndex(df['tpep_pickup_datetime']).hour #to create time slots\n",
    "df.drop(columns=['tpep_pickup_datetime'], inplace=True)"
   ]
  },
  {
   "cell_type": "code",
   "execution_count": 55,
   "metadata": {
    "scrolled": true
   },
   "outputs": [
    {
     "data": {
      "text/html": [
       "<div>\n",
       "<style scoped>\n",
       "    .dataframe tbody tr th:only-of-type {\n",
       "        vertical-align: middle;\n",
       "    }\n",
       "\n",
       "    .dataframe tbody tr th {\n",
       "        vertical-align: top;\n",
       "    }\n",
       "\n",
       "    .dataframe thead th {\n",
       "        text-align: right;\n",
       "    }\n",
       "</style>\n",
       "<table border=\"1\" class=\"dataframe\">\n",
       "  <thead>\n",
       "    <tr style=\"text-align: right;\">\n",
       "      <th></th>\n",
       "      <th>passenger_count</th>\n",
       "      <th>PULocationID</th>\n",
       "      <th>Year</th>\n",
       "      <th>Month</th>\n",
       "      <th>Day</th>\n",
       "      <th>Hour</th>\n",
       "    </tr>\n",
       "  </thead>\n",
       "  <tbody>\n",
       "    <tr>\n",
       "      <th>0</th>\n",
       "      <td>1</td>\n",
       "      <td>41</td>\n",
       "      <td>2018</td>\n",
       "      <td>1</td>\n",
       "      <td>1</td>\n",
       "      <td>0</td>\n",
       "    </tr>\n",
       "    <tr>\n",
       "      <th>1</th>\n",
       "      <td>1</td>\n",
       "      <td>239</td>\n",
       "      <td>2018</td>\n",
       "      <td>1</td>\n",
       "      <td>1</td>\n",
       "      <td>0</td>\n",
       "    </tr>\n",
       "    <tr>\n",
       "      <th>2</th>\n",
       "      <td>2</td>\n",
       "      <td>262</td>\n",
       "      <td>2018</td>\n",
       "      <td>1</td>\n",
       "      <td>1</td>\n",
       "      <td>0</td>\n",
       "    </tr>\n",
       "    <tr>\n",
       "      <th>3</th>\n",
       "      <td>1</td>\n",
       "      <td>140</td>\n",
       "      <td>2018</td>\n",
       "      <td>1</td>\n",
       "      <td>1</td>\n",
       "      <td>0</td>\n",
       "    </tr>\n",
       "    <tr>\n",
       "      <th>4</th>\n",
       "      <td>2</td>\n",
       "      <td>246</td>\n",
       "      <td>2018</td>\n",
       "      <td>1</td>\n",
       "      <td>1</td>\n",
       "      <td>0</td>\n",
       "    </tr>\n",
       "  </tbody>\n",
       "</table>\n",
       "</div>"
      ],
      "text/plain": [
       "   passenger_count  PULocationID  Year  Month  Day  Hour\n",
       "0                1            41  2018      1    1     0\n",
       "1                1           239  2018      1    1     0\n",
       "2                2           262  2018      1    1     0\n",
       "3                1           140  2018      1    1     0\n",
       "4                2           246  2018      1    1     0"
      ]
     },
     "execution_count": 55,
     "metadata": {},
     "output_type": "execute_result"
    }
   ],
   "source": [
    "df.head()\n"
   ]
  },
  {
   "cell_type": "code",
   "execution_count": 56,
   "metadata": {},
   "outputs": [],
   "source": [
    "df['Year'] = df['Year'].astype(np.uint16)\n",
    "df['Month'] = df['Month'].astype(np.uint8)\n",
    "df['Day'] = df['Day'].astype(np.uint8)\n",
    "df['Hour'] = df['Hour'].astype(np.uint8)"
   ]
  },
  {
   "cell_type": "markdown",
   "metadata": {},
   "source": [
    "Doing some data cleaning: checking to see if year=2018, Month=1, 1<=day<=31 and 0<=hour<=23"
   ]
  },
  {
   "cell_type": "code",
   "execution_count": 57,
   "metadata": {},
   "outputs": [
    {
     "data": {
      "text/plain": [
       "array([2018, 2017, 2002, 2008, 2009, 2001, 2003], dtype=uint64)"
      ]
     },
     "execution_count": 57,
     "metadata": {},
     "output_type": "execute_result"
    }
   ],
   "source": [
    "df.Year.unique()"
   ]
  },
  {
   "cell_type": "code",
   "execution_count": 58,
   "metadata": {},
   "outputs": [],
   "source": [
    "years=list(df.Year.unique())\n",
    "for i in years:\n",
    "    if i != 2018:\n",
    "        df.drop(df[(df.Year == i)].index, inplace=True)"
   ]
  },
  {
   "cell_type": "code",
   "execution_count": 59,
   "metadata": {},
   "outputs": [],
   "source": [
    "Monthz=list(df.Month.unique())\n",
    "for i in Monthz:\n",
    "    if i != 1:\n",
    "        df.drop(df[(df.Month == i)].index, inplace=True )\n"
   ]
  },
  {
   "cell_type": "markdown",
   "metadata": {},
   "source": [
    "We checked also Day and Hour, and our column seems fine."
   ]
  },
  {
   "cell_type": "code",
   "execution_count": 60,
   "metadata": {},
   "outputs": [],
   "source": [
    "#Check the Day column\n",
    "#df.groupby('Day').count()\n",
    "#sorted(df['Day'].unique())\n",
    "#Day column seems alright\n",
    "#We check the hour column\n",
    "#df.groupby('Hour').count()\n",
    "#sorted(df.Hour.unique())"
   ]
  },
  {
   "cell_type": "markdown",
   "metadata": {},
   "source": [
    "Now based on our Research question in hand(RQ2), we won't need these columns: Year, Month and Day so we drop them"
   ]
  },
  {
   "cell_type": "code",
   "execution_count": 61,
   "metadata": {},
   "outputs": [],
   "source": [
    "df.drop(['Day', 'Year', 'Month'], axis=1, inplace=True)"
   ]
  },
  {
   "cell_type": "code",
   "execution_count": 62,
   "metadata": {},
   "outputs": [
    {
     "data": {
      "text/html": [
       "<div>\n",
       "<style scoped>\n",
       "    .dataframe tbody tr th:only-of-type {\n",
       "        vertical-align: middle;\n",
       "    }\n",
       "\n",
       "    .dataframe tbody tr th {\n",
       "        vertical-align: top;\n",
       "    }\n",
       "\n",
       "    .dataframe thead th {\n",
       "        text-align: right;\n",
       "    }\n",
       "</style>\n",
       "<table border=\"1\" class=\"dataframe\">\n",
       "  <thead>\n",
       "    <tr style=\"text-align: right;\">\n",
       "      <th></th>\n",
       "      <th>passenger_count</th>\n",
       "      <th>PULocationID</th>\n",
       "      <th>Hour</th>\n",
       "    </tr>\n",
       "  </thead>\n",
       "  <tbody>\n",
       "    <tr>\n",
       "      <th>0</th>\n",
       "      <td>1</td>\n",
       "      <td>41</td>\n",
       "      <td>0</td>\n",
       "    </tr>\n",
       "    <tr>\n",
       "      <th>1</th>\n",
       "      <td>1</td>\n",
       "      <td>239</td>\n",
       "      <td>0</td>\n",
       "    </tr>\n",
       "    <tr>\n",
       "      <th>2</th>\n",
       "      <td>2</td>\n",
       "      <td>262</td>\n",
       "      <td>0</td>\n",
       "    </tr>\n",
       "    <tr>\n",
       "      <th>3</th>\n",
       "      <td>1</td>\n",
       "      <td>140</td>\n",
       "      <td>0</td>\n",
       "    </tr>\n",
       "    <tr>\n",
       "      <th>4</th>\n",
       "      <td>2</td>\n",
       "      <td>246</td>\n",
       "      <td>0</td>\n",
       "    </tr>\n",
       "  </tbody>\n",
       "</table>\n",
       "</div>"
      ],
      "text/plain": [
       "   passenger_count  PULocationID  Hour\n",
       "0                1            41     0\n",
       "1                1           239     0\n",
       "2                2           262     0\n",
       "3                1           140     0\n",
       "4                2           246     0"
      ]
     },
     "execution_count": 62,
     "metadata": {},
     "output_type": "execute_result"
    }
   ],
   "source": [
    "df.head()"
   ]
  },
  {
   "cell_type": "markdown",
   "metadata": {},
   "source": [
    "Passenger_count gives us the number of passenger in each car.\n",
    "\n",
    "We go about cleaning this column based on this information presented in the yellow taxi's website:\n",
    "\"The maximum number of passengers allowed in a yellow taxicab by law is four (4) in a four (4) passenger taxicab or\n",
    "five (5) passengers in a five (5) passenger taxicab, except that an additional passenger must be accepted if such passenger is under the age of seven (7) and is held on the lap of an adult passenger seated in the rear.\"\n",
    "\n",
    "So, we see that 1<=passenger count<=6\n"
   ]
  },
  {
   "cell_type": "code",
   "execution_count": 63,
   "metadata": {},
   "outputs": [
    {
     "data": {
      "text/plain": [
       "array([1, 2, 3, 5, 4, 6, 0, 7, 8, 9], dtype=uint64)"
      ]
     },
     "execution_count": 63,
     "metadata": {},
     "output_type": "execute_result"
    }
   ],
   "source": [
    "df['passenger_count'].unique()"
   ]
  },
  {
   "cell_type": "code",
   "execution_count": 64,
   "metadata": {},
   "outputs": [],
   "source": [
    "#We drop those rows with values >=7 and 0\n",
    "passe=list(df['passenger_count'].unique())\n",
    "ok=[1,2,3,4,5,6]\n",
    "for i in passe:\n",
    "    if i not in ok:\n",
    "        df.drop(df[(df.passenger_count == i)].index, inplace=True)"
   ]
  },
  {
   "cell_type": "markdown",
   "metadata": {},
   "source": [
    "###### Merge two datasets"
   ]
  },
  {
   "cell_type": "code",
   "execution_count": 65,
   "metadata": {},
   "outputs": [],
   "source": [
    "df2= pd.read_csv(r\"C:\\Users\\Egon\\Desktop\\Universita\\ADM\\homework2\\dati\\taxi_zone_lookup.csv\", usecols=['LocationID', 'Borough'])\n",
    "result = pd.merge(df,\n",
    "                 df2,\n",
    "                 left_on='PULocationID',\n",
    "                 right_on='LocationID',\n",
    "                 how='inner' \n",
    "                 )\n",
    "del df\n",
    "del df2"
   ]
  },
  {
   "cell_type": "code",
   "execution_count": 66,
   "metadata": {},
   "outputs": [
    {
     "data": {
      "text/html": [
       "<div>\n",
       "<style scoped>\n",
       "    .dataframe tbody tr th:only-of-type {\n",
       "        vertical-align: middle;\n",
       "    }\n",
       "\n",
       "    .dataframe tbody tr th {\n",
       "        vertical-align: top;\n",
       "    }\n",
       "\n",
       "    .dataframe thead th {\n",
       "        text-align: right;\n",
       "    }\n",
       "</style>\n",
       "<table border=\"1\" class=\"dataframe\">\n",
       "  <thead>\n",
       "    <tr style=\"text-align: right;\">\n",
       "      <th></th>\n",
       "      <th>passenger_count</th>\n",
       "      <th>Hour</th>\n",
       "      <th>Borough</th>\n",
       "    </tr>\n",
       "  </thead>\n",
       "  <tbody>\n",
       "    <tr>\n",
       "      <th>0</th>\n",
       "      <td>1</td>\n",
       "      <td>0</td>\n",
       "      <td>Manhattan</td>\n",
       "    </tr>\n",
       "    <tr>\n",
       "      <th>1</th>\n",
       "      <td>1</td>\n",
       "      <td>0</td>\n",
       "      <td>Manhattan</td>\n",
       "    </tr>\n",
       "    <tr>\n",
       "      <th>2</th>\n",
       "      <td>2</td>\n",
       "      <td>0</td>\n",
       "      <td>Manhattan</td>\n",
       "    </tr>\n",
       "    <tr>\n",
       "      <th>3</th>\n",
       "      <td>1</td>\n",
       "      <td>0</td>\n",
       "      <td>Manhattan</td>\n",
       "    </tr>\n",
       "    <tr>\n",
       "      <th>4</th>\n",
       "      <td>1</td>\n",
       "      <td>0</td>\n",
       "      <td>Manhattan</td>\n",
       "    </tr>\n",
       "  </tbody>\n",
       "</table>\n",
       "</div>"
      ],
      "text/plain": [
       "   passenger_count  Hour    Borough\n",
       "0                1     0  Manhattan\n",
       "1                1     0  Manhattan\n",
       "2                2     0  Manhattan\n",
       "3                1     0  Manhattan\n",
       "4                1     0  Manhattan"
      ]
     },
     "execution_count": 66,
     "metadata": {},
     "output_type": "execute_result"
    }
   ],
   "source": [
    "result.drop(['PULocationID', 'LocationID'], axis =1, inplace=True)\n",
    "result.head()"
   ]
  },
  {
   "cell_type": "markdown",
   "metadata": {},
   "source": [
    "Checking the Boroughs.\n",
    "\n",
    "In NYC, there are six boroughs: Bronx, Brooklyn, Manhattan, Staten Island, Queens.\n",
    "\n",
    "We see two unexpected names in Broughs category: EWR which is an airport near Queens and Unknown.\n",
    "\n",
    "We drop the rows with borough=Unknown or borough=EWR.\n"
   ]
  },
  {
   "cell_type": "code",
   "execution_count": 67,
   "metadata": {},
   "outputs": [],
   "source": [
    "result.drop(result[(result.Borough == 'EWR') | (result.Borough == 'Unknown')].index, inplace=True)"
   ]
  },
  {
   "cell_type": "markdown",
   "metadata": {},
   "source": [
    "###### Setting Time-slots"
   ]
  },
  {
   "cell_type": "code",
   "execution_count": 68,
   "metadata": {},
   "outputs": [],
   "source": [
    "#To define a time slot (and labeling it) we use pandas function .cut (pd.cut())\n",
    "result=result.assign(\n",
    "    timeSlot=pd.cut(\n",
    "        result['Hour'],\n",
    "        [-1,4, 8, 12, 16, 20, 23],\n",
    "        labels=['0-4','4-8', '8-12', '12-16', '16-20', '20-23']))\n",
    "\n",
    "result.drop(['Hour'], axis=1, inplace=True)"
   ]
  },
  {
   "cell_type": "code",
   "execution_count": 69,
   "metadata": {},
   "outputs": [
    {
     "data": {
      "text/html": [
       "<div>\n",
       "<style scoped>\n",
       "    .dataframe tbody tr th:only-of-type {\n",
       "        vertical-align: middle;\n",
       "    }\n",
       "\n",
       "    .dataframe tbody tr th {\n",
       "        vertical-align: top;\n",
       "    }\n",
       "\n",
       "    .dataframe thead th {\n",
       "        text-align: right;\n",
       "    }\n",
       "</style>\n",
       "<table border=\"1\" class=\"dataframe\">\n",
       "  <thead>\n",
       "    <tr style=\"text-align: right;\">\n",
       "      <th></th>\n",
       "      <th></th>\n",
       "      <th>passenger_count</th>\n",
       "    </tr>\n",
       "    <tr>\n",
       "      <th>timeSlot</th>\n",
       "      <th>Borough</th>\n",
       "      <th></th>\n",
       "    </tr>\n",
       "  </thead>\n",
       "  <tbody>\n",
       "    <tr>\n",
       "      <th rowspan=\"5\" valign=\"top\">0-4</th>\n",
       "      <th>Bronx</th>\n",
       "      <td>2067.0</td>\n",
       "    </tr>\n",
       "    <tr>\n",
       "      <th>Brooklyn</th>\n",
       "      <td>35331.0</td>\n",
       "    </tr>\n",
       "    <tr>\n",
       "      <th>Manhattan</th>\n",
       "      <td>1148146.0</td>\n",
       "    </tr>\n",
       "    <tr>\n",
       "      <th>Queens</th>\n",
       "      <td>70249.0</td>\n",
       "    </tr>\n",
       "    <tr>\n",
       "      <th>Staten Island</th>\n",
       "      <td>47.0</td>\n",
       "    </tr>\n",
       "    <tr>\n",
       "      <th rowspan=\"5\" valign=\"top\">4-8</th>\n",
       "      <th>Bronx</th>\n",
       "      <td>2370.0</td>\n",
       "    </tr>\n",
       "    <tr>\n",
       "      <th>Brooklyn</th>\n",
       "      <td>26582.0</td>\n",
       "    </tr>\n",
       "    <tr>\n",
       "      <th>Manhattan</th>\n",
       "      <td>1458062.0</td>\n",
       "    </tr>\n",
       "    <tr>\n",
       "      <th>Queens</th>\n",
       "      <td>94200.0</td>\n",
       "    </tr>\n",
       "    <tr>\n",
       "      <th>Staten Island</th>\n",
       "      <td>25.0</td>\n",
       "    </tr>\n",
       "    <tr>\n",
       "      <th rowspan=\"5\" valign=\"top\">8-12</th>\n",
       "      <th>Bronx</th>\n",
       "      <td>2122.0</td>\n",
       "    </tr>\n",
       "    <tr>\n",
       "      <th>Brooklyn</th>\n",
       "      <td>19116.0</td>\n",
       "    </tr>\n",
       "    <tr>\n",
       "      <th>Manhattan</th>\n",
       "      <td>2479102.0</td>\n",
       "    </tr>\n",
       "    <tr>\n",
       "      <th>Queens</th>\n",
       "      <td>142518.0</td>\n",
       "    </tr>\n",
       "    <tr>\n",
       "      <th>Staten Island</th>\n",
       "      <td>25.0</td>\n",
       "    </tr>\n",
       "    <tr>\n",
       "      <th rowspan=\"5\" valign=\"top\">12-16</th>\n",
       "      <th>Bronx</th>\n",
       "      <td>2106.0</td>\n",
       "    </tr>\n",
       "    <tr>\n",
       "      <th>Brooklyn</th>\n",
       "      <td>19275.0</td>\n",
       "    </tr>\n",
       "    <tr>\n",
       "      <th>Manhattan</th>\n",
       "      <td>2754304.0</td>\n",
       "    </tr>\n",
       "    <tr>\n",
       "      <th>Queens</th>\n",
       "      <td>200724.0</td>\n",
       "    </tr>\n",
       "    <tr>\n",
       "      <th>Staten Island</th>\n",
       "      <td>40.0</td>\n",
       "    </tr>\n",
       "    <tr>\n",
       "      <th rowspan=\"5\" valign=\"top\">16-20</th>\n",
       "      <th>Bronx</th>\n",
       "      <td>1721.0</td>\n",
       "    </tr>\n",
       "    <tr>\n",
       "      <th>Brooklyn</th>\n",
       "      <td>29313.0</td>\n",
       "    </tr>\n",
       "    <tr>\n",
       "      <th>Manhattan</th>\n",
       "      <td>3127591.0</td>\n",
       "    </tr>\n",
       "    <tr>\n",
       "      <th>Queens</th>\n",
       "      <td>202669.0</td>\n",
       "    </tr>\n",
       "    <tr>\n",
       "      <th>Staten Island</th>\n",
       "      <td>70.0</td>\n",
       "    </tr>\n",
       "    <tr>\n",
       "      <th rowspan=\"5\" valign=\"top\">20-23</th>\n",
       "      <th>Bronx</th>\n",
       "      <td>1118.0</td>\n",
       "    </tr>\n",
       "    <tr>\n",
       "      <th>Brooklyn</th>\n",
       "      <td>30204.0</td>\n",
       "    </tr>\n",
       "    <tr>\n",
       "      <th>Manhattan</th>\n",
       "      <td>1854255.0</td>\n",
       "    </tr>\n",
       "    <tr>\n",
       "      <th>Queens</th>\n",
       "      <td>144920.0</td>\n",
       "    </tr>\n",
       "    <tr>\n",
       "      <th>Staten Island</th>\n",
       "      <td>26.0</td>\n",
       "    </tr>\n",
       "  </tbody>\n",
       "</table>\n",
       "</div>"
      ],
      "text/plain": [
       "                        passenger_count\n",
       "timeSlot Borough                       \n",
       "0-4      Bronx                   2067.0\n",
       "         Brooklyn               35331.0\n",
       "         Manhattan            1148146.0\n",
       "         Queens                 70249.0\n",
       "         Staten Island             47.0\n",
       "4-8      Bronx                   2370.0\n",
       "         Brooklyn               26582.0\n",
       "         Manhattan            1458062.0\n",
       "         Queens                 94200.0\n",
       "         Staten Island             25.0\n",
       "8-12     Bronx                   2122.0\n",
       "         Brooklyn               19116.0\n",
       "         Manhattan            2479102.0\n",
       "         Queens                142518.0\n",
       "         Staten Island             25.0\n",
       "12-16    Bronx                   2106.0\n",
       "         Brooklyn               19275.0\n",
       "         Manhattan            2754304.0\n",
       "         Queens                200724.0\n",
       "         Staten Island             40.0\n",
       "16-20    Bronx                   1721.0\n",
       "         Brooklyn               29313.0\n",
       "         Manhattan            3127591.0\n",
       "         Queens                202669.0\n",
       "         Staten Island             70.0\n",
       "20-23    Bronx                   1118.0\n",
       "         Brooklyn               30204.0\n",
       "         Manhattan            1854255.0\n",
       "         Queens                144920.0\n",
       "         Staten Island             26.0"
      ]
     },
     "execution_count": 69,
     "metadata": {},
     "output_type": "execute_result"
    }
   ],
   "source": [
    "result.groupby(['timeSlot', 'Borough']).sum()"
   ]
  },
  {
   "cell_type": "code",
   "execution_count": 70,
   "metadata": {},
   "outputs": [
    {
     "data": {
      "text/plain": [
       "<matplotlib.axes._subplots.AxesSubplot at 0x1f609372f28>"
      ]
     },
     "execution_count": 70,
     "metadata": {},
     "output_type": "execute_result"
    },
    {
     "data": {
      "image/png": "[encoded data removed]",
      "text/plain": [
       "<Figure size 1080x504 with 1 Axes>"
      ]
     },
     "metadata": {},
     "output_type": "display_data"
    }
   ],
   "source": [
    "s= result.groupby(['Borough','timeSlot']).sum()\n",
    "s.plot.bar(figsize=(15,7))"
   ]
  },
  {
   "cell_type": "code",
   "execution_count": 71,
   "metadata": {},
   "outputs": [],
   "source": [
    "trasp=s.T"
   ]
  },
  {
   "cell_type": "code",
   "execution_count": 75,
   "metadata": {},
   "outputs": [
    {
     "data": {
      "text/plain": [
       "<matplotlib.axes._subplots.AxesSubplot at 0x1f62d157978>"
      ]
     },
     "execution_count": 75,
     "metadata": {},
     "output_type": "execute_result"
    },
    {
     "data": {
      "image/png": "[encoded data removed]",
      "text/plain": [
       "<Figure size 360x360 with 1 Axes>"
      ]
     },
     "metadata": {},
     "output_type": "display_data"
    },
    {
     "data": {
      "image/png": "[encoded data removed]",
      "text/plain": [
       "<Figure size 360x360 with 1 Axes>"
      ]
     },
     "metadata": {},
     "output_type": "display_data"
    },
    {
     "data": {
      "image/png": "[encoded data removed]",
      "text/plain": [
       "<Figure size 360x360 with 1 Axes>"
      ]
     },
     "metadata": {},
     "output_type": "display_data"
    },
    {
     "data": {
      "image/png": "[encoded data removed]",
      "text/plain": [
       "<Figure size 360x360 with 1 Axes>"
      ]
     },
     "metadata": {},
     "output_type": "display_data"
    }
   ],
   "source": [
    "trasp.Bronx.plot.bar(title= 'Bronx',figsize=(5,5))\n",
    "trasp.Brooklyn.plot.bar(title= 'Brooklyn',figsize=(5,5))\n",
    "trasp.Manhattan.plot.bar(title= 'Manhattan',figsize=(5,5))\n",
    "trasp.Queens.plot.bar(title= 'Queens',figsize=(5,5))\n",
    "#Staten Island has very few data so we don't plot it, it's not statistically relevant"
   ]
  },
  {
   "cell_type": "code",
   "execution_count": 79,
   "metadata": {},
   "outputs": [],
   "source": [
    "resultTOT=s\n"
   ]
  },
  {
   "cell_type": "code",
   "execution_count": 83,
   "metadata": {
    "scrolled": true
   },
   "outputs": [],
   "source": [
    "for i in range(2,7):\n",
    "    df= pd.read_csv(r\"C:\\Users\\Egon\\Desktop\\Universita\\ADM\\homework2\\dati\\yellow_tripdata_2018-0\"+str(i)+\".csv\", usecols = ['tpep_pickup_datetime','passenger_count', 'PULocationID'])\n",
    "    df['tpep_pickup_datetime'] = pd.to_datetime(df['tpep_pickup_datetime'])\n",
    "    df['passenger_count'] = df['passenger_count'].astype(np.uint8)\n",
    "    df['PULocationID'] = df['PULocationID'].astype(np.uint16)\n",
    "    df['Year'] = pd.DatetimeIndex(df['tpep_pickup_datetime']).year #for the sake of data cleaning\n",
    "    df['Month'] = pd.DatetimeIndex(df['tpep_pickup_datetime']).month #for the sake of data cleaning. We will keep this column. We need it after merging all the months together\n",
    "    df['Day'] = pd.DatetimeIndex(df['tpep_pickup_datetime']).day #for the sake of data cleaning. \n",
    "    df['Hour'] = pd.DatetimeIndex(df['tpep_pickup_datetime']).hour #to create time slots\n",
    "    df.drop(columns=['tpep_pickup_datetime'], inplace=True)\n",
    "    df['Year'] = df['Year'].astype(np.uint16)\n",
    "    df['Month'] = df['Month'].astype(np.uint8)\n",
    "    df['Day'] = df['Day'].astype(np.uint8)\n",
    "    df['Hour'] = df['Hour'].astype(np.uint8)\n",
    "    years=list(df.Year.unique())\n",
    "    for j in years:\n",
    "        if j != 2018:\n",
    "            df.drop(df[(df.Year == j)].index, inplace=True)\n",
    "    Monthz=list(df.Month.unique())\n",
    "    for k in Monthz:\n",
    "        if k != i:\n",
    "            df.drop(df[(df.Month == k)].index, inplace=True )\n",
    "    df.drop(['Day', 'Year', 'Month'], axis=1, inplace=True)\n",
    "    passe=list(df['passenger_count'].unique())\n",
    "    ok=[1,2,3,4,5,6]\n",
    "    for i in passe:\n",
    "        if i not in ok:\n",
    "            df.drop(df[(df.passenger_count == i)].index, inplace=True)\n",
    "    df2= pd.read_csv(r\"C:\\Users\\Egon\\Desktop\\Universita\\ADM\\homework2\\dati\\taxi_zone_lookup.csv\", usecols=['LocationID', 'Borough'])\n",
    "    result = pd.merge(df,\n",
    "                 df2,\n",
    "                 left_on='PULocationID',\n",
    "                 right_on='LocationID',\n",
    "                 how='inner' \n",
    "                 )\n",
    "    del df\n",
    "    del df2\n",
    "    result.drop(['PULocationID', 'LocationID'], axis =1, inplace=True)\n",
    "    result=result.assign(\n",
    "    timeSlot=pd.cut(\n",
    "        result['Hour'],\n",
    "        [-1,4, 8, 12, 16, 20, 23],\n",
    "        labels=['0-4','4-8', '8-12', '12-16', '16-20', '20-23']))\n",
    "    result.drop(['Hour'], axis=1, inplace=True)\n",
    "    s+= result.groupby(['Borough','timeSlot']).sum()\n",
    "    "
   ]
  },
  {
   "cell_type": "code",
   "execution_count": 85,
   "metadata": {},
   "outputs": [
    {
     "data": {
      "text/plain": [
       "<matplotlib.axes._subplots.AxesSubplot at 0x1f60937ad68>"
      ]
     },
     "execution_count": 85,
     "metadata": {},
     "output_type": "execute_result"
    },
    {
     "data": {
      "image/png": "[encoded data removed]",
      "text/plain": [
       "<Figure size 360x360 with 1 Axes>"
      ]
     },
     "metadata": {},
     "output_type": "display_data"
    },
    {
     "data": {
      "image/png": "[encoded data removed]",
      "text/plain": [
       "<Figure size 360x360 with 1 Axes>"
      ]
     },
     "metadata": {},
     "output_type": "display_data"
    },
    {
     "data": {
      "image/png": "[encoded data removed]",
      "text/plain": [
       "<Figure size 360x360 with 1 Axes>"
      ]
     },
     "metadata": {},
     "output_type": "display_data"
    },
    {
     "data": {
      "image/png": "[encoded data removed]",
      "text/plain": [
       "<Figure size 360x360 with 1 Axes>"
      ]
     },
     "metadata": {},
     "output_type": "display_data"
    }
   ],
   "source": [
    "trasp=s.T\n",
    "trasp.Bronx.plot.bar(title= 'Bronx',figsize=(5,5))\n",
    "trasp.Brooklyn.plot.bar(title= 'Brooklyn',figsize=(5,5))\n",
    "trasp.Manhattan.plot.bar(title= 'Manhattan',figsize=(5,5))\n",
    "trasp.Queens.plot.bar(title= 'Queens',figsize=(5,5))"
   ]
  },
  {
   "cell_type": "code",
   "execution_count": null,
   "metadata": {},
   "outputs": [],
   "source": []
  }
 ],
 "metadata": {
  "kernelspec": {
   "display_name": "Python 3",
   "language": "python",
   "name": "python3"
  },
  "language_info": {
   "codemirror_mode": {
    "name": "ipython",
    "version": 3
   },
   "file_extension": ".py",
   "mimetype": "text/x-python",
   "name": "python",
   "nbconvert_exporter": "python",
   "pygments_lexer": "ipython3",
   "version": "3.6.5"
  }
 },
 "nbformat": 4,
 "nbformat_minor": 2
}
