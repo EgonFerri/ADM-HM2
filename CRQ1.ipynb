{
 "cells": [
  {
   "cell_type": "markdown",
   "metadata": {},
   "source": [
    "# CRQ1"
   ]
  },
  {
   "cell_type": "markdown",
   "metadata": {},
   "source": [
    "#### Does the 'fare per mile' change among boroughs? aka, which boroughs charge the passengers with more money per mile?\n",
    "#### We need to consider the traffic congestion too. The price might depend on the trafic taxis find in their way. "
   ]
  },
  {
   "cell_type": "code",
   "execution_count": 1,
   "metadata": {},
   "outputs": [],
   "source": [
    "import numpy as np\n",
    "import pandas as pd\n",
    "from datetime import datetime\n",
    "import time\n",
    "\n",
    "%matplotlib inline\n",
    "import matplotlib\n",
    "import matplotlib.pyplot as plt\n",
    "import seaborn as sns\n",
    "\n",
    "import warnings\n",
    "warnings.filterwarnings('ignore')"
   ]
  },
  {
   "cell_type": "code",
   "execution_count": 2,
   "metadata": {},
   "outputs": [],
   "source": [
    "df=pd.read_csv(r'C:\\Users\\samin\\Desktop\\Homework2\\Data\\yellow_tripdata_2018-01.csv', \n",
    "                 usecols=['tpep_pickup_datetime', 'tpep_dropoff_datetime','trip_distance','PULocationID','fare_amount'])"
   ]
  },
  {
   "cell_type": "code",
   "execution_count": 3,
   "metadata": {},
   "outputs": [
    {
     "data": {
      "text/html": [
       "<div>\n",
       "<style scoped>\n",
       "    .dataframe tbody tr th:only-of-type {\n",
       "        vertical-align: middle;\n",
       "    }\n",
       "\n",
       "    .dataframe tbody tr th {\n",
       "        vertical-align: top;\n",
       "    }\n",
       "\n",
       "    .dataframe thead th {\n",
       "        text-align: right;\n",
       "    }\n",
       "</style>\n",
       "<table border=\"1\" class=\"dataframe\">\n",
       "  <thead>\n",
       "    <tr style=\"text-align: right;\">\n",
       "      <th></th>\n",
       "      <th>tpep_pickup_datetime</th>\n",
       "      <th>tpep_dropoff_datetime</th>\n",
       "      <th>trip_distance</th>\n",
       "      <th>PULocationID</th>\n",
       "      <th>fare_amount</th>\n",
       "    </tr>\n",
       "  </thead>\n",
       "  <tbody>\n",
       "    <tr>\n",
       "      <th>0</th>\n",
       "      <td>2018-01-01 00:21:05</td>\n",
       "      <td>2018-01-01 00:24:23</td>\n",
       "      <td>0.5</td>\n",
       "      <td>41</td>\n",
       "      <td>4.5</td>\n",
       "    </tr>\n",
       "    <tr>\n",
       "      <th>1</th>\n",
       "      <td>2018-01-01 00:44:55</td>\n",
       "      <td>2018-01-01 01:03:05</td>\n",
       "      <td>2.7</td>\n",
       "      <td>239</td>\n",
       "      <td>14.0</td>\n",
       "    </tr>\n",
       "    <tr>\n",
       "      <th>2</th>\n",
       "      <td>2018-01-01 00:08:26</td>\n",
       "      <td>2018-01-01 00:14:21</td>\n",
       "      <td>0.8</td>\n",
       "      <td>262</td>\n",
       "      <td>6.0</td>\n",
       "    </tr>\n",
       "    <tr>\n",
       "      <th>3</th>\n",
       "      <td>2018-01-01 00:20:22</td>\n",
       "      <td>2018-01-01 00:52:51</td>\n",
       "      <td>10.2</td>\n",
       "      <td>140</td>\n",
       "      <td>33.5</td>\n",
       "    </tr>\n",
       "    <tr>\n",
       "      <th>4</th>\n",
       "      <td>2018-01-01 00:09:18</td>\n",
       "      <td>2018-01-01 00:27:06</td>\n",
       "      <td>2.5</td>\n",
       "      <td>246</td>\n",
       "      <td>12.5</td>\n",
       "    </tr>\n",
       "  </tbody>\n",
       "</table>\n",
       "</div>"
      ],
      "text/plain": [
       "  tpep_pickup_datetime tpep_dropoff_datetime  trip_distance  PULocationID  \\\n",
       "0  2018-01-01 00:21:05   2018-01-01 00:24:23            0.5            41   \n",
       "1  2018-01-01 00:44:55   2018-01-01 01:03:05            2.7           239   \n",
       "2  2018-01-01 00:08:26   2018-01-01 00:14:21            0.8           262   \n",
       "3  2018-01-01 00:20:22   2018-01-01 00:52:51           10.2           140   \n",
       "4  2018-01-01 00:09:18   2018-01-01 00:27:06            2.5           246   \n",
       "\n",
       "   fare_amount  \n",
       "0          4.5  \n",
       "1         14.0  \n",
       "2          6.0  \n",
       "3         33.5  \n",
       "4         12.5  "
      ]
     },
     "execution_count": 3,
     "metadata": {},
     "output_type": "execute_result"
    }
   ],
   "source": [
    "df.head()"
   ]
  },
  {
   "cell_type": "code",
   "execution_count": 4,
   "metadata": {},
   "outputs": [
    {
     "name": "stdout",
     "output_type": "stream",
     "text": [
      "<class 'pandas.core.frame.DataFrame'>\n",
      "RangeIndex: 8759874 entries, 0 to 8759873\n",
      "Data columns (total 5 columns):\n",
      "tpep_pickup_datetime     object\n",
      "tpep_dropoff_datetime    object\n",
      "trip_distance            float64\n",
      "PULocationID             int64\n",
      "fare_amount              float64\n",
      "dtypes: float64(2), int64(1), object(2)\n",
      "memory usage: 1.4 GB\n"
     ]
    }
   ],
   "source": [
    "df.info(memory_usage = 'deep')"
   ]
  },
  {
   "cell_type": "code",
   "execution_count": 5,
   "metadata": {},
   "outputs": [],
   "source": [
    "#Change data type to reduce memory usage\n",
    "df['tpep_pickup_datetime']=pd.to_datetime(df['tpep_pickup_datetime'])\n",
    "df['tpep_dropoff_datetime']=pd.to_datetime(df['tpep_dropoff_datetime'])"
   ]
  },
  {
   "cell_type": "code",
   "execution_count": 6,
   "metadata": {},
   "outputs": [],
   "source": [
    "df['PULocationID'] = df['PULocationID'].astype(np.uint16)"
   ]
  },
  {
   "cell_type": "code",
   "execution_count": 7,
   "metadata": {},
   "outputs": [],
   "source": [
    "#df['Duration']=(df['tpep_dropoff_datetime']-df['tpep_pickup_datetime'])/pd.Timedelta('1 minute')"
   ]
  },
  {
   "cell_type": "code",
   "execution_count": 8,
   "metadata": {},
   "outputs": [],
   "source": [
    "#We need to extract Month from out datetime object\n",
    "df['Month']=pd.DatetimeIndex(df['tpep_pickup_datetime']).year\n",
    "df['Month']=pd.DatetimeIndex(df['tpep_pickup_datetime']).month\n",
    "df['Month']=pd.DatetimeIndex(df['tpep_pickup_datetime']).day\n",
    "df['Month']=pd.DatetimeIndex(df['tpep_pickup_datetime']).hour"
   ]
  },
  {
   "cell_type": "code",
   "execution_count": 9,
   "metadata": {},
   "outputs": [],
   "source": [
    "df.drop(columns=['tpep_pickup_datetime', 'tpep_dropoff_datetime'], inplace=True)"
   ]
  },
  {
   "cell_type": "code",
   "execution_count": 10,
   "metadata": {},
   "outputs": [
    {
     "name": "stdout",
     "output_type": "stream",
     "text": [
      "<class 'pandas.core.frame.DataFrame'>\n",
      "RangeIndex: 8759874 entries, 0 to 8759873\n",
      "Data columns (total 4 columns):\n",
      "trip_distance    float64\n",
      "PULocationID     uint16\n",
      "fare_amount      float64\n",
      "Month            int64\n",
      "dtypes: float64(2), int64(1), uint16(1)\n",
      "memory usage: 217.2 MB\n"
     ]
    }
   ],
   "source": [
    "df.info(memory_usage='deep')"
   ]
  },
  {
   "cell_type": "code",
   "execution_count": 11,
   "metadata": {},
   "outputs": [
    {
     "data": {
      "text/html": [
       "<div>\n",
       "<style scoped>\n",
       "    .dataframe tbody tr th:only-of-type {\n",
       "        vertical-align: middle;\n",
       "    }\n",
       "\n",
       "    .dataframe tbody tr th {\n",
       "        vertical-align: top;\n",
       "    }\n",
       "\n",
       "    .dataframe thead th {\n",
       "        text-align: right;\n",
       "    }\n",
       "</style>\n",
       "<table border=\"1\" class=\"dataframe\">\n",
       "  <thead>\n",
       "    <tr style=\"text-align: right;\">\n",
       "      <th></th>\n",
       "      <th>trip_distance</th>\n",
       "      <th>PULocationID</th>\n",
       "      <th>fare_amount</th>\n",
       "      <th>Month</th>\n",
       "    </tr>\n",
       "  </thead>\n",
       "  <tbody>\n",
       "    <tr>\n",
       "      <th>0</th>\n",
       "      <td>0.5</td>\n",
       "      <td>41</td>\n",
       "      <td>4.5</td>\n",
       "      <td>1</td>\n",
       "    </tr>\n",
       "    <tr>\n",
       "      <th>1</th>\n",
       "      <td>2.7</td>\n",
       "      <td>239</td>\n",
       "      <td>14.0</td>\n",
       "      <td>1</td>\n",
       "    </tr>\n",
       "    <tr>\n",
       "      <th>2</th>\n",
       "      <td>0.8</td>\n",
       "      <td>262</td>\n",
       "      <td>6.0</td>\n",
       "      <td>1</td>\n",
       "    </tr>\n",
       "    <tr>\n",
       "      <th>3</th>\n",
       "      <td>10.2</td>\n",
       "      <td>140</td>\n",
       "      <td>33.5</td>\n",
       "      <td>1</td>\n",
       "    </tr>\n",
       "    <tr>\n",
       "      <th>4</th>\n",
       "      <td>2.5</td>\n",
       "      <td>246</td>\n",
       "      <td>12.5</td>\n",
       "      <td>1</td>\n",
       "    </tr>\n",
       "  </tbody>\n",
       "</table>\n",
       "</div>"
      ],
      "text/plain": [
       "   trip_distance  PULocationID  fare_amount  Month\n",
       "0            0.5            41          4.5      1\n",
       "1            2.7           239         14.0      1\n",
       "2            0.8           262          6.0      1\n",
       "3           10.2           140         33.5      1\n",
       "4            2.5           246         12.5      1"
      ]
     },
     "execution_count": 11,
     "metadata": {},
     "output_type": "execute_result"
    }
   ],
   "source": [
    "df.head()"
   ]
  },
  {
   "cell_type": "code",
   "execution_count": 12,
   "metadata": {},
   "outputs": [
    {
     "name": "stdout",
     "output_type": "stream",
     "text": [
      "<class 'pandas.core.frame.DataFrame'>\n",
      "RangeIndex: 8759874 entries, 0 to 8759873\n",
      "Data columns (total 4 columns):\n",
      "trip_distance    float64\n",
      "PULocationID     uint16\n",
      "fare_amount      float64\n",
      "Month            int64\n",
      "dtypes: float64(2), int64(1), uint16(1)\n",
      "memory usage: 217.2 MB\n"
     ]
    }
   ],
   "source": [
    "df.info(memory_usage ='deep')"
   ]
  },
  {
   "cell_type": "code",
   "execution_count": 13,
   "metadata": {},
   "outputs": [
    {
     "data": {
      "text/html": [
       "<div>\n",
       "<style scoped>\n",
       "    .dataframe tbody tr th:only-of-type {\n",
       "        vertical-align: middle;\n",
       "    }\n",
       "\n",
       "    .dataframe tbody tr th {\n",
       "        vertical-align: top;\n",
       "    }\n",
       "\n",
       "    .dataframe thead th {\n",
       "        text-align: right;\n",
       "    }\n",
       "</style>\n",
       "<table border=\"1\" class=\"dataframe\">\n",
       "  <thead>\n",
       "    <tr style=\"text-align: right;\">\n",
       "      <th></th>\n",
       "      <th>trip_distance</th>\n",
       "      <th>PULocationID</th>\n",
       "      <th>fare_amount</th>\n",
       "      <th>Month</th>\n",
       "    </tr>\n",
       "  </thead>\n",
       "  <tbody>\n",
       "    <tr>\n",
       "      <th>0</th>\n",
       "      <td>0.5</td>\n",
       "      <td>41</td>\n",
       "      <td>4.5</td>\n",
       "      <td>1</td>\n",
       "    </tr>\n",
       "    <tr>\n",
       "      <th>1</th>\n",
       "      <td>2.7</td>\n",
       "      <td>239</td>\n",
       "      <td>14.0</td>\n",
       "      <td>1</td>\n",
       "    </tr>\n",
       "    <tr>\n",
       "      <th>2</th>\n",
       "      <td>0.8</td>\n",
       "      <td>262</td>\n",
       "      <td>6.0</td>\n",
       "      <td>1</td>\n",
       "    </tr>\n",
       "    <tr>\n",
       "      <th>3</th>\n",
       "      <td>10.2</td>\n",
       "      <td>140</td>\n",
       "      <td>33.5</td>\n",
       "      <td>1</td>\n",
       "    </tr>\n",
       "    <tr>\n",
       "      <th>4</th>\n",
       "      <td>2.5</td>\n",
       "      <td>246</td>\n",
       "      <td>12.5</td>\n",
       "      <td>1</td>\n",
       "    </tr>\n",
       "  </tbody>\n",
       "</table>\n",
       "</div>"
      ],
      "text/plain": [
       "   trip_distance  PULocationID  fare_amount  Month\n",
       "0            0.5            41          4.5      1\n",
       "1            2.7           239         14.0      1\n",
       "2            0.8           262          6.0      1\n",
       "3           10.2           140         33.5      1\n",
       "4            2.5           246         12.5      1"
      ]
     },
     "execution_count": 13,
     "metadata": {},
     "output_type": "execute_result"
    }
   ],
   "source": [
    "df.head()"
   ]
  },
  {
   "cell_type": "code",
   "execution_count": 14,
   "metadata": {},
   "outputs": [
    {
     "data": {
      "text/plain": [
       "(8759874, 4)"
      ]
     },
     "execution_count": 14,
     "metadata": {},
     "output_type": "execute_result"
    }
   ],
   "source": [
    "df.shape"
   ]
  },
  {
   "cell_type": "code",
   "execution_count": 15,
   "metadata": {},
   "outputs": [
    {
     "data": {
      "text/html": [
       "<div>\n",
       "<style scoped>\n",
       "    .dataframe tbody tr th:only-of-type {\n",
       "        vertical-align: middle;\n",
       "    }\n",
       "\n",
       "    .dataframe tbody tr th {\n",
       "        vertical-align: top;\n",
       "    }\n",
       "\n",
       "    .dataframe thead th {\n",
       "        text-align: right;\n",
       "    }\n",
       "</style>\n",
       "<table border=\"1\" class=\"dataframe\">\n",
       "  <thead>\n",
       "    <tr style=\"text-align: right;\">\n",
       "      <th></th>\n",
       "      <th>trip_distance</th>\n",
       "      <th>PULocationID</th>\n",
       "      <th>fare_amount</th>\n",
       "    </tr>\n",
       "    <tr>\n",
       "      <th>Month</th>\n",
       "      <th></th>\n",
       "      <th></th>\n",
       "      <th></th>\n",
       "    </tr>\n",
       "  </thead>\n",
       "  <tbody>\n",
       "    <tr>\n",
       "      <th>1</th>\n",
       "      <td>8759557</td>\n",
       "      <td>8759557</td>\n",
       "      <td>8759557</td>\n",
       "    </tr>\n",
       "    <tr>\n",
       "      <th>2</th>\n",
       "      <td>71</td>\n",
       "      <td>71</td>\n",
       "      <td>71</td>\n",
       "    </tr>\n",
       "    <tr>\n",
       "      <th>7</th>\n",
       "      <td>6</td>\n",
       "      <td>6</td>\n",
       "      <td>6</td>\n",
       "    </tr>\n",
       "    <tr>\n",
       "      <th>12</th>\n",
       "      <td>240</td>\n",
       "      <td>240</td>\n",
       "      <td>240</td>\n",
       "    </tr>\n",
       "  </tbody>\n",
       "</table>\n",
       "</div>"
      ],
      "text/plain": [
       "       trip_distance  PULocationID  fare_amount\n",
       "Month                                          \n",
       "1            8759557       8759557      8759557\n",
       "2                 71            71           71\n",
       "7                  6             6            6\n",
       "12               240           240          240"
      ]
     },
     "execution_count": 15,
     "metadata": {},
     "output_type": "execute_result"
    }
   ],
   "source": [
    "df.groupby('Month').count()"
   ]
  },
  {
   "cell_type": "code",
   "execution_count": 16,
   "metadata": {},
   "outputs": [],
   "source": [
    "#delete those rows with month!=1\n",
    "\n",
    "#df.drop(df[(df.Month == 2) | (df.Month == 7) | (df.Month == 12)].index, inplace=True)"
   ]
  },
  {
   "cell_type": "code",
   "execution_count": 17,
   "metadata": {},
   "outputs": [
    {
     "data": {
      "text/plain": [
       "(8759874, 4)"
      ]
     },
     "execution_count": 17,
     "metadata": {},
     "output_type": "execute_result"
    }
   ],
   "source": [
    "df.shape"
   ]
  },
  {
   "cell_type": "code",
   "execution_count": 18,
   "metadata": {},
   "outputs": [
    {
     "name": "stdout",
     "output_type": "stream",
     "text": [
      "<class 'pandas.core.frame.DataFrame'>\n",
      "RangeIndex: 8759874 entries, 0 to 8759873\n",
      "Data columns (total 4 columns):\n",
      "trip_distance    float64\n",
      "PULocationID     uint16\n",
      "fare_amount      float64\n",
      "Month            int64\n",
      "dtypes: float64(2), int64(1), uint16(1)\n",
      "memory usage: 217.2 MB\n"
     ]
    }
   ],
   "source": [
    "df.info(memory_usage ='deep')"
   ]
  },
  {
   "cell_type": "code",
   "execution_count": 19,
   "metadata": {},
   "outputs": [],
   "source": [
    "df['Month']=df['Month'].astype(np.uint8)"
   ]
  },
  {
   "cell_type": "code",
   "execution_count": 20,
   "metadata": {},
   "outputs": [
    {
     "name": "stdout",
     "output_type": "stream",
     "text": [
      "<class 'pandas.core.frame.DataFrame'>\n",
      "RangeIndex: 8759874 entries, 0 to 8759873\n",
      "Data columns (total 4 columns):\n",
      "trip_distance    float64\n",
      "PULocationID     uint16\n",
      "fare_amount      float64\n",
      "Month            uint8\n",
      "dtypes: float64(2), uint16(1), uint8(1)\n",
      "memory usage: 158.7 MB\n"
     ]
    }
   ],
   "source": [
    "df.info(memory_usage='deep')"
   ]
  },
  {
   "cell_type": "code",
   "execution_count": 21,
   "metadata": {},
   "outputs": [
    {
     "data": {
      "text/html": [
       "<div>\n",
       "<style scoped>\n",
       "    .dataframe tbody tr th:only-of-type {\n",
       "        vertical-align: middle;\n",
       "    }\n",
       "\n",
       "    .dataframe tbody tr th {\n",
       "        vertical-align: top;\n",
       "    }\n",
       "\n",
       "    .dataframe thead th {\n",
       "        text-align: right;\n",
       "    }\n",
       "</style>\n",
       "<table border=\"1\" class=\"dataframe\">\n",
       "  <thead>\n",
       "    <tr style=\"text-align: right;\">\n",
       "      <th></th>\n",
       "      <th>trip_distance</th>\n",
       "      <th>PULocationID</th>\n",
       "      <th>fare_amount</th>\n",
       "      <th>Month</th>\n",
       "    </tr>\n",
       "  </thead>\n",
       "  <tbody>\n",
       "    <tr>\n",
       "      <th>0</th>\n",
       "      <td>0.5</td>\n",
       "      <td>41</td>\n",
       "      <td>4.5</td>\n",
       "      <td>1</td>\n",
       "    </tr>\n",
       "    <tr>\n",
       "      <th>1</th>\n",
       "      <td>2.7</td>\n",
       "      <td>239</td>\n",
       "      <td>14.0</td>\n",
       "      <td>1</td>\n",
       "    </tr>\n",
       "    <tr>\n",
       "      <th>2</th>\n",
       "      <td>0.8</td>\n",
       "      <td>262</td>\n",
       "      <td>6.0</td>\n",
       "      <td>1</td>\n",
       "    </tr>\n",
       "    <tr>\n",
       "      <th>3</th>\n",
       "      <td>10.2</td>\n",
       "      <td>140</td>\n",
       "      <td>33.5</td>\n",
       "      <td>1</td>\n",
       "    </tr>\n",
       "    <tr>\n",
       "      <th>4</th>\n",
       "      <td>2.5</td>\n",
       "      <td>246</td>\n",
       "      <td>12.5</td>\n",
       "      <td>1</td>\n",
       "    </tr>\n",
       "  </tbody>\n",
       "</table>\n",
       "</div>"
      ],
      "text/plain": [
       "   trip_distance  PULocationID  fare_amount  Month\n",
       "0            0.5            41          4.5      1\n",
       "1            2.7           239         14.0      1\n",
       "2            0.8           262          6.0      1\n",
       "3           10.2           140         33.5      1\n",
       "4            2.5           246         12.5      1"
      ]
     },
     "execution_count": 21,
     "metadata": {},
     "output_type": "execute_result"
    }
   ],
   "source": [
    "df.head()"
   ]
  },
  {
   "cell_type": "code",
   "execution_count": 22,
   "metadata": {},
   "outputs": [],
   "source": [
    "#Check 'trip_distance' and 'fare_amount'\n",
    "#'fare_amount' shouldn't be zero also 'trip_distance'. Negative values also make the dataset dirty so we get rid of them. \n",
    "\n",
    "#df.drop(df[(df.trip_distance==0)].index, inplace=True)\n",
    "#df.drop(df[(df.fare_amount==0)].index, inplace=True)\n",
    "#df = df[~(df['trip_distance'] < 0)]\n",
    "#df = df[~(df['fare_amount'] < 0)]"
   ]
  },
  {
   "cell_type": "code",
   "execution_count": 23,
   "metadata": {},
   "outputs": [
    {
     "data": {
      "text/plain": [
       "count    8.759874e+06\n",
       "mean     2.804001e+00\n",
       "std      6.412346e+01\n",
       "min      0.000000e+00\n",
       "25%      9.100000e-01\n",
       "50%      1.550000e+00\n",
       "75%      2.840000e+00\n",
       "max      1.894838e+05\n",
       "Name: trip_distance, dtype: float64"
      ]
     },
     "execution_count": 23,
     "metadata": {},
     "output_type": "execute_result"
    }
   ],
   "source": [
    "df['trip_distance'].describe()"
   ]
  },
  {
   "cell_type": "code",
   "execution_count": 24,
   "metadata": {},
   "outputs": [
    {
     "data": {
      "text/plain": [
       "count    8.759874e+06\n",
       "mean     1.224434e+01\n",
       "std      1.168321e+01\n",
       "min     -4.500000e+02\n",
       "25%      6.000000e+00\n",
       "50%      9.000000e+00\n",
       "75%      1.350000e+01\n",
       "max      8.016000e+03\n",
       "Name: fare_amount, dtype: float64"
      ]
     },
     "execution_count": 24,
     "metadata": {},
     "output_type": "execute_result"
    }
   ],
   "source": [
    "df['fare_amount'].describe()"
   ]
  },
  {
   "cell_type": "code",
   "execution_count": 25,
   "metadata": {},
   "outputs": [],
   "source": [
    " #Data cleaning \n",
    "    \n",
    "df.drop(df[df['trip_distance']>3].index, inplace=True)\n",
    "df.drop(df[df['trip_distance']<0.5].index, inplace=True) \n",
    "\n",
    "df.drop(df[df['fare_amount']>10].index, inplace=True)\n",
    "df.drop(df[df['fare_amount']<1].index, inplace=True)"
   ]
  },
  {
   "cell_type": "code",
   "execution_count": 26,
   "metadata": {},
   "outputs": [
    {
     "data": {
      "text/plain": [
       "(4799210, 4)"
      ]
     },
     "execution_count": 26,
     "metadata": {},
     "output_type": "execute_result"
    }
   ],
   "source": [
    "df.shape"
   ]
  },
  {
   "cell_type": "markdown",
   "metadata": {},
   "source": [
    "### Part1: Find the fare amount per mile. For each borough, calculate mean and standard deviation of values. Plot the result and run the t-test on each pair of two boroughs possible"
   ]
  },
  {
   "cell_type": "code",
   "execution_count": 27,
   "metadata": {},
   "outputs": [],
   "source": [
    "df['price_per_mile'] = df['fare_amount']/df['trip_distance']"
   ]
  },
  {
   "cell_type": "code",
   "execution_count": 28,
   "metadata": {},
   "outputs": [
    {
     "data": {
      "text/plain": [
       "0.35714285714285715"
      ]
     },
     "execution_count": 28,
     "metadata": {},
     "output_type": "execute_result"
    }
   ],
   "source": [
    "df['price_per_mile'].min()"
   ]
  },
  {
   "cell_type": "code",
   "execution_count": 29,
   "metadata": {},
   "outputs": [
    {
     "data": {
      "text/html": [
       "<div>\n",
       "<style scoped>\n",
       "    .dataframe tbody tr th:only-of-type {\n",
       "        vertical-align: middle;\n",
       "    }\n",
       "\n",
       "    .dataframe tbody tr th {\n",
       "        vertical-align: top;\n",
       "    }\n",
       "\n",
       "    .dataframe thead th {\n",
       "        text-align: right;\n",
       "    }\n",
       "</style>\n",
       "<table border=\"1\" class=\"dataframe\">\n",
       "  <thead>\n",
       "    <tr style=\"text-align: right;\">\n",
       "      <th></th>\n",
       "      <th>trip_distance</th>\n",
       "      <th>PULocationID</th>\n",
       "      <th>fare_amount</th>\n",
       "      <th>Month</th>\n",
       "      <th>price_per_mile</th>\n",
       "    </tr>\n",
       "  </thead>\n",
       "  <tbody>\n",
       "    <tr>\n",
       "      <th>0</th>\n",
       "      <td>0.50</td>\n",
       "      <td>41</td>\n",
       "      <td>4.5</td>\n",
       "      <td>1</td>\n",
       "      <td>9.000000</td>\n",
       "    </tr>\n",
       "    <tr>\n",
       "      <th>2</th>\n",
       "      <td>0.80</td>\n",
       "      <td>262</td>\n",
       "      <td>6.0</td>\n",
       "      <td>1</td>\n",
       "      <td>7.500000</td>\n",
       "    </tr>\n",
       "    <tr>\n",
       "      <th>5</th>\n",
       "      <td>0.50</td>\n",
       "      <td>143</td>\n",
       "      <td>4.5</td>\n",
       "      <td>1</td>\n",
       "      <td>9.000000</td>\n",
       "    </tr>\n",
       "    <tr>\n",
       "      <th>6</th>\n",
       "      <td>1.70</td>\n",
       "      <td>50</td>\n",
       "      <td>9.0</td>\n",
       "      <td>1</td>\n",
       "      <td>5.294118</td>\n",
       "    </tr>\n",
       "    <tr>\n",
       "      <th>7</th>\n",
       "      <td>0.70</td>\n",
       "      <td>239</td>\n",
       "      <td>4.0</td>\n",
       "      <td>1</td>\n",
       "      <td>5.714286</td>\n",
       "    </tr>\n",
       "    <tr>\n",
       "      <th>8</th>\n",
       "      <td>1.00</td>\n",
       "      <td>238</td>\n",
       "      <td>5.5</td>\n",
       "      <td>1</td>\n",
       "      <td>5.500000</td>\n",
       "    </tr>\n",
       "    <tr>\n",
       "      <th>9</th>\n",
       "      <td>0.70</td>\n",
       "      <td>170</td>\n",
       "      <td>5.5</td>\n",
       "      <td>1</td>\n",
       "      <td>7.857143</td>\n",
       "    </tr>\n",
       "    <tr>\n",
       "      <th>10</th>\n",
       "      <td>0.60</td>\n",
       "      <td>162</td>\n",
       "      <td>5.5</td>\n",
       "      <td>1</td>\n",
       "      <td>9.166667</td>\n",
       "    </tr>\n",
       "    <tr>\n",
       "      <th>12</th>\n",
       "      <td>1.04</td>\n",
       "      <td>137</td>\n",
       "      <td>5.5</td>\n",
       "      <td>1</td>\n",
       "      <td>5.288462</td>\n",
       "    </tr>\n",
       "    <tr>\n",
       "      <th>13</th>\n",
       "      <td>1.22</td>\n",
       "      <td>224</td>\n",
       "      <td>7.5</td>\n",
       "      <td>1</td>\n",
       "      <td>6.147541</td>\n",
       "    </tr>\n",
       "  </tbody>\n",
       "</table>\n",
       "</div>"
      ],
      "text/plain": [
       "    trip_distance  PULocationID  fare_amount  Month  price_per_mile\n",
       "0            0.50            41          4.5      1        9.000000\n",
       "2            0.80           262          6.0      1        7.500000\n",
       "5            0.50           143          4.5      1        9.000000\n",
       "6            1.70            50          9.0      1        5.294118\n",
       "7            0.70           239          4.0      1        5.714286\n",
       "8            1.00           238          5.5      1        5.500000\n",
       "9            0.70           170          5.5      1        7.857143\n",
       "10           0.60           162          5.5      1        9.166667\n",
       "12           1.04           137          5.5      1        5.288462\n",
       "13           1.22           224          7.5      1        6.147541"
      ]
     },
     "execution_count": 29,
     "metadata": {},
     "output_type": "execute_result"
    }
   ],
   "source": [
    "df.head(10)"
   ]
  },
  {
   "cell_type": "code",
   "execution_count": 30,
   "metadata": {},
   "outputs": [],
   "source": [
    "df.drop(columns = ['trip_distance', 'fare_amount'], inplace=True)"
   ]
  },
  {
   "cell_type": "code",
   "execution_count": 31,
   "metadata": {},
   "outputs": [
    {
     "name": "stdout",
     "output_type": "stream",
     "text": [
      "<class 'pandas.core.frame.DataFrame'>\n",
      "Int64Index: 4799210 entries, 0 to 8759870\n",
      "Data columns (total 3 columns):\n",
      "PULocationID      uint16\n",
      "Month             uint8\n",
      "price_per_mile    float64\n",
      "dtypes: float64(1), uint16(1), uint8(1)\n",
      "memory usage: 87.0 MB\n"
     ]
    }
   ],
   "source": [
    "df.info(memory_usage='deep')"
   ]
  },
  {
   "cell_type": "code",
   "execution_count": 32,
   "metadata": {},
   "outputs": [
    {
     "data": {
      "text/html": [
       "<div>\n",
       "<style scoped>\n",
       "    .dataframe tbody tr th:only-of-type {\n",
       "        vertical-align: middle;\n",
       "    }\n",
       "\n",
       "    .dataframe tbody tr th {\n",
       "        vertical-align: top;\n",
       "    }\n",
       "\n",
       "    .dataframe thead th {\n",
       "        text-align: right;\n",
       "    }\n",
       "</style>\n",
       "<table border=\"1\" class=\"dataframe\">\n",
       "  <thead>\n",
       "    <tr style=\"text-align: right;\">\n",
       "      <th></th>\n",
       "      <th>PULocationID</th>\n",
       "      <th>Month</th>\n",
       "      <th>price_per_mile</th>\n",
       "    </tr>\n",
       "  </thead>\n",
       "  <tbody>\n",
       "    <tr>\n",
       "      <th>0</th>\n",
       "      <td>41</td>\n",
       "      <td>1</td>\n",
       "      <td>9.000000</td>\n",
       "    </tr>\n",
       "    <tr>\n",
       "      <th>2</th>\n",
       "      <td>262</td>\n",
       "      <td>1</td>\n",
       "      <td>7.500000</td>\n",
       "    </tr>\n",
       "    <tr>\n",
       "      <th>5</th>\n",
       "      <td>143</td>\n",
       "      <td>1</td>\n",
       "      <td>9.000000</td>\n",
       "    </tr>\n",
       "    <tr>\n",
       "      <th>6</th>\n",
       "      <td>50</td>\n",
       "      <td>1</td>\n",
       "      <td>5.294118</td>\n",
       "    </tr>\n",
       "    <tr>\n",
       "      <th>7</th>\n",
       "      <td>239</td>\n",
       "      <td>1</td>\n",
       "      <td>5.714286</td>\n",
       "    </tr>\n",
       "  </tbody>\n",
       "</table>\n",
       "</div>"
      ],
      "text/plain": [
       "   PULocationID  Month  price_per_mile\n",
       "0            41      1        9.000000\n",
       "2           262      1        7.500000\n",
       "5           143      1        9.000000\n",
       "6            50      1        5.294118\n",
       "7           239      1        5.714286"
      ]
     },
     "execution_count": 32,
     "metadata": {},
     "output_type": "execute_result"
    }
   ],
   "source": [
    "df.head()"
   ]
  },
  {
   "cell_type": "code",
   "execution_count": 33,
   "metadata": {},
   "outputs": [],
   "source": [
    "#Read 'taxi_zone_lookup' dataset\n",
    "\n",
    "borough = pd.read_csv(r'C:\\Users\\samin\\Desktop\\Homework2\\taxi_zone_lookup.csv', usecols = ['LocationID', 'Borough'])"
   ]
  },
  {
   "cell_type": "code",
   "execution_count": 34,
   "metadata": {},
   "outputs": [
    {
     "name": "stdout",
     "output_type": "stream",
     "text": [
      "<class 'pandas.core.frame.DataFrame'>\n",
      "RangeIndex: 265 entries, 0 to 264\n",
      "Data columns (total 2 columns):\n",
      "LocationID    265 non-null int64\n",
      "Borough       265 non-null object\n",
      "dtypes: int64(1), object(1)\n",
      "memory usage: 18.9 KB\n"
     ]
    }
   ],
   "source": [
    "borough.info(memory_usage = 'deep')"
   ]
  },
  {
   "cell_type": "code",
   "execution_count": 35,
   "metadata": {},
   "outputs": [
    {
     "data": {
      "text/html": [
       "<div>\n",
       "<style scoped>\n",
       "    .dataframe tbody tr th:only-of-type {\n",
       "        vertical-align: middle;\n",
       "    }\n",
       "\n",
       "    .dataframe tbody tr th {\n",
       "        vertical-align: top;\n",
       "    }\n",
       "\n",
       "    .dataframe thead th {\n",
       "        text-align: right;\n",
       "    }\n",
       "</style>\n",
       "<table border=\"1\" class=\"dataframe\">\n",
       "  <thead>\n",
       "    <tr style=\"text-align: right;\">\n",
       "      <th></th>\n",
       "      <th>LocationID</th>\n",
       "      <th>Borough</th>\n",
       "    </tr>\n",
       "  </thead>\n",
       "  <tbody>\n",
       "    <tr>\n",
       "      <th>0</th>\n",
       "      <td>1</td>\n",
       "      <td>EWR</td>\n",
       "    </tr>\n",
       "    <tr>\n",
       "      <th>1</th>\n",
       "      <td>2</td>\n",
       "      <td>Queens</td>\n",
       "    </tr>\n",
       "    <tr>\n",
       "      <th>2</th>\n",
       "      <td>3</td>\n",
       "      <td>Bronx</td>\n",
       "    </tr>\n",
       "    <tr>\n",
       "      <th>3</th>\n",
       "      <td>4</td>\n",
       "      <td>Manhattan</td>\n",
       "    </tr>\n",
       "    <tr>\n",
       "      <th>4</th>\n",
       "      <td>5</td>\n",
       "      <td>Staten Island</td>\n",
       "    </tr>\n",
       "  </tbody>\n",
       "</table>\n",
       "</div>"
      ],
      "text/plain": [
       "   LocationID        Borough\n",
       "0           1            EWR\n",
       "1           2         Queens\n",
       "2           3          Bronx\n",
       "3           4      Manhattan\n",
       "4           5  Staten Island"
      ]
     },
     "execution_count": 35,
     "metadata": {},
     "output_type": "execute_result"
    }
   ],
   "source": [
    "borough.head()"
   ]
  },
  {
   "cell_type": "code",
   "execution_count": 36,
   "metadata": {},
   "outputs": [],
   "source": [
    "#Merge df and borough \n",
    "\n",
    "result = pd.merge(df,\n",
    "                 borough,\n",
    "                 left_on='PULocationID',\n",
    "                 right_on='LocationID',\n",
    "                 how='inner' \n",
    "                 )\n"
   ]
  },
  {
   "cell_type": "code",
   "execution_count": 37,
   "metadata": {},
   "outputs": [
    {
     "name": "stdout",
     "output_type": "stream",
     "text": [
      "<class 'pandas.core.frame.DataFrame'>\n",
      "Int64Index: 4799210 entries, 0 to 4799209\n",
      "Data columns (total 5 columns):\n",
      "PULocationID      uint16\n",
      "Month             uint8\n",
      "price_per_mile    float64\n",
      "LocationID        int64\n",
      "Borough           object\n",
      "dtypes: float64(1), int64(1), object(1), uint16(1), uint8(1)\n",
      "memory usage: 425.3 MB\n"
     ]
    }
   ],
   "source": [
    "result.info(memory_usage='deep')"
   ]
  },
  {
   "cell_type": "code",
   "execution_count": 38,
   "metadata": {},
   "outputs": [
    {
     "data": {
      "text/html": [
       "<div>\n",
       "<style scoped>\n",
       "    .dataframe tbody tr th:only-of-type {\n",
       "        vertical-align: middle;\n",
       "    }\n",
       "\n",
       "    .dataframe tbody tr th {\n",
       "        vertical-align: top;\n",
       "    }\n",
       "\n",
       "    .dataframe thead th {\n",
       "        text-align: right;\n",
       "    }\n",
       "</style>\n",
       "<table border=\"1\" class=\"dataframe\">\n",
       "  <thead>\n",
       "    <tr style=\"text-align: right;\">\n",
       "      <th></th>\n",
       "      <th>PULocationID</th>\n",
       "      <th>Month</th>\n",
       "      <th>price_per_mile</th>\n",
       "      <th>LocationID</th>\n",
       "      <th>Borough</th>\n",
       "    </tr>\n",
       "  </thead>\n",
       "  <tbody>\n",
       "    <tr>\n",
       "      <th>0</th>\n",
       "      <td>41</td>\n",
       "      <td>1</td>\n",
       "      <td>9.000000</td>\n",
       "      <td>41</td>\n",
       "      <td>Manhattan</td>\n",
       "    </tr>\n",
       "    <tr>\n",
       "      <th>1</th>\n",
       "      <td>41</td>\n",
       "      <td>1</td>\n",
       "      <td>6.250000</td>\n",
       "      <td>41</td>\n",
       "      <td>Manhattan</td>\n",
       "    </tr>\n",
       "    <tr>\n",
       "      <th>2</th>\n",
       "      <td>41</td>\n",
       "      <td>1</td>\n",
       "      <td>6.578947</td>\n",
       "      <td>41</td>\n",
       "      <td>Manhattan</td>\n",
       "    </tr>\n",
       "    <tr>\n",
       "      <th>3</th>\n",
       "      <td>41</td>\n",
       "      <td>1</td>\n",
       "      <td>6.132075</td>\n",
       "      <td>41</td>\n",
       "      <td>Manhattan</td>\n",
       "    </tr>\n",
       "    <tr>\n",
       "      <th>4</th>\n",
       "      <td>41</td>\n",
       "      <td>1</td>\n",
       "      <td>4.285714</td>\n",
       "      <td>41</td>\n",
       "      <td>Manhattan</td>\n",
       "    </tr>\n",
       "  </tbody>\n",
       "</table>\n",
       "</div>"
      ],
      "text/plain": [
       "   PULocationID  Month  price_per_mile  LocationID    Borough\n",
       "0            41      1        9.000000          41  Manhattan\n",
       "1            41      1        6.250000          41  Manhattan\n",
       "2            41      1        6.578947          41  Manhattan\n",
       "3            41      1        6.132075          41  Manhattan\n",
       "4            41      1        4.285714          41  Manhattan"
      ]
     },
     "execution_count": 38,
     "metadata": {},
     "output_type": "execute_result"
    }
   ],
   "source": [
    "result.head()"
   ]
  },
  {
   "cell_type": "code",
   "execution_count": 39,
   "metadata": {},
   "outputs": [],
   "source": [
    "del df\n",
    "del borough"
   ]
  },
  {
   "cell_type": "code",
   "execution_count": 40,
   "metadata": {},
   "outputs": [],
   "source": [
    "result.drop(columns = ['PULocationID', 'LocationID'], inplace =  True)"
   ]
  },
  {
   "cell_type": "code",
   "execution_count": 41,
   "metadata": {},
   "outputs": [
    {
     "name": "stdout",
     "output_type": "stream",
     "text": [
      "<class 'pandas.core.frame.DataFrame'>\n",
      "Int64Index: 4799210 entries, 0 to 4799209\n",
      "Data columns (total 3 columns):\n",
      "Month             uint8\n",
      "price_per_mile    float64\n",
      "Borough           object\n",
      "dtypes: float64(1), object(1), uint8(1)\n",
      "memory usage: 379.5 MB\n"
     ]
    }
   ],
   "source": [
    "result.info(memory_usage = 'deep')"
   ]
  },
  {
   "cell_type": "code",
   "execution_count": 42,
   "metadata": {},
   "outputs": [
    {
     "data": {
      "text/html": [
       "<div>\n",
       "<style scoped>\n",
       "    .dataframe tbody tr th:only-of-type {\n",
       "        vertical-align: middle;\n",
       "    }\n",
       "\n",
       "    .dataframe tbody tr th {\n",
       "        vertical-align: top;\n",
       "    }\n",
       "\n",
       "    .dataframe thead th {\n",
       "        text-align: right;\n",
       "    }\n",
       "</style>\n",
       "<table border=\"1\" class=\"dataframe\">\n",
       "  <thead>\n",
       "    <tr style=\"text-align: right;\">\n",
       "      <th></th>\n",
       "      <th>Month</th>\n",
       "      <th>price_per_mile</th>\n",
       "      <th>Borough</th>\n",
       "    </tr>\n",
       "  </thead>\n",
       "  <tbody>\n",
       "    <tr>\n",
       "      <th>0</th>\n",
       "      <td>1</td>\n",
       "      <td>9.000000</td>\n",
       "      <td>Manhattan</td>\n",
       "    </tr>\n",
       "    <tr>\n",
       "      <th>1</th>\n",
       "      <td>1</td>\n",
       "      <td>6.250000</td>\n",
       "      <td>Manhattan</td>\n",
       "    </tr>\n",
       "    <tr>\n",
       "      <th>2</th>\n",
       "      <td>1</td>\n",
       "      <td>6.578947</td>\n",
       "      <td>Manhattan</td>\n",
       "    </tr>\n",
       "    <tr>\n",
       "      <th>3</th>\n",
       "      <td>1</td>\n",
       "      <td>6.132075</td>\n",
       "      <td>Manhattan</td>\n",
       "    </tr>\n",
       "    <tr>\n",
       "      <th>4</th>\n",
       "      <td>1</td>\n",
       "      <td>4.285714</td>\n",
       "      <td>Manhattan</td>\n",
       "    </tr>\n",
       "  </tbody>\n",
       "</table>\n",
       "</div>"
      ],
      "text/plain": [
       "   Month  price_per_mile    Borough\n",
       "0      1        9.000000  Manhattan\n",
       "1      1        6.250000  Manhattan\n",
       "2      1        6.578947  Manhattan\n",
       "3      1        6.132075  Manhattan\n",
       "4      1        4.285714  Manhattan"
      ]
     },
     "execution_count": 42,
     "metadata": {},
     "output_type": "execute_result"
    }
   ],
   "source": [
    "result.head()"
   ]
  },
  {
   "cell_type": "code",
   "execution_count": 43,
   "metadata": {},
   "outputs": [
    {
     "data": {
      "text/plain": [
       "0.35714285714285715"
      ]
     },
     "execution_count": 43,
     "metadata": {},
     "output_type": "execute_result"
    }
   ],
   "source": [
    "result['price_per_mile'].min()"
   ]
  },
  {
   "cell_type": "code",
   "execution_count": 44,
   "metadata": {},
   "outputs": [
    {
     "data": {
      "text/plain": [
       "20.0"
      ]
     },
     "execution_count": 44,
     "metadata": {},
     "output_type": "execute_result"
    }
   ],
   "source": [
    "result['price_per_mile'].max()"
   ]
  },
  {
   "cell_type": "code",
   "execution_count": 45,
   "metadata": {},
   "outputs": [
    {
     "data": {
      "text/plain": [
       "<matplotlib.axes._subplots.AxesSubplot at 0x1e085a197b8>"
      ]
     },
     "execution_count": 45,
     "metadata": {},
     "output_type": "execute_result"
    },
    {
     "data": {
      "image/png": "[encoded data removed]",
      "text/plain": [
       "<Figure size 432x288 with 1 Axes>"
      ]
     },
     "metadata": {},
     "output_type": "display_data"
    }
   ],
   "source": [
    "sns.distplot(result['price_per_mile'], kde=False, bins=15, hist_kws=dict(edgecolor=\"k\", linewidth=2))"
   ]
  },
  {
   "cell_type": "code",
   "execution_count": 46,
   "metadata": {},
   "outputs": [],
   "source": [
    "#result.drop([])\n",
    "result.drop(result[(result.price_per_mile <1) | (result.price_per_mile>200)].index, inplace=True)"
   ]
  },
  {
   "cell_type": "code",
   "execution_count": 47,
   "metadata": {},
   "outputs": [
    {
     "data": {
      "text/plain": [
       "<matplotlib.axes._subplots.AxesSubplot at 0x1e085945240>"
      ]
     },
     "execution_count": 47,
     "metadata": {},
     "output_type": "execute_result"
    },
    {
     "data": {
      "image/png": "[encoded data removed]",
      "text/plain": [
       "<Figure size 432x288 with 1 Axes>"
      ]
     },
     "metadata": {},
     "output_type": "display_data"
    }
   ],
   "source": [
    "sns.distplot(result['price_per_mile'], kde=False, bins=15, hist_kws=dict(edgecolor=\"k\", linewidth=2))"
   ]
  },
  {
   "cell_type": "code",
   "execution_count": 48,
   "metadata": {},
   "outputs": [
    {
     "data": {
      "text/plain": [
       "1.0"
      ]
     },
     "execution_count": 48,
     "metadata": {},
     "output_type": "execute_result"
    }
   ],
   "source": [
    "result['price_per_mile'].min()"
   ]
  },
  {
   "cell_type": "code",
   "execution_count": 49,
   "metadata": {},
   "outputs": [],
   "source": [
    "#To have a normalized distribution, we drop prices higher than 25\n",
    "result.drop(result[(result.price_per_mile>10)].index, inplace=True)"
   ]
  },
  {
   "cell_type": "code",
   "execution_count": 50,
   "metadata": {},
   "outputs": [
    {
     "data": {
      "text/plain": [
       "<matplotlib.axes._subplots.AxesSubplot at 0x1e0855304e0>"
      ]
     },
     "execution_count": 50,
     "metadata": {},
     "output_type": "execute_result"
    },
    {
     "data": {
      "image/png": "[encoded data removed]",
      "text/plain": [
       "<Figure size 432x288 with 1 Axes>"
      ]
     },
     "metadata": {},
     "output_type": "display_data"
    }
   ],
   "source": [
    "sns.distplot(result['price_per_mile'], kde=False, bins=10, hist_kws=dict(edgecolor=\"k\", linewidth=2))"
   ]
  },
  {
   "cell_type": "code",
   "execution_count": 51,
   "metadata": {},
   "outputs": [],
   "source": [
    "#looks almost narmalized"
   ]
  },
  {
   "cell_type": "code",
   "execution_count": 52,
   "metadata": {},
   "outputs": [
    {
     "data": {
      "text/html": [
       "<div>\n",
       "<style scoped>\n",
       "    .dataframe tbody tr th:only-of-type {\n",
       "        vertical-align: middle;\n",
       "    }\n",
       "\n",
       "    .dataframe tbody tr th {\n",
       "        vertical-align: top;\n",
       "    }\n",
       "\n",
       "    .dataframe thead th {\n",
       "        text-align: right;\n",
       "    }\n",
       "</style>\n",
       "<table border=\"1\" class=\"dataframe\">\n",
       "  <thead>\n",
       "    <tr style=\"text-align: right;\">\n",
       "      <th></th>\n",
       "      <th>Month</th>\n",
       "      <th>price_per_mile</th>\n",
       "    </tr>\n",
       "    <tr>\n",
       "      <th>Borough</th>\n",
       "      <th></th>\n",
       "      <th></th>\n",
       "    </tr>\n",
       "  </thead>\n",
       "  <tbody>\n",
       "    <tr>\n",
       "      <th>Bronx</th>\n",
       "      <td>2805</td>\n",
       "      <td>2805</td>\n",
       "    </tr>\n",
       "    <tr>\n",
       "      <th>Brooklyn</th>\n",
       "      <td>42851</td>\n",
       "      <td>42851</td>\n",
       "    </tr>\n",
       "    <tr>\n",
       "      <th>EWR</th>\n",
       "      <td>12</td>\n",
       "      <td>12</td>\n",
       "    </tr>\n",
       "    <tr>\n",
       "      <th>Manhattan</th>\n",
       "      <td>4492893</td>\n",
       "      <td>4492893</td>\n",
       "    </tr>\n",
       "    <tr>\n",
       "      <th>Queens</th>\n",
       "      <td>42662</td>\n",
       "      <td>42662</td>\n",
       "    </tr>\n",
       "    <tr>\n",
       "      <th>Staten Island</th>\n",
       "      <td>30</td>\n",
       "      <td>30</td>\n",
       "    </tr>\n",
       "    <tr>\n",
       "      <th>Unknown</th>\n",
       "      <td>79860</td>\n",
       "      <td>79860</td>\n",
       "    </tr>\n",
       "  </tbody>\n",
       "</table>\n",
       "</div>"
      ],
      "text/plain": [
       "                 Month  price_per_mile\n",
       "Borough                               \n",
       "Bronx             2805            2805\n",
       "Brooklyn         42851           42851\n",
       "EWR                 12              12\n",
       "Manhattan      4492893         4492893\n",
       "Queens           42662           42662\n",
       "Staten Island       30              30\n",
       "Unknown          79860           79860"
      ]
     },
     "execution_count": 52,
     "metadata": {},
     "output_type": "execute_result"
    }
   ],
   "source": [
    "result.groupby('Borough').count()"
   ]
  },
  {
   "cell_type": "code",
   "execution_count": 53,
   "metadata": {},
   "outputs": [
    {
     "data": {
      "text/plain": [
       "(4581241, 3)"
      ]
     },
     "execution_count": 53,
     "metadata": {},
     "output_type": "execute_result"
    }
   ],
   "source": [
    "#delete rows with Borough='unknown' and Borough='EWR'\n",
    "result.drop(result[(result.Borough == 'EWR') | (result.Borough == 'Unknown')].index, inplace=True)\n",
    "result.shape"
   ]
  },
  {
   "cell_type": "code",
   "execution_count": 54,
   "metadata": {},
   "outputs": [
    {
     "name": "stdout",
     "output_type": "stream",
     "text": [
      "<class 'pandas.core.frame.DataFrame'>\n",
      "Int64Index: 4581241 entries, 0 to 4799209\n",
      "Data columns (total 3 columns):\n",
      "Month             uint8\n",
      "price_per_mile    float64\n",
      "Borough           object\n",
      "dtypes: float64(1), object(1), uint8(1)\n",
      "memory usage: 362.5 MB\n"
     ]
    }
   ],
   "source": [
    "result.info(memory_usage='deep')"
   ]
  },
  {
   "cell_type": "code",
   "execution_count": 55,
   "metadata": {},
   "outputs": [
    {
     "name": "stdout",
     "output_type": "stream",
     "text": [
      "Borough\n",
      "Bronx            5.814156\n",
      "Brooklyn         5.832325\n",
      "Manhattan        6.275815\n",
      "Queens           5.563733\n",
      "Staten Island    6.044153\n",
      "Name: price_per_mile, dtype: float64\n"
     ]
    }
   ],
   "source": [
    "M=result.groupby('Borough')['price_per_mile'].mean()\n",
    "print(M)"
   ]
  },
  {
   "cell_type": "code",
   "execution_count": 56,
   "metadata": {},
   "outputs": [
    {
     "data": {
      "text/plain": [
       "<matplotlib.axes._subplots.AxesSubplot at 0x1e0859c25f8>"
      ]
     },
     "execution_count": 56,
     "metadata": {},
     "output_type": "execute_result"
    },
    {
     "data": {
      "image/png": "[encoded data removed]",
      "text/plain": [
       "<Figure size 432x288 with 1 Axes>"
      ]
     },
     "metadata": {},
     "output_type": "display_data"
    }
   ],
   "source": [
    "#plotting\n",
    "M.plot.bar()"
   ]
  },
  {
   "cell_type": "markdown",
   "metadata": {},
   "source": [
    "#### Manhattan seems to be the most expensive area, Staten Island comes in the second palce. Queens charges each passenger the lowest amount"
   ]
  },
  {
   "cell_type": "code",
   "execution_count": 57,
   "metadata": {},
   "outputs": [],
   "source": [
    "S=result.groupby('Borough')['price_per_mile'].std()"
   ]
  },
  {
   "cell_type": "code",
   "execution_count": 58,
   "metadata": {},
   "outputs": [
    {
     "name": "stdout",
     "output_type": "stream",
     "text": [
      "Borough\n",
      "Bronx            1.334353\n",
      "Brooklyn         1.335033\n",
      "Manhattan        1.426326\n",
      "Queens           1.322763\n",
      "Staten Island    1.525956\n",
      "Name: price_per_mile, dtype: float64\n"
     ]
    }
   ],
   "source": [
    "print(S)"
   ]
  },
  {
   "cell_type": "code",
   "execution_count": 59,
   "metadata": {},
   "outputs": [
    {
     "data": {
      "text/plain": [
       "<matplotlib.axes._subplots.AxesSubplot at 0x1e085b87b38>"
      ]
     },
     "execution_count": 59,
     "metadata": {},
     "output_type": "execute_result"
    },
    {
     "data": {
      "image/png": "[encoded data removed]",
      "text/plain": [
       "<Figure size 432x288 with 1 Axes>"
      ]
     },
     "metadata": {},
     "output_type": "display_data"
    }
   ],
   "source": [
    "S.plot.bar()"
   ]
  },
  {
   "cell_type": "markdown",
   "metadata": {},
   "source": [
    "#### Seems to be that the variation in values for Staten Island is the highest. This makes us wonder if the its mean has a true value. "
   ]
  },
  {
   "cell_type": "markdown",
   "metadata": {},
   "source": [
    "# T-Test"
   ]
  },
  {
   "cell_type": "code",
   "execution_count": 60,
   "metadata": {},
   "outputs": [],
   "source": [
    "from scipy import stats\n",
    "#import scipy.stats \n",
    "#Welch's t-test\n",
    "#scipy.stats.ttest_ind(two_data.loc['cat'], two_data.loc['cat2'], equal_var=False)#default is two sided t-test \n",
    "#(ttest_ind= independent t- test also called two sapmle t-test or student's t-test)\n"
   ]
  },
  {
   "cell_type": "code",
   "execution_count": 61,
   "metadata": {},
   "outputs": [],
   "source": [
    "#independent t-test assumption\n"
   ]
  },
  {
   "cell_type": "code",
   "execution_count": 62,
   "metadata": {},
   "outputs": [],
   "source": [
    "#ttest_ind(bronx, brooklyn)\n",
    "\n",
    "#which type of t-test to apply?\n",
    "#We check if independent t-test is going to have reliable results for our case?\n",
    "boroughs = ['Bronx', 'Brooklyn', 'Manhattan', 'Staten Island', 'Queens']\n",
    "iterables = [['Bronx', 'Brooklyn', 'Manhattan', 'Staten Island', 'Queens'], ['t-value', 'p-value', \"H0 hypothesis\"]]\n",
    "my_index = pd.MultiIndex.from_product(iterables)\n",
    "dt = pd.DataFrame(index=my_index, columns=boroughs)\n"
   ]
  },
  {
   "cell_type": "code",
   "execution_count": 63,
   "metadata": {},
   "outputs": [],
   "source": [
    "for i in boroughs:\n",
    "    a = result.loc[result.Borough==i][\"price_per_mile\"]\n",
    "    for j in boroughs:\n",
    "            b = result.loc[result.Borough==j][\"price_per_mile\"]\n",
    "            t2, p2 = stats.ttest_ind(a,b, equal_var=False)\n",
    "            dt.loc[(i,\"t-value\"),j]=t2\n",
    "            dt.loc[(i,\"p-value\"),j]=p2\n",
    "            if(p2>0.05):\n",
    "               dt.loc[(i,\"H0 hypothesis\"),j]='Fail to Reject H0'\n",
    "            else:\n",
    "               dt.loc[(i,\"H0 hypothesis\"),j]='Reject H0'"
   ]
  },
  {
   "cell_type": "code",
   "execution_count": 64,
   "metadata": {},
   "outputs": [
    {
     "data": {
      "text/html": [
       "<div>\n",
       "<style scoped>\n",
       "    .dataframe tbody tr th:only-of-type {\n",
       "        vertical-align: middle;\n",
       "    }\n",
       "\n",
       "    .dataframe tbody tr th {\n",
       "        vertical-align: top;\n",
       "    }\n",
       "\n",
       "    .dataframe thead th {\n",
       "        text-align: right;\n",
       "    }\n",
       "</style>\n",
       "<table border=\"1\" class=\"dataframe\">\n",
       "  <thead>\n",
       "    <tr style=\"text-align: right;\">\n",
       "      <th></th>\n",
       "      <th></th>\n",
       "      <th>Bronx</th>\n",
       "      <th>Brooklyn</th>\n",
       "      <th>Manhattan</th>\n",
       "      <th>Staten Island</th>\n",
       "      <th>Queens</th>\n",
       "    </tr>\n",
       "  </thead>\n",
       "  <tbody>\n",
       "    <tr>\n",
       "      <th rowspan=\"3\" valign=\"top\">Bronx</th>\n",
       "      <th>t-value</th>\n",
       "      <td>0</td>\n",
       "      <td>-0.698646</td>\n",
       "      <td>-18.3174</td>\n",
       "      <td>-0.822191</td>\n",
       "      <td>9.63325</td>\n",
       "    </tr>\n",
       "    <tr>\n",
       "      <th>p-value</th>\n",
       "      <td>1</td>\n",
       "      <td>0.484824</td>\n",
       "      <td>6.89177e-71</td>\n",
       "      <td>0.41757</td>\n",
       "      <td>1.14115e-21</td>\n",
       "    </tr>\n",
       "    <tr>\n",
       "      <th>H0 hypothesis</th>\n",
       "      <td>Fail to Reject H0</td>\n",
       "      <td>Fail to Reject H0</td>\n",
       "      <td>Reject H0</td>\n",
       "      <td>Fail to Reject H0</td>\n",
       "      <td>Reject H0</td>\n",
       "    </tr>\n",
       "    <tr>\n",
       "      <th rowspan=\"3\" valign=\"top\">Brooklyn</th>\n",
       "      <th>t-value</th>\n",
       "      <td>0.698646</td>\n",
       "      <td>0</td>\n",
       "      <td>-68.3945</td>\n",
       "      <td>-0.760126</td>\n",
       "      <td>29.5519</td>\n",
       "    </tr>\n",
       "    <tr>\n",
       "      <th>p-value</th>\n",
       "      <td>0.484824</td>\n",
       "      <td>1</td>\n",
       "      <td>0</td>\n",
       "      <td>0.453309</td>\n",
       "      <td>5.71104e-191</td>\n",
       "    </tr>\n",
       "    <tr>\n",
       "      <th>H0 hypothesis</th>\n",
       "      <td>Fail to Reject H0</td>\n",
       "      <td>Fail to Reject H0</td>\n",
       "      <td>Reject H0</td>\n",
       "      <td>Fail to Reject H0</td>\n",
       "      <td>Reject H0</td>\n",
       "    </tr>\n",
       "    <tr>\n",
       "      <th rowspan=\"3\" valign=\"top\">Manhattan</th>\n",
       "      <th>t-value</th>\n",
       "      <td>18.3174</td>\n",
       "      <td>68.3945</td>\n",
       "      <td>0</td>\n",
       "      <td>0.831519</td>\n",
       "      <td>110.582</td>\n",
       "    </tr>\n",
       "    <tr>\n",
       "      <th>p-value</th>\n",
       "      <td>6.89177e-71</td>\n",
       "      <td>0</td>\n",
       "      <td>1</td>\n",
       "      <td>0.412475</td>\n",
       "      <td>0</td>\n",
       "    </tr>\n",
       "    <tr>\n",
       "      <th>H0 hypothesis</th>\n",
       "      <td>Reject H0</td>\n",
       "      <td>Reject H0</td>\n",
       "      <td>Fail to Reject H0</td>\n",
       "      <td>Fail to Reject H0</td>\n",
       "      <td>Reject H0</td>\n",
       "    </tr>\n",
       "    <tr>\n",
       "      <th rowspan=\"3\" valign=\"top\">Staten Island</th>\n",
       "      <th>t-value</th>\n",
       "      <td>0.822191</td>\n",
       "      <td>0.760126</td>\n",
       "      <td>-0.831519</td>\n",
       "      <td>0</td>\n",
       "      <td>1.72395</td>\n",
       "    </tr>\n",
       "    <tr>\n",
       "      <th>p-value</th>\n",
       "      <td>0.41757</td>\n",
       "      <td>0.453309</td>\n",
       "      <td>0.412475</td>\n",
       "      <td>1</td>\n",
       "      <td>0.0953524</td>\n",
       "    </tr>\n",
       "    <tr>\n",
       "      <th>H0 hypothesis</th>\n",
       "      <td>Fail to Reject H0</td>\n",
       "      <td>Fail to Reject H0</td>\n",
       "      <td>Fail to Reject H0</td>\n",
       "      <td>Fail to Reject H0</td>\n",
       "      <td>Fail to Reject H0</td>\n",
       "    </tr>\n",
       "    <tr>\n",
       "      <th rowspan=\"3\" valign=\"top\">Queens</th>\n",
       "      <th>t-value</th>\n",
       "      <td>-9.63325</td>\n",
       "      <td>-29.5519</td>\n",
       "      <td>-110.582</td>\n",
       "      <td>-1.72395</td>\n",
       "      <td>0</td>\n",
       "    </tr>\n",
       "    <tr>\n",
       "      <th>p-value</th>\n",
       "      <td>1.14115e-21</td>\n",
       "      <td>5.71104e-191</td>\n",
       "      <td>0</td>\n",
       "      <td>0.0953524</td>\n",
       "      <td>1</td>\n",
       "    </tr>\n",
       "    <tr>\n",
       "      <th>H0 hypothesis</th>\n",
       "      <td>Reject H0</td>\n",
       "      <td>Reject H0</td>\n",
       "      <td>Reject H0</td>\n",
       "      <td>Fail to Reject H0</td>\n",
       "      <td>Fail to Reject H0</td>\n",
       "    </tr>\n",
       "  </tbody>\n",
       "</table>\n",
       "</div>"
      ],
      "text/plain": [
       "                                         Bronx           Brooklyn  \\\n",
       "Bronx         t-value                        0          -0.698646   \n",
       "              p-value                        1           0.484824   \n",
       "              H0 hypothesis  Fail to Reject H0  Fail to Reject H0   \n",
       "Brooklyn      t-value                 0.698646                  0   \n",
       "              p-value                 0.484824                  1   \n",
       "              H0 hypothesis  Fail to Reject H0  Fail to Reject H0   \n",
       "Manhattan     t-value                  18.3174            68.3945   \n",
       "              p-value              6.89177e-71                  0   \n",
       "              H0 hypothesis          Reject H0          Reject H0   \n",
       "Staten Island t-value                 0.822191           0.760126   \n",
       "              p-value                  0.41757           0.453309   \n",
       "              H0 hypothesis  Fail to Reject H0  Fail to Reject H0   \n",
       "Queens        t-value                 -9.63325           -29.5519   \n",
       "              p-value              1.14115e-21       5.71104e-191   \n",
       "              H0 hypothesis          Reject H0          Reject H0   \n",
       "\n",
       "                                     Manhattan      Staten Island  \\\n",
       "Bronx         t-value                 -18.3174          -0.822191   \n",
       "              p-value              6.89177e-71            0.41757   \n",
       "              H0 hypothesis          Reject H0  Fail to Reject H0   \n",
       "Brooklyn      t-value                 -68.3945          -0.760126   \n",
       "              p-value                        0           0.453309   \n",
       "              H0 hypothesis          Reject H0  Fail to Reject H0   \n",
       "Manhattan     t-value                        0           0.831519   \n",
       "              p-value                        1           0.412475   \n",
       "              H0 hypothesis  Fail to Reject H0  Fail to Reject H0   \n",
       "Staten Island t-value                -0.831519                  0   \n",
       "              p-value                 0.412475                  1   \n",
       "              H0 hypothesis  Fail to Reject H0  Fail to Reject H0   \n",
       "Queens        t-value                 -110.582           -1.72395   \n",
       "              p-value                        0          0.0953524   \n",
       "              H0 hypothesis          Reject H0  Fail to Reject H0   \n",
       "\n",
       "                                        Queens  \n",
       "Bronx         t-value                  9.63325  \n",
       "              p-value              1.14115e-21  \n",
       "              H0 hypothesis          Reject H0  \n",
       "Brooklyn      t-value                  29.5519  \n",
       "              p-value             5.71104e-191  \n",
       "              H0 hypothesis          Reject H0  \n",
       "Manhattan     t-value                  110.582  \n",
       "              p-value                        0  \n",
       "              H0 hypothesis          Reject H0  \n",
       "Staten Island t-value                  1.72395  \n",
       "              p-value                0.0953524  \n",
       "              H0 hypothesis  Fail to Reject H0  \n",
       "Queens        t-value                        0  \n",
       "              p-value                        1  \n",
       "              H0 hypothesis  Fail to Reject H0  "
      ]
     },
     "execution_count": 64,
     "metadata": {},
     "output_type": "execute_result"
    }
   ],
   "source": [
    "dt"
   ]
  },
  {
   "cell_type": "markdown",
   "metadata": {},
   "source": [
    "##### these are the t-values and p-values that I get! I am reading to understand if this t-test is appropriate for our data, hence the results are meaningful \n"
   ]
  },
  {
   "cell_type": "markdown",
   "metadata": {},
   "source": [
    "## Taking traffic congestion into consideration\n"
   ]
  },
  {
   "cell_type": "code",
   "execution_count": null,
   "metadata": {},
   "outputs": [],
   "source": [
    "#We divide values in 'price_per_mile' by values in 'Duration' column\n",
    "result['price_duration']=result['price_per_mile']/result['Duration']"
   ]
  },
  {
   "cell_type": "code",
   "execution_count": null,
   "metadata": {},
   "outputs": [],
   "source": [
    "s=result.groupby('Borough')['price_duration'].mean()\n",
    "print(s)"
   ]
  },
  {
   "cell_type": "code",
   "execution_count": null,
   "metadata": {},
   "outputs": [],
   "source": [
    "s.plot.bar()"
   ]
  },
  {
   "cell_type": "code",
   "execution_count": null,
   "metadata": {},
   "outputs": [],
   "source": [
    "m=result.groupby('Borough')['price_duration'].std()\n",
    "print(s)"
   ]
  },
  {
   "cell_type": "code",
   "execution_count": null,
   "metadata": {},
   "outputs": [],
   "source": [
    "m.plot.bar()"
   ]
  },
  {
   "cell_type": "code",
   "execution_count": null,
   "metadata": {},
   "outputs": [],
   "source": [
    "#T-Test"
   ]
  },
  {
   "cell_type": "code",
   "execution_count": null,
   "metadata": {},
   "outputs": [],
   "source": [
    "dt2 = pd.DataFrame(index=my_index, columns=boroughs)"
   ]
  },
  {
   "cell_type": "code",
   "execution_count": null,
   "metadata": {},
   "outputs": [],
   "source": [
    "for i in boroughs:\n",
    "    a = result.loc[result.Borough==i][\"price_per_mile\"]\n",
    "    for j in boroughs:\n",
    "            b = result.loc[result.Borough==j][\"price_per_mile\"]\n",
    "            b = b.dropna()\n",
    "            t2, p2 = stats.ttest_ind(a,b)\n",
    "            #T.append(t2)\n",
    "            #P.append(p2)\n",
    "            dt2.loc[(i,\"t-value\"),j]=t2\n",
    "            dt2.loc[(i,\"p-value\"),j]=p2\n",
    "            if(p2>0.05):\n",
    "               dt2.loc[(i,\"H0 hypothesis\"),j]='Fail to Reject H0'\n",
    "            else:\n",
    "               dt2.loc[(i,\"H0 hypothesis\"),j]='Reject H0'"
   ]
  },
  {
   "cell_type": "code",
   "execution_count": null,
   "metadata": {},
   "outputs": [],
   "source": [
    "dt2"
   ]
  },
  {
   "cell_type": "markdown",
   "metadata": {},
   "source": [
    "### For 2018"
   ]
  },
  {
   "cell_type": "code",
   "execution_count": 18,
   "metadata": {},
   "outputs": [],
   "source": [
    "DF = []\n",
    "\n",
    "for i in range(1, 7):\n",
    "    df2018 = pd.read_csv(r\"C:\\Users\\samin\\Desktop\\Homework2\\Data\\yellow_tripdata_2018-0{}.csv\".format(i), usecols = ['tpep_pickup_datetime', 'tpep_dropoff_datetime', 'trip_distance', 'fare_amount', 'PULocationID'])\n",
    "    \n",
    "    #change the type to datetime\n",
    "    df2018['tpep_pickup_datetime']=pd.to_datetime(df2018['tpep_pickup_datetime'])\n",
    "    df2018['tpep_dropoff_datetime']=pd.to_datetime(df2018['tpep_dropoff_datetime'])\n",
    "    \n",
    "    \n",
    "    #extract necessary columns\n",
    "    df2018['Year'] = pd.DatetimeIndex(df2018['tpep_pickup_datetime']).year \n",
    "    df2018['Month'] = pd.DatetimeIndex(df2018['tpep_pickup_datetime']).month\n",
    "   \n",
    "     \n",
    "    #some data-cleaning\n",
    "    yer = 2018\n",
    "    df2018.drop(df2018[(df2018.Year != yer)].index, inplace=True)\n",
    "    mth = i   \n",
    "    df2018.drop(df2018[(df2018.Month) !=mth].index, inplace=True)\n",
    "    \n",
    "    df2018.drop(df2018[df2018['trip_distance']<0.5].index, inplace=True) \n",
    "    df2018.drop(df2018[df2018['fare_amount']<1].index, inplace=True)\n",
    "    \n",
    "    \n",
    "    #dropping locations with ID=1 wich refer to EWR and ID= 265 and 264 wich refer to Unknown\n",
    "    #df2018.drop(df2018[df2018['PULocationID']==1 & df2018['PULocationID']==264 & df2018['PULocationID']==265].index, inplace=True)\n",
    "    \n",
    "    df2018['price_per_mile']=df2018['fare_amount']/df2018['trip_distance']\n",
    "    df2018.drop(df2018[df2018['price_per_mile']<0].index, inplace=True)\n",
    "    \n",
    "    df2018['duration']=(df2018['tpep_dropoff_datetime']-df2018['tpep_pickup_datetime'])/pd.Timedelta('1 minute')\n",
    "    \n",
    "    df2018.drop(columns = ['tpep_pickup_datetime', 'tpep_dropoff_datetime', 'fare_amount', 'trip_distance'], inplace=True)\n",
    "    df2018.drop(df2018[df2018['duration']<5].index, inplace=True)\n",
    "    \n",
    "    df2018['price_duration']=df2018['price_per_mile']/df2018['duration']\n",
    "    df2018.drop(df2018[df2018['price_duration']<0].index, inplace=True)\n",
    "    \n",
    "    DF.append(df2018)\n",
    "    \n",
    "    del df2018"
   ]
  },
  {
   "cell_type": "code",
   "execution_count": 20,
   "metadata": {},
   "outputs": [
    {
     "ename": "AttributeError",
     "evalue": "'list' object has no attribute 'shape'",
     "output_type": "error",
     "traceback": [
      "\u001b[1;31m---------------------------------------------------------------------------\u001b[0m",
      "\u001b[1;31mAttributeError\u001b[0m                            Traceback (most recent call last)",
      "\u001b[1;32m<ipython-input-20-798e60140269>\u001b[0m in \u001b[0;36m<module>\u001b[1;34m()\u001b[0m\n\u001b[1;32m----> 1\u001b[1;33m \u001b[0mDF\u001b[0m\u001b[1;33m.\u001b[0m\u001b[0mshape\u001b[0m\u001b[1;33m(\u001b[0m\u001b[1;33m)\u001b[0m\u001b[1;33m\u001b[0m\u001b[0m\n\u001b[0m",
      "\u001b[1;31mAttributeError\u001b[0m: 'list' object has no attribute 'shape'"
     ]
    }
   ],
   "source": [
    "DF.shape()"
   ]
  },
  {
   "cell_type": "code",
   "execution_count": null,
   "metadata": {},
   "outputs": [],
   "source": []
  }
 ],
 "metadata": {
  "kernelspec": {
   "display_name": "Python 3",
   "language": "python",
   "name": "python3"
  },
  "language_info": {
   "codemirror_mode": {
    "name": "ipython",
    "version": 3
   },
   "file_extension": ".py",
   "mimetype": "text/x-python",
   "name": "python",
   "nbconvert_exporter": "python",
   "pygments_lexer": "ipython3",
   "version": "3.6.5"
  }
 },
 "nbformat": 4,
 "nbformat_minor": 2
}
