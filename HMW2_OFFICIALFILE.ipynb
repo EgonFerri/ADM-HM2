{
 "cells": [
  {
   "cell_type": "markdown",
   "metadata": {},
   "source": [
    "# HOMEWORK 2 ADM\n",
    "#### Samin Hamidi, Egon Ferri, Davide Manfredini"
   ]
  },
  {
   "cell_type": "code",
   "execution_count": 137,
   "metadata": {},
   "outputs": [],
   "source": [
    "import pandas as pd\n",
    "import numpy as np\n",
    "from datetime import datetime\n",
    "import time\n",
    "import scipy.stats as stats\n",
    "import matplotlib.pyplot as plt\n",
    "import seaborn as sns\n",
    "from sys import getsizeof as get\n",
    "from collections import Counter\n",
    "import folium\n",
    "import json\n",
    "import branca.colormap as cm\n",
    "import os\n",
    "from branca.colormap import linear\n",
    "\n",
    "import warnings\n",
    "warnings.filterwarnings('ignore')"
   ]
  },
  {
   "cell_type": "markdown",
   "metadata": {},
   "source": [
    "## PRELIMINARY ANALYSIS\n",
    "###### We load our data file and we took a glance at it"
   ]
  },
  {
   "cell_type": "code",
   "execution_count": null,
   "metadata": {},
   "outputs": [],
   "source": [
    "M1 = pd.read_csv(r\"C:\\Users\\Egon\\Desktop\\Universita\\ADM\\homework2\\dati\\yellow_tripdata_2018-01.csv\")"
   ]
  },
  {
   "cell_type": "markdown",
   "metadata": {},
   "source": [
    "Size, shape, and basic charateristics of our data frame:"
   ]
  },
  {
   "cell_type": "code",
   "execution_count": null,
   "metadata": {},
   "outputs": [],
   "source": [
    "get(M1)"
   ]
  },
  {
   "cell_type": "code",
   "execution_count": null,
   "metadata": {},
   "outputs": [],
   "source": [
    "print(M1.shape)"
   ]
  },
  {
   "cell_type": "code",
   "execution_count": null,
   "metadata": {},
   "outputs": [],
   "source": [
    "M1.head()"
   ]
  },
  {
   "cell_type": "code",
   "execution_count": null,
   "metadata": {},
   "outputs": [],
   "source": [
    "M1.describe()\n"
   ]
  },
  {
   "cell_type": "code",
   "execution_count": null,
   "metadata": {},
   "outputs": [],
   "source": [
    "M1.info()"
   ]
  },
  {
   "cell_type": "markdown",
   "metadata": {},
   "source": [
    "We check if are there any NaN values in the month of January.\n"
   ]
  },
  {
   "cell_type": "code",
   "execution_count": null,
   "metadata": {},
   "outputs": [],
   "source": [
    "\n",
    "#is there any NaN (not a number) values in the dataframe?\n",
    "#Returns a dataframe of boolean values (true/false)\n",
    "#M1.isnull()\n",
    "\n",
    "#If we want to find only those columns which have NaN values\n",
    "print(M1.isnull().any())\n",
    "\n",
    "#one more any() will tell us if any of the above is true?\n",
    "print(M1.isnull().any().any())\n"
   ]
  },
  {
   "cell_type": "code",
   "execution_count": null,
   "metadata": {},
   "outputs": [],
   "source": [
    "#another way to see if our dataframe has any NaN vales\n",
    "M1.isnull().values.any()\n"
   ]
  },
  {
   "cell_type": "markdown",
   "metadata": {},
   "source": [
    "So we see that we have not NaN values. Looking at the dataframe we see that some cells have 0 value. We will see how to manage them."
   ]
  },
  {
   "cell_type": "markdown",
   "metadata": {},
   "source": [
    "## RQ1\n",
    "##### In what period of the year Taxis are used more? Create a plot that, for each month, shows the average number of trips recorded each day. Due to the differences among New York zones, we want to visualize the same information for each boroughs. Do you notice any difference among them? Provide comments and plausible explanations about what you observe (e.g.: what is the month with the highest daily average?)."
   ]
  },
  {
   "cell_type": "markdown",
   "metadata": {},
   "source": [
    "The pickup boroughs are taken into consideration.\n",
    "To answer this question, we need two columns. So, we drop the others. \n",
    "We keep tpep_pickup_datetime, PULocationID."
   ]
  },
  {
   "cell_type": "code",
   "execution_count": null,
   "metadata": {},
   "outputs": [],
   "source": [
    "\n",
    "#dropping vs keeping the ones I need?\n",
    "#df.drop(columns=['', 'C'])\n",
    "M2 = M1.filter(['tpep_pickup_datetime', 'PULocationID'])\n",
    "#free the memory from this big object M1 is! \n",
    "del M1\n"
   ]
  },
  {
   "cell_type": "code",
   "execution_count": null,
   "metadata": {},
   "outputs": [],
   "source": [
    "M2.head(2)"
   ]
  },
  {
   "cell_type": "code",
   "execution_count": null,
   "metadata": {},
   "outputs": [],
   "source": [
    "M2.info()"
   ]
  },
  {
   "cell_type": "markdown",
   "metadata": {},
   "source": [
    "We have two datetime objects. Let's convert them into usable data columns:  day, hour, minutes,.."
   ]
  },
  {
   "cell_type": "code",
   "execution_count": null,
   "metadata": {},
   "outputs": [],
   "source": [
    "M2['pickup_day'] = pd.DatetimeIndex(M2['tpep_pickup_datetime']).day\n"
   ]
  },
  {
   "cell_type": "code",
   "execution_count": null,
   "metadata": {},
   "outputs": [],
   "source": [
    "M2.head()"
   ]
  },
  {
   "cell_type": "markdown",
   "metadata": {},
   "source": [
    "Drop the columns we don't need anymore."
   ]
  },
  {
   "cell_type": "code",
   "execution_count": null,
   "metadata": {},
   "outputs": [],
   "source": [
    "M3 = M2.drop(columns = ['tpep_pickup_datetime'])"
   ]
  },
  {
   "cell_type": "code",
   "execution_count": null,
   "metadata": {},
   "outputs": [],
   "source": [
    "#Free up memory space \n",
    "del M2"
   ]
  },
  {
   "cell_type": "code",
   "execution_count": null,
   "metadata": {},
   "outputs": [],
   "source": [
    "M3.head()"
   ]
  },
  {
   "cell_type": "markdown",
   "metadata": {},
   "source": [
    "Now we want to substitute PULocationID with corrispondent Borough."
   ]
  },
  {
   "cell_type": "code",
   "execution_count": null,
   "metadata": {},
   "outputs": [],
   "source": [
    "#concatenate(join/merge)M3 and taxi_zone_lookup dataframe\n",
    "\n",
    "#read taxi_zone_lookup\n",
    "borough = pd.read_csv(r\"C:\\Users\\Egon\\Desktop\\Universita\\ADM\\homework2\\dati\\taxi_zone_lookup.csv\")"
   ]
  },
  {
   "cell_type": "code",
   "execution_count": null,
   "metadata": {},
   "outputs": [],
   "source": [
    "borough.head(5)"
   ]
  },
  {
   "cell_type": "markdown",
   "metadata": {},
   "source": [
    "The key column is LocationID in boroughs and (PULocationID or DOLocationID) in M3. They contain the same data: LocationIDs. "
   ]
  },
  {
   "cell_type": "code",
   "execution_count": null,
   "metadata": {},
   "outputs": [],
   "source": [
    "#the key column is LocationID in boroughs and (PULocationID or DOLocationID) in M3. They contain the same data: LocationIDs. \n",
    "#How to merge these two dataframes when two columns' keys are not in the same order?\n",
    "\n",
    "result = pd.merge(M3,\n",
    "                 borough[['LocationID', 'Borough']],\n",
    "                 left_on='PULocationID',\n",
    "                 right_on='LocationID',\n",
    "                 how='inner' \n",
    "                 )\n",
    "result.head()\n"
   ]
  },
  {
   "cell_type": "code",
   "execution_count": null,
   "metadata": {},
   "outputs": [],
   "source": [
    "M4 = result.drop(['LocationID'], 1)\n",
    "M4.head()"
   ]
  },
  {
   "cell_type": "code",
   "execution_count": null,
   "metadata": {},
   "outputs": [],
   "source": [
    "del result "
   ]
  },
  {
   "cell_type": "markdown",
   "metadata": {},
   "source": [
    "Now, we need to use groupby function. We need the average frequency of taxis used in each day and for each borough seperately. \n",
    "\n",
    "First we group by based on our boroughs.\n"
   ]
  },
  {
   "cell_type": "code",
   "execution_count": null,
   "metadata": {},
   "outputs": [],
   "source": [
    "M4.groupby(['Borough']).groups.keys()"
   ]
  },
  {
   "cell_type": "code",
   "execution_count": null,
   "metadata": {},
   "outputs": [],
   "source": [
    "s = M4.groupby('Borough')['pickup_day'].count()\n"
   ]
  },
  {
   "cell_type": "markdown",
   "metadata": {},
   "source": [
    "Now we create a list of averages of each borough  and we append to the list the cumulative value of New York City."
   ]
  },
  {
   "cell_type": "code",
   "execution_count": null,
   "metadata": {},
   "outputs": [],
   "source": [
    "borAvgs=[]\n",
    "for i in range (7):\n",
    "    borAvgs.append(s[i]//31)\n",
    "NYAvgs=sum(borAvgs)\n",
    "borAvgs.append(NYAvgs)"
   ]
  },
  {
   "cell_type": "code",
   "execution_count": null,
   "metadata": {},
   "outputs": [],
   "source": [
    "print(borAvgs)\n",
    "print(NYAvgs)"
   ]
  },
  {
   "cell_type": "markdown",
   "metadata": {},
   "source": [
    "Now we want to repeat this analysis for each month.\n",
    "We create a dataframe to store the analisy."
   ]
  },
  {
   "cell_type": "code",
   "execution_count": null,
   "metadata": {},
   "outputs": [],
   "source": [
    "columns=[]\n",
    "index= ['Bronx','Brooklyn','EWR','Manhattan','queens','Staten Island','Unknow', 'NYC']\n",
    "df=pd.DataFrame(index=index, columns=columns) "
   ]
  },
  {
   "cell_type": "code",
   "execution_count": null,
   "metadata": {},
   "outputs": [],
   "source": [
    "df"
   ]
  },
  {
   "cell_type": "code",
   "execution_count": null,
   "metadata": {},
   "outputs": [],
   "source": [
    "df['January']=borAvgs\n"
   ]
  },
  {
   "cell_type": "code",
   "execution_count": null,
   "metadata": {},
   "outputs": [],
   "source": [
    "df"
   ]
  },
  {
   "cell_type": "markdown",
   "metadata": {},
   "source": [
    "Now we want to repeat and store our analysis for each month."
   ]
  },
  {
   "cell_type": "code",
   "execution_count": null,
   "metadata": {},
   "outputs": [],
   "source": [
    "months=[' ','January','February','March','April','May','June']\n",
    "for i in range(2,7):\n",
    "    M1= pd.read_csv(r\"C:\\Users\\Egon\\Desktop\\Universita\\ADM\\homework2\\dati\\yellow_tripdata_2018-0\"+str(i)+\".csv\", encoding = 'latin-1')\n",
    "    M2 = M1.filter(['tpep_pickup_datetime', 'PULocationID'])\n",
    "    del M1\n",
    "    M2['pickup_day'] = pd.DatetimeIndex(M2['tpep_pickup_datetime']).day\n",
    "    M3 = M2.drop(columns = ['tpep_pickup_datetime'])\n",
    "    result = pd.merge(M3,\n",
    "                 borough[['LocationID', 'Borough']],\n",
    "                 left_on='PULocationID',\n",
    "                 right_on='LocationID',\n",
    "                 how='inner' \n",
    "                 )\n",
    "    M4 = result.drop(['LocationID'], 1)\n",
    "    M4.groupby(['Borough']).groups.keys()\n",
    "    s = M4.groupby('Borough')['pickup_day'].count()\n",
    "    borAvgs=[]\n",
    "    for j in range (7):\n",
    "        if months[i] == 'March' or months[i] == 'May':\n",
    "            borAvgs.append(s[j]//31)\n",
    "        if months[i] == 'February':\n",
    "            borAvgs.append(s[j]//28)\n",
    "        if months[i] == 'April' or months[i] == 'June':\n",
    "            borAvgs.append(s[j]//30)\n",
    "    NYAvgs=sum(borAvgs)\n",
    "    borAvgs.append(NYAvgs)\n",
    "    df[months[i]]=borAvgs\n"
   ]
  },
  {
   "cell_type": "code",
   "execution_count": null,
   "metadata": {},
   "outputs": [],
   "source": [
    "df"
   ]
  },
  {
   "cell_type": "markdown",
   "metadata": {},
   "source": [
    "We transpose the dataframe to get plot of the keys that we want (boroughs)."
   ]
  },
  {
   "cell_type": "code",
   "execution_count": null,
   "metadata": {},
   "outputs": [],
   "source": [
    "df_tra=df.T\n",
    "df_tra"
   ]
  },
  {
   "cell_type": "markdown",
   "metadata": {},
   "source": [
    "We plot some graphs to get a good visualization of our problem.\n",
    "\n",
    "Graph of taxis taken in New York in each month:"
   ]
  },
  {
   "cell_type": "code",
   "execution_count": null,
   "metadata": {
    "scrolled": false
   },
   "outputs": [],
   "source": [
    "df_tra['NYC'].plot(kind='bar', figsize=(15,5))\n"
   ]
  },
  {
   "cell_type": "markdown",
   "metadata": {},
   "source": [
    "Graph of taxis taken in New York in each month in each borough."
   ]
  },
  {
   "cell_type": "code",
   "execution_count": null,
   "metadata": {},
   "outputs": [],
   "source": [
    "df_tra.plot(kind='bar', figsize=(15,5))"
   ]
  },
  {
   "cell_type": "markdown",
   "metadata": {},
   "source": [
    "Another one:"
   ]
  },
  {
   "cell_type": "code",
   "execution_count": null,
   "metadata": {},
   "outputs": [],
   "source": [
    "df_tra.plot(kind='line', figsize=(15,5))"
   ]
  },
  {
   "cell_type": "markdown",
   "metadata": {},
   "source": [
    "Unfortunatly those plots don't give us a very good representation becouse Boroughs are very differents from each other in average number of Taxis, so they don't fit well in a unique graph. However we can describe some minor common patterns."
   ]
  },
  {
   "cell_type": "markdown",
   "metadata": {},
   "source": [
    "## OBSERVATIONS\n",
    " 1.As it's easy to see from our data frame and from our graphs, Manhattan has the highest trafic of taxis in each of six month compared to other boroughs. \n",
    " 2.Another thing observable, is that pick ups in January and June are less frequent. April is the month with the highest number of pick ups. "
   ]
  },
  {
   "cell_type": "markdown",
   "metadata": {},
   "source": [
    "## RQ3\n",
    "##### Do the all trips last the same? Let's put our attention on the distribution of trip's duration. Provide a plot for it and comment what you see. Run this analysis for NYC and for each borough (and obviously comment the results!)."
   ]
  },
  {
   "cell_type": "markdown",
   "metadata": {},
   "source": [
    "The first that we want is to intialize empty data frames for Nyc and for each boroughs."
   ]
  },
  {
   "cell_type": "code",
   "execution_count": null,
   "metadata": {},
   "outputs": [],
   "source": [
    "index=['Short','Short/Medium','Medium','Medium/Long','Long','Very Long']\n",
    "col=[]\n",
    "months=[' ','January','February','March','April','May','June']\n",
    "nycdf = pd.DataFrame(index=index, columns=col)\n",
    "bronx_df = pd.DataFrame(index=index, columns=col)\n",
    "brooklyn_df = pd.DataFrame(index=index, columns=col)\n",
    "ewr_df = pd.DataFrame(index=index, columns=col)\n",
    "manhattan_df = pd.DataFrame(index=index, columns=col)\n",
    "queens_df = pd.DataFrame(index=index, columns=col)\n",
    "staten_island_df = pd.DataFrame(index=index, columns=col)\n",
    "unknown_df = pd.DataFrame(index=index, columns=col)"
   ]
  },
  {
   "cell_type": "markdown",
   "metadata": {},
   "source": [
    "##### New York analysis "
   ]
  },
  {
   "cell_type": "code",
   "execution_count": null,
   "metadata": {},
   "outputs": [],
   "source": [
    "for i in range(1,7):\n",
    "    #We use a loop in order to pick data from each dataset\n",
    "    M1=pd.read_csv(r\"C:\\Users\\Egon\\Desktop\\Universita\\ADM\\homework2\\dati\\yellow_tripdata_2018-0\"+str(i)+\".csv\" , encoding = 'latin-1')\n",
    "    #We Clean it, saving only this columns.\n",
    "    M2 = M1.filter(['tpep_pickup_datetime','tpep_dropoff_datetime', 'PULocationID'])\n",
    "    #read the file with ID of each boroughs and merge it with the cleaned Df, after I removed the column PULocation ID\n",
    "    #because we don't need it\n",
    "    borough = pd.read_csv(r\"C:\\Users\\Egon\\Desktop\\Universita\\ADM\\homework2\\dati\\taxi_zone_lookup.csv\", encoding = 'latin-1')\n",
    "    result = pd.merge(M2,\n",
    "                 borough[['LocationID', 'Borough']],\n",
    "                 left_on='PULocationID',\n",
    "                 right_on='LocationID',\n",
    "                 how='inner' \n",
    "                 )\n",
    "    df=result.drop('PULocationID',axis=1)\n",
    "    del result \n",
    "    #For each trip I compute the duration of the trip\n",
    "    format_date='%Y-%m-%d %H:%M:%S'\n",
    "    pickup=pd.to_datetime(df['tpep_pickup_datetime'].str.strip(),format=format_date)\n",
    "    dropoff=pd.to_datetime(df['tpep_dropoff_datetime'].str.strip(), format=format_date)\n",
    "    difference=(dropoff-pickup).astype('timedelta64[m]')\n",
    "    df['Duration']=difference\n",
    "    #Then I put each trip in a category\n",
    "    l=[]\n",
    "    for ele in df['Duration']:\n",
    "        if ele<=10:\n",
    "            l.append('Short')\n",
    "        if 10<ele<=20:\n",
    "            l.append('Short/Medium')\n",
    "        if 20<ele<=30:\n",
    "            l.append('Medium')\n",
    "        if 30<ele<=40:\n",
    "            l.append('Medium/Long')\n",
    "        if 40<ele<=50:\n",
    "            l.append('Long')\n",
    "        if ele>50:\n",
    "            l.append('Very Long')\n",
    "            \n",
    "    df['Trip type']=l\n",
    "    #Now the date of pickup and dropoff are unnecessary so I remove them\n",
    "    df=df.drop(['tpep_pickup_datetime','tpep_dropoff_datetime'], axis=1)\n",
    "    \n",
    "    #We compute the number of each trip with Counter \n",
    "    d=Counter(l)\n",
    "    c=[]\n",
    "    for ind in index:\n",
    "        if ind not in d:\n",
    "            c.append(0)\n",
    "        else:\n",
    "            c.append(d[ind])\n",
    "    #We store results in a dataframe\n",
    "    nycdf[months[i]]=c"
   ]
  },
  {
   "cell_type": "markdown",
   "metadata": {},
   "source": [
    "Now we have our dataframe."
   ]
  },
  {
   "cell_type": "code",
   "execution_count": null,
   "metadata": {},
   "outputs": [],
   "source": [
    "nycdf"
   ]
  },
  {
   "cell_type": "markdown",
   "metadata": {},
   "source": [
    "Let's plot it!"
   ]
  },
  {
   "cell_type": "code",
   "execution_count": null,
   "metadata": {},
   "outputs": [],
   "source": [
    "nycdf.plot.bar(figsize=(15,7))"
   ]
  },
  {
   "cell_type": "markdown",
   "metadata": {},
   "source": [
    "##### Boroughs analysis "
   ]
  },
  {
   "cell_type": "markdown",
   "metadata": {},
   "source": [
    "We repeat same analysis for each boroughs."
   ]
  },
  {
   "cell_type": "code",
   "execution_count": null,
   "metadata": {},
   "outputs": [],
   "source": [
    "months=[' ','January','February','March','April','May','June']\n",
    "bor=['Bronx', 'Brooklyn', 'EWR', 'Manhattan', 'Queens', 'Staten Island', 'Unknown']\n",
    "for i in range(1,7):\n",
    "    M1=pd.read_csv(r\"C:\\Users\\Egon\\Desktop\\Universita\\ADM\\homework2\\dati\\yellow_tripdata_2018-0\"+str(i)+\".csv\" , encoding = 'latin-1')\n",
    "    #Clean it saving only this column\n",
    "    \n",
    "    M2 = M1.filter(['tpep_pickup_datetime','tpep_dropoff_datetime', 'PULocationID'])\n",
    "    #read the file with ID of each boroughs and merge it with the cleaned Df, after I removed the column PULocation ID\n",
    "    #because we don't need it\n",
    "    \n",
    "    borough = pd.read_csv(r\"C:\\Users\\Egon\\Desktop\\Universita\\ADM\\homework2\\dati\\taxi_zone_lookup.csv\", encoding = 'latin-1')\n",
    "    result = pd.merge(M2,\n",
    "                 borough[['LocationID', 'Borough']],\n",
    "                 left_on='PULocationID',\n",
    "                 right_on='LocationID',\n",
    "                 how='inner' \n",
    "                 )\n",
    "    df=result.drop('PULocationID',axis=1)\n",
    "    del result \n",
    "    \n",
    "    #For each trip I compute the duration of the trip\n",
    "    format_date='%Y-%m-%d %H:%M:%S'\n",
    "    pickup=pd.to_datetime(df['tpep_pickup_datetime'].str.strip(),format=format_date)\n",
    "    dropoff=pd.to_datetime(df['tpep_dropoff_datetime'].str.strip(), format=format_date)\n",
    "    difference=(dropoff-pickup).astype('timedelta64[m]')\n",
    "    \n",
    "    df['Duration']=difference\n",
    "    for b in bor:\n",
    "        s =df.loc[df['Borough'] == b]\n",
    "        #Then I put each trip in a category\n",
    "        l=[]\n",
    "        for ele in s['Duration']:\n",
    "            if ele<=10:\n",
    "                l.append('Short')\n",
    "            if 10<ele<=20:\n",
    "                l.append('Short/Medium')\n",
    "            if 20<ele<=30:\n",
    "                l.append('Medium')\n",
    "            if 30<ele<=40:\n",
    "                l.append('Medium/Long')\n",
    "            if 40<ele<=50:\n",
    "                l.append('Long')\n",
    "            if ele>50:\n",
    "                l.append('Very Long')\n",
    "        s['Trip type']=l\n",
    "        #Now the date of pickup and dropoff are unnecessary so I remove them\n",
    "        s=s.drop(['tpep_pickup_datetime','tpep_dropoff_datetime'], axis=1)\n",
    "        #I compute the number of each trip, using the category\n",
    "        d=Counter(l)\n",
    "        c=[]\n",
    "        for ind in index:\n",
    "            if ind not in d:\n",
    "                c.append(0)\n",
    "            else:\n",
    "                c.append(d[ind])\n",
    "        if b == 'Bronx':\n",
    "            bronx_df[months[i]]=c\n",
    "        if b == 'Brooklyn':\n",
    "            brooklyn_df[months[i]]=c\n",
    "        if b == 'EWR':\n",
    "            ewr_df[months[i]]=c \n",
    "        if b == 'Manhattan':\n",
    "            manhattan_df[months[i]]=c\n",
    "        if b == 'Queens':\n",
    "            queens_df[months[i]]=c\n",
    "        if b == 'Staten Island':\n",
    "            staten_island_df[months[i]]=c \n",
    "        if b == 'Unknown':\n",
    "            unknown_df[months[i]]=c"
   ]
  },
  {
   "cell_type": "code",
   "execution_count": null,
   "metadata": {
    "scrolled": false
   },
   "outputs": [],
   "source": [
    "bronx_df.plot.bar(figsize=(15,7), title= 'Bronx')\n",
    "brooklyn_df.plot.bar(figsize=(15,7), title= 'Brooklyn')\n",
    "ewr_df.plot.bar(figsize=(15,7), title= 'Ewr')\n",
    "manhattan_df.plot.bar(figsize=(15,7), title= 'Manhattan')\n",
    "queens_df.plot.bar(figsize=(15,7), title= 'Queens')\n",
    "staten_island_df.plot.bar(figsize=(15,7), title= 'Staten Island')"
   ]
  },
  {
   "cell_type": "markdown",
   "metadata": {},
   "source": [
    "## OBSERVATIONS\n",
    " 1.We see that most common trips are the short trips (0-10) min. The number of trips decreases with the duration.\n",
    " \n",
    " 2.Almost all the boroughs follow the same distro of New York. In Queens we have a strange peak in medium trips. EWR has almost every trips dureation between (0-10) minutes. These doesn't make sense to us, since trips from the airport should not behave this way. Probably it is a bug in the registration system of taxi trips."
   ]
  },
  {
   "cell_type": "markdown",
   "metadata": {},
   "source": [
    "## RQ4\n",
    "##### What is the most common way of payments? Discover the way payments are executed in each borough and visualize the number of payments for any possible means. Then run the Chi-squared test to see whether the method of payment is correlated to the borough. Then, comment the results."
   ]
  },
  {
   "cell_type": "markdown",
   "metadata": {},
   "source": [
    "The pickup boroughs are taken into consideration.\n",
    "To answer this question, we need two columns: payment_type, PULocationID.\n",
    "\n"
   ]
  },
  {
   "cell_type": "code",
   "execution_count": null,
   "metadata": {},
   "outputs": [],
   "source": [
    "M1 = pd.read_csv(r\"C:\\Users\\Egon\\Desktop\\Universita\\ADM\\homework2\\dati\\yellow_tripdata_2018-01.csv\",  usecols=['payment_type', 'PULocationID'])"
   ]
  },
  {
   "cell_type": "code",
   "execution_count": null,
   "metadata": {},
   "outputs": [],
   "source": [
    "M1.head()"
   ]
  },
  {
   "cell_type": "markdown",
   "metadata": {},
   "source": [
    "FROM THE LEGEND OF THE COLUMN WE KNOW WHAT EACH NUMERIC CODE MEANS:\n",
    "\n",
    "1= Credit card\n",
    "2= Cash\n",
    "3= No charge\n",
    "4= Dispute\n",
    "5= Unknown\n",
    "6= Voided trip"
   ]
  },
  {
   "cell_type": "markdown",
   "metadata": {},
   "source": [
    "Now we want Boroughs instead of PULocations:"
   ]
  },
  {
   "cell_type": "code",
   "execution_count": null,
   "metadata": {},
   "outputs": [],
   "source": [
    "borough = pd.read_csv(r\"C:\\Users\\Egon\\Desktop\\Universita\\ADM\\homework2\\dati\\taxi_zone_lookup.csv\")\n",
    "result = pd.merge(M1,\n",
    "                 borough[['LocationID', 'Borough']],\n",
    "                 left_on='PULocationID',\n",
    "                 right_on='LocationID',\n",
    "                 how='inner' \n",
    "                 )\n",
    "M2 = result.drop(['LocationID','PULocationID'],1)\n",
    "M2.head()"
   ]
  },
  {
   "cell_type": "markdown",
   "metadata": {},
   "source": [
    "Now that we have our df, we start to look at it.\n"
   ]
  },
  {
   "cell_type": "code",
   "execution_count": null,
   "metadata": {},
   "outputs": [],
   "source": [
    "M2.describe(include='all')"
   ]
  },
  {
   "cell_type": "markdown",
   "metadata": {},
   "source": [
    "As we see, payment type are treated as nummerical data we would like to have that as a cathegory."
   ]
  },
  {
   "cell_type": "code",
   "execution_count": null,
   "metadata": {},
   "outputs": [],
   "source": [
    "columns=[]\n",
    "index= [0,1,2,3,4,5]\n",
    "typeofpay=pd.DataFrame(index=index, columns=columns)\n",
    "ID=list(range(1,7))\n",
    "typeofpay['ID']=ID\n",
    "typeofpay['wayofpay']=['Credit card', 'Cash', 'No charge', 'Dispute', 'Unknown', 'Voided trip']\n",
    "typeofpay"
   ]
  },
  {
   "cell_type": "markdown",
   "metadata": {},
   "source": [
    "Now we have a df that we can merge with our data."
   ]
  },
  {
   "cell_type": "code",
   "execution_count": null,
   "metadata": {},
   "outputs": [],
   "source": [
    "df= pd.merge(M2,\n",
    "              typeofpay,\n",
    "              left_on='payment_type',\n",
    "              right_on='ID',\n",
    "              how='inner')\n",
    "df=df.drop(['payment_type'], 1)\n",
    "df.head()"
   ]
  },
  {
   "cell_type": "markdown",
   "metadata": {},
   "source": [
    "Now we can rerun describe to extract some info."
   ]
  },
  {
   "cell_type": "code",
   "execution_count": null,
   "metadata": {},
   "outputs": [],
   "source": [
    "df.wayofpay.describe()"
   ]
  },
  {
   "cell_type": "code",
   "execution_count": null,
   "metadata": {},
   "outputs": [],
   "source": [
    "df.wayofpay.unique()"
   ]
  },
  {
   "cell_type": "code",
   "execution_count": null,
   "metadata": {},
   "outputs": [],
   "source": [
    "df['wayofpay'].value_counts().plot(kind='bar', figsize=(10,4), color='pink')"
   ]
  },
  {
   "cell_type": "markdown",
   "metadata": {},
   "source": [
    "Now we know something more: Credit card is by far (more than 60% of the payments) the most common way to pay. Almost the totality of the other fairs is payed in cash.\n",
    "Our dataframe has only four unique value: Unknown and voided trip are missing."
   ]
  },
  {
   "cell_type": "code",
   "execution_count": null,
   "metadata": {},
   "outputs": [],
   "source": [
    "df.groupby('Borough')['ID'].hist(figsize=(10,4))"
   ]
  },
  {
   "cell_type": "markdown",
   "metadata": {},
   "source": [
    "From this quick graphical analisys we can't see any correlation between borough and way of payments, but we have to run a chi-squared test to be sure."
   ]
  },
  {
   "cell_type": "markdown",
   "metadata": {},
   "source": [
    "We create a dataframe with wayofpay as rows and Boroughs as columns."
   ]
  },
  {
   "cell_type": "code",
   "execution_count": null,
   "metadata": {},
   "outputs": [],
   "source": [
    "columns=['Bronx', 'Brooklyn', 'Manhattan', 'Queens'] #excluding EWR, uknonwn and Staten Island for scarsity of statistical relevance\n",
    "index= ['Cash', 'Credit card', 'No charge', 'Dispute','Total']\n",
    "tab=pd.DataFrame(index=index, columns=columns)\n",
    "for i in columns:\n",
    "    k= pd.DataFrame(df[df['Borough'] == i]).groupby('wayofpay')\n",
    "    s= k['Borough'].count()\n",
    "    s= list(s)\n",
    "    s.append(sum(s))\n",
    "    tab[i]=s"
   ]
  },
  {
   "cell_type": "code",
   "execution_count": null,
   "metadata": {},
   "outputs": [],
   "source": [
    "tab.plot(kind='bar')"
   ]
  },
  {
   "cell_type": "code",
   "execution_count": null,
   "metadata": {},
   "outputs": [],
   "source": [
    "tot=[]\n",
    "for i in range (5):\n",
    "    som=tab.Bronx[i]+tab.Brooklyn[i]+tab.Manhattan[i]+tab.Queens[i]\n",
    "    tot.append(som)\n",
    "tab['Total']=tot\n",
    "observed= tab.iloc[0:4,0:4]   # Get table without totals for later use\n",
    "observed"
   ]
  },
  {
   "cell_type": "code",
   "execution_count": null,
   "metadata": {},
   "outputs": [],
   "source": [
    "tab"
   ]
  },
  {
   "cell_type": "markdown",
   "metadata": {},
   "source": [
    "Now that we have our data frame, we can perform our chi-squared test \n",
    "\n",
    "H0: Type of payment is not associated with Borough, and\n",
    "\n",
    "H1: Type of payment is associated with Borough."
   ]
  },
  {
   "cell_type": "markdown",
   "metadata": {},
   "source": [
    "First thing we calculate the df of expected values\n"
   ]
  },
  {
   "cell_type": "code",
   "execution_count": null,
   "metadata": {},
   "outputs": [],
   "source": [
    "expected =  np.outer(tab[\"Total\"][0:4],\n",
    "                     tab.loc[\"Total\"][0:4]) / 8600248\n",
    "\n",
    "expected = pd.DataFrame(expected)\n",
    "\n",
    "expected.columns = ['Bronx', 'Brooklyn', 'Manhattan', 'Queens']\n",
    "expected.index = ['Cash', 'Credit card', 'No charge', 'Dispute']\n",
    "\n",
    "expected"
   ]
  },
  {
   "cell_type": "code",
   "execution_count": null,
   "metadata": {},
   "outputs": [],
   "source": [
    "chi_squared_stat = (((observed-expected)**2)/expected).sum().sum()\n",
    "\n",
    "#We call .sum() twice:once to get the column sums and a second time to add the column sums together,\n",
    "#returning the sum of the entire 2D table.\n",
    "print(chi_squared_stat)"
   ]
  },
  {
   "cell_type": "code",
   "execution_count": null,
   "metadata": {},
   "outputs": [],
   "source": [
    "crit = stats.chi2.ppf(q = 0.95, # Find the critical value for 95% confidence*\n",
    "                      df = 9)   # Degrees of fredom for a test of independence equals the product of the number of categories\n",
    "                                # in each variable minus 1. In this case we have a 4x4 table so df = 3x3 = 9.\n",
    "\n",
    "print(\"Critical value\")\n",
    "print(crit)\n",
    "p_value = 1 - stats.chi2.cdf(x=chi_squared_stat,  # Find the p-value\n",
    "                             df=9)\n",
    "print(\"P value\")\n",
    "print(p_value)"
   ]
  },
  {
   "cell_type": "markdown",
   "metadata": {},
   "source": [
    "We could use directly scipy to conduct a test of independence quickly. Use stats.chi2_contingency() function to conduct a test of independence automatically given a frequency table of observed counts:"
   ]
  },
  {
   "cell_type": "code",
   "execution_count": null,
   "metadata": {},
   "outputs": [],
   "source": [
    "stats.chi2_contingency(observed= observed)"
   ]
  },
  {
   "cell_type": "markdown",
   "metadata": {},
   "source": [
    "The output shows the chi-square statistic, the p-value and the degrees of freedom followed by the expected counts."
   ]
  },
  {
   "cell_type": "markdown",
   "metadata": {},
   "source": [
    "###### RESULTS\n",
    "\n",
    "The chi-squared test statistic is 12870.6 (very far away from the critical value of 16) with an associated p < 0.001.\n",
    "(.000 should not be interpreted as exactly zero, as in the computer print-out.)\n",
    "\n",
    "The null hypothesis is rejected, since p < 0.001, and a conclusion is made that way of payment is associated with borough. Examining the pattern of numbers it is noted that in Brooklyn, Bronx and Queens there are a lot more of dispute than as we would expect.\n",
    "We can also denote that in Bronx and in Brooklyn, in respect to other boroughs, there is a preference for cash over credit cards. In manatthan, viceversa, there is a preference for credit cards in respect to cash money."
   ]
  },
  {
   "cell_type": "markdown",
   "metadata": {},
   "source": [
    "###### RUN SAME ANALYSIS FOR EACH MONTH IN ORDER TO CONFIRM OUR RESULTS\n",
    "We can now run same analysis for each month."
   ]
  },
  {
   "cell_type": "code",
   "execution_count": null,
   "metadata": {},
   "outputs": [],
   "source": [
    "chisq=stats.chi2_contingency(observed= observed)\n",
    "chisq=list(chisq)\n",
    "columns=[]\n",
    "index= ['chisq', 'p_value']\n",
    "dfMonths=pd.DataFrame(index=index, columns=columns)\n",
    "dfMonths['Jan']=chisq[0:2]"
   ]
  },
  {
   "cell_type": "code",
   "execution_count": null,
   "metadata": {},
   "outputs": [],
   "source": [
    "months=[' ','Jan','Feb','Mar','Apr','May','Jun']\n",
    "for i in range(2,7):\n",
    "    M1= pd.read_csv(r\"C:\\Users\\Egon\\Desktop\\Universita\\ADM\\homework2\\dati\\yellow_tripdata_2018-0\"+str(i)+\".csv\", usecols=['payment_type', 'PULocationID'])\n",
    "    result = pd.merge(M1,\n",
    "                 borough[['LocationID', 'Borough']],\n",
    "                 left_on='PULocationID',\n",
    "                 right_on='LocationID',\n",
    "                 how='inner' \n",
    "                 )\n",
    "    M2 = result.drop(['LocationID','PULocationID'],1)\n",
    "    columns=[]\n",
    "    index= [0,1,2,3,4,5]\n",
    "    typeofpay=pd.DataFrame(index=index, columns=columns)\n",
    "    ID=list(range(1,7))\n",
    "    typeofpay['ID']=ID\n",
    "    typeofpay['wayofpay']=['Credit card', 'Cash', 'No charge', 'Dispute', 'Unknown', 'Voided trip']\n",
    "    df= pd.merge(M2,\n",
    "              typeofpay,\n",
    "              left_on='payment_type',\n",
    "              right_on='ID',\n",
    "              how='inner')\n",
    "    df=df.drop(['payment_type'], 1)\n",
    "    columns=['Bronx', 'Brooklyn', 'Manhattan', 'Queens'] \n",
    "    index= ['Cash', 'Credit card', 'No charge', 'Dispute','Total']\n",
    "    tab=pd.DataFrame(index=index, columns=columns)\n",
    "    for j in columns:\n",
    "        k= pd.DataFrame(df[df['Borough'] == j]).groupby('wayofpay')\n",
    "        s= k['Borough'].count()\n",
    "        s= list(s)\n",
    "        s.append(sum(s))\n",
    "        tab[j]=s\n",
    "    tot=[]\n",
    "    for bor in range (5):\n",
    "        som=tab.Bronx[bor]+tab.Brooklyn[bor]+tab.Manhattan[bor]+tab.Queens[bor]\n",
    "        tot.append(som)\n",
    "    tab['Total']=tot\n",
    "    observed= tab.iloc[0:4,0:4]\n",
    "    chisq=stats.chi2_contingency(observed= observed)\n",
    "    chisq=list(chisq)\n",
    "    dfMonths[months[i]]=chisq[0:2]"
   ]
  },
  {
   "cell_type": "code",
   "execution_count": null,
   "metadata": {},
   "outputs": [],
   "source": [
    "dfMonths"
   ]
  },
  {
   "cell_type": "markdown",
   "metadata": {},
   "source": [
    "As we can se from our last data frame. Our precedent hypotesis are validated analizing other months."
   ]
  },
  {
   "cell_type": "markdown",
   "metadata": {},
   "source": [
    "## CRQ2\n",
    "##### Visualize Taxis movements! NYC is divided in many Taxis zones. For each yellow cab trip we know the zone Taxis pick up and drop off passengers. Let's visualize, on a choropleth map, the number of trips that starts in each zone. Than, do another map to count the races that end up in one single zone. Comment your discoveries. To perform this task we use the library folium. "
   ]
  },
  {
   "cell_type": "code",
   "execution_count": null,
   "metadata": {},
   "outputs": [],
   "source": [
    "M1 = pd.read_csv(r\"C:\\Users\\Egon\\Desktop\\Universita\\ADM\\homework2\\dati\\yellow_tripdata_2018-01.csv\", usecols=['DOLocationID', 'PULocationID'])\n"
   ]
  },
  {
   "cell_type": "markdown",
   "metadata": {},
   "source": [
    "At first we want a map with pickup locations. "
   ]
  },
  {
   "cell_type": "code",
   "execution_count": null,
   "metadata": {},
   "outputs": [],
   "source": [
    "pickup=M1.filter(['PULocationID'])\n",
    "pickup.head()"
   ]
  },
  {
   "cell_type": "markdown",
   "metadata": {},
   "source": [
    "Let's create a map of NewYork!"
   ]
  },
  {
   "cell_type": "code",
   "execution_count": null,
   "metadata": {},
   "outputs": [],
   "source": [
    "NYmap=folium.Map(\n",
    "    location=[40.7142700, -74.0059700],   #coordinates of new York\n",
    "    zoom_start=11,                        \n",
    "    tiles='CartoDB positron'              #style of our map\n",
    ")\n",
    "NYmap"
   ]
  },
  {
   "cell_type": "markdown",
   "metadata": {},
   "source": [
    "Let's add zones to our map. "
   ]
  },
  {
   "cell_type": "code",
   "execution_count": null,
   "metadata": {},
   "outputs": [],
   "source": [
    "zone_geo = os.path.join('data', r\"C:\\Users\\Egon\\Desktop\\Universita\\ADM\\homework2\\dati\\taxi_zones.json\")\n",
    "\n",
    "geo_json_data = json.load(open(zone_geo))\n"
   ]
  },
  {
   "cell_type": "code",
   "execution_count": null,
   "metadata": {},
   "outputs": [],
   "source": [
    "folium.GeoJson(\n",
    "    geo_json_data,\n",
    "    style_function=lambda feature: {\n",
    "        'fillColor': '#0000ff',\n",
    "        'color': 'black',\n",
    "        'weight': 0.2,\n",
    "        'dashArray': '1, 1'\n",
    "    }\n",
    ").add_to(NYmap)\n",
    "#unfortunatly jupyter can't load our map so we store it (and next maps)\n",
    "#in a file that we will give separatly in the folder \"Choropletmaps\"\n",
    "NYmap.save(os.path.join('results', r\"C:\\Users\\Egon\\Desktop\\Universita\\ADM\\homework2\\dati\\NYCzones.html\"))"
   ]
  },
  {
   "cell_type": "markdown",
   "metadata": {},
   "source": [
    "Now that we know ho to create maps, we want to create a clorphlet map that represents the number of trips that starts in each zone. First thing we need a data frame with counts of taxi pick ups in the zone."
   ]
  },
  {
   "cell_type": "code",
   "execution_count": null,
   "metadata": {},
   "outputs": [],
   "source": [
    "pickup.groupby(['PULocationID']).groups.keys()"
   ]
  },
  {
   "cell_type": "code",
   "execution_count": null,
   "metadata": {},
   "outputs": [],
   "source": [
    "len(pickup.groupby(['PULocationID']).groups.keys()) #we see that some zones are missing (maybe 0 taxi taken in that zone)"
   ]
  },
  {
   "cell_type": "code",
   "execution_count": null,
   "metadata": {},
   "outputs": [],
   "source": [
    "pickupser=pickup.groupby('PULocationID')['PULocationID'].count()\n",
    "pickupser.head()"
   ]
  },
  {
   "cell_type": "code",
   "execution_count": null,
   "metadata": {},
   "outputs": [],
   "source": [
    "pickupdf=pd.DataFrame(index=list(range(1,266)),columns=[])\n",
    "pickupdf['zone']=list(range(1,266))\n",
    "counts=[]\n",
    "for i in range(1,266):\n",
    "    if i in pickupser:\n",
    "        counts.append(pickupser[i])\n",
    "    else:\n",
    "        counts.append(0)     #we need to do this check line becouse some zones are missing (maybe 0 taxi taken in that zone)\n",
    "pickupdf['Taxitaken']=counts\n",
    "pickupdf.head()"
   ]
  },
  {
   "cell_type": "markdown",
   "metadata": {},
   "source": [
    "Now he have our fixed data frame that we can use to create our fantastic Choropleth maps."
   ]
  },
  {
   "cell_type": "code",
   "execution_count": null,
   "metadata": {},
   "outputs": [],
   "source": [
    "NYmap2 = folium.Map(\n",
    "    location=[40.7142700, -74.0059700],   #coordinates of new York\n",
    "    zoom_start=11,                        \n",
    "    tiles='CartoDB positron'              #style of our map\n",
    ")\n",
    "\n",
    "NYmap2.choropleth(\n",
    "    geo_data=geo_json_data,  #our geojson datas\n",
    "    data=pickupdf,    #our dataframe\n",
    "    columns=['zone', 'Taxitaken'],\n",
    "    key_on='feature.properties.LocationID', #the key in geojson file that we want to take as zone\n",
    "    fill_color='YlOrRd',   #the color scale that we want\n",
    "    fill_opacity=0.7,\n",
    "    line_opacity=0.2,\n",
    "    legend_name='Number of taxis taken in January',\n",
    "    highlight=True    #enable the highlight function, to enable highlight functionality when you hover over each area.\n",
    ")"
   ]
  },
  {
   "cell_type": "markdown",
   "metadata": {},
   "source": [
    "We also add some Markers in relevant places."
   ]
  },
  {
   "cell_type": "code",
   "execution_count": null,
   "metadata": {},
   "outputs": [],
   "source": [
    "folium.Marker(\n",
    "    location=[40.7730135746, -73.8702298524],\n",
    "    popup='LaGuardia Airport',\n",
    "    icon=folium.Icon(icon='plane')\n",
    ").add_to(NYmap2)\n",
    "\n",
    "folium.Marker(\n",
    "    location=[40.6413111, -73.7781391],\n",
    "    popup='JFK airport',\n",
    "    icon=folium.Icon(icon='plane')\n",
    ").add_to(NYmap2)\n",
    "\n",
    "folium.Marker(\n",
    "    location=[40.760656, -73.984600],\n",
    "    popup='Manhattan',\n",
    "    icon=folium.Icon(color='red')\n",
    ").add_to(NYmap2)\n",
    "#unfortunatly jupyter can't load our map so we store it (and next maps)\n",
    "#in a file that we will give separatly in the folder \"Choropletmaps\"\n",
    "NYmap2.save(os.path.join('results', r\"C:\\Users\\Egon\\Desktop\\Universita\\ADM\\homework2\\dati\\NYCpickupJan.html\"))"
   ]
  },
  {
   "cell_type": "markdown",
   "metadata": {},
   "source": [
    "Now we want to do the same job but for drop location."
   ]
  },
  {
   "cell_type": "code",
   "execution_count": null,
   "metadata": {},
   "outputs": [],
   "source": [
    "drops=M1.filter(['DOLocationID'])\n",
    "dropser=drops.groupby('DOLocationID')['DOLocationID'].count()\n",
    "dropsdf=pd.DataFrame(index=list(range(1,266)),columns=[])\n",
    "dropsdf['zone']=list(range(1,266))\n",
    "counts=[]\n",
    "for i in range(1,266):\n",
    "    if i in dropser:\n",
    "        counts.append(dropser[i])\n",
    "    else:\n",
    "        counts.append(0)     #we need to do this check becouse some zones are missing (maybe 0 taxi taken in that zone)\n",
    "dropsdf['Taxileaved']=counts\n",
    "NYmap3 = folium.Map(\n",
    "    location=[40.7142700, -74.0059700],   #coordinates of new York\n",
    "    zoom_start=11,                        \n",
    "    tiles='CartoDB positron'              #style of our map\n",
    ")\n",
    "\n",
    "NYmap3.choropleth(\n",
    "    geo_data=geo_json_data,\n",
    "    data=dropsdf,\n",
    "    columns=['zone', 'Taxileaved'],\n",
    "    key_on='feature.properties.LocationID',\n",
    "    fill_color='YlOrRd',\n",
    "    fill_opacity=0.7,\n",
    "    line_opacity=0.2,\n",
    "    legend_name='Number of taxi drops in january',\n",
    "    highlight=True    \n",
    ")\n",
    "folium.Marker(\n",
    "    location=[40.7730135746, -73.8702298524],\n",
    "    popup='LaGuardia Airport',\n",
    "    icon=folium.Icon(icon='plane')\n",
    ").add_to(NYmap3)\n",
    "\n",
    "folium.Marker(\n",
    "    location=[40.6413111, -73.7781391],\n",
    "    popup='JFK airport',\n",
    "    icon=folium.Icon(icon='plane')\n",
    ").add_to(NYmap3)\n",
    "\n",
    "folium.Marker(\n",
    "    location=[40.760656, -73.984600],\n",
    "    popup='Manhattan',\n",
    "    icon=folium.Icon(color='red')\n",
    ").add_to(NYmap3)\n",
    "NYmap3.save(os.path.join('results', r\"C:\\Users\\Egon\\Desktop\\Universita\\ADM\\homework2\\dati\\NYCdropsJan.html\"))"
   ]
  },
  {
   "cell_type": "markdown",
   "metadata": {},
   "source": [
    "## RESULTS\n",
    "\n",
    "As we can appreciate from maps, use of Yellow taxis is highly concentrated in Manhattan. This is true for taxi drops and even more for taxi pickups.\n",
    "We see that, outside Manhattan, we have two other zones where taxi are used a lot.\n",
    "\n",
    "Predictably, One is \"John Fitzgerald Kennedy International\", the other one is \"La Guardia\" airport."
   ]
  },
  {
   "cell_type": "markdown",
   "metadata": {},
   "source": [
    "To validate our results, we want more general maps that can represent all trips of 2018."
   ]
  },
  {
   "cell_type": "code",
   "execution_count": null,
   "metadata": {},
   "outputs": [],
   "source": [
    "months=[' ','Jan','Feb','Mar','Apr','May','Jun']\n",
    "pickupTOT=pickupdf\n",
    "dropTOT=dropsdf\n",
    "for i in range(2,7):\n",
    "    M1= pd.read_csv(r\"C:\\Users\\Egon\\Desktop\\Universita\\ADM\\homework2\\dati\\yellow_tripdata_2018-0\"+str(i)+\".csv\", usecols=['DOLocationID', 'PULocationID'])\n",
    "    pickup=M1.filter(['PULocationID'])\n",
    "    pickupser=pickup.groupby('PULocationID')['PULocationID'].count()\n",
    "    counts=[]\n",
    "    for j in range(1,266):\n",
    "        if j in pickupser:\n",
    "            counts.append(pickupser[j])\n",
    "        else:\n",
    "            counts.append(0) \n",
    "    pickupTOT['Taxitaken']+=counts\n",
    "    drops=M1.filter(['DOLocationID'])\n",
    "    dropser=drops.groupby('DOLocationID')['DOLocationID'].count()\n",
    "    counts=[]\n",
    "    for idx in range(1,266):\n",
    "        if idx in dropser:\n",
    "            counts.append(dropser[idx])\n",
    "        else:\n",
    "            counts.append(0)     #we need to do this check becouse some zones are missing (maybe 0 taxi taken in that zone)\n",
    "    dropTOT['Taxileaved']+=counts"
   ]
  },
  {
   "cell_type": "code",
   "execution_count": null,
   "metadata": {},
   "outputs": [],
   "source": [
    "NYmap2 = folium.Map(\n",
    "    location=[40.7142700, -74.0059700],   #coordinates of new York\n",
    "    zoom_start=11,                        \n",
    "    tiles='CartoDB positron'              #style of our map\n",
    ")\n",
    "\n",
    "NYmap2.choropleth(\n",
    "    geo_data=geo_json_data,  #our geojson datas\n",
    "    data=pickupTOT,    #our dataframe\n",
    "    columns=['zone', 'Taxitaken'],\n",
    "    key_on='feature.properties.LocationID', #the key in geojson file that way want to take as zone\n",
    "    fill_color='YlOrRd',   #the color scale that we want\n",
    "    fill_opacity=0.7,\n",
    "    line_opacity=0.2,\n",
    "    legend_name='Number of taxi taken in 2018',\n",
    "    highlight=True    #enable the highlight function, to enable highlight functionality when you hover over each area.\n",
    ")\n",
    "folium.Marker(\n",
    "    location=[40.7730135746, -73.8702298524],\n",
    "    popup='LaGuardia Airport',\n",
    "    icon=folium.Icon(icon='plane')\n",
    ").add_to(NYmap2)\n",
    "\n",
    "folium.Marker(\n",
    "    location=[40.6413111, -73.7781391],\n",
    "    popup='JFK airport',\n",
    "    icon=folium.Icon(icon='plane')\n",
    ").add_to(NYmap2)\n",
    "\n",
    "folium.Marker(\n",
    "    location=[40.760656, -73.984600],\n",
    "    popup='Manhattan',\n",
    "    icon=folium.Icon(color='red')\n",
    ").add_to(NYmap2)\n",
    "#unfortunatly jupyter can't load our map so we store it in a file that we will give separatly\n",
    "NYmap2.save(os.path.join('results', r\"C:\\Users\\Egon\\Desktop\\Universita\\ADM\\homework2\\dati\\NYCpickup2018.html\"))"
   ]
  },
  {
   "cell_type": "code",
   "execution_count": null,
   "metadata": {},
   "outputs": [],
   "source": [
    "NYmap3 = folium.Map(\n",
    "    location=[40.7142700, -74.0059700],   #coordinates of new York\n",
    "    zoom_start=11,                        \n",
    "    tiles='CartoDB positron'              #style of our map\n",
    ")\n",
    "\n",
    "NYmap3.choropleth(\n",
    "    geo_data=geo_json_data,\n",
    "    data=dropTOT,\n",
    "    columns=['zone', 'Taxileaved'],\n",
    "    key_on='feature.properties.LocationID',\n",
    "    fill_color='YlOrRd',\n",
    "    fill_opacity=0.7,\n",
    "    line_opacity=0.2,\n",
    "    legend_name='Number of taxi drops in 2018',\n",
    "    highlight=True    \n",
    ")\n",
    "folium.Marker(\n",
    "    location=[40.7730135746, -73.8702298524],\n",
    "    popup='LaGuardia Airport',\n",
    "    icon=folium.Icon(icon='plane')\n",
    ").add_to(NYmap3)\n",
    "\n",
    "folium.Marker(\n",
    "    location=[40.6413111, -73.7781391],\n",
    "    popup='JFK airport',\n",
    "    icon=folium.Icon(icon='plane')\n",
    ").add_to(NYmap3)\n",
    "\n",
    "folium.Marker(\n",
    "    location=[40.760656, -73.984600],\n",
    "    popup='Manhattan',\n",
    "    icon=folium.Icon(color='red')\n",
    ").add_to(NYmap3)\n",
    "#unfortunatly jupyter can't load our map so we store it in a file that we will give separatly\n",
    "NYmap3.save(os.path.join('results', r\"C:\\Users\\Egon\\Desktop\\Universita\\ADM\\homework2\\dati\\NYCdrops2018.html\"))"
   ]
  },
  {
   "cell_type": "markdown",
   "metadata": {},
   "source": [
    "We see that we obtain same results of january, so conclusions stay the same."
   ]
  },
  {
   "cell_type": "markdown",
   "metadata": {},
   "source": [
    "### RQ2\n",
    "###### What are the time slots with more passengers? Set your own time slots and discover which are those when Taxis drive the highest number of passengers overall New York and repeat the analysis for each borough. Provide the results through a visualization and comment them."
   ]
  },
  {
   "cell_type": "markdown",
   "metadata": {},
   "source": [
    "We choose the departure boroughs. \n",
    "\n",
    "We know prior which columns of the dataset we need so by using usecols while reading .csv files, try to save some memory."
   ]
  },
  {
   "cell_type": "code",
   "execution_count": null,
   "metadata": {},
   "outputs": [],
   "source": [
    "df = pd.read_csv(r\"C:\\Users\\Egon\\Desktop\\Universita\\ADM\\homework2\\dati\\yellow_tripdata_2018-01.csv\", usecols = ['tpep_pickup_datetime','passenger_count', 'PULocationID'])"
   ]
  },
  {
   "cell_type": "code",
   "execution_count": null,
   "metadata": {},
   "outputs": [],
   "source": [
    "df.info(memory_usage='deep')"
   ]
  },
  {
   "cell_type": "markdown",
   "metadata": {},
   "source": [
    "###### Data Cleaning\n",
    "\n",
    "We have already done a bit of data cleaning; At the time of loading the dataset, by filtering these columns:['tpep_pickup_datetime', 'passenger_count', 'PULocationID'].\n",
    "\n",
    "We know the contet of the dataset prior, so we keep those columns that we will use for this certain question."
   ]
  },
  {
   "cell_type": "code",
   "execution_count": null,
   "metadata": {},
   "outputs": [],
   "source": [
    "#Check if there are any NaN values\n",
    "df.isnull().any().any()"
   ]
  },
  {
   "cell_type": "markdown",
   "metadata": {},
   "source": [
    "'tpep_pickup_datetime' is of Object type. we need to convert it into datetime. This saves memory(average memory usage of an object type is 9.5 mb\n"
   ]
  },
  {
   "cell_type": "code",
   "execution_count": null,
   "metadata": {},
   "outputs": [],
   "source": [
    "df['tpep_pickup_datetime'] = pd.to_datetime(df['tpep_pickup_datetime'])"
   ]
  },
  {
   "cell_type": "markdown",
   "metadata": {},
   "source": [
    "We have two numeric collumns of subtype int64\n",
    "One is 'passenger_count'. This columns contains positve numbers and they are supposed to between 1 and 6\n",
    "The other column is the Zone numbers, 'PULocationID' which again are positive numbers between 1 and 265 (according to taxi_zone lookup table data)\n",
    "To save these numbers another integer suntyoe which uses less memory can be used too: uint8 and uint16.\n",
    "These two save 1 and 2 bytes respectively, compared to int64 that uses 8 bytes per number. "
   ]
  },
  {
   "cell_type": "code",
   "execution_count": null,
   "metadata": {},
   "outputs": [],
   "source": [
    "df['passenger_count'] = df['passenger_count'].astype(np.uint8)\n",
    "df['PULocationID'] = df['PULocationID'].astype(np.uint16)"
   ]
  },
  {
   "cell_type": "code",
   "execution_count": null,
   "metadata": {},
   "outputs": [],
   "source": [
    "df.info(memory_usage='deep')"
   ]
  },
  {
   "cell_type": "markdown",
   "metadata": {},
   "source": [
    "Much better!"
   ]
  },
  {
   "cell_type": "markdown",
   "metadata": {},
   "source": [
    "###### Datetime"
   ]
  },
  {
   "cell_type": "markdown",
   "metadata": {},
   "source": [
    " Extract year and month to check if each row contains the right values: year 2018 and month 1(January). \n",
    " \n",
    " Extract hour in order to create the time slots."
   ]
  },
  {
   "cell_type": "code",
   "execution_count": null,
   "metadata": {},
   "outputs": [],
   "source": [
    "\n",
    "df['Year'] = pd.DatetimeIndex(df['tpep_pickup_datetime']).year #for the sake of data cleaning\n",
    "df['Month'] = pd.DatetimeIndex(df['tpep_pickup_datetime']).month #for the sake of data cleaning. We will keep this column. We need it after merging all the months together\n",
    "df['Day'] = pd.DatetimeIndex(df['tpep_pickup_datetime']).day #for the sake of data cleaning. \n",
    "df['Hour'] = pd.DatetimeIndex(df['tpep_pickup_datetime']).hour #to create time slots\n",
    "df.drop(columns=['tpep_pickup_datetime'], inplace=True)"
   ]
  },
  {
   "cell_type": "code",
   "execution_count": null,
   "metadata": {
    "scrolled": true
   },
   "outputs": [],
   "source": [
    "df.head()\n"
   ]
  },
  {
   "cell_type": "code",
   "execution_count": null,
   "metadata": {},
   "outputs": [],
   "source": [
    "df['Year'] = df['Year'].astype(np.uint16)\n",
    "df['Month'] = df['Month'].astype(np.uint8)\n",
    "df['Day'] = df['Day'].astype(np.uint8)\n",
    "df['Hour'] = df['Hour'].astype(np.uint8)"
   ]
  },
  {
   "cell_type": "markdown",
   "metadata": {},
   "source": [
    "Doing some data cleaning: checking to see if year=2018, Month=1, 1<=day<=31 and 0<=hour<=23"
   ]
  },
  {
   "cell_type": "code",
   "execution_count": null,
   "metadata": {},
   "outputs": [],
   "source": [
    "df.Year.unique()"
   ]
  },
  {
   "cell_type": "code",
   "execution_count": null,
   "metadata": {},
   "outputs": [],
   "source": [
    "years=list(df.Year.unique())\n",
    "for i in years:\n",
    "    if i != 2018:\n",
    "        df.drop(df[(df.Year == i)].index, inplace=True)"
   ]
  },
  {
   "cell_type": "code",
   "execution_count": null,
   "metadata": {},
   "outputs": [],
   "source": [
    "Monthz=list(df.Month.unique())\n",
    "for i in Monthz:\n",
    "    if i != 1:\n",
    "        df.drop(df[(df.Month == i)].index, inplace=True )\n"
   ]
  },
  {
   "cell_type": "markdown",
   "metadata": {},
   "source": [
    "We checked also Day and Hour, and our column seems fine."
   ]
  },
  {
   "cell_type": "code",
   "execution_count": null,
   "metadata": {},
   "outputs": [],
   "source": [
    "#Check the Day column\n",
    "#df.groupby('Day').count()\n",
    "#sorted(df['Day'].unique())\n",
    "#Day column seems alright\n",
    "#We check the hour column\n",
    "#df.groupby('Hour').count()\n",
    "#sorted(df.Hour.unique())"
   ]
  },
  {
   "cell_type": "markdown",
   "metadata": {},
   "source": [
    "Now based on our Research question in hand(RQ2), we won't need these columns: Year, Month and Day so we drop them"
   ]
  },
  {
   "cell_type": "code",
   "execution_count": null,
   "metadata": {},
   "outputs": [],
   "source": [
    "df.drop(['Day', 'Year', 'Month'], axis=1, inplace=True)"
   ]
  },
  {
   "cell_type": "code",
   "execution_count": null,
   "metadata": {},
   "outputs": [],
   "source": [
    "df.head()"
   ]
  },
  {
   "cell_type": "markdown",
   "metadata": {},
   "source": [
    "Passenger_count gives us the number of passenger in each car.\n",
    "\n",
    "We go about cleaning this column based on this information presented in the yellow taxi's website:\n",
    "\"The maximum number of passengers allowed in a yellow taxicab by law is four (4) in a four (4) passenger taxicab or\n",
    "five (5) passengers in a five (5) passenger taxicab, except that an additional passenger must be accepted if such passenger is under the age of seven (7) and is held on the lap of an adult passenger seated in the rear.\"\n",
    "\n",
    "So, we see that 1<=passenger count<=6\n"
   ]
  },
  {
   "cell_type": "code",
   "execution_count": null,
   "metadata": {},
   "outputs": [],
   "source": [
    "df['passenger_count'].unique()"
   ]
  },
  {
   "cell_type": "code",
   "execution_count": null,
   "metadata": {},
   "outputs": [],
   "source": [
    "#We drop those rows with values >=7 and 0\n",
    "passe=list(df['passenger_count'].unique())\n",
    "ok=[1,2,3,4,5,6]\n",
    "for i in passe:\n",
    "    if i not in ok:\n",
    "        df.drop(df[(df.passenger_count == i)].index, inplace=True)"
   ]
  },
  {
   "cell_type": "markdown",
   "metadata": {},
   "source": [
    "###### Merge two datasets"
   ]
  },
  {
   "cell_type": "code",
   "execution_count": null,
   "metadata": {},
   "outputs": [],
   "source": [
    "df2= pd.read_csv(r\"C:\\Users\\Egon\\Desktop\\Universita\\ADM\\homework2\\dati\\taxi_zone_lookup.csv\", usecols=['LocationID', 'Borough'])\n",
    "result = pd.merge(df,\n",
    "                 df2,\n",
    "                 left_on='PULocationID',\n",
    "                 right_on='LocationID',\n",
    "                 how='inner' \n",
    "                 )\n",
    "del df\n",
    "del df2"
   ]
  },
  {
   "cell_type": "code",
   "execution_count": null,
   "metadata": {},
   "outputs": [],
   "source": [
    "result.drop(['PULocationID', 'LocationID'], axis =1, inplace=True)\n",
    "result.head()"
   ]
  },
  {
   "cell_type": "markdown",
   "metadata": {},
   "source": [
    "Checking the Boroughs.\n",
    "\n",
    "In NYC, there are six boroughs: Bronx, Brooklyn, Manhattan, Staten Island, Queens.\n",
    "\n",
    "We see two unexpected names in Broughs category: EWR which is an airport near Queens and Unknown.\n",
    "\n",
    "We drop the rows with borough=Unknown or borough=EWR.\n"
   ]
  },
  {
   "cell_type": "code",
   "execution_count": null,
   "metadata": {},
   "outputs": [],
   "source": [
    "result.drop(result[(result.Borough == 'EWR') | (result.Borough == 'Unknown')].index, inplace=True)"
   ]
  },
  {
   "cell_type": "markdown",
   "metadata": {},
   "source": [
    "###### Setting Time-slots"
   ]
  },
  {
   "cell_type": "code",
   "execution_count": null,
   "metadata": {},
   "outputs": [],
   "source": [
    "#To define a time slot (and labeling it) we use pandas function .cut (pd.cut())\n",
    "result=result.assign(\n",
    "    timeSlot=pd.cut(\n",
    "        result['Hour'],\n",
    "        [-1,4, 8, 12, 16, 20, 23],\n",
    "        labels=['0-4','4-8', '8-12', '12-16', '16-20', '20-23']))\n",
    "\n",
    "result.drop(['Hour'], axis=1, inplace=True)"
   ]
  },
  {
   "cell_type": "code",
   "execution_count": null,
   "metadata": {},
   "outputs": [],
   "source": [
    "result.groupby(['timeSlot', 'Borough']).sum()"
   ]
  },
  {
   "cell_type": "code",
   "execution_count": null,
   "metadata": {},
   "outputs": [],
   "source": [
    "s= result.groupby(['Borough','timeSlot']).sum()\n",
    "s.plot.bar(figsize=(15,7))"
   ]
  },
  {
   "cell_type": "code",
   "execution_count": null,
   "metadata": {},
   "outputs": [],
   "source": [
    "trasp=s.T"
   ]
  },
  {
   "cell_type": "code",
   "execution_count": null,
   "metadata": {},
   "outputs": [],
   "source": [
    "\n",
    "fig, axes = plt.subplots(nrows=2, ncols=2)\n",
    "trasp.Bronx.plot.bar(title= 'Bronx',figsize=(15,10),ax=axes[0,0])\n",
    "\n",
    "trasp.Brooklyn.plot.bar(title= 'Brooklyn',figsize=(15,10),ax=axes[0,1])\n",
    "\n",
    "trasp.Manhattan.plot.bar(title= 'Manhattan',figsize=(15,10),ax=axes[1,0])\n",
    "\n",
    "trasp.Queens.plot.bar(title= 'Queens',figsize=(15,10),ax=axes[1,1])\n",
    "\n",
    "#Staten Island has very few data so we don't plot it, it's not statistically relevant"
   ]
  },
  {
   "cell_type": "markdown",
   "metadata": {},
   "source": [
    "Now we can repeat the analisys joning data from all months of 2018 that we have, and then see if they follow same patterns and comment."
   ]
  },
  {
   "cell_type": "code",
   "execution_count": null,
   "metadata": {
    "scrolled": true
   },
   "outputs": [],
   "source": [
    "for i in range(2,7):\n",
    "    df= pd.read_csv(r\"C:\\Users\\Egon\\Desktop\\Universita\\ADM\\homework2\\dati\\yellow_tripdata_2018-0\"+str(i)+\".csv\", usecols = ['tpep_pickup_datetime','passenger_count', 'PULocationID'])\n",
    "    df['tpep_pickup_datetime'] = pd.to_datetime(df['tpep_pickup_datetime'])\n",
    "    df['passenger_count'] = df['passenger_count'].astype(np.uint8)\n",
    "    df['PULocationID'] = df['PULocationID'].astype(np.uint16)\n",
    "    df['Year'] = pd.DatetimeIndex(df['tpep_pickup_datetime']).year #for the sake of data cleaning\n",
    "    df['Month'] = pd.DatetimeIndex(df['tpep_pickup_datetime']).month #for the sake of data cleaning. We will keep this column. We need it after merging all the months together\n",
    "    df['Day'] = pd.DatetimeIndex(df['tpep_pickup_datetime']).day #for the sake of data cleaning. \n",
    "    df['Hour'] = pd.DatetimeIndex(df['tpep_pickup_datetime']).hour #to create time slots\n",
    "    df.drop(columns=['tpep_pickup_datetime'], inplace=True)\n",
    "    df['Year'] = df['Year'].astype(np.uint16)\n",
    "    df['Month'] = df['Month'].astype(np.uint8)\n",
    "    df['Day'] = df['Day'].astype(np.uint8)\n",
    "    df['Hour'] = df['Hour'].astype(np.uint8)\n",
    "    years=list(df.Year.unique())\n",
    "    for j in years:\n",
    "        if j != 2018:\n",
    "            df.drop(df[(df.Year == j)].index, inplace=True)\n",
    "    Monthz=list(df.Month.unique())\n",
    "    for k in Monthz:\n",
    "        if k != i:\n",
    "            df.drop(df[(df.Month == k)].index, inplace=True )\n",
    "    df.drop(['Day', 'Year', 'Month'], axis=1, inplace=True)\n",
    "    passe=list(df['passenger_count'].unique())\n",
    "    ok=[1,2,3,4,5,6]\n",
    "    for i in passe:\n",
    "        if i not in ok:\n",
    "            df.drop(df[(df.passenger_count == i)].index, inplace=True)\n",
    "    df2= pd.read_csv(r\"C:\\Users\\Egon\\Desktop\\Universita\\ADM\\homework2\\dati\\taxi_zone_lookup.csv\", usecols=['LocationID', 'Borough'])\n",
    "    result = pd.merge(df,\n",
    "                 df2,\n",
    "                 left_on='PULocationID',\n",
    "                 right_on='LocationID',\n",
    "                 how='inner' \n",
    "                 )\n",
    "    del df\n",
    "    del df2\n",
    "    result.drop(['PULocationID', 'LocationID'], axis =1, inplace=True)\n",
    "    result=result.assign(\n",
    "    timeSlot=pd.cut(\n",
    "        result['Hour'],\n",
    "        [-1,4, 8, 12, 16, 20, 23],\n",
    "        labels=['0-4','4-8', '8-12', '12-16', '16-20', '20-23']))\n",
    "    result.drop(['Hour'], axis=1, inplace=True)\n",
    "    s+= result.groupby(['Borough','timeSlot']).sum()\n",
    "    "
   ]
  },
  {
   "cell_type": "code",
   "execution_count": null,
   "metadata": {},
   "outputs": [],
   "source": [
    "trasp=s.T\n",
    "fig, axes = plt.subplots(nrows=2, ncols=2)\n",
    "trasp.Bronx.plot.bar(title= 'Bronx',figsize=(15,10),ax=axes[0,0])\n",
    "trasp.Brooklyn.plot.bar(title= 'Brooklyn',figsize=(15,10),ax=axes[0,1])\n",
    "trasp.Manhattan.plot.bar(title= 'Manhattan',figsize=(15,10),ax=axes[1,0])\n",
    "trasp.Queens.plot.bar(title= 'Queens',figsize=(15,10),ax=axes[1,1])"
   ]
  },
  {
   "cell_type": "markdown",
   "metadata": {},
   "source": [
    "## RESULTS \n",
    "###### (Remebering that we conducted our analisys taking into account only pickups)\n",
    "\n",
    "###### Bronx:\n",
    "We see that time slots with more passengers are early morning. Probably it's because people goes to work. The trend decrease as the day goes on.\n",
    "###### Brooklyn:\n",
    "We see that the distribution of Brooklyn concentrates in the night (0-4, 20-23). We think that's because Brooklyn has a lot of nightlife.\n",
    "###### Queens and Manhattan:\n",
    "We see that time slots with more passengers are late afternoon. Probably it's because people take taxis to leave work and get home.\n",
    "###### New York: \n",
    "We don't need the plot to adfirm that the New York will follow the distro of Manahattan, since as we have seen answering other questions, almost every data comes from Manatthan and so Manhattan dominates the whole distro."
   ]
  },
  {
   "cell_type": "markdown",
   "metadata": {},
   "source": [
    "## RQ5\n",
    "###### Does a long distance correlate with the duration of the trip on average? Make a plot that show the dependence between distance and duration of the trip. Then compute the Pearson Coefficient, is it significant? Comment the results you obtain."
   ]
  },
  {
   "cell_type": "code",
   "execution_count": null,
   "metadata": {},
   "outputs": [],
   "source": [
    "df=pd.DataFrame()"
   ]
  },
  {
   "cell_type": "markdown",
   "metadata": {},
   "source": [
    "We have created an empty data frame in which now we store data of the months that we have."
   ]
  },
  {
   "cell_type": "code",
   "execution_count": null,
   "metadata": {},
   "outputs": [],
   "source": [
    "frames=[]\n",
    "for i in range(1,7):\n",
    "    M1=pd.read_csv(r\"C:\\Users\\Egon\\Desktop\\Universita\\ADM\\homework2\\dati\\yellow_tripdata_2018-0\"+str(i)+\".csv\" , encoding = 'latin-1',\n",
    "               usecols=['tpep_pickup_datetime','tpep_dropoff_datetime','trip_distance'])\n",
    "    frames.append(M1)\n",
    "    \n",
    "df=pd.concat(frames,ignore_index=True)"
   ]
  },
  {
   "cell_type": "markdown",
   "metadata": {},
   "source": [
    "Now for each trip, we compute the duration by minutes,as we did in rq3."
   ]
  },
  {
   "cell_type": "code",
   "execution_count": null,
   "metadata": {},
   "outputs": [],
   "source": [
    "format_date='%Y-%m-%d %H:%M:%S'\n",
    "pickup=pd.to_datetime(df['tpep_pickup_datetime'].str.strip(),format=format_date)\n",
    "dropoff=pd.to_datetime(df['tpep_dropoff_datetime'].str.strip(), format=format_date)\n",
    "difference=(dropoff-pickup).astype('timedelta64[m]')\n",
    "df['Duration']=difference"
   ]
  },
  {
   "cell_type": "markdown",
   "metadata": {},
   "source": [
    "A little bit of cleaning:\n",
    "\n",
    "We add a columns called 'Year' that contains the year in order to delete all dirty data, because we have non-2018 data.\n",
    "\n",
    "Then we delete rows that have distance and duration less or equal than 0. "
   ]
  },
  {
   "cell_type": "code",
   "execution_count": null,
   "metadata": {},
   "outputs": [],
   "source": [
    "df['Year'] = df['tpep_pickup_datetime'].astype(str).str[0:4]\n",
    "df=df[df['Year']=='2018']\n",
    "df=df.drop(['tpep_pickup_datetime','tpep_dropoff_datetime','Year'], axis=1)\n",
    "df=df[df['trip_distance']>0]\n",
    "df=df[df['Duration']>0]"
   ]
  },
  {
   "cell_type": "code",
   "execution_count": null,
   "metadata": {},
   "outputs": [],
   "source": [
    "df.plot(x='trip_distance', y='Duration', style='.',figsize=(15,7))"
   ]
  },
  {
   "cell_type": "markdown",
   "metadata": {},
   "source": [
    "We compute pearson correlation coefficent:"
   ]
  },
  {
   "cell_type": "code",
   "execution_count": null,
   "metadata": {},
   "outputs": [],
   "source": [
    "ro=df.corr(method='pearson').iat[0,1]\n",
    "ro"
   ]
  },
  {
   "cell_type": "markdown",
   "metadata": {},
   "source": [
    "We see that trip_distance and duration are not correlated.\n",
    "\n",
    "We are not satisfied. We may have still dirty datas since we have very long trips (more than what we would expect).\n",
    "Let's see if for smaller durations and smaller trip distances we can find some correlations."
   ]
  },
  {
   "cell_type": "code",
   "execution_count": null,
   "metadata": {},
   "outputs": [],
   "source": [
    "df=df[df['trip_distance']<50] #take only trips between one mile and fifty\n",
    "df=df[df['Duration']<180] #take only trips that last between one and three hour"
   ]
  },
  {
   "cell_type": "code",
   "execution_count": null,
   "metadata": {},
   "outputs": [],
   "source": [
    "df.plot(x='trip_distance', y='Duration', style='.',figsize=(15,7))"
   ]
  },
  {
   "cell_type": "code",
   "execution_count": null,
   "metadata": {},
   "outputs": [],
   "source": [
    "ro=df.corr(method='pearson').iat[0,1]\n",
    "ro"
   ]
  },
  {
   "cell_type": "code",
   "execution_count": null,
   "metadata": {},
   "outputs": [],
   "source": [
    "sns.regplot(x='trip_distance', y='Duration', data=df.sample(25000), color='black', marker='.', line_kws={'color':'gold'})"
   ]
  },
  {
   "cell_type": "markdown",
   "metadata": {},
   "source": [
    "## RESULT\n",
    "\n",
    "Now we can adfirm that at least for \"small\" duration and distance we have a strong correlation (0.8).\n",
    "Since the bound that we imposed it's not really \"strict\" we can say that probably the small ro of the first plot was due to dirtness of data.\n",
    "\n",
    "\n",
    "\n",
    "\n",
    "\n",
    "\n"
   ]
  },
  {
   "cell_type": "markdown",
   "metadata": {},
   "source": [
    "# CRQ1\n",
    "#### Does the 'fare per mile' change among boroughs? aka, which boroughs charge the passengers with more money per mile?\n",
    "#### We need to consider the traffic congestion too. The price might depend on the trafic taxis find in their way. \n",
    "\n",
    "#### First, we do our analysation for a particulr month. We choose January. "
   ]
  },
  {
   "cell_type": "markdown",
   "metadata": {},
   "source": [
    "### January"
   ]
  },
  {
   "cell_type": "code",
   "execution_count": 139,
   "metadata": {},
   "outputs": [],
   "source": [
    "df=pd.read_csv(r'C:\\Users\\samin\\Desktop\\Homework2\\Data\\yellow_tripdata_2018-01.csv', \n",
    "                 usecols=['tpep_pickup_datetime', 'tpep_dropoff_datetime','trip_distance','PULocationID','fare_amount'])"
   ]
  },
  {
   "cell_type": "code",
   "execution_count": 140,
   "metadata": {},
   "outputs": [
    {
     "data": {
      "text/html": [
       "<div>\n",
       "<style scoped>\n",
       "    .dataframe tbody tr th:only-of-type {\n",
       "        vertical-align: middle;\n",
       "    }\n",
       "\n",
       "    .dataframe tbody tr th {\n",
       "        vertical-align: top;\n",
       "    }\n",
       "\n",
       "    .dataframe thead th {\n",
       "        text-align: right;\n",
       "    }\n",
       "</style>\n",
       "<table border=\"1\" class=\"dataframe\">\n",
       "  <thead>\n",
       "    <tr style=\"text-align: right;\">\n",
       "      <th></th>\n",
       "      <th>tpep_pickup_datetime</th>\n",
       "      <th>tpep_dropoff_datetime</th>\n",
       "      <th>trip_distance</th>\n",
       "      <th>PULocationID</th>\n",
       "      <th>fare_amount</th>\n",
       "    </tr>\n",
       "  </thead>\n",
       "  <tbody>\n",
       "    <tr>\n",
       "      <th>0</th>\n",
       "      <td>2018-01-01 00:21:05</td>\n",
       "      <td>2018-01-01 00:24:23</td>\n",
       "      <td>0.5</td>\n",
       "      <td>41</td>\n",
       "      <td>4.5</td>\n",
       "    </tr>\n",
       "    <tr>\n",
       "      <th>1</th>\n",
       "      <td>2018-01-01 00:44:55</td>\n",
       "      <td>2018-01-01 01:03:05</td>\n",
       "      <td>2.7</td>\n",
       "      <td>239</td>\n",
       "      <td>14.0</td>\n",
       "    </tr>\n",
       "    <tr>\n",
       "      <th>2</th>\n",
       "      <td>2018-01-01 00:08:26</td>\n",
       "      <td>2018-01-01 00:14:21</td>\n",
       "      <td>0.8</td>\n",
       "      <td>262</td>\n",
       "      <td>6.0</td>\n",
       "    </tr>\n",
       "    <tr>\n",
       "      <th>3</th>\n",
       "      <td>2018-01-01 00:20:22</td>\n",
       "      <td>2018-01-01 00:52:51</td>\n",
       "      <td>10.2</td>\n",
       "      <td>140</td>\n",
       "      <td>33.5</td>\n",
       "    </tr>\n",
       "    <tr>\n",
       "      <th>4</th>\n",
       "      <td>2018-01-01 00:09:18</td>\n",
       "      <td>2018-01-01 00:27:06</td>\n",
       "      <td>2.5</td>\n",
       "      <td>246</td>\n",
       "      <td>12.5</td>\n",
       "    </tr>\n",
       "  </tbody>\n",
       "</table>\n",
       "</div>"
      ],
      "text/plain": [
       "  tpep_pickup_datetime tpep_dropoff_datetime  trip_distance  PULocationID  \\\n",
       "0  2018-01-01 00:21:05   2018-01-01 00:24:23            0.5            41   \n",
       "1  2018-01-01 00:44:55   2018-01-01 01:03:05            2.7           239   \n",
       "2  2018-01-01 00:08:26   2018-01-01 00:14:21            0.8           262   \n",
       "3  2018-01-01 00:20:22   2018-01-01 00:52:51           10.2           140   \n",
       "4  2018-01-01 00:09:18   2018-01-01 00:27:06            2.5           246   \n",
       "\n",
       "   fare_amount  \n",
       "0          4.5  \n",
       "1         14.0  \n",
       "2          6.0  \n",
       "3         33.5  \n",
       "4         12.5  "
      ]
     },
     "execution_count": 140,
     "metadata": {},
     "output_type": "execute_result"
    }
   ],
   "source": [
    "df.head()"
   ]
  },
  {
   "cell_type": "code",
   "execution_count": 141,
   "metadata": {},
   "outputs": [
    {
     "name": "stdout",
     "output_type": "stream",
     "text": [
      "<class 'pandas.core.frame.DataFrame'>\n",
      "RangeIndex: 8759874 entries, 0 to 8759873\n",
      "Data columns (total 5 columns):\n",
      "tpep_pickup_datetime     object\n",
      "tpep_dropoff_datetime    object\n",
      "trip_distance            float64\n",
      "PULocationID             int64\n",
      "fare_amount              float64\n",
      "dtypes: float64(2), int64(1), object(2)\n",
      "memory usage: 1.4 GB\n"
     ]
    }
   ],
   "source": [
    "df.info(memory_usage = 'deep')"
   ]
  },
  {
   "cell_type": "code",
   "execution_count": 142,
   "metadata": {},
   "outputs": [],
   "source": [
    "#Two datetime 'objects'\n",
    "#Change the type to 'datetime'.\n",
    "df['tpep_pickup_datetime']=pd.to_datetime(df['tpep_pickup_datetime'])\n",
    "df['tpep_dropoff_datetime']=pd.to_datetime(df['tpep_dropoff_datetime'])\n",
    "\n",
    "#Duration of each trip in minutes\n",
    "df['Duration']=(df['tpep_dropoff_datetime']-df['tpep_pickup_datetime'])/pd.Timedelta('1 minute')\n",
    "\n",
    "#We need to extract month and year. We choose 'pickup' datetime\n",
    "df['Year']=pd.DatetimeIndex(df['tpep_pickup_datetime']).year\n",
    "df['Month']=pd.DatetimeIndex(df['tpep_pickup_datetime']).month\n",
    "\n",
    "#we don't need these two columns anymore. to free up space, we drop them using 'inplace=True' so our the changes happen inside df object and a copy won't be made\n",
    "df.drop(columns=['tpep_pickup_datetime', 'tpep_dropoff_datetime'], inplace=True)"
   ]
  },
  {
   "cell_type": "code",
   "execution_count": 143,
   "metadata": {},
   "outputs": [
    {
     "data": {
      "text/html": [
       "<div>\n",
       "<style scoped>\n",
       "    .dataframe tbody tr th:only-of-type {\n",
       "        vertical-align: middle;\n",
       "    }\n",
       "\n",
       "    .dataframe tbody tr th {\n",
       "        vertical-align: top;\n",
       "    }\n",
       "\n",
       "    .dataframe thead th {\n",
       "        text-align: right;\n",
       "    }\n",
       "</style>\n",
       "<table border=\"1\" class=\"dataframe\">\n",
       "  <thead>\n",
       "    <tr style=\"text-align: right;\">\n",
       "      <th></th>\n",
       "      <th>trip_distance</th>\n",
       "      <th>PULocationID</th>\n",
       "      <th>fare_amount</th>\n",
       "      <th>Duration</th>\n",
       "      <th>Year</th>\n",
       "      <th>Month</th>\n",
       "    </tr>\n",
       "  </thead>\n",
       "  <tbody>\n",
       "    <tr>\n",
       "      <th>0</th>\n",
       "      <td>0.5</td>\n",
       "      <td>41</td>\n",
       "      <td>4.5</td>\n",
       "      <td>3.300000</td>\n",
       "      <td>2018</td>\n",
       "      <td>1</td>\n",
       "    </tr>\n",
       "    <tr>\n",
       "      <th>1</th>\n",
       "      <td>2.7</td>\n",
       "      <td>239</td>\n",
       "      <td>14.0</td>\n",
       "      <td>18.166667</td>\n",
       "      <td>2018</td>\n",
       "      <td>1</td>\n",
       "    </tr>\n",
       "    <tr>\n",
       "      <th>2</th>\n",
       "      <td>0.8</td>\n",
       "      <td>262</td>\n",
       "      <td>6.0</td>\n",
       "      <td>5.916667</td>\n",
       "      <td>2018</td>\n",
       "      <td>1</td>\n",
       "    </tr>\n",
       "    <tr>\n",
       "      <th>3</th>\n",
       "      <td>10.2</td>\n",
       "      <td>140</td>\n",
       "      <td>33.5</td>\n",
       "      <td>32.483333</td>\n",
       "      <td>2018</td>\n",
       "      <td>1</td>\n",
       "    </tr>\n",
       "    <tr>\n",
       "      <th>4</th>\n",
       "      <td>2.5</td>\n",
       "      <td>246</td>\n",
       "      <td>12.5</td>\n",
       "      <td>17.800000</td>\n",
       "      <td>2018</td>\n",
       "      <td>1</td>\n",
       "    </tr>\n",
       "  </tbody>\n",
       "</table>\n",
       "</div>"
      ],
      "text/plain": [
       "   trip_distance  PULocationID  fare_amount   Duration  Year  Month\n",
       "0            0.5            41          4.5   3.300000  2018      1\n",
       "1            2.7           239         14.0  18.166667  2018      1\n",
       "2            0.8           262          6.0   5.916667  2018      1\n",
       "3           10.2           140         33.5  32.483333  2018      1\n",
       "4            2.5           246         12.5  17.800000  2018      1"
      ]
     },
     "execution_count": 143,
     "metadata": {},
     "output_type": "execute_result"
    }
   ],
   "source": [
    "df.head()"
   ]
  },
  {
   "cell_type": "code",
   "execution_count": 144,
   "metadata": {},
   "outputs": [
    {
     "data": {
      "text/plain": [
       "(8759874, 6)"
      ]
     },
     "execution_count": 144,
     "metadata": {},
     "output_type": "execute_result"
    }
   ],
   "source": [
    "df.shape"
   ]
  },
  {
   "cell_type": "code",
   "execution_count": 145,
   "metadata": {},
   "outputs": [
    {
     "data": {
      "text/plain": [
       "array([ 1, 12,  7,  2], dtype=int64)"
      ]
     },
     "execution_count": 145,
     "metadata": {},
     "output_type": "execute_result"
    }
   ],
   "source": [
    "#to see if any data cleaning is required for the 'Month' column. Only those rows with Month=1 should remain\n",
    "df['Month'].unique() "
   ]
  },
  {
   "cell_type": "code",
   "execution_count": 146,
   "metadata": {},
   "outputs": [
    {
     "data": {
      "text/plain": [
       "array([2018, 2017, 2002, 2008, 2009, 2001, 2003], dtype=int64)"
      ]
     },
     "execution_count": 146,
     "metadata": {},
     "output_type": "execute_result"
    }
   ],
   "source": [
    "#to see if any data cleaning is required for the 'Year' column. Only those rows with 'Year=2018' should remain\n",
    "df['Year'].unique()"
   ]
  },
  {
   "cell_type": "code",
   "execution_count": 147,
   "metadata": {},
   "outputs": [],
   "source": [
    "#We drop dirty rows here\n",
    "df.drop(df[(df.Month!=1) | (df.Year!=2018)].index, inplace=True)\n",
    "#and drop 'Year' and 'Month' as we don't need them anymore\n",
    "df.drop(columns=['Year','Month'], inplace=True) "
   ]
  },
  {
   "cell_type": "code",
   "execution_count": 148,
   "metadata": {},
   "outputs": [
    {
     "data": {
      "text/plain": [
       "count    8.759532e+06\n",
       "mean     2.803989e+00\n",
       "std      6.412471e+01\n",
       "min      0.000000e+00\n",
       "25%      9.100000e-01\n",
       "50%      1.550000e+00\n",
       "75%      2.840000e+00\n",
       "max      1.894838e+05\n",
       "Name: trip_distance, dtype: float64"
      ]
     },
     "execution_count": 148,
     "metadata": {},
     "output_type": "execute_result"
    }
   ],
   "source": [
    "#a glance of the distribution of data in 'trip_distance' column\n",
    "df['trip_distance'].describe()"
   ]
  },
  {
   "cell_type": "code",
   "execution_count": 149,
   "metadata": {},
   "outputs": [
    {
     "data": {
      "text/plain": [
       "count    8.759532e+06\n",
       "mean     1.224432e+01\n",
       "std      1.168320e+01\n",
       "min     -4.500000e+02\n",
       "25%      6.000000e+00\n",
       "50%      9.000000e+00\n",
       "75%      1.350000e+01\n",
       "max      8.016000e+03\n",
       "Name: fare_amount, dtype: float64"
      ]
     },
     "execution_count": 149,
     "metadata": {},
     "output_type": "execute_result"
    }
   ],
   "source": [
    "#a glance of the distribution of data in 'fare_amount' column\n",
    "df['fare_amount'].describe()"
   ]
  },
  {
   "cell_type": "code",
   "execution_count": 150,
   "metadata": {},
   "outputs": [],
   "source": [
    "#Data cleaning \n",
    "#now we clean 'fare_amount' and 'trip_distance' columns according to the result of .describe(). \n",
    "\n",
    "#for 'trip_distance', mean=2.8, std=64 \n",
    "#This shows us that there are oulier vallues \n",
    "#The first 25%, 50% and 75% are 0.9, 1.5 and 2.8, respectively. Min=0 and Max=189483\n",
    "#We see that these values are obvious outliers\n",
    "#By setting a range of  0.5<trip_distance<3, we try to get rid of outliers hence, reduce the value for std\n",
    "df.drop(df[(df.trip_distance<0.5)|(df.trip_distance>3)].index, inplace=True)\n",
    "\n",
    "\n",
    "#For 'fare_amount', we see mean=12, std=11 \n",
    "#Again, the value for std shows us there are ouliers\n",
    "#first 25%=6, 50%=9 and 75%=13. Min=-4500, Max=8016 (obvious outliers)\n",
    "\n",
    "df.drop(df[(df.fare_amount<1)|(df.fare_amount>15)].index, inplace=True)"
   ]
  },
  {
   "cell_type": "code",
   "execution_count": 151,
   "metadata": {},
   "outputs": [
    {
     "data": {
      "text/plain": [
       "count    6.125437e+06\n",
       "mean     1.403180e+00\n",
       "std      6.364946e-01\n",
       "min      5.000000e-01\n",
       "25%      9.000000e-01\n",
       "50%      1.300000e+00\n",
       "75%      1.820000e+00\n",
       "max      3.000000e+00\n",
       "Name: trip_distance, dtype: float64"
      ]
     },
     "execution_count": 151,
     "metadata": {},
     "output_type": "execute_result"
    }
   ],
   "source": [
    "#after the changes, for 'trip_distance', std=0.63\n",
    "df['trip_distance'].describe()"
   ]
  },
  {
   "cell_type": "code",
   "execution_count": 152,
   "metadata": {},
   "outputs": [
    {
     "data": {
      "text/plain": [
       "count    6.125437e+06\n",
       "mean     8.092768e+00\n",
       "std      2.602843e+00\n",
       "min      1.000000e+00\n",
       "25%      6.000000e+00\n",
       "50%      7.500000e+00\n",
       "75%      1.000000e+01\n",
       "max      1.500000e+01\n",
       "Name: fare_amount, dtype: float64"
      ]
     },
     "execution_count": 152,
     "metadata": {},
     "output_type": "execute_result"
    }
   ],
   "source": [
    "#after the changes, for 'fare_amount', std is now =2.6\n",
    "df['fare_amount'].describe()"
   ]
  },
  {
   "cell_type": "code",
   "execution_count": 153,
   "metadata": {},
   "outputs": [
    {
     "data": {
      "text/plain": [
       "(6125437, 4)"
      ]
     },
     "execution_count": 153,
     "metadata": {},
     "output_type": "execute_result"
    }
   ],
   "source": [
    "df.shape"
   ]
  },
  {
   "cell_type": "markdown",
   "metadata": {},
   "source": [
    "### Part1: Find the fare amount per mile. For each borough, calculate mean and standard deviation of values. Plot the result and run the t-test on each pair of two boroughs possible"
   ]
  },
  {
   "cell_type": "code",
   "execution_count": 154,
   "metadata": {},
   "outputs": [],
   "source": [
    "#here we calculate a new column and we call it 'price_per_mile'\n",
    "#the values contained are equal to the amount each passenger pays for each mile of his or her trip\n",
    "df['price_per_mile'] = df['fare_amount']/df['trip_distance']"
   ]
  },
  {
   "cell_type": "code",
   "execution_count": 155,
   "metadata": {},
   "outputs": [],
   "source": [
    "#two columns 'trip_distance' and 'fare_amount' has served their purpose so we can drop them\n",
    "df.drop(columns = ['trip_distance', 'fare_amount'], inplace=True)"
   ]
  },
  {
   "cell_type": "code",
   "execution_count": 156,
   "metadata": {},
   "outputs": [
    {
     "data": {
      "text/plain": [
       "count    6.125437e+06\n",
       "mean     6.293948e+00\n",
       "std      1.741622e+00\n",
       "min      3.571429e-01\n",
       "25%      5.000000e+00\n",
       "50%      5.970149e+00\n",
       "75%      7.142857e+00\n",
       "max      3.000000e+01\n",
       "Name: price_per_mile, dtype: float64"
      ]
     },
     "execution_count": 156,
     "metadata": {},
     "output_type": "execute_result"
    }
   ],
   "source": [
    "#let's inverstigate the new column and have a glance into the statistics of it\n",
    "df['price_per_mile'].describe()"
   ]
  },
  {
   "cell_type": "code",
   "execution_count": 157,
   "metadata": {},
   "outputs": [
    {
     "data": {
      "text/plain": [
       "<matplotlib.axes._subplots.AxesSubplot at 0x22daf9c24a8>"
      ]
     },
     "execution_count": 157,
     "metadata": {},
     "output_type": "execute_result"
    },
    {
     "data": {
      "image/png": "[encoded data removed]",
      "text/plain": [
       "<Figure size 432x288 with 1 Axes>"
      ]
     },
     "metadata": {},
     "output_type": "display_data"
    }
   ],
   "source": [
    "#We see that mean values for 'priec_per_mile'=6.2 and std=1.7\n",
    "#25%=5, 50%=5.9 and 75%=7.1, Min=0.35 and max=30\n",
    "#we feel the need to plot the distribution and see how normalized the plot is\n",
    "\n",
    "sns.distplot(df['price_per_mile'])"
   ]
  },
  {
   "cell_type": "code",
   "execution_count": 158,
   "metadata": {},
   "outputs": [
    {
     "data": {
      "text/plain": [
       "<matplotlib.axes._subplots.AxesSubplot at 0x22c36a248d0>"
      ]
     },
     "execution_count": 158,
     "metadata": {},
     "output_type": "execute_result"
    },
    {
     "data": {
      "image/png": "[encoded data removed]",
      "text/plain": [
       "<Figure size 432x288 with 1 Axes>"
      ]
     },
     "metadata": {},
     "output_type": "display_data"
    }
   ],
   "source": [
    "#As the plot shows, we can choose this range: 3<price_per_mile<12\n",
    "#the bulk of the population is concentrated between these two numbers\n",
    "df.drop(df[(df.price_per_mile<3)|(df.price_per_mile>12)].index, inplace=True)\n",
    "sns.distplot(df['price_per_mile'], kde=False, hist_kws=dict(edgecolor=\"k\", linewidth=2))"
   ]
  },
  {
   "cell_type": "code",
   "execution_count": 159,
   "metadata": {},
   "outputs": [],
   "source": [
    "#Read 'taxi_zone_lookup' dataset\n",
    "borough = pd.read_csv(r'C:\\Users\\samin\\Desktop\\Homework2\\taxi_zone_lookup.csv', usecols = ['LocationID', 'Borough'])"
   ]
  },
  {
   "cell_type": "code",
   "execution_count": 160,
   "metadata": {},
   "outputs": [],
   "source": [
    "#Merge df and borough \n",
    "result = pd.merge(df,\n",
    "                 borough,\n",
    "                 left_on='PULocationID',\n",
    "                 right_on='LocationID',\n",
    "                 how='inner' \n",
    "                 )"
   ]
  },
  {
   "cell_type": "code",
   "execution_count": 161,
   "metadata": {},
   "outputs": [],
   "source": [
    "#now that by merging we have a new column called 'Borough' which contains the name of each contained borough for the zoneIDs, we can drop 'PULocationID' and 'LocationID'\n",
    "#these two columns served as the joining key as they contained the same content\n",
    "result.drop(columns = ['PULocationID', 'LocationID'], inplace =  True)"
   ]
  },
  {
   "cell_type": "code",
   "execution_count": 162,
   "metadata": {},
   "outputs": [
    {
     "data": {
      "text/plain": [
       "array(['Manhattan', 'Brooklyn', 'Unknown', 'Queens', 'Bronx', 'EWR',\n",
       "       'Staten Island'], dtype=object)"
      ]
     },
     "execution_count": 162,
     "metadata": {},
     "output_type": "execute_result"
    }
   ],
   "source": [
    "#see if 'Borough' column is clean\n",
    "result['Borough'].unique()"
   ]
  },
  {
   "cell_type": "code",
   "execution_count": 163,
   "metadata": {},
   "outputs": [],
   "source": [
    "#we know there are 5 officail boroughs in NYC so we drop those rows with borough=Unknown and EWR.\n",
    "#although EWR is a known area (an airport) in the city but it is not officially a borough\n",
    "result.drop(result[(result.Borough=='Unknown') | (result.Borough=='EWR')].index, inplace=True)"
   ]
  },
  {
   "cell_type": "code",
   "execution_count": 164,
   "metadata": {},
   "outputs": [
    {
     "data": {
      "text/html": [
       "<div>\n",
       "<style scoped>\n",
       "    .dataframe tbody tr th:only-of-type {\n",
       "        vertical-align: middle;\n",
       "    }\n",
       "\n",
       "    .dataframe tbody tr th {\n",
       "        vertical-align: top;\n",
       "    }\n",
       "\n",
       "    .dataframe thead th {\n",
       "        text-align: right;\n",
       "    }\n",
       "</style>\n",
       "<table border=\"1\" class=\"dataframe\">\n",
       "  <thead>\n",
       "    <tr style=\"text-align: right;\">\n",
       "      <th></th>\n",
       "      <th>PULocationID</th>\n",
       "      <th>Duration</th>\n",
       "      <th>price_per_mile</th>\n",
       "    </tr>\n",
       "  </thead>\n",
       "  <tbody>\n",
       "    <tr>\n",
       "      <th>0</th>\n",
       "      <td>41</td>\n",
       "      <td>3.300000</td>\n",
       "      <td>9.000000</td>\n",
       "    </tr>\n",
       "    <tr>\n",
       "      <th>1</th>\n",
       "      <td>239</td>\n",
       "      <td>18.166667</td>\n",
       "      <td>5.185185</td>\n",
       "    </tr>\n",
       "    <tr>\n",
       "      <th>2</th>\n",
       "      <td>262</td>\n",
       "      <td>5.916667</td>\n",
       "      <td>7.500000</td>\n",
       "    </tr>\n",
       "    <tr>\n",
       "      <th>4</th>\n",
       "      <td>246</td>\n",
       "      <td>17.800000</td>\n",
       "      <td>5.000000</td>\n",
       "    </tr>\n",
       "    <tr>\n",
       "      <th>5</th>\n",
       "      <td>143</td>\n",
       "      <td>3.316667</td>\n",
       "      <td>9.000000</td>\n",
       "    </tr>\n",
       "  </tbody>\n",
       "</table>\n",
       "</div>"
      ],
      "text/plain": [
       "   PULocationID   Duration  price_per_mile\n",
       "0            41   3.300000        9.000000\n",
       "1           239  18.166667        5.185185\n",
       "2           262   5.916667        7.500000\n",
       "4           246  17.800000        5.000000\n",
       "5           143   3.316667        9.000000"
      ]
     },
     "execution_count": 164,
     "metadata": {},
     "output_type": "execute_result"
    }
   ],
   "source": [
    "df.head()"
   ]
  },
  {
   "cell_type": "markdown",
   "metadata": {},
   "source": [
    "## Plotting"
   ]
  },
  {
   "cell_type": "code",
   "execution_count": 165,
   "metadata": {},
   "outputs": [
    {
     "name": "stdout",
     "output_type": "stream",
     "text": [
      "Borough\n",
      "Bronx            5.714777\n",
      "Brooklyn         5.659667\n",
      "Manhattan        6.236856\n",
      "Queens           5.445731\n",
      "Staten Island    5.726651\n",
      "Name: price_per_mile, dtype: float64\n"
     ]
    }
   ],
   "source": [
    "#see the mean of 'price_per_mile' for each borough\n",
    "#we don't see a huge differenc among values. Just Manhattan has a slightly higer price\n",
    "M=result.groupby('Borough')['price_per_mile'].mean()\n",
    "print(M)"
   ]
  },
  {
   "cell_type": "code",
   "execution_count": 166,
   "metadata": {},
   "outputs": [
    {
     "data": {
      "text/plain": [
       "<matplotlib.axes._subplots.AxesSubplot at 0x22c6029f710>"
      ]
     },
     "execution_count": 166,
     "metadata": {},
     "output_type": "execute_result"
    },
    {
     "data": {
      "image/png": "[encoded data removed]",
      "text/plain": [
       "<Figure size 432x288 with 1 Axes>"
      ]
     },
     "metadata": {},
     "output_type": "display_data"
    }
   ],
   "source": [
    "M.plot.bar()"
   ]
  },
  {
   "cell_type": "code",
   "execution_count": 167,
   "metadata": {},
   "outputs": [],
   "source": [
    "S=result.groupby('Borough')['price_per_mile'].std()"
   ]
  },
  {
   "cell_type": "code",
   "execution_count": 168,
   "metadata": {},
   "outputs": [
    {
     "name": "stdout",
     "output_type": "stream",
     "text": [
      "Borough\n",
      "Bronx            1.392226\n",
      "Brooklyn         1.386323\n",
      "Manhattan        1.574355\n",
      "Queens           1.339617\n",
      "Staten Island    1.491341\n",
      "Name: price_per_mile, dtype: float64\n"
     ]
    }
   ],
   "source": [
    "print(S)"
   ]
  },
  {
   "cell_type": "code",
   "execution_count": 169,
   "metadata": {},
   "outputs": [
    {
     "data": {
      "text/plain": [
       "<matplotlib.axes._subplots.AxesSubplot at 0x22c6030f160>"
      ]
     },
     "execution_count": 169,
     "metadata": {},
     "output_type": "execute_result"
    },
    {
     "data": {
      "image/png": "[encoded data removed]",
      "text/plain": [
       "<Figure size 432x288 with 1 Axes>"
      ]
     },
     "metadata": {},
     "output_type": "display_data"
    }
   ],
   "source": [
    "S.plot.bar()"
   ]
  },
  {
   "cell_type": "markdown",
   "metadata": {},
   "source": [
    "## t-test"
   ]
  },
  {
   "cell_type": "code",
   "execution_count": 170,
   "metadata": {},
   "outputs": [],
   "source": [
    "#we want to see if the difference between mean values of each pair of boroughs is significant\n",
    "#with the help of python scipy library we calculate the value we want\n",
    "#the function chosen is ttest_ind(a, b) from scypy.stats\n",
    "#this function return a tuple which contains (t-value, p-value)\n",
    "#this is an independednt t-test(student t-test). Such a test assumes that the distribution of two populations (a, b) is equal. \n",
    "#we don't know if such is true for each pair, so through an argument inside ttest_ind, we change the default student's test into what is called Welch's test\n",
    "#ttest_ind(a,b, equal_var=False)\n",
    "\n",
    "#independent t-test tests the significant difference between the mean of two unrelated groups\n",
    "#The hypothesis being tested is:\n",
    "#Null hypothesis (H0): u1 = u2, which translates to the mean of sample 1 is equal to the mean of sample 2\n",
    "#Alternative hypothesis (HA): u1 ≠ u2, which translates to the mean of sample 1 is not equal to the mean of sample 2\n",
    "#If the p-value is less than what is tested at, most commonly 0.05, one can reject the null hypothesis\n",
    "\n",
    "#we create an empty, multi-indexed data-frame\n",
    "#then fill it \n",
    "boroughs = ['Bronx', 'Brooklyn', 'Manhattan', 'Staten Island', 'Queens']\n",
    "iterables = [['Bronx', 'Brooklyn', 'Manhattan', 'Staten Island', 'Queens'], ['t-value', 'p-value', \"H0 hypothesis\"]]\n",
    "my_index = pd.MultiIndex.from_product(iterables)\n",
    "dt = pd.DataFrame(index=my_index, columns=boroughs)"
   ]
  },
  {
   "cell_type": "code",
   "execution_count": 171,
   "metadata": {},
   "outputs": [],
   "source": [
    "#filling the data-frame with t-value and p-value of each pair of boroughs\n",
    "for i in boroughs:\n",
    "    a = result.loc[result.Borough==i][\"price_per_mile\"]\n",
    "    for j in boroughs:\n",
    "            b = result.loc[result.Borough==j][\"price_per_mile\"]\n",
    "            t2, p2 = stats.ttest_ind(a,b, equal_var=False)\n",
    "            dt.loc[(i,\"t-value\"),j]=t2\n",
    "            dt.loc[(i,\"p-value\"),j]=p2\n",
    "            if(p2>0.05):\n",
    "               dt.loc[(i,\"H0 hypothesis\"),j]='H0 accepted'\n",
    "            else:\n",
    "               dt.loc[(i,\"H0 hypothesis\"),j]='H0 Rejected'"
   ]
  },
  {
   "cell_type": "code",
   "execution_count": 172,
   "metadata": {},
   "outputs": [
    {
     "data": {
      "text/html": [
       "<div>\n",
       "<style scoped>\n",
       "    .dataframe tbody tr th:only-of-type {\n",
       "        vertical-align: middle;\n",
       "    }\n",
       "\n",
       "    .dataframe tbody tr th {\n",
       "        vertical-align: top;\n",
       "    }\n",
       "\n",
       "    .dataframe thead th {\n",
       "        text-align: right;\n",
       "    }\n",
       "</style>\n",
       "<table border=\"1\" class=\"dataframe\">\n",
       "  <thead>\n",
       "    <tr style=\"text-align: right;\">\n",
       "      <th></th>\n",
       "      <th></th>\n",
       "      <th>Bronx</th>\n",
       "      <th>Brooklyn</th>\n",
       "      <th>Manhattan</th>\n",
       "      <th>Staten Island</th>\n",
       "      <th>Queens</th>\n",
       "    </tr>\n",
       "  </thead>\n",
       "  <tbody>\n",
       "    <tr>\n",
       "      <th rowspan=\"3\" valign=\"top\">Bronx</th>\n",
       "      <th>t-value</th>\n",
       "      <td>0</td>\n",
       "      <td>2.3138</td>\n",
       "      <td>-22.6247</td>\n",
       "      <td>-0.050733</td>\n",
       "      <td>11.305</td>\n",
       "    </tr>\n",
       "    <tr>\n",
       "      <th>p-value</th>\n",
       "      <td>1</td>\n",
       "      <td>0.0207273</td>\n",
       "      <td>3.63475e-106</td>\n",
       "      <td>0.959786</td>\n",
       "      <td>3.31744e-29</td>\n",
       "    </tr>\n",
       "    <tr>\n",
       "      <th>H0 hypothesis</th>\n",
       "      <td>H0 accepted</td>\n",
       "      <td>H0 Rejected</td>\n",
       "      <td>H0 Rejected</td>\n",
       "      <td>H0 accepted</td>\n",
       "      <td>H0 Rejected</td>\n",
       "    </tr>\n",
       "    <tr>\n",
       "      <th rowspan=\"3\" valign=\"top\">Brooklyn</th>\n",
       "      <th>t-value</th>\n",
       "      <td>-2.3138</td>\n",
       "      <td>0</td>\n",
       "      <td>-96.6639</td>\n",
       "      <td>-0.287504</td>\n",
       "      <td>25.6522</td>\n",
       "    </tr>\n",
       "    <tr>\n",
       "      <th>p-value</th>\n",
       "      <td>0.0207273</td>\n",
       "      <td>1</td>\n",
       "      <td>0</td>\n",
       "      <td>0.775209</td>\n",
       "      <td>1.09993e-144</td>\n",
       "    </tr>\n",
       "    <tr>\n",
       "      <th>H0 hypothesis</th>\n",
       "      <td>H0 Rejected</td>\n",
       "      <td>H0 accepted</td>\n",
       "      <td>H0 Rejected</td>\n",
       "      <td>H0 accepted</td>\n",
       "      <td>H0 Rejected</td>\n",
       "    </tr>\n",
       "    <tr>\n",
       "      <th rowspan=\"3\" valign=\"top\">Manhattan</th>\n",
       "      <th>t-value</th>\n",
       "      <td>22.6247</td>\n",
       "      <td>96.6639</td>\n",
       "      <td>0</td>\n",
       "      <td>2.19057</td>\n",
       "      <td>134.21</td>\n",
       "    </tr>\n",
       "    <tr>\n",
       "      <th>p-value</th>\n",
       "      <td>3.63475e-106</td>\n",
       "      <td>0</td>\n",
       "      <td>1</td>\n",
       "      <td>0.0343709</td>\n",
       "      <td>0</td>\n",
       "    </tr>\n",
       "    <tr>\n",
       "      <th>H0 hypothesis</th>\n",
       "      <td>H0 Rejected</td>\n",
       "      <td>H0 Rejected</td>\n",
       "      <td>H0 accepted</td>\n",
       "      <td>H0 Rejected</td>\n",
       "      <td>H0 Rejected</td>\n",
       "    </tr>\n",
       "    <tr>\n",
       "      <th rowspan=\"3\" valign=\"top\">Staten Island</th>\n",
       "      <th>t-value</th>\n",
       "      <td>0.050733</td>\n",
       "      <td>0.287504</td>\n",
       "      <td>-2.19057</td>\n",
       "      <td>0</td>\n",
       "      <td>1.20576</td>\n",
       "    </tr>\n",
       "    <tr>\n",
       "      <th>p-value</th>\n",
       "      <td>0.959786</td>\n",
       "      <td>0.775209</td>\n",
       "      <td>0.0343709</td>\n",
       "      <td>1</td>\n",
       "      <td>0.234985</td>\n",
       "    </tr>\n",
       "    <tr>\n",
       "      <th>H0 hypothesis</th>\n",
       "      <td>H0 accepted</td>\n",
       "      <td>H0 accepted</td>\n",
       "      <td>H0 Rejected</td>\n",
       "      <td>H0 accepted</td>\n",
       "      <td>H0 accepted</td>\n",
       "    </tr>\n",
       "    <tr>\n",
       "      <th rowspan=\"3\" valign=\"top\">Queens</th>\n",
       "      <th>t-value</th>\n",
       "      <td>-11.305</td>\n",
       "      <td>-25.6522</td>\n",
       "      <td>-134.21</td>\n",
       "      <td>-1.20576</td>\n",
       "      <td>0</td>\n",
       "    </tr>\n",
       "    <tr>\n",
       "      <th>p-value</th>\n",
       "      <td>3.31744e-29</td>\n",
       "      <td>1.09993e-144</td>\n",
       "      <td>0</td>\n",
       "      <td>0.234985</td>\n",
       "      <td>1</td>\n",
       "    </tr>\n",
       "    <tr>\n",
       "      <th>H0 hypothesis</th>\n",
       "      <td>H0 Rejected</td>\n",
       "      <td>H0 Rejected</td>\n",
       "      <td>H0 Rejected</td>\n",
       "      <td>H0 accepted</td>\n",
       "      <td>H0 accepted</td>\n",
       "    </tr>\n",
       "  </tbody>\n",
       "</table>\n",
       "</div>"
      ],
      "text/plain": [
       "                                    Bronx      Brooklyn     Manhattan  \\\n",
       "Bronx         t-value                   0        2.3138      -22.6247   \n",
       "              p-value                   1     0.0207273  3.63475e-106   \n",
       "              H0 hypothesis   H0 accepted   H0 Rejected   H0 Rejected   \n",
       "Brooklyn      t-value             -2.3138             0      -96.6639   \n",
       "              p-value           0.0207273             1             0   \n",
       "              H0 hypothesis   H0 Rejected   H0 accepted   H0 Rejected   \n",
       "Manhattan     t-value             22.6247       96.6639             0   \n",
       "              p-value        3.63475e-106             0             1   \n",
       "              H0 hypothesis   H0 Rejected   H0 Rejected   H0 accepted   \n",
       "Staten Island t-value            0.050733      0.287504      -2.19057   \n",
       "              p-value            0.959786      0.775209     0.0343709   \n",
       "              H0 hypothesis   H0 accepted   H0 accepted   H0 Rejected   \n",
       "Queens        t-value             -11.305      -25.6522       -134.21   \n",
       "              p-value         3.31744e-29  1.09993e-144             0   \n",
       "              H0 hypothesis   H0 Rejected   H0 Rejected   H0 Rejected   \n",
       "\n",
       "                            Staten Island        Queens  \n",
       "Bronx         t-value           -0.050733        11.305  \n",
       "              p-value            0.959786   3.31744e-29  \n",
       "              H0 hypothesis   H0 accepted   H0 Rejected  \n",
       "Brooklyn      t-value           -0.287504       25.6522  \n",
       "              p-value            0.775209  1.09993e-144  \n",
       "              H0 hypothesis   H0 accepted   H0 Rejected  \n",
       "Manhattan     t-value             2.19057        134.21  \n",
       "              p-value           0.0343709             0  \n",
       "              H0 hypothesis   H0 Rejected   H0 Rejected  \n",
       "Staten Island t-value                   0       1.20576  \n",
       "              p-value                   1      0.234985  \n",
       "              H0 hypothesis   H0 accepted   H0 accepted  \n",
       "Queens        t-value            -1.20576             0  \n",
       "              p-value            0.234985             1  \n",
       "              H0 hypothesis   H0 accepted   H0 accepted  "
      ]
     },
     "execution_count": 172,
     "metadata": {},
     "output_type": "execute_result"
    }
   ],
   "source": [
    "dt"
   ]
  },
  {
   "cell_type": "markdown",
   "metadata": {},
   "source": [
    "###### as we expected, in the diagonal of our matrix, p-value=1 and we accepted the null hypothesis (equality of mean ) "
   ]
  },
  {
   "cell_type": "markdown",
   "metadata": {},
   "source": [
    "### Part2: Taking traffic congestion into consideration and normalizing even more!"
   ]
  },
  {
   "cell_type": "code",
   "execution_count": 173,
   "metadata": {},
   "outputs": [
    {
     "data": {
      "text/html": [
       "<div>\n",
       "<style scoped>\n",
       "    .dataframe tbody tr th:only-of-type {\n",
       "        vertical-align: middle;\n",
       "    }\n",
       "\n",
       "    .dataframe tbody tr th {\n",
       "        vertical-align: top;\n",
       "    }\n",
       "\n",
       "    .dataframe thead th {\n",
       "        text-align: right;\n",
       "    }\n",
       "</style>\n",
       "<table border=\"1\" class=\"dataframe\">\n",
       "  <thead>\n",
       "    <tr style=\"text-align: right;\">\n",
       "      <th></th>\n",
       "      <th>Duration</th>\n",
       "      <th>price_per_mile</th>\n",
       "      <th>Borough</th>\n",
       "    </tr>\n",
       "  </thead>\n",
       "  <tbody>\n",
       "    <tr>\n",
       "      <th>0</th>\n",
       "      <td>3.300000</td>\n",
       "      <td>9.000000</td>\n",
       "      <td>Manhattan</td>\n",
       "    </tr>\n",
       "    <tr>\n",
       "      <th>1</th>\n",
       "      <td>10.333333</td>\n",
       "      <td>6.250000</td>\n",
       "      <td>Manhattan</td>\n",
       "    </tr>\n",
       "    <tr>\n",
       "      <th>2</th>\n",
       "      <td>3.650000</td>\n",
       "      <td>6.578947</td>\n",
       "      <td>Manhattan</td>\n",
       "    </tr>\n",
       "    <tr>\n",
       "      <th>3</th>\n",
       "      <td>6.750000</td>\n",
       "      <td>6.132075</td>\n",
       "      <td>Manhattan</td>\n",
       "    </tr>\n",
       "    <tr>\n",
       "      <th>4</th>\n",
       "      <td>13.133333</td>\n",
       "      <td>4.791667</td>\n",
       "      <td>Manhattan</td>\n",
       "    </tr>\n",
       "  </tbody>\n",
       "</table>\n",
       "</div>"
      ],
      "text/plain": [
       "    Duration  price_per_mile    Borough\n",
       "0   3.300000        9.000000  Manhattan\n",
       "1  10.333333        6.250000  Manhattan\n",
       "2   3.650000        6.578947  Manhattan\n",
       "3   6.750000        6.132075  Manhattan\n",
       "4  13.133333        4.791667  Manhattan"
      ]
     },
     "execution_count": 173,
     "metadata": {},
     "output_type": "execute_result"
    }
   ],
   "source": [
    "result.head()"
   ]
  },
  {
   "cell_type": "code",
   "execution_count": 174,
   "metadata": {},
   "outputs": [
    {
     "data": {
      "text/plain": [
       "count    5.963502e+06\n",
       "mean     1.156598e+01\n",
       "std      5.519776e+01\n",
       "min      0.000000e+00\n",
       "25%      5.850000e+00\n",
       "50%      8.616667e+00\n",
       "75%      1.221667e+01\n",
       "max      1.519833e+03\n",
       "Name: Duration, dtype: float64"
      ]
     },
     "execution_count": 174,
     "metadata": {},
     "output_type": "execute_result"
    }
   ],
   "source": [
    "#First let's take a look at the distribution of column 'Duration'\n",
    "result['Duration'].describe()"
   ]
  },
  {
   "cell_type": "code",
   "execution_count": 175,
   "metadata": {},
   "outputs": [
    {
     "data": {
      "text/plain": [
       "<matplotlib.axes._subplots.AxesSubplot at 0x22c60386f28>"
      ]
     },
     "execution_count": 175,
     "metadata": {},
     "output_type": "execute_result"
    },
    {
     "data": {
      "image/png": "[encoded data removed]",
      "text/plain": [
       "<Figure size 432x288 with 1 Axes>"
      ]
     },
     "metadata": {},
     "output_type": "display_data"
    }
   ],
   "source": [
    "#according to the result of .describe(), we choose a range for 'Duration\n",
    "# 5<Duration<20\n",
    "result.drop(result[(result.Duration<1)|(result.Duration>20)].index, inplace=True)\n",
    "sns.distplot(result['Duration'], kde=False, hist_kws=dict(edgecolor=\"k\", linewidth=2))"
   ]
  },
  {
   "cell_type": "code",
   "execution_count": 176,
   "metadata": {},
   "outputs": [],
   "source": [
    "#We divide values in 'price_per_mile' by values in 'Duration' column\n",
    "result['Normalized']=result['price_per_mile']/result['Duration']"
   ]
  },
  {
   "cell_type": "code",
   "execution_count": 177,
   "metadata": {},
   "outputs": [
    {
     "data": {
      "text/plain": [
       "count    5.803228e+06\n",
       "mean     8.959665e-01\n",
       "std      6.097313e-01\n",
       "min      1.693480e-01\n",
       "25%      4.671280e-01\n",
       "50%      7.021376e-01\n",
       "75%      1.128032e+00\n",
       "max      9.504608e+00\n",
       "Name: Normalized, dtype: float64"
      ]
     },
     "execution_count": 177,
     "metadata": {},
     "output_type": "execute_result"
    }
   ],
   "source": [
    "result['Normalized'].describe()"
   ]
  },
  {
   "cell_type": "code",
   "execution_count": 178,
   "metadata": {},
   "outputs": [
    {
     "name": "stdout",
     "output_type": "stream",
     "text": [
      "Borough\n",
      "Bronx            0.887804\n",
      "Brooklyn         0.900906\n",
      "Manhattan        0.895492\n",
      "Queens           0.943603\n",
      "Staten Island    0.948258\n",
      "Name: Normalized, dtype: float64\n"
     ]
    }
   ],
   "source": [
    "s=result.groupby('Borough')['Normalized'].mean()\n",
    "print(s)"
   ]
  },
  {
   "cell_type": "code",
   "execution_count": 179,
   "metadata": {},
   "outputs": [
    {
     "data": {
      "text/plain": [
       "<matplotlib.axes._subplots.AxesSubplot at 0x22c60307908>"
      ]
     },
     "execution_count": 179,
     "metadata": {},
     "output_type": "execute_result"
    },
    {
     "data": {
      "image/png": "[encoded data removed]",
      "text/plain": [
       "<Figure size 432x288 with 1 Axes>"
      ]
     },
     "metadata": {},
     "output_type": "display_data"
    }
   ],
   "source": [
    "s.plot.bar()"
   ]
  },
  {
   "cell_type": "code",
   "execution_count": 180,
   "metadata": {},
   "outputs": [
    {
     "name": "stdout",
     "output_type": "stream",
     "text": [
      "Borough\n",
      "Bronx            0.887804\n",
      "Brooklyn         0.900906\n",
      "Manhattan        0.895492\n",
      "Queens           0.943603\n",
      "Staten Island    0.948258\n",
      "Name: Normalized, dtype: float64\n"
     ]
    }
   ],
   "source": [
    "m=result.groupby('Borough')['Normalized'].std()\n",
    "print(s)"
   ]
  },
  {
   "cell_type": "code",
   "execution_count": 181,
   "metadata": {},
   "outputs": [
    {
     "data": {
      "text/plain": [
       "<matplotlib.axes._subplots.AxesSubplot at 0x22c3b9d8b00>"
      ]
     },
     "execution_count": 181,
     "metadata": {},
     "output_type": "execute_result"
    },
    {
     "data": {
      "image/png": "[encoded data removed]",
      "text/plain": [
       "<Figure size 432x288 with 1 Axes>"
      ]
     },
     "metadata": {},
     "output_type": "display_data"
    }
   ],
   "source": [
    "m.plot.bar()"
   ]
  },
  {
   "cell_type": "markdown",
   "metadata": {},
   "source": [
    "### t-test"
   ]
  },
  {
   "cell_type": "code",
   "execution_count": 182,
   "metadata": {},
   "outputs": [],
   "source": [
    "#an empty, multi-indexed data-frame\n",
    "dt2 = pd.DataFrame(index=my_index, columns=boroughs)"
   ]
  },
  {
   "cell_type": "code",
   "execution_count": 183,
   "metadata": {},
   "outputs": [],
   "source": [
    "#calculating t-value and p-value for each pair of borough in NYC\n",
    "for i in boroughs:\n",
    "    a = result.loc[result.Borough==i]['Normalized']\n",
    "    for j in boroughs:\n",
    "            b = result.loc[result.Borough==j]['Normalized']\n",
    "            b = b.dropna()\n",
    "            t2, p2 = stats.ttest_ind(a,b)\n",
    "            dt2.loc[(i,\"t-value\"),j]=t2\n",
    "            dt2.loc[(i,\"p-value\"),j]=p2\n",
    "            if(p2>0.05):\n",
    "               dt2.loc[(i,\"H0 hypothesis\"),j]='H0 accepted'\n",
    "            else:\n",
    "               dt2.loc[(i,\"H0 hypothesis\"),j]='Reject H0'"
   ]
  },
  {
   "cell_type": "code",
   "execution_count": 184,
   "metadata": {},
   "outputs": [
    {
     "data": {
      "text/html": [
       "<div>\n",
       "<style scoped>\n",
       "    .dataframe tbody tr th:only-of-type {\n",
       "        vertical-align: middle;\n",
       "    }\n",
       "\n",
       "    .dataframe tbody tr th {\n",
       "        vertical-align: top;\n",
       "    }\n",
       "\n",
       "    .dataframe thead th {\n",
       "        text-align: right;\n",
       "    }\n",
       "</style>\n",
       "<table border=\"1\" class=\"dataframe\">\n",
       "  <thead>\n",
       "    <tr style=\"text-align: right;\">\n",
       "      <th></th>\n",
       "      <th></th>\n",
       "      <th>Bronx</th>\n",
       "      <th>Brooklyn</th>\n",
       "      <th>Manhattan</th>\n",
       "      <th>Staten Island</th>\n",
       "      <th>Queens</th>\n",
       "    </tr>\n",
       "  </thead>\n",
       "  <tbody>\n",
       "    <tr>\n",
       "      <th rowspan=\"3\" valign=\"top\">Bronx</th>\n",
       "      <th>t-value</th>\n",
       "      <td>0</td>\n",
       "      <td>-1.18612</td>\n",
       "      <td>-0.752585</td>\n",
       "      <td>-0.553934</td>\n",
       "      <td>-4.63582</td>\n",
       "    </tr>\n",
       "    <tr>\n",
       "      <th>p-value</th>\n",
       "      <td>1</td>\n",
       "      <td>0.235579</td>\n",
       "      <td>0.451699</td>\n",
       "      <td>0.579658</td>\n",
       "      <td>3.56335e-06</td>\n",
       "    </tr>\n",
       "    <tr>\n",
       "      <th>H0 hypothesis</th>\n",
       "      <td>H0 accepted</td>\n",
       "      <td>H0 accepted</td>\n",
       "      <td>H0 accepted</td>\n",
       "      <td>H0 accepted</td>\n",
       "      <td>Reject H0</td>\n",
       "    </tr>\n",
       "    <tr>\n",
       "      <th rowspan=\"3\" valign=\"top\">Brooklyn</th>\n",
       "      <th>t-value</th>\n",
       "      <td>1.18612</td>\n",
       "      <td>0</td>\n",
       "      <td>2.05605</td>\n",
       "      <td>-0.46525</td>\n",
       "      <td>-10.428</td>\n",
       "    </tr>\n",
       "    <tr>\n",
       "      <th>p-value</th>\n",
       "      <td>0.235579</td>\n",
       "      <td>1</td>\n",
       "      <td>0.0397776</td>\n",
       "      <td>0.641754</td>\n",
       "      <td>1.89991e-25</td>\n",
       "    </tr>\n",
       "    <tr>\n",
       "      <th>H0 hypothesis</th>\n",
       "      <td>H0 accepted</td>\n",
       "      <td>H0 accepted</td>\n",
       "      <td>Reject H0</td>\n",
       "      <td>H0 accepted</td>\n",
       "      <td>Reject H0</td>\n",
       "    </tr>\n",
       "    <tr>\n",
       "      <th rowspan=\"3\" valign=\"top\">Manhattan</th>\n",
       "      <th>t-value</th>\n",
       "      <td>0.752585</td>\n",
       "      <td>-2.05605</td>\n",
       "      <td>0</td>\n",
       "      <td>-0.541449</td>\n",
       "      <td>-17.8625</td>\n",
       "    </tr>\n",
       "    <tr>\n",
       "      <th>p-value</th>\n",
       "      <td>0.451699</td>\n",
       "      <td>0.0397776</td>\n",
       "      <td>1</td>\n",
       "      <td>0.588198</td>\n",
       "      <td>2.32198e-71</td>\n",
       "    </tr>\n",
       "    <tr>\n",
       "      <th>H0 hypothesis</th>\n",
       "      <td>H0 accepted</td>\n",
       "      <td>Reject H0</td>\n",
       "      <td>H0 accepted</td>\n",
       "      <td>H0 accepted</td>\n",
       "      <td>Reject H0</td>\n",
       "    </tr>\n",
       "    <tr>\n",
       "      <th rowspan=\"3\" valign=\"top\">Staten Island</th>\n",
       "      <th>t-value</th>\n",
       "      <td>0.553934</td>\n",
       "      <td>0.46525</td>\n",
       "      <td>0.541449</td>\n",
       "      <td>0</td>\n",
       "      <td>0.0417952</td>\n",
       "    </tr>\n",
       "    <tr>\n",
       "      <th>p-value</th>\n",
       "      <td>0.579658</td>\n",
       "      <td>0.641754</td>\n",
       "      <td>0.588198</td>\n",
       "      <td>1</td>\n",
       "      <td>0.966662</td>\n",
       "    </tr>\n",
       "    <tr>\n",
       "      <th>H0 hypothesis</th>\n",
       "      <td>H0 accepted</td>\n",
       "      <td>H0 accepted</td>\n",
       "      <td>H0 accepted</td>\n",
       "      <td>H0 accepted</td>\n",
       "      <td>H0 accepted</td>\n",
       "    </tr>\n",
       "    <tr>\n",
       "      <th rowspan=\"3\" valign=\"top\">Queens</th>\n",
       "      <th>t-value</th>\n",
       "      <td>4.63582</td>\n",
       "      <td>10.428</td>\n",
       "      <td>17.8625</td>\n",
       "      <td>-0.0417952</td>\n",
       "      <td>0</td>\n",
       "    </tr>\n",
       "    <tr>\n",
       "      <th>p-value</th>\n",
       "      <td>3.56335e-06</td>\n",
       "      <td>1.89991e-25</td>\n",
       "      <td>2.32198e-71</td>\n",
       "      <td>0.966662</td>\n",
       "      <td>1</td>\n",
       "    </tr>\n",
       "    <tr>\n",
       "      <th>H0 hypothesis</th>\n",
       "      <td>Reject H0</td>\n",
       "      <td>Reject H0</td>\n",
       "      <td>Reject H0</td>\n",
       "      <td>H0 accepted</td>\n",
       "      <td>H0 accepted</td>\n",
       "    </tr>\n",
       "  </tbody>\n",
       "</table>\n",
       "</div>"
      ],
      "text/plain": [
       "                                   Bronx     Brooklyn    Manhattan  \\\n",
       "Bronx         t-value                  0     -1.18612    -0.752585   \n",
       "              p-value                  1     0.235579     0.451699   \n",
       "              H0 hypothesis  H0 accepted  H0 accepted  H0 accepted   \n",
       "Brooklyn      t-value            1.18612            0      2.05605   \n",
       "              p-value           0.235579            1    0.0397776   \n",
       "              H0 hypothesis  H0 accepted  H0 accepted    Reject H0   \n",
       "Manhattan     t-value           0.752585     -2.05605            0   \n",
       "              p-value           0.451699    0.0397776            1   \n",
       "              H0 hypothesis  H0 accepted    Reject H0  H0 accepted   \n",
       "Staten Island t-value           0.553934      0.46525     0.541449   \n",
       "              p-value           0.579658     0.641754     0.588198   \n",
       "              H0 hypothesis  H0 accepted  H0 accepted  H0 accepted   \n",
       "Queens        t-value            4.63582       10.428      17.8625   \n",
       "              p-value        3.56335e-06  1.89991e-25  2.32198e-71   \n",
       "              H0 hypothesis    Reject H0    Reject H0    Reject H0   \n",
       "\n",
       "                            Staten Island       Queens  \n",
       "Bronx         t-value           -0.553934     -4.63582  \n",
       "              p-value            0.579658  3.56335e-06  \n",
       "              H0 hypothesis   H0 accepted    Reject H0  \n",
       "Brooklyn      t-value            -0.46525      -10.428  \n",
       "              p-value            0.641754  1.89991e-25  \n",
       "              H0 hypothesis   H0 accepted    Reject H0  \n",
       "Manhattan     t-value           -0.541449     -17.8625  \n",
       "              p-value            0.588198  2.32198e-71  \n",
       "              H0 hypothesis   H0 accepted    Reject H0  \n",
       "Staten Island t-value                   0    0.0417952  \n",
       "              p-value                   1     0.966662  \n",
       "              H0 hypothesis   H0 accepted  H0 accepted  \n",
       "Queens        t-value          -0.0417952            0  \n",
       "              p-value            0.966662            1  \n",
       "              H0 hypothesis   H0 accepted  H0 accepted  "
      ]
     },
     "execution_count": 184,
     "metadata": {},
     "output_type": "execute_result"
    }
   ],
   "source": [
    "dt2"
   ]
  },
  {
   "cell_type": "markdown",
   "metadata": {},
   "source": [
    "# 2018"
   ]
  },
  {
   "cell_type": "code",
   "execution_count": 186,
   "metadata": {},
   "outputs": [],
   "source": [
    "DF = []\n",
    "\n",
    "for i in range(1, 7):\n",
    "    df2018 = pd.read_csv(r\"C:\\Users\\samin\\Desktop\\Homework2\\Data\\yellow_tripdata_2018-0{}.csv\".format(i), usecols = ['tpep_pickup_datetime', 'tpep_dropoff_datetime', 'trip_distance', 'fare_amount', 'PULocationID'])\n",
    "    \n",
    "    #change the type to datetime\n",
    "    df2018['tpep_pickup_datetime']=pd.to_datetime(df2018['tpep_pickup_datetime'])\n",
    "    df2018['tpep_dropoff_datetime']=pd.to_datetime(df2018['tpep_dropoff_datetime'])\n",
    "    \n",
    "    \n",
    "    #extract necessary columns\n",
    "    df2018['Year'] = pd.DatetimeIndex(df2018['tpep_pickup_datetime']).year \n",
    "    df2018['Month'] = pd.DatetimeIndex(df2018['tpep_pickup_datetime']).month\n",
    "   \n",
    "     \n",
    "    #some data-cleaning\n",
    "    yer = 2018\n",
    "    mth = i\n",
    "    #drop years other than 2018 and months other than 1 to 6\n",
    "    df2018.drop(df2018[(df2018.Year != yer)|(df2018.Month != mth)].index, inplace=True)\n",
    "    \n",
    "    \n",
    "    #we drop values which are not in range '0.5<trip_distance<5' and '1<fare_amount<20'\n",
    "    #the values are aquired through an extention of the analysis of the first month\n",
    "    df2018.drop(df2018[(df2018.trip_distance<0.5) | (df2018.trip_distance>5)].index, inplace=True)\n",
    "    df2018.drop(df2018[(df2018.fare_amount<1) | (df2018.fare_amount>20)].index, inplace=True)\n",
    "    \n",
    "    \n",
    "    #dropping locations with ID=1 wich refer to EWR and ID= 265 and 264 wich refer to Unknown\n",
    "    df2018.drop(df2018[(df2018.PULocationID==1) |  (df2018.PULocationID==264) | (df2018.PULocationID==265)].index, inplace=True)\n",
    "    \n",
    "    \n",
    "    #calculating 'price_per_mile'\n",
    "    df2018['price_per_mile']=df2018['fare_amount']/df2018['trip_distance']\n",
    "    #dropping those values<0\n",
    "    df2018.drop(df2018[(df2018.price_per_mile<1) | (df2018.price_per_mile>15)].index, inplace=True)\n",
    "    \n",
    "    \n",
    "    #calculating 'duration'\n",
    "    df2018['duration']=(df2018['tpep_dropoff_datetime']-df2018['tpep_pickup_datetime'])/pd.Timedelta('1 minute')\n",
    "    #dropping those outside of range 1<duration<30\n",
    "    df2018.drop(df2018[(df2018.duration<1) | (df2018.duration>30)].index, inplace=True)\n",
    "    \n",
    "    \n",
    "    df2018['Normalized']=df2018['price_per_mile']/df2018['duration']\n",
    "    df2018.drop(df2018[(df2018.Normalized<1)].index, inplace=True)\n",
    "    \n",
    "    \n",
    "    df2018.drop(columns=['tpep_pickup_datetime', 'tpep_dropoff_datetime','fare_amount','trip_distance' ,'duration', 'Year', 'Month'], inplace=True)\n",
    "    \n",
    "    df2018=df2018.reset_index(drop=True)\n",
    "    DF.append(df2018)\n",
    "    \n",
    "    del df2018"
   ]
  },
  {
   "cell_type": "code",
   "execution_count": 187,
   "metadata": {},
   "outputs": [],
   "source": [
    "DF=pd.concat(DF)\n",
    "DF=DF.reset_index(drop=True)"
   ]
  },
  {
   "cell_type": "code",
   "execution_count": 188,
   "metadata": {},
   "outputs": [
    {
     "data": {
      "text/html": [
       "<div>\n",
       "<style scoped>\n",
       "    .dataframe tbody tr th:only-of-type {\n",
       "        vertical-align: middle;\n",
       "    }\n",
       "\n",
       "    .dataframe tbody tr th {\n",
       "        vertical-align: top;\n",
       "    }\n",
       "\n",
       "    .dataframe thead th {\n",
       "        text-align: right;\n",
       "    }\n",
       "</style>\n",
       "<table border=\"1\" class=\"dataframe\">\n",
       "  <thead>\n",
       "    <tr style=\"text-align: right;\">\n",
       "      <th></th>\n",
       "      <th>PULocationID</th>\n",
       "      <th>price_per_mile</th>\n",
       "      <th>Normalized</th>\n",
       "    </tr>\n",
       "  </thead>\n",
       "  <tbody>\n",
       "    <tr>\n",
       "      <th>0</th>\n",
       "      <td>41</td>\n",
       "      <td>9.000000</td>\n",
       "      <td>2.727273</td>\n",
       "    </tr>\n",
       "    <tr>\n",
       "      <th>1</th>\n",
       "      <td>262</td>\n",
       "      <td>7.500000</td>\n",
       "      <td>1.267606</td>\n",
       "    </tr>\n",
       "    <tr>\n",
       "      <th>2</th>\n",
       "      <td>143</td>\n",
       "      <td>9.000000</td>\n",
       "      <td>2.713568</td>\n",
       "    </tr>\n",
       "    <tr>\n",
       "      <th>3</th>\n",
       "      <td>239</td>\n",
       "      <td>5.714286</td>\n",
       "      <td>2.380952</td>\n",
       "    </tr>\n",
       "    <tr>\n",
       "      <th>4</th>\n",
       "      <td>238</td>\n",
       "      <td>5.500000</td>\n",
       "      <td>1.235955</td>\n",
       "    </tr>\n",
       "  </tbody>\n",
       "</table>\n",
       "</div>"
      ],
      "text/plain": [
       "   PULocationID  price_per_mile  Normalized\n",
       "0            41        9.000000    2.727273\n",
       "1           262        7.500000    1.267606\n",
       "2           143        9.000000    2.713568\n",
       "3           239        5.714286    2.380952\n",
       "4           238        5.500000    1.235955"
      ]
     },
     "execution_count": 188,
     "metadata": {},
     "output_type": "execute_result"
    }
   ],
   "source": [
    "DF.head()"
   ]
  },
  {
   "cell_type": "code",
   "execution_count": 189,
   "metadata": {},
   "outputs": [],
   "source": [
    "#Read 'taxi_zone_lookup' dataset\n",
    "borough = pd.read_csv(r'C:\\Users\\samin\\Desktop\\Homework2\\taxi_zone_lookup.csv', usecols = ['LocationID', 'Borough'])"
   ]
  },
  {
   "cell_type": "code",
   "execution_count": 190,
   "metadata": {},
   "outputs": [],
   "source": [
    "#Merge df and borough \n",
    "dft = pd.merge(DF,\n",
    "                 borough,\n",
    "                 left_on='PULocationID',\n",
    "                 right_on='LocationID',\n",
    "                 how='inner' \n",
    "                 )\n"
   ]
  },
  {
   "cell_type": "code",
   "execution_count": 191,
   "metadata": {},
   "outputs": [],
   "source": [
    "dft.drop(columns = ['PULocationID', 'LocationID'], inplace =  True)"
   ]
  },
  {
   "cell_type": "code",
   "execution_count": 192,
   "metadata": {},
   "outputs": [
    {
     "data": {
      "text/html": [
       "<div>\n",
       "<style scoped>\n",
       "    .dataframe tbody tr th:only-of-type {\n",
       "        vertical-align: middle;\n",
       "    }\n",
       "\n",
       "    .dataframe tbody tr th {\n",
       "        vertical-align: top;\n",
       "    }\n",
       "\n",
       "    .dataframe thead th {\n",
       "        text-align: right;\n",
       "    }\n",
       "</style>\n",
       "<table border=\"1\" class=\"dataframe\">\n",
       "  <thead>\n",
       "    <tr style=\"text-align: right;\">\n",
       "      <th></th>\n",
       "      <th>price_per_mile</th>\n",
       "      <th>Normalized</th>\n",
       "      <th>Borough</th>\n",
       "    </tr>\n",
       "  </thead>\n",
       "  <tbody>\n",
       "    <tr>\n",
       "      <th>0</th>\n",
       "      <td>9.000000</td>\n",
       "      <td>2.727273</td>\n",
       "      <td>Manhattan</td>\n",
       "    </tr>\n",
       "    <tr>\n",
       "      <th>1</th>\n",
       "      <td>6.578947</td>\n",
       "      <td>1.802451</td>\n",
       "      <td>Manhattan</td>\n",
       "    </tr>\n",
       "    <tr>\n",
       "      <th>2</th>\n",
       "      <td>6.111111</td>\n",
       "      <td>1.164021</td>\n",
       "      <td>Manhattan</td>\n",
       "    </tr>\n",
       "    <tr>\n",
       "      <th>3</th>\n",
       "      <td>5.940594</td>\n",
       "      <td>1.024240</td>\n",
       "      <td>Manhattan</td>\n",
       "    </tr>\n",
       "    <tr>\n",
       "      <th>4</th>\n",
       "      <td>6.043956</td>\n",
       "      <td>1.237670</td>\n",
       "      <td>Manhattan</td>\n",
       "    </tr>\n",
       "  </tbody>\n",
       "</table>\n",
       "</div>"
      ],
      "text/plain": [
       "   price_per_mile  Normalized    Borough\n",
       "0        9.000000    2.727273  Manhattan\n",
       "1        6.578947    1.802451  Manhattan\n",
       "2        6.111111    1.164021  Manhattan\n",
       "3        5.940594    1.024240  Manhattan\n",
       "4        6.043956    1.237670  Manhattan"
      ]
     },
     "execution_count": 192,
     "metadata": {},
     "output_type": "execute_result"
    }
   ],
   "source": [
    "dft.head()"
   ]
  },
  {
   "cell_type": "code",
   "execution_count": 193,
   "metadata": {},
   "outputs": [],
   "source": [
    "s=dft.groupby('Borough')['price_per_mile'].mean()"
   ]
  },
  {
   "cell_type": "code",
   "execution_count": 194,
   "metadata": {},
   "outputs": [
    {
     "data": {
      "text/plain": [
       "<matplotlib.axes._subplots.AxesSubplot at 0x22da723fda0>"
      ]
     },
     "execution_count": 194,
     "metadata": {},
     "output_type": "execute_result"
    },
    {
     "data": {
      "image/png": "[encoded data removed]",
      "text/plain": [
       "<Figure size 432x288 with 1 Axes>"
      ]
     },
     "metadata": {},
     "output_type": "display_data"
    }
   ],
   "source": [
    "s.plot.bar()"
   ]
  },
  {
   "cell_type": "code",
   "execution_count": 195,
   "metadata": {},
   "outputs": [],
   "source": [
    "m=dft.groupby('Borough')['price_per_mile'].std()"
   ]
  },
  {
   "cell_type": "code",
   "execution_count": 196,
   "metadata": {},
   "outputs": [
    {
     "data": {
      "text/plain": [
       "<matplotlib.axes._subplots.AxesSubplot at 0x22c60379c18>"
      ]
     },
     "execution_count": 196,
     "metadata": {},
     "output_type": "execute_result"
    },
    {
     "data": {
      "image/png": "[encoded data removed]",
      "text/plain": [
       "<Figure size 432x288 with 1 Axes>"
      ]
     },
     "metadata": {},
     "output_type": "display_data"
    }
   ],
   "source": [
    "m.plot.bar()"
   ]
  },
  {
   "cell_type": "code",
   "execution_count": 205,
   "metadata": {},
   "outputs": [],
   "source": [
    "#comparing the mean of 'Normalized' for each borough\n",
    "s=dft.groupby('Borough')['Normalized'].mean()"
   ]
  },
  {
   "cell_type": "code",
   "execution_count": 206,
   "metadata": {},
   "outputs": [
    {
     "data": {
      "text/plain": [
       "<matplotlib.axes._subplots.AxesSubplot at 0x22e3c458eb8>"
      ]
     },
     "execution_count": 206,
     "metadata": {},
     "output_type": "execute_result"
    },
    {
     "data": {
      "image/png": "[encoded data removed]",
      "text/plain": [
       "<Figure size 432x288 with 1 Axes>"
      ]
     },
     "metadata": {},
     "output_type": "display_data"
    }
   ],
   "source": [
    "s.plot.bar()"
   ]
  },
  {
   "cell_type": "code",
   "execution_count": 208,
   "metadata": {},
   "outputs": [],
   "source": [
    "#comparing the mstd of 'Normalized' for each borough\n",
    "m=dft.groupby('Borough')['Normalized'].std()"
   ]
  },
  {
   "cell_type": "code",
   "execution_count": 209,
   "metadata": {},
   "outputs": [
    {
     "data": {
      "text/plain": [
       "<matplotlib.axes._subplots.AxesSubplot at 0x22e3b2c1630>"
      ]
     },
     "execution_count": 209,
     "metadata": {},
     "output_type": "execute_result"
    },
    {
     "data": {
      "image/png": "[encoded data removed]",
      "text/plain": [
       "<Figure size 432x288 with 1 Axes>"
      ]
     },
     "metadata": {},
     "output_type": "display_data"
    }
   ],
   "source": [
    "m.plot.bar()"
   ]
  },
  {
   "cell_type": "markdown",
   "metadata": {},
   "source": [
    "# t-test"
   ]
  },
  {
   "cell_type": "code",
   "execution_count": 197,
   "metadata": {},
   "outputs": [],
   "source": [
    "#a multi-indexed empty data frame\n",
    "dt3=pd.DataFrame(index=my_index, columns=boroughs)"
   ]
  },
  {
   "cell_type": "markdown",
   "metadata": {},
   "source": [
    "##### t-test based on the values in 'price_per_mile'"
   ]
  },
  {
   "cell_type": "code",
   "execution_count": 199,
   "metadata": {},
   "outputs": [],
   "source": [
    "#calculating t-value and p-value for each pair of borough in NYC\n",
    "for i in boroughs:\n",
    "    a = dft.loc[dft.Borough==i]['price_per_mile']\n",
    "    for j in boroughs:\n",
    "            b = dft.loc[dft.Borough==j]['price_per_mile']\n",
    "            #student_test\n",
    "            t2, p2 = stats.ttest_ind(a,b)\n",
    "            #fill in the dataframe \n",
    "            dt3.loc[(i,\"t-value\"),j]=t2\n",
    "            dt3.loc[(i,\"p-value\"),j]=p2\n",
    "            if(p2>0.05):\n",
    "               dt3.loc[(i,\"H0 hypothesis\"),j]='H0 accepted'\n",
    "            else:\n",
    "               dt3.loc[(i,\"H0 hypothesis\"),j]='Reject H0'"
   ]
  },
  {
   "cell_type": "code",
   "execution_count": 200,
   "metadata": {},
   "outputs": [
    {
     "data": {
      "text/html": [
       "<div>\n",
       "<style scoped>\n",
       "    .dataframe tbody tr th:only-of-type {\n",
       "        vertical-align: middle;\n",
       "    }\n",
       "\n",
       "    .dataframe tbody tr th {\n",
       "        vertical-align: top;\n",
       "    }\n",
       "\n",
       "    .dataframe thead th {\n",
       "        text-align: right;\n",
       "    }\n",
       "</style>\n",
       "<table border=\"1\" class=\"dataframe\">\n",
       "  <thead>\n",
       "    <tr style=\"text-align: right;\">\n",
       "      <th></th>\n",
       "      <th></th>\n",
       "      <th>Bronx</th>\n",
       "      <th>Brooklyn</th>\n",
       "      <th>Manhattan</th>\n",
       "      <th>Staten Island</th>\n",
       "      <th>Queens</th>\n",
       "    </tr>\n",
       "  </thead>\n",
       "  <tbody>\n",
       "    <tr>\n",
       "      <th rowspan=\"3\" valign=\"top\">Bronx</th>\n",
       "      <th>t-value</th>\n",
       "      <td>0</td>\n",
       "      <td>-2.06004</td>\n",
       "      <td>-24.8825</td>\n",
       "      <td>3.61595</td>\n",
       "      <td>15.6</td>\n",
       "    </tr>\n",
       "    <tr>\n",
       "      <th>p-value</th>\n",
       "      <td>1</td>\n",
       "      <td>0.039397</td>\n",
       "      <td>1.16196e-136</td>\n",
       "      <td>0.000301534</td>\n",
       "      <td>8.41044e-55</td>\n",
       "    </tr>\n",
       "    <tr>\n",
       "      <th>H0 hypothesis</th>\n",
       "      <td>H0 accepted</td>\n",
       "      <td>Reject H0</td>\n",
       "      <td>Reject H0</td>\n",
       "      <td>Reject H0</td>\n",
       "      <td>Reject H0</td>\n",
       "    </tr>\n",
       "    <tr>\n",
       "      <th rowspan=\"3\" valign=\"top\">Brooklyn</th>\n",
       "      <th>t-value</th>\n",
       "      <td>2.06004</td>\n",
       "      <td>0</td>\n",
       "      <td>-93.2525</td>\n",
       "      <td>4.04282</td>\n",
       "      <td>51.2342</td>\n",
       "    </tr>\n",
       "    <tr>\n",
       "      <th>p-value</th>\n",
       "      <td>0.039397</td>\n",
       "      <td>1</td>\n",
       "      <td>0</td>\n",
       "      <td>5.28496e-05</td>\n",
       "      <td>0</td>\n",
       "    </tr>\n",
       "    <tr>\n",
       "      <th>H0 hypothesis</th>\n",
       "      <td>Reject H0</td>\n",
       "      <td>H0 accepted</td>\n",
       "      <td>Reject H0</td>\n",
       "      <td>Reject H0</td>\n",
       "      <td>Reject H0</td>\n",
       "    </tr>\n",
       "    <tr>\n",
       "      <th rowspan=\"3\" valign=\"top\">Manhattan</th>\n",
       "      <th>t-value</th>\n",
       "      <td>24.8825</td>\n",
       "      <td>93.2525</td>\n",
       "      <td>0</td>\n",
       "      <td>5.26503</td>\n",
       "      <td>147.619</td>\n",
       "    </tr>\n",
       "    <tr>\n",
       "      <th>p-value</th>\n",
       "      <td>1.16196e-136</td>\n",
       "      <td>0</td>\n",
       "      <td>1</td>\n",
       "      <td>1.40169e-07</td>\n",
       "      <td>0</td>\n",
       "    </tr>\n",
       "    <tr>\n",
       "      <th>H0 hypothesis</th>\n",
       "      <td>Reject H0</td>\n",
       "      <td>Reject H0</td>\n",
       "      <td>H0 accepted</td>\n",
       "      <td>Reject H0</td>\n",
       "      <td>Reject H0</td>\n",
       "    </tr>\n",
       "    <tr>\n",
       "      <th rowspan=\"3\" valign=\"top\">Staten Island</th>\n",
       "      <th>t-value</th>\n",
       "      <td>-3.61595</td>\n",
       "      <td>-4.04282</td>\n",
       "      <td>-5.26503</td>\n",
       "      <td>0</td>\n",
       "      <td>-2.51033</td>\n",
       "    </tr>\n",
       "    <tr>\n",
       "      <th>p-value</th>\n",
       "      <td>0.000301534</td>\n",
       "      <td>5.28496e-05</td>\n",
       "      <td>1.40169e-07</td>\n",
       "      <td>1</td>\n",
       "      <td>0.0120636</td>\n",
       "    </tr>\n",
       "    <tr>\n",
       "      <th>H0 hypothesis</th>\n",
       "      <td>Reject H0</td>\n",
       "      <td>Reject H0</td>\n",
       "      <td>Reject H0</td>\n",
       "      <td>H0 accepted</td>\n",
       "      <td>Reject H0</td>\n",
       "    </tr>\n",
       "    <tr>\n",
       "      <th rowspan=\"3\" valign=\"top\">Queens</th>\n",
       "      <th>t-value</th>\n",
       "      <td>-15.6</td>\n",
       "      <td>-51.2342</td>\n",
       "      <td>-147.619</td>\n",
       "      <td>2.51033</td>\n",
       "      <td>0</td>\n",
       "    </tr>\n",
       "    <tr>\n",
       "      <th>p-value</th>\n",
       "      <td>8.41044e-55</td>\n",
       "      <td>0</td>\n",
       "      <td>0</td>\n",
       "      <td>0.0120636</td>\n",
       "      <td>1</td>\n",
       "    </tr>\n",
       "    <tr>\n",
       "      <th>H0 hypothesis</th>\n",
       "      <td>Reject H0</td>\n",
       "      <td>Reject H0</td>\n",
       "      <td>Reject H0</td>\n",
       "      <td>Reject H0</td>\n",
       "      <td>H0 accepted</td>\n",
       "    </tr>\n",
       "  </tbody>\n",
       "</table>\n",
       "</div>"
      ],
      "text/plain": [
       "                                    Bronx     Brooklyn     Manhattan  \\\n",
       "Bronx         t-value                   0     -2.06004      -24.8825   \n",
       "              p-value                   1     0.039397  1.16196e-136   \n",
       "              H0 hypothesis   H0 accepted    Reject H0     Reject H0   \n",
       "Brooklyn      t-value             2.06004            0      -93.2525   \n",
       "              p-value            0.039397            1             0   \n",
       "              H0 hypothesis     Reject H0  H0 accepted     Reject H0   \n",
       "Manhattan     t-value             24.8825      93.2525             0   \n",
       "              p-value        1.16196e-136            0             1   \n",
       "              H0 hypothesis     Reject H0    Reject H0   H0 accepted   \n",
       "Staten Island t-value            -3.61595     -4.04282      -5.26503   \n",
       "              p-value         0.000301534  5.28496e-05   1.40169e-07   \n",
       "              H0 hypothesis     Reject H0    Reject H0     Reject H0   \n",
       "Queens        t-value               -15.6     -51.2342      -147.619   \n",
       "              p-value         8.41044e-55            0             0   \n",
       "              H0 hypothesis     Reject H0    Reject H0     Reject H0   \n",
       "\n",
       "                            Staten Island       Queens  \n",
       "Bronx         t-value             3.61595         15.6  \n",
       "              p-value         0.000301534  8.41044e-55  \n",
       "              H0 hypothesis     Reject H0    Reject H0  \n",
       "Brooklyn      t-value             4.04282      51.2342  \n",
       "              p-value         5.28496e-05            0  \n",
       "              H0 hypothesis     Reject H0    Reject H0  \n",
       "Manhattan     t-value             5.26503      147.619  \n",
       "              p-value         1.40169e-07            0  \n",
       "              H0 hypothesis     Reject H0    Reject H0  \n",
       "Staten Island t-value                   0     -2.51033  \n",
       "              p-value                   1    0.0120636  \n",
       "              H0 hypothesis   H0 accepted    Reject H0  \n",
       "Queens        t-value             2.51033            0  \n",
       "              p-value           0.0120636            1  \n",
       "              H0 hypothesis     Reject H0  H0 accepted  "
      ]
     },
     "execution_count": 200,
     "metadata": {},
     "output_type": "execute_result"
    }
   ],
   "source": [
    "dt3"
   ]
  },
  {
   "cell_type": "markdown",
   "metadata": {},
   "source": [
    "##### t-test based on the values in 'Normalized' "
   ]
  },
  {
   "cell_type": "code",
   "execution_count": 202,
   "metadata": {},
   "outputs": [],
   "source": [
    "#a multi-indexed empty data-frame\n",
    "dt4 = pd.DataFrame(index=my_index, columns=boroughs)"
   ]
  },
  {
   "cell_type": "code",
   "execution_count": 203,
   "metadata": {},
   "outputs": [],
   "source": [
    "#calculating t-value and p-value for each pair of borough in NYC\n",
    "for i in boroughs:\n",
    "    a = dft.loc[dft.Borough==i][\"price_per_mile\"]\n",
    "    for j in boroughs:\n",
    "            b = dft.loc[dft.Borough==j][\"price_per_mile\"]\n",
    "            #student_test\n",
    "            t2, p2 = stats.ttest_ind(a,b)\n",
    "            #fill in the data frame\n",
    "            dt4.loc[(i,\"t-value\"),j]=t2\n",
    "            dt4.loc[(i,\"p-value\"),j]=p2\n",
    "            if(p2>0.05):\n",
    "               dt4.loc[(i,\"H0 hypothesis\"),j]='H0 accepted'\n",
    "            else:\n",
    "               dt4.loc[(i,\"H0 hypothesis\"),j]='Reject H0'"
   ]
  },
  {
   "cell_type": "code",
   "execution_count": 204,
   "metadata": {},
   "outputs": [
    {
     "data": {
      "text/html": [
       "<div>\n",
       "<style scoped>\n",
       "    .dataframe tbody tr th:only-of-type {\n",
       "        vertical-align: middle;\n",
       "    }\n",
       "\n",
       "    .dataframe tbody tr th {\n",
       "        vertical-align: top;\n",
       "    }\n",
       "\n",
       "    .dataframe thead th {\n",
       "        text-align: right;\n",
       "    }\n",
       "</style>\n",
       "<table border=\"1\" class=\"dataframe\">\n",
       "  <thead>\n",
       "    <tr style=\"text-align: right;\">\n",
       "      <th></th>\n",
       "      <th></th>\n",
       "      <th>Bronx</th>\n",
       "      <th>Brooklyn</th>\n",
       "      <th>Manhattan</th>\n",
       "      <th>Staten Island</th>\n",
       "      <th>Queens</th>\n",
       "    </tr>\n",
       "  </thead>\n",
       "  <tbody>\n",
       "    <tr>\n",
       "      <th rowspan=\"3\" valign=\"top\">Bronx</th>\n",
       "      <th>t-value</th>\n",
       "      <td>0</td>\n",
       "      <td>-2.06004</td>\n",
       "      <td>-24.8825</td>\n",
       "      <td>3.61595</td>\n",
       "      <td>15.6</td>\n",
       "    </tr>\n",
       "    <tr>\n",
       "      <th>p-value</th>\n",
       "      <td>1</td>\n",
       "      <td>0.039397</td>\n",
       "      <td>1.16196e-136</td>\n",
       "      <td>0.000301534</td>\n",
       "      <td>8.41044e-55</td>\n",
       "    </tr>\n",
       "    <tr>\n",
       "      <th>H0 hypothesis</th>\n",
       "      <td>H0 accepted</td>\n",
       "      <td>Reject H0</td>\n",
       "      <td>Reject H0</td>\n",
       "      <td>Reject H0</td>\n",
       "      <td>Reject H0</td>\n",
       "    </tr>\n",
       "    <tr>\n",
       "      <th rowspan=\"3\" valign=\"top\">Brooklyn</th>\n",
       "      <th>t-value</th>\n",
       "      <td>2.06004</td>\n",
       "      <td>0</td>\n",
       "      <td>-93.2525</td>\n",
       "      <td>4.04282</td>\n",
       "      <td>51.2342</td>\n",
       "    </tr>\n",
       "    <tr>\n",
       "      <th>p-value</th>\n",
       "      <td>0.039397</td>\n",
       "      <td>1</td>\n",
       "      <td>0</td>\n",
       "      <td>5.28496e-05</td>\n",
       "      <td>0</td>\n",
       "    </tr>\n",
       "    <tr>\n",
       "      <th>H0 hypothesis</th>\n",
       "      <td>Reject H0</td>\n",
       "      <td>H0 accepted</td>\n",
       "      <td>Reject H0</td>\n",
       "      <td>Reject H0</td>\n",
       "      <td>Reject H0</td>\n",
       "    </tr>\n",
       "    <tr>\n",
       "      <th rowspan=\"3\" valign=\"top\">Manhattan</th>\n",
       "      <th>t-value</th>\n",
       "      <td>24.8825</td>\n",
       "      <td>93.2525</td>\n",
       "      <td>0</td>\n",
       "      <td>5.26503</td>\n",
       "      <td>147.619</td>\n",
       "    </tr>\n",
       "    <tr>\n",
       "      <th>p-value</th>\n",
       "      <td>1.16196e-136</td>\n",
       "      <td>0</td>\n",
       "      <td>1</td>\n",
       "      <td>1.40169e-07</td>\n",
       "      <td>0</td>\n",
       "    </tr>\n",
       "    <tr>\n",
       "      <th>H0 hypothesis</th>\n",
       "      <td>Reject H0</td>\n",
       "      <td>Reject H0</td>\n",
       "      <td>H0 accepted</td>\n",
       "      <td>Reject H0</td>\n",
       "      <td>Reject H0</td>\n",
       "    </tr>\n",
       "    <tr>\n",
       "      <th rowspan=\"3\" valign=\"top\">Staten Island</th>\n",
       "      <th>t-value</th>\n",
       "      <td>-3.61595</td>\n",
       "      <td>-4.04282</td>\n",
       "      <td>-5.26503</td>\n",
       "      <td>0</td>\n",
       "      <td>-2.51033</td>\n",
       "    </tr>\n",
       "    <tr>\n",
       "      <th>p-value</th>\n",
       "      <td>0.000301534</td>\n",
       "      <td>5.28496e-05</td>\n",
       "      <td>1.40169e-07</td>\n",
       "      <td>1</td>\n",
       "      <td>0.0120636</td>\n",
       "    </tr>\n",
       "    <tr>\n",
       "      <th>H0 hypothesis</th>\n",
       "      <td>Reject H0</td>\n",
       "      <td>Reject H0</td>\n",
       "      <td>Reject H0</td>\n",
       "      <td>H0 accepted</td>\n",
       "      <td>Reject H0</td>\n",
       "    </tr>\n",
       "    <tr>\n",
       "      <th rowspan=\"3\" valign=\"top\">Queens</th>\n",
       "      <th>t-value</th>\n",
       "      <td>-15.6</td>\n",
       "      <td>-51.2342</td>\n",
       "      <td>-147.619</td>\n",
       "      <td>2.51033</td>\n",
       "      <td>0</td>\n",
       "    </tr>\n",
       "    <tr>\n",
       "      <th>p-value</th>\n",
       "      <td>8.41044e-55</td>\n",
       "      <td>0</td>\n",
       "      <td>0</td>\n",
       "      <td>0.0120636</td>\n",
       "      <td>1</td>\n",
       "    </tr>\n",
       "    <tr>\n",
       "      <th>H0 hypothesis</th>\n",
       "      <td>Reject H0</td>\n",
       "      <td>Reject H0</td>\n",
       "      <td>Reject H0</td>\n",
       "      <td>Reject H0</td>\n",
       "      <td>H0 accepted</td>\n",
       "    </tr>\n",
       "  </tbody>\n",
       "</table>\n",
       "</div>"
      ],
      "text/plain": [
       "                                    Bronx     Brooklyn     Manhattan  \\\n",
       "Bronx         t-value                   0     -2.06004      -24.8825   \n",
       "              p-value                   1     0.039397  1.16196e-136   \n",
       "              H0 hypothesis   H0 accepted    Reject H0     Reject H0   \n",
       "Brooklyn      t-value             2.06004            0      -93.2525   \n",
       "              p-value            0.039397            1             0   \n",
       "              H0 hypothesis     Reject H0  H0 accepted     Reject H0   \n",
       "Manhattan     t-value             24.8825      93.2525             0   \n",
       "              p-value        1.16196e-136            0             1   \n",
       "              H0 hypothesis     Reject H0    Reject H0   H0 accepted   \n",
       "Staten Island t-value            -3.61595     -4.04282      -5.26503   \n",
       "              p-value         0.000301534  5.28496e-05   1.40169e-07   \n",
       "              H0 hypothesis     Reject H0    Reject H0     Reject H0   \n",
       "Queens        t-value               -15.6     -51.2342      -147.619   \n",
       "              p-value         8.41044e-55            0             0   \n",
       "              H0 hypothesis     Reject H0    Reject H0     Reject H0   \n",
       "\n",
       "                            Staten Island       Queens  \n",
       "Bronx         t-value             3.61595         15.6  \n",
       "              p-value         0.000301534  8.41044e-55  \n",
       "              H0 hypothesis     Reject H0    Reject H0  \n",
       "Brooklyn      t-value             4.04282      51.2342  \n",
       "              p-value         5.28496e-05            0  \n",
       "              H0 hypothesis     Reject H0    Reject H0  \n",
       "Manhattan     t-value             5.26503      147.619  \n",
       "              p-value         1.40169e-07            0  \n",
       "              H0 hypothesis     Reject H0    Reject H0  \n",
       "Staten Island t-value                   0     -2.51033  \n",
       "              p-value                   1    0.0120636  \n",
       "              H0 hypothesis   H0 accepted    Reject H0  \n",
       "Queens        t-value             2.51033            0  \n",
       "              p-value           0.0120636            1  \n",
       "              H0 hypothesis     Reject H0  H0 accepted  "
      ]
     },
     "execution_count": 204,
     "metadata": {},
     "output_type": "execute_result"
    }
   ],
   "source": [
    "dt4"
   ]
  }
 ],
 "metadata": {
  "kernelspec": {
   "display_name": "Python 3",
   "language": "python",
   "name": "python3"
  },
  "language_info": {
   "codemirror_mode": {
    "name": "ipython",
    "version": 3
   },
   "file_extension": ".py",
   "mimetype": "text/x-python",
   "name": "python",
   "nbconvert_exporter": "python",
   "pygments_lexer": "ipython3",
   "version": "3.6.5"
  }
 },
 "nbformat": 4,
 "nbformat_minor": 2
}
