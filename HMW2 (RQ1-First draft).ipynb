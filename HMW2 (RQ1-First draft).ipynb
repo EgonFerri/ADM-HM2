{
 "cells": [
  {
   "cell_type": "markdown",
   "metadata": {},
   "source": [
    "# HOMEWORK 2 ADM\n",
    "#### Samin Hamidi, Egon Ferri, Davide Manfredini"
   ]
  },
  {
   "cell_type": "code",
   "execution_count": 411,
   "metadata": {},
   "outputs": [],
   "source": [
    "import pandas as pd\n",
    "import numpy as np\n",
    "from datetime import datetime\n",
    "import time\n",
    "\n",
    "import matplotlib.pyplot as plt\n",
    "import seaborn as sns\n",
    "from sys import getsizeof as get"
   ]
  },
  {
   "cell_type": "markdown",
   "metadata": {},
   "source": [
    "## PRELIMINARY ANALYSIS\n",
    "###### We load our data file and we took a glance at it"
   ]
  },
  {
   "cell_type": "code",
   "execution_count": 412,
   "metadata": {},
   "outputs": [],
   "source": [
    "M1 = pd.read_csv(r\"C:\\Users\\Egon\\Desktop\\Universita\\ADM\\homework2\\dati\\yellow_tripdata_2018-01.csv\", encoding = 'latin-1')\n",
    "#M1 = pd.read_csv(r\"C:\\Users\\Egon\\Desktop\\Universita\\ADM\\homework2\\dati\\yellow_tripdata_2018-02.csv\", encoding = 'latin-1')\n",
    "#M1 = pd.read_csv(r\"C:\\Users\\Egon\\Desktop\\Universita\\ADM\\homework2\\dati\\yellow_tripdata_2018-03.csv\", encoding = 'latin-1')\n",
    "#M1 = pd.read_csv(r\"C:\\Users\\Egon\\Desktop\\Universita\\ADM\\homework2\\dati\\yellow_tripdata_2018-04.csv\", encoding = 'latin-1')\n",
    "#M1 = pd.read_csv(r\"C:\\Users\\Egon\\Desktop\\Universita\\ADM\\homework2\\dati\\yellow_tripdata_2018-05.csv\", encoding = 'latin-1')\n",
    "#M1 = pd.read_csv(r\"C:\\Users\\Egon\\Desktop\\Universita\\ADM\\homework2\\dati\\yellow_tripdata_2018-06.csv\", encoding = 'latin-1')"
   ]
  },
  {
   "cell_type": "markdown",
   "metadata": {},
   "source": [
    "Size, shape, and basic charateristics of our data frame:"
   ]
  },
  {
   "cell_type": "code",
   "execution_count": 413,
   "metadata": {},
   "outputs": [
    {
     "data": {
      "text/plain": [
       "2855719028"
      ]
     },
     "execution_count": 413,
     "metadata": {},
     "output_type": "execute_result"
    }
   ],
   "source": [
    "get(M1)"
   ]
  },
  {
   "cell_type": "code",
   "execution_count": 414,
   "metadata": {},
   "outputs": [
    {
     "name": "stdout",
     "output_type": "stream",
     "text": [
      "(8759874, 17)\n"
     ]
    }
   ],
   "source": [
    "print(M1.shape)"
   ]
  },
  {
   "cell_type": "code",
   "execution_count": 415,
   "metadata": {},
   "outputs": [
    {
     "data": {
      "text/html": [
       "<div>\n",
       "<style scoped>\n",
       "    .dataframe tbody tr th:only-of-type {\n",
       "        vertical-align: middle;\n",
       "    }\n",
       "\n",
       "    .dataframe tbody tr th {\n",
       "        vertical-align: top;\n",
       "    }\n",
       "\n",
       "    .dataframe thead th {\n",
       "        text-align: right;\n",
       "    }\n",
       "</style>\n",
       "<table border=\"1\" class=\"dataframe\">\n",
       "  <thead>\n",
       "    <tr style=\"text-align: right;\">\n",
       "      <th></th>\n",
       "      <th>VendorID</th>\n",
       "      <th>tpep_pickup_datetime</th>\n",
       "      <th>tpep_dropoff_datetime</th>\n",
       "      <th>passenger_count</th>\n",
       "      <th>trip_distance</th>\n",
       "      <th>RatecodeID</th>\n",
       "      <th>store_and_fwd_flag</th>\n",
       "      <th>PULocationID</th>\n",
       "      <th>DOLocationID</th>\n",
       "      <th>payment_type</th>\n",
       "      <th>fare_amount</th>\n",
       "      <th>extra</th>\n",
       "      <th>mta_tax</th>\n",
       "      <th>tip_amount</th>\n",
       "      <th>tolls_amount</th>\n",
       "      <th>improvement_surcharge</th>\n",
       "      <th>total_amount</th>\n",
       "    </tr>\n",
       "  </thead>\n",
       "  <tbody>\n",
       "    <tr>\n",
       "      <th>0</th>\n",
       "      <td>1</td>\n",
       "      <td>2018-01-01 00:21:05</td>\n",
       "      <td>2018-01-01 00:24:23</td>\n",
       "      <td>1</td>\n",
       "      <td>0.5</td>\n",
       "      <td>1</td>\n",
       "      <td>N</td>\n",
       "      <td>41</td>\n",
       "      <td>24</td>\n",
       "      <td>2</td>\n",
       "      <td>4.5</td>\n",
       "      <td>0.5</td>\n",
       "      <td>0.5</td>\n",
       "      <td>0.00</td>\n",
       "      <td>0.0</td>\n",
       "      <td>0.3</td>\n",
       "      <td>5.80</td>\n",
       "    </tr>\n",
       "    <tr>\n",
       "      <th>1</th>\n",
       "      <td>1</td>\n",
       "      <td>2018-01-01 00:44:55</td>\n",
       "      <td>2018-01-01 01:03:05</td>\n",
       "      <td>1</td>\n",
       "      <td>2.7</td>\n",
       "      <td>1</td>\n",
       "      <td>N</td>\n",
       "      <td>239</td>\n",
       "      <td>140</td>\n",
       "      <td>2</td>\n",
       "      <td>14.0</td>\n",
       "      <td>0.5</td>\n",
       "      <td>0.5</td>\n",
       "      <td>0.00</td>\n",
       "      <td>0.0</td>\n",
       "      <td>0.3</td>\n",
       "      <td>15.30</td>\n",
       "    </tr>\n",
       "    <tr>\n",
       "      <th>2</th>\n",
       "      <td>1</td>\n",
       "      <td>2018-01-01 00:08:26</td>\n",
       "      <td>2018-01-01 00:14:21</td>\n",
       "      <td>2</td>\n",
       "      <td>0.8</td>\n",
       "      <td>1</td>\n",
       "      <td>N</td>\n",
       "      <td>262</td>\n",
       "      <td>141</td>\n",
       "      <td>1</td>\n",
       "      <td>6.0</td>\n",
       "      <td>0.5</td>\n",
       "      <td>0.5</td>\n",
       "      <td>1.00</td>\n",
       "      <td>0.0</td>\n",
       "      <td>0.3</td>\n",
       "      <td>8.30</td>\n",
       "    </tr>\n",
       "    <tr>\n",
       "      <th>3</th>\n",
       "      <td>1</td>\n",
       "      <td>2018-01-01 00:20:22</td>\n",
       "      <td>2018-01-01 00:52:51</td>\n",
       "      <td>1</td>\n",
       "      <td>10.2</td>\n",
       "      <td>1</td>\n",
       "      <td>N</td>\n",
       "      <td>140</td>\n",
       "      <td>257</td>\n",
       "      <td>2</td>\n",
       "      <td>33.5</td>\n",
       "      <td>0.5</td>\n",
       "      <td>0.5</td>\n",
       "      <td>0.00</td>\n",
       "      <td>0.0</td>\n",
       "      <td>0.3</td>\n",
       "      <td>34.80</td>\n",
       "    </tr>\n",
       "    <tr>\n",
       "      <th>4</th>\n",
       "      <td>1</td>\n",
       "      <td>2018-01-01 00:09:18</td>\n",
       "      <td>2018-01-01 00:27:06</td>\n",
       "      <td>2</td>\n",
       "      <td>2.5</td>\n",
       "      <td>1</td>\n",
       "      <td>N</td>\n",
       "      <td>246</td>\n",
       "      <td>239</td>\n",
       "      <td>1</td>\n",
       "      <td>12.5</td>\n",
       "      <td>0.5</td>\n",
       "      <td>0.5</td>\n",
       "      <td>2.75</td>\n",
       "      <td>0.0</td>\n",
       "      <td>0.3</td>\n",
       "      <td>16.55</td>\n",
       "    </tr>\n",
       "  </tbody>\n",
       "</table>\n",
       "</div>"
      ],
      "text/plain": [
       "   VendorID tpep_pickup_datetime tpep_dropoff_datetime  passenger_count  \\\n",
       "0         1  2018-01-01 00:21:05   2018-01-01 00:24:23                1   \n",
       "1         1  2018-01-01 00:44:55   2018-01-01 01:03:05                1   \n",
       "2         1  2018-01-01 00:08:26   2018-01-01 00:14:21                2   \n",
       "3         1  2018-01-01 00:20:22   2018-01-01 00:52:51                1   \n",
       "4         1  2018-01-01 00:09:18   2018-01-01 00:27:06                2   \n",
       "\n",
       "   trip_distance  RatecodeID store_and_fwd_flag  PULocationID  DOLocationID  \\\n",
       "0            0.5           1                  N            41            24   \n",
       "1            2.7           1                  N           239           140   \n",
       "2            0.8           1                  N           262           141   \n",
       "3           10.2           1                  N           140           257   \n",
       "4            2.5           1                  N           246           239   \n",
       "\n",
       "   payment_type  fare_amount  extra  mta_tax  tip_amount  tolls_amount  \\\n",
       "0             2          4.5    0.5      0.5        0.00           0.0   \n",
       "1             2         14.0    0.5      0.5        0.00           0.0   \n",
       "2             1          6.0    0.5      0.5        1.00           0.0   \n",
       "3             2         33.5    0.5      0.5        0.00           0.0   \n",
       "4             1         12.5    0.5      0.5        2.75           0.0   \n",
       "\n",
       "   improvement_surcharge  total_amount  \n",
       "0                    0.3          5.80  \n",
       "1                    0.3         15.30  \n",
       "2                    0.3          8.30  \n",
       "3                    0.3         34.80  \n",
       "4                    0.3         16.55  "
      ]
     },
     "execution_count": 415,
     "metadata": {},
     "output_type": "execute_result"
    }
   ],
   "source": [
    "M1.head()"
   ]
  },
  {
   "cell_type": "code",
   "execution_count": 416,
   "metadata": {},
   "outputs": [
    {
     "data": {
      "text/html": [
       "<div>\n",
       "<style scoped>\n",
       "    .dataframe tbody tr th:only-of-type {\n",
       "        vertical-align: middle;\n",
       "    }\n",
       "\n",
       "    .dataframe tbody tr th {\n",
       "        vertical-align: top;\n",
       "    }\n",
       "\n",
       "    .dataframe thead th {\n",
       "        text-align: right;\n",
       "    }\n",
       "</style>\n",
       "<table border=\"1\" class=\"dataframe\">\n",
       "  <thead>\n",
       "    <tr style=\"text-align: right;\">\n",
       "      <th></th>\n",
       "      <th>VendorID</th>\n",
       "      <th>passenger_count</th>\n",
       "      <th>trip_distance</th>\n",
       "      <th>RatecodeID</th>\n",
       "      <th>PULocationID</th>\n",
       "      <th>DOLocationID</th>\n",
       "      <th>payment_type</th>\n",
       "      <th>fare_amount</th>\n",
       "      <th>extra</th>\n",
       "      <th>mta_tax</th>\n",
       "      <th>tip_amount</th>\n",
       "      <th>tolls_amount</th>\n",
       "      <th>improvement_surcharge</th>\n",
       "      <th>total_amount</th>\n",
       "    </tr>\n",
       "  </thead>\n",
       "  <tbody>\n",
       "    <tr>\n",
       "      <th>count</th>\n",
       "      <td>8.759874e+06</td>\n",
       "      <td>8.759874e+06</td>\n",
       "      <td>8.759874e+06</td>\n",
       "      <td>8.759874e+06</td>\n",
       "      <td>8.759874e+06</td>\n",
       "      <td>8.759874e+06</td>\n",
       "      <td>8.759874e+06</td>\n",
       "      <td>8.759874e+06</td>\n",
       "      <td>8.759874e+06</td>\n",
       "      <td>8.759874e+06</td>\n",
       "      <td>8.759874e+06</td>\n",
       "      <td>8.759874e+06</td>\n",
       "      <td>8.759874e+06</td>\n",
       "      <td>8.759874e+06</td>\n",
       "    </tr>\n",
       "    <tr>\n",
       "      <th>mean</th>\n",
       "      <td>1.560940e+00</td>\n",
       "      <td>1.606855e+00</td>\n",
       "      <td>2.804001e+00</td>\n",
       "      <td>1.039545e+00</td>\n",
       "      <td>1.644585e+02</td>\n",
       "      <td>1.627269e+02</td>\n",
       "      <td>1.310611e+00</td>\n",
       "      <td>1.224434e+01</td>\n",
       "      <td>3.246822e-01</td>\n",
       "      <td>4.975067e-01</td>\n",
       "      <td>1.818745e+00</td>\n",
       "      <td>3.026133e-01</td>\n",
       "      <td>2.996306e-01</td>\n",
       "      <td>1.549098e+01</td>\n",
       "    </tr>\n",
       "    <tr>\n",
       "      <th>std</th>\n",
       "      <td>4.962724e-01</td>\n",
       "      <td>1.258464e+00</td>\n",
       "      <td>6.412346e+01</td>\n",
       "      <td>4.450700e-01</td>\n",
       "      <td>6.636021e+01</td>\n",
       "      <td>7.031164e+01</td>\n",
       "      <td>4.817818e-01</td>\n",
       "      <td>1.168321e+01</td>\n",
       "      <td>4.502524e-01</td>\n",
       "      <td>4.333319e-02</td>\n",
       "      <td>2.486341e+00</td>\n",
       "      <td>1.738185e+00</td>\n",
       "      <td>1.442815e-02</td>\n",
       "      <td>1.419540e+01</td>\n",
       "    </tr>\n",
       "    <tr>\n",
       "      <th>min</th>\n",
       "      <td>1.000000e+00</td>\n",
       "      <td>0.000000e+00</td>\n",
       "      <td>0.000000e+00</td>\n",
       "      <td>1.000000e+00</td>\n",
       "      <td>1.000000e+00</td>\n",
       "      <td>1.000000e+00</td>\n",
       "      <td>1.000000e+00</td>\n",
       "      <td>-4.500000e+02</td>\n",
       "      <td>-4.469000e+01</td>\n",
       "      <td>-5.000000e-01</td>\n",
       "      <td>-8.880000e+01</td>\n",
       "      <td>-1.500000e+01</td>\n",
       "      <td>-3.000000e-01</td>\n",
       "      <td>-4.503000e+02</td>\n",
       "    </tr>\n",
       "    <tr>\n",
       "      <th>25%</th>\n",
       "      <td>1.000000e+00</td>\n",
       "      <td>1.000000e+00</td>\n",
       "      <td>9.100000e-01</td>\n",
       "      <td>1.000000e+00</td>\n",
       "      <td>1.160000e+02</td>\n",
       "      <td>1.130000e+02</td>\n",
       "      <td>1.000000e+00</td>\n",
       "      <td>6.000000e+00</td>\n",
       "      <td>0.000000e+00</td>\n",
       "      <td>5.000000e-01</td>\n",
       "      <td>0.000000e+00</td>\n",
       "      <td>0.000000e+00</td>\n",
       "      <td>3.000000e-01</td>\n",
       "      <td>8.300000e+00</td>\n",
       "    </tr>\n",
       "    <tr>\n",
       "      <th>50%</th>\n",
       "      <td>2.000000e+00</td>\n",
       "      <td>1.000000e+00</td>\n",
       "      <td>1.550000e+00</td>\n",
       "      <td>1.000000e+00</td>\n",
       "      <td>1.620000e+02</td>\n",
       "      <td>1.620000e+02</td>\n",
       "      <td>1.000000e+00</td>\n",
       "      <td>9.000000e+00</td>\n",
       "      <td>0.000000e+00</td>\n",
       "      <td>5.000000e-01</td>\n",
       "      <td>1.360000e+00</td>\n",
       "      <td>0.000000e+00</td>\n",
       "      <td>3.000000e-01</td>\n",
       "      <td>1.130000e+01</td>\n",
       "    </tr>\n",
       "    <tr>\n",
       "      <th>75%</th>\n",
       "      <td>2.000000e+00</td>\n",
       "      <td>2.000000e+00</td>\n",
       "      <td>2.840000e+00</td>\n",
       "      <td>1.000000e+00</td>\n",
       "      <td>2.340000e+02</td>\n",
       "      <td>2.340000e+02</td>\n",
       "      <td>2.000000e+00</td>\n",
       "      <td>1.350000e+01</td>\n",
       "      <td>5.000000e-01</td>\n",
       "      <td>5.000000e-01</td>\n",
       "      <td>2.350000e+00</td>\n",
       "      <td>0.000000e+00</td>\n",
       "      <td>3.000000e-01</td>\n",
       "      <td>1.662000e+01</td>\n",
       "    </tr>\n",
       "    <tr>\n",
       "      <th>max</th>\n",
       "      <td>2.000000e+00</td>\n",
       "      <td>9.000000e+00</td>\n",
       "      <td>1.894838e+05</td>\n",
       "      <td>9.900000e+01</td>\n",
       "      <td>2.650000e+02</td>\n",
       "      <td>2.650000e+02</td>\n",
       "      <td>4.000000e+00</td>\n",
       "      <td>8.016000e+03</td>\n",
       "      <td>6.000000e+01</td>\n",
       "      <td>4.549000e+01</td>\n",
       "      <td>4.417100e+02</td>\n",
       "      <td>9.507000e+02</td>\n",
       "      <td>1.000000e+00</td>\n",
       "      <td>8.016800e+03</td>\n",
       "    </tr>\n",
       "  </tbody>\n",
       "</table>\n",
       "</div>"
      ],
      "text/plain": [
       "           VendorID  passenger_count  trip_distance    RatecodeID  \\\n",
       "count  8.759874e+06     8.759874e+06   8.759874e+06  8.759874e+06   \n",
       "mean   1.560940e+00     1.606855e+00   2.804001e+00  1.039545e+00   \n",
       "std    4.962724e-01     1.258464e+00   6.412346e+01  4.450700e-01   \n",
       "min    1.000000e+00     0.000000e+00   0.000000e+00  1.000000e+00   \n",
       "25%    1.000000e+00     1.000000e+00   9.100000e-01  1.000000e+00   \n",
       "50%    2.000000e+00     1.000000e+00   1.550000e+00  1.000000e+00   \n",
       "75%    2.000000e+00     2.000000e+00   2.840000e+00  1.000000e+00   \n",
       "max    2.000000e+00     9.000000e+00   1.894838e+05  9.900000e+01   \n",
       "\n",
       "       PULocationID  DOLocationID  payment_type   fare_amount         extra  \\\n",
       "count  8.759874e+06  8.759874e+06  8.759874e+06  8.759874e+06  8.759874e+06   \n",
       "mean   1.644585e+02  1.627269e+02  1.310611e+00  1.224434e+01  3.246822e-01   \n",
       "std    6.636021e+01  7.031164e+01  4.817818e-01  1.168321e+01  4.502524e-01   \n",
       "min    1.000000e+00  1.000000e+00  1.000000e+00 -4.500000e+02 -4.469000e+01   \n",
       "25%    1.160000e+02  1.130000e+02  1.000000e+00  6.000000e+00  0.000000e+00   \n",
       "50%    1.620000e+02  1.620000e+02  1.000000e+00  9.000000e+00  0.000000e+00   \n",
       "75%    2.340000e+02  2.340000e+02  2.000000e+00  1.350000e+01  5.000000e-01   \n",
       "max    2.650000e+02  2.650000e+02  4.000000e+00  8.016000e+03  6.000000e+01   \n",
       "\n",
       "            mta_tax    tip_amount  tolls_amount  improvement_surcharge  \\\n",
       "count  8.759874e+06  8.759874e+06  8.759874e+06           8.759874e+06   \n",
       "mean   4.975067e-01  1.818745e+00  3.026133e-01           2.996306e-01   \n",
       "std    4.333319e-02  2.486341e+00  1.738185e+00           1.442815e-02   \n",
       "min   -5.000000e-01 -8.880000e+01 -1.500000e+01          -3.000000e-01   \n",
       "25%    5.000000e-01  0.000000e+00  0.000000e+00           3.000000e-01   \n",
       "50%    5.000000e-01  1.360000e+00  0.000000e+00           3.000000e-01   \n",
       "75%    5.000000e-01  2.350000e+00  0.000000e+00           3.000000e-01   \n",
       "max    4.549000e+01  4.417100e+02  9.507000e+02           1.000000e+00   \n",
       "\n",
       "       total_amount  \n",
       "count  8.759874e+06  \n",
       "mean   1.549098e+01  \n",
       "std    1.419540e+01  \n",
       "min   -4.503000e+02  \n",
       "25%    8.300000e+00  \n",
       "50%    1.130000e+01  \n",
       "75%    1.662000e+01  \n",
       "max    8.016800e+03  "
      ]
     },
     "execution_count": 416,
     "metadata": {},
     "output_type": "execute_result"
    }
   ],
   "source": [
    "M1.describe()\n"
   ]
  },
  {
   "cell_type": "code",
   "execution_count": 417,
   "metadata": {},
   "outputs": [
    {
     "name": "stdout",
     "output_type": "stream",
     "text": [
      "<class 'pandas.core.frame.DataFrame'>\n",
      "RangeIndex: 8759874 entries, 0 to 8759873\n",
      "Data columns (total 17 columns):\n",
      "VendorID                 int64\n",
      "tpep_pickup_datetime     object\n",
      "tpep_dropoff_datetime    object\n",
      "passenger_count          int64\n",
      "trip_distance            float64\n",
      "RatecodeID               int64\n",
      "store_and_fwd_flag       object\n",
      "PULocationID             int64\n",
      "DOLocationID             int64\n",
      "payment_type             int64\n",
      "fare_amount              float64\n",
      "extra                    float64\n",
      "mta_tax                  float64\n",
      "tip_amount               float64\n",
      "tolls_amount             float64\n",
      "improvement_surcharge    float64\n",
      "total_amount             float64\n",
      "dtypes: float64(8), int64(6), object(3)\n",
      "memory usage: 1.1+ GB\n"
     ]
    }
   ],
   "source": [
    "M1.info()"
   ]
  },
  {
   "cell_type": "markdown",
   "metadata": {},
   "source": [
    "We check if are there any NaN values in the month of January.\n"
   ]
  },
  {
   "cell_type": "code",
   "execution_count": 418,
   "metadata": {},
   "outputs": [
    {
     "name": "stdout",
     "output_type": "stream",
     "text": [
      "VendorID                 False\n",
      "tpep_pickup_datetime     False\n",
      "tpep_dropoff_datetime    False\n",
      "passenger_count          False\n",
      "trip_distance            False\n",
      "RatecodeID               False\n",
      "store_and_fwd_flag       False\n",
      "PULocationID             False\n",
      "DOLocationID             False\n",
      "payment_type             False\n",
      "fare_amount              False\n",
      "extra                    False\n",
      "mta_tax                  False\n",
      "tip_amount               False\n",
      "tolls_amount             False\n",
      "improvement_surcharge    False\n",
      "total_amount             False\n",
      "dtype: bool\n",
      "False\n"
     ]
    }
   ],
   "source": [
    "\n",
    "#is there any NaN (not a number) values in the dataframe?\n",
    "#Returns a dataframe of boolean values (true/false)\n",
    "#M1.isnull()\n",
    "\n",
    "#If we want to find only those columns which have NaN values\n",
    "print(M1.isnull().any())\n",
    "\n",
    "#one more any() will tell us if any of the above is true?\n",
    "print(M1.isnull().any().any())\n"
   ]
  },
  {
   "cell_type": "code",
   "execution_count": 419,
   "metadata": {},
   "outputs": [
    {
     "data": {
      "text/plain": [
       "False"
      ]
     },
     "execution_count": 419,
     "metadata": {},
     "output_type": "execute_result"
    }
   ],
   "source": [
    "#another way to see if our dataframe has any NaN vales\n",
    "M1.isnull().values.any()\n"
   ]
  },
  {
   "cell_type": "markdown",
   "metadata": {},
   "source": [
    "So we see that we have not NaN values. Looking at the dataframe we see that some cells have 0 value. We will see how to manage them."
   ]
  },
  {
   "cell_type": "markdown",
   "metadata": {},
   "source": [
    "## RQ1\n",
    "##### In what period of the year Taxis are used more? Create a plot that, for each month, shows the average number of trips recorded each day. Due to the differences among New York zones, we want to visualize the same information for each boroughs. Do you notice any difference among them? Provide comments and plausible explanations about what you observe (e.g.: what is the month with the highest daily average?)."
   ]
  },
  {
   "cell_type": "markdown",
   "metadata": {},
   "source": [
    "The pickup boroughs are taken into consideration.\n",
    "To answer this question, we need two columns. So, we drop the others. \n",
    "We keep tpep_pickup_datetime, PULocationID."
   ]
  },
  {
   "cell_type": "code",
   "execution_count": 420,
   "metadata": {},
   "outputs": [],
   "source": [
    "\n",
    "#dropping vs keeping the ones I need?\n",
    "#df.drop(columns=['', 'C'])\n",
    "M2 = M1.filter(['tpep_pickup_datetime', 'PULocationID'])\n",
    "#free the memory from this big object M1 is! \n",
    "del M1\n"
   ]
  },
  {
   "cell_type": "code",
   "execution_count": 421,
   "metadata": {},
   "outputs": [
    {
     "data": {
      "text/html": [
       "<div>\n",
       "<style scoped>\n",
       "    .dataframe tbody tr th:only-of-type {\n",
       "        vertical-align: middle;\n",
       "    }\n",
       "\n",
       "    .dataframe tbody tr th {\n",
       "        vertical-align: top;\n",
       "    }\n",
       "\n",
       "    .dataframe thead th {\n",
       "        text-align: right;\n",
       "    }\n",
       "</style>\n",
       "<table border=\"1\" class=\"dataframe\">\n",
       "  <thead>\n",
       "    <tr style=\"text-align: right;\">\n",
       "      <th></th>\n",
       "      <th>tpep_pickup_datetime</th>\n",
       "      <th>PULocationID</th>\n",
       "    </tr>\n",
       "  </thead>\n",
       "  <tbody>\n",
       "    <tr>\n",
       "      <th>0</th>\n",
       "      <td>2018-01-01 00:21:05</td>\n",
       "      <td>41</td>\n",
       "    </tr>\n",
       "    <tr>\n",
       "      <th>1</th>\n",
       "      <td>2018-01-01 00:44:55</td>\n",
       "      <td>239</td>\n",
       "    </tr>\n",
       "  </tbody>\n",
       "</table>\n",
       "</div>"
      ],
      "text/plain": [
       "  tpep_pickup_datetime  PULocationID\n",
       "0  2018-01-01 00:21:05            41\n",
       "1  2018-01-01 00:44:55           239"
      ]
     },
     "execution_count": 421,
     "metadata": {},
     "output_type": "execute_result"
    }
   ],
   "source": [
    "M2.head(2)"
   ]
  },
  {
   "cell_type": "code",
   "execution_count": 422,
   "metadata": {},
   "outputs": [
    {
     "name": "stdout",
     "output_type": "stream",
     "text": [
      "<class 'pandas.core.frame.DataFrame'>\n",
      "RangeIndex: 8759874 entries, 0 to 8759873\n",
      "Data columns (total 2 columns):\n",
      "tpep_pickup_datetime    object\n",
      "PULocationID            int64\n",
      "dtypes: int64(1), object(1)\n",
      "memory usage: 133.7+ MB\n"
     ]
    }
   ],
   "source": [
    "M2.info()"
   ]
  },
  {
   "cell_type": "markdown",
   "metadata": {},
   "source": [
    "We have two datetime objects. Let's convert them into usable data columns:  day, hour, minutes,.."
   ]
  },
  {
   "cell_type": "code",
   "execution_count": 423,
   "metadata": {},
   "outputs": [],
   "source": [
    "M2['pickup_day'] = pd.DatetimeIndex(M2['tpep_pickup_datetime']).day\n"
   ]
  },
  {
   "cell_type": "code",
   "execution_count": 424,
   "metadata": {},
   "outputs": [
    {
     "data": {
      "text/html": [
       "<div>\n",
       "<style scoped>\n",
       "    .dataframe tbody tr th:only-of-type {\n",
       "        vertical-align: middle;\n",
       "    }\n",
       "\n",
       "    .dataframe tbody tr th {\n",
       "        vertical-align: top;\n",
       "    }\n",
       "\n",
       "    .dataframe thead th {\n",
       "        text-align: right;\n",
       "    }\n",
       "</style>\n",
       "<table border=\"1\" class=\"dataframe\">\n",
       "  <thead>\n",
       "    <tr style=\"text-align: right;\">\n",
       "      <th></th>\n",
       "      <th>tpep_pickup_datetime</th>\n",
       "      <th>PULocationID</th>\n",
       "      <th>pickup_day</th>\n",
       "    </tr>\n",
       "  </thead>\n",
       "  <tbody>\n",
       "    <tr>\n",
       "      <th>0</th>\n",
       "      <td>2018-01-01 00:21:05</td>\n",
       "      <td>41</td>\n",
       "      <td>1</td>\n",
       "    </tr>\n",
       "    <tr>\n",
       "      <th>1</th>\n",
       "      <td>2018-01-01 00:44:55</td>\n",
       "      <td>239</td>\n",
       "      <td>1</td>\n",
       "    </tr>\n",
       "    <tr>\n",
       "      <th>2</th>\n",
       "      <td>2018-01-01 00:08:26</td>\n",
       "      <td>262</td>\n",
       "      <td>1</td>\n",
       "    </tr>\n",
       "    <tr>\n",
       "      <th>3</th>\n",
       "      <td>2018-01-01 00:20:22</td>\n",
       "      <td>140</td>\n",
       "      <td>1</td>\n",
       "    </tr>\n",
       "    <tr>\n",
       "      <th>4</th>\n",
       "      <td>2018-01-01 00:09:18</td>\n",
       "      <td>246</td>\n",
       "      <td>1</td>\n",
       "    </tr>\n",
       "  </tbody>\n",
       "</table>\n",
       "</div>"
      ],
      "text/plain": [
       "  tpep_pickup_datetime  PULocationID  pickup_day\n",
       "0  2018-01-01 00:21:05            41           1\n",
       "1  2018-01-01 00:44:55           239           1\n",
       "2  2018-01-01 00:08:26           262           1\n",
       "3  2018-01-01 00:20:22           140           1\n",
       "4  2018-01-01 00:09:18           246           1"
      ]
     },
     "execution_count": 424,
     "metadata": {},
     "output_type": "execute_result"
    }
   ],
   "source": [
    "M2.head()"
   ]
  },
  {
   "cell_type": "markdown",
   "metadata": {},
   "source": [
    "Drop the columns we don't need anymore."
   ]
  },
  {
   "cell_type": "code",
   "execution_count": 425,
   "metadata": {},
   "outputs": [],
   "source": [
    "M3 = M2.drop(columns = ['tpep_pickup_datetime'])"
   ]
  },
  {
   "cell_type": "code",
   "execution_count": 426,
   "metadata": {},
   "outputs": [],
   "source": [
    "#Free up memory space \n",
    "del M2"
   ]
  },
  {
   "cell_type": "code",
   "execution_count": 427,
   "metadata": {},
   "outputs": [
    {
     "data": {
      "text/html": [
       "<div>\n",
       "<style scoped>\n",
       "    .dataframe tbody tr th:only-of-type {\n",
       "        vertical-align: middle;\n",
       "    }\n",
       "\n",
       "    .dataframe tbody tr th {\n",
       "        vertical-align: top;\n",
       "    }\n",
       "\n",
       "    .dataframe thead th {\n",
       "        text-align: right;\n",
       "    }\n",
       "</style>\n",
       "<table border=\"1\" class=\"dataframe\">\n",
       "  <thead>\n",
       "    <tr style=\"text-align: right;\">\n",
       "      <th></th>\n",
       "      <th>PULocationID</th>\n",
       "      <th>pickup_day</th>\n",
       "    </tr>\n",
       "  </thead>\n",
       "  <tbody>\n",
       "    <tr>\n",
       "      <th>0</th>\n",
       "      <td>41</td>\n",
       "      <td>1</td>\n",
       "    </tr>\n",
       "    <tr>\n",
       "      <th>1</th>\n",
       "      <td>239</td>\n",
       "      <td>1</td>\n",
       "    </tr>\n",
       "    <tr>\n",
       "      <th>2</th>\n",
       "      <td>262</td>\n",
       "      <td>1</td>\n",
       "    </tr>\n",
       "    <tr>\n",
       "      <th>3</th>\n",
       "      <td>140</td>\n",
       "      <td>1</td>\n",
       "    </tr>\n",
       "    <tr>\n",
       "      <th>4</th>\n",
       "      <td>246</td>\n",
       "      <td>1</td>\n",
       "    </tr>\n",
       "  </tbody>\n",
       "</table>\n",
       "</div>"
      ],
      "text/plain": [
       "   PULocationID  pickup_day\n",
       "0            41           1\n",
       "1           239           1\n",
       "2           262           1\n",
       "3           140           1\n",
       "4           246           1"
      ]
     },
     "execution_count": 427,
     "metadata": {},
     "output_type": "execute_result"
    }
   ],
   "source": [
    "M3.head()"
   ]
  },
  {
   "cell_type": "markdown",
   "metadata": {},
   "source": [
    "Now we want to substitute PULocationID with corrispondent Borough."
   ]
  },
  {
   "cell_type": "code",
   "execution_count": 428,
   "metadata": {},
   "outputs": [],
   "source": [
    "#concatenate(join/merge)M3 and taxi_zone_lookup dataframe\n",
    "\n",
    "#read taxi_zone_lookup\n",
    "borough = pd.read_csv(r\"C:\\Users\\Egon\\Desktop\\Universita\\ADM\\homework2\\dati\\taxi_zone_lookup.csv\", encoding = 'latin-1')"
   ]
  },
  {
   "cell_type": "code",
   "execution_count": 429,
   "metadata": {},
   "outputs": [
    {
     "data": {
      "text/html": [
       "<div>\n",
       "<style scoped>\n",
       "    .dataframe tbody tr th:only-of-type {\n",
       "        vertical-align: middle;\n",
       "    }\n",
       "\n",
       "    .dataframe tbody tr th {\n",
       "        vertical-align: top;\n",
       "    }\n",
       "\n",
       "    .dataframe thead th {\n",
       "        text-align: right;\n",
       "    }\n",
       "</style>\n",
       "<table border=\"1\" class=\"dataframe\">\n",
       "  <thead>\n",
       "    <tr style=\"text-align: right;\">\n",
       "      <th></th>\n",
       "      <th>LocationID</th>\n",
       "      <th>Borough</th>\n",
       "      <th>Zone</th>\n",
       "      <th>service_zone</th>\n",
       "    </tr>\n",
       "  </thead>\n",
       "  <tbody>\n",
       "    <tr>\n",
       "      <th>0</th>\n",
       "      <td>1</td>\n",
       "      <td>EWR</td>\n",
       "      <td>Newark Airport</td>\n",
       "      <td>EWR</td>\n",
       "    </tr>\n",
       "    <tr>\n",
       "      <th>1</th>\n",
       "      <td>2</td>\n",
       "      <td>Queens</td>\n",
       "      <td>Jamaica Bay</td>\n",
       "      <td>Boro Zone</td>\n",
       "    </tr>\n",
       "    <tr>\n",
       "      <th>2</th>\n",
       "      <td>3</td>\n",
       "      <td>Bronx</td>\n",
       "      <td>Allerton/Pelham Gardens</td>\n",
       "      <td>Boro Zone</td>\n",
       "    </tr>\n",
       "    <tr>\n",
       "      <th>3</th>\n",
       "      <td>4</td>\n",
       "      <td>Manhattan</td>\n",
       "      <td>Alphabet City</td>\n",
       "      <td>Yellow Zone</td>\n",
       "    </tr>\n",
       "    <tr>\n",
       "      <th>4</th>\n",
       "      <td>5</td>\n",
       "      <td>Staten Island</td>\n",
       "      <td>Arden Heights</td>\n",
       "      <td>Boro Zone</td>\n",
       "    </tr>\n",
       "  </tbody>\n",
       "</table>\n",
       "</div>"
      ],
      "text/plain": [
       "   LocationID        Borough                     Zone service_zone\n",
       "0           1            EWR           Newark Airport          EWR\n",
       "1           2         Queens              Jamaica Bay    Boro Zone\n",
       "2           3          Bronx  Allerton/Pelham Gardens    Boro Zone\n",
       "3           4      Manhattan            Alphabet City  Yellow Zone\n",
       "4           5  Staten Island            Arden Heights    Boro Zone"
      ]
     },
     "execution_count": 429,
     "metadata": {},
     "output_type": "execute_result"
    }
   ],
   "source": [
    "borough.head(5)"
   ]
  },
  {
   "cell_type": "markdown",
   "metadata": {},
   "source": [
    "The key column is LocationID in boroughs and (PULocationID or DOLocationID) in M3. They contain the same data: LocationIDs. "
   ]
  },
  {
   "cell_type": "code",
   "execution_count": 430,
   "metadata": {},
   "outputs": [
    {
     "data": {
      "text/html": [
       "<div>\n",
       "<style scoped>\n",
       "    .dataframe tbody tr th:only-of-type {\n",
       "        vertical-align: middle;\n",
       "    }\n",
       "\n",
       "    .dataframe tbody tr th {\n",
       "        vertical-align: top;\n",
       "    }\n",
       "\n",
       "    .dataframe thead th {\n",
       "        text-align: right;\n",
       "    }\n",
       "</style>\n",
       "<table border=\"1\" class=\"dataframe\">\n",
       "  <thead>\n",
       "    <tr style=\"text-align: right;\">\n",
       "      <th></th>\n",
       "      <th>PULocationID</th>\n",
       "      <th>pickup_day</th>\n",
       "      <th>LocationID</th>\n",
       "      <th>Borough</th>\n",
       "    </tr>\n",
       "  </thead>\n",
       "  <tbody>\n",
       "    <tr>\n",
       "      <th>0</th>\n",
       "      <td>41</td>\n",
       "      <td>1</td>\n",
       "      <td>41</td>\n",
       "      <td>Manhattan</td>\n",
       "    </tr>\n",
       "    <tr>\n",
       "      <th>1</th>\n",
       "      <td>41</td>\n",
       "      <td>1</td>\n",
       "      <td>41</td>\n",
       "      <td>Manhattan</td>\n",
       "    </tr>\n",
       "    <tr>\n",
       "      <th>2</th>\n",
       "      <td>41</td>\n",
       "      <td>1</td>\n",
       "      <td>41</td>\n",
       "      <td>Manhattan</td>\n",
       "    </tr>\n",
       "    <tr>\n",
       "      <th>3</th>\n",
       "      <td>41</td>\n",
       "      <td>1</td>\n",
       "      <td>41</td>\n",
       "      <td>Manhattan</td>\n",
       "    </tr>\n",
       "    <tr>\n",
       "      <th>4</th>\n",
       "      <td>41</td>\n",
       "      <td>1</td>\n",
       "      <td>41</td>\n",
       "      <td>Manhattan</td>\n",
       "    </tr>\n",
       "  </tbody>\n",
       "</table>\n",
       "</div>"
      ],
      "text/plain": [
       "   PULocationID  pickup_day  LocationID    Borough\n",
       "0            41           1          41  Manhattan\n",
       "1            41           1          41  Manhattan\n",
       "2            41           1          41  Manhattan\n",
       "3            41           1          41  Manhattan\n",
       "4            41           1          41  Manhattan"
      ]
     },
     "execution_count": 430,
     "metadata": {},
     "output_type": "execute_result"
    }
   ],
   "source": [
    "#the key column is LocationID in boroughs and (PULocationID or DOLocationID) in M3. They contain the same data: LocationIDs. \n",
    "#How to merge these two dataframes when two columns' keys are not in the same order?\n",
    "\n",
    "result = pd.merge(M3,\n",
    "                 borough[['LocationID', 'Borough']],\n",
    "                 left_on='PULocationID',\n",
    "                 right_on='LocationID',\n",
    "                 how='inner' \n",
    "                 )\n",
    "result.head()\n"
   ]
  },
  {
   "cell_type": "code",
   "execution_count": 431,
   "metadata": {},
   "outputs": [
    {
     "data": {
      "text/html": [
       "<div>\n",
       "<style scoped>\n",
       "    .dataframe tbody tr th:only-of-type {\n",
       "        vertical-align: middle;\n",
       "    }\n",
       "\n",
       "    .dataframe tbody tr th {\n",
       "        vertical-align: top;\n",
       "    }\n",
       "\n",
       "    .dataframe thead th {\n",
       "        text-align: right;\n",
       "    }\n",
       "</style>\n",
       "<table border=\"1\" class=\"dataframe\">\n",
       "  <thead>\n",
       "    <tr style=\"text-align: right;\">\n",
       "      <th></th>\n",
       "      <th>PULocationID</th>\n",
       "      <th>pickup_day</th>\n",
       "      <th>Borough</th>\n",
       "    </tr>\n",
       "  </thead>\n",
       "  <tbody>\n",
       "    <tr>\n",
       "      <th>0</th>\n",
       "      <td>41</td>\n",
       "      <td>1</td>\n",
       "      <td>Manhattan</td>\n",
       "    </tr>\n",
       "    <tr>\n",
       "      <th>1</th>\n",
       "      <td>41</td>\n",
       "      <td>1</td>\n",
       "      <td>Manhattan</td>\n",
       "    </tr>\n",
       "    <tr>\n",
       "      <th>2</th>\n",
       "      <td>41</td>\n",
       "      <td>1</td>\n",
       "      <td>Manhattan</td>\n",
       "    </tr>\n",
       "    <tr>\n",
       "      <th>3</th>\n",
       "      <td>41</td>\n",
       "      <td>1</td>\n",
       "      <td>Manhattan</td>\n",
       "    </tr>\n",
       "    <tr>\n",
       "      <th>4</th>\n",
       "      <td>41</td>\n",
       "      <td>1</td>\n",
       "      <td>Manhattan</td>\n",
       "    </tr>\n",
       "  </tbody>\n",
       "</table>\n",
       "</div>"
      ],
      "text/plain": [
       "   PULocationID  pickup_day    Borough\n",
       "0            41           1  Manhattan\n",
       "1            41           1  Manhattan\n",
       "2            41           1  Manhattan\n",
       "3            41           1  Manhattan\n",
       "4            41           1  Manhattan"
      ]
     },
     "execution_count": 431,
     "metadata": {},
     "output_type": "execute_result"
    }
   ],
   "source": [
    "M4 = result.drop(['LocationID'], 1)\n",
    "M4.head()"
   ]
  },
  {
   "cell_type": "code",
   "execution_count": 432,
   "metadata": {},
   "outputs": [],
   "source": [
    "del result "
   ]
  },
  {
   "cell_type": "markdown",
   "metadata": {},
   "source": [
    "Now, we need to use groupby function. We need the average frequency of taxis used in each day and for each borough seperately. \n",
    "\n",
    "First we group by based on our boroughs.\n"
   ]
  },
  {
   "cell_type": "code",
   "execution_count": 433,
   "metadata": {},
   "outputs": [
    {
     "data": {
      "text/plain": [
       "dict_keys(['Bronx', 'Brooklyn', 'EWR', 'Manhattan', 'Queens', 'Staten Island', 'Unknown'])"
      ]
     },
     "execution_count": 433,
     "metadata": {},
     "output_type": "execute_result"
    }
   ],
   "source": [
    "M4.groupby(['Borough']).groups.keys()"
   ]
  },
  {
   "cell_type": "code",
   "execution_count": 434,
   "metadata": {},
   "outputs": [],
   "source": [
    "s = M4.groupby('Borough')['pickup_day'].count()\n"
   ]
  },
  {
   "cell_type": "markdown",
   "metadata": {},
   "source": [
    "Now we create a list of averages of each borough  and we append to the list the cumulative value of New York City."
   ]
  },
  {
   "cell_type": "code",
   "execution_count": 435,
   "metadata": {},
   "outputs": [],
   "source": [
    "borAvgs=[]\n",
    "for i in range (7):\n",
    "    borAvgs.append(s[i]//31)\n",
    "NYAvgs=sum(borAvgs)\n",
    "borAvgs.append(NYAvgs)"
   ]
  },
  {
   "cell_type": "code",
   "execution_count": 436,
   "metadata": {},
   "outputs": [
    {
     "name": "stdout",
     "output_type": "stream",
     "text": [
      "[238, 3233, 18, 256958, 16996, 4, 5126, 282573]\n",
      "282573\n"
     ]
    }
   ],
   "source": [
    "print(borAvgs)\n",
    "print(NYAvgs)"
   ]
  },
  {
   "cell_type": "markdown",
   "metadata": {},
   "source": [
    "Now we want to repeat this analysis for each month.\n",
    "We create a dataframe to store the analisy."
   ]
  },
  {
   "cell_type": "code",
   "execution_count": 437,
   "metadata": {},
   "outputs": [],
   "source": [
    "columns=[]\n",
    "index= ['Bronx','Brooklyn','EWR','Manhattan','queens','Staten Island','Unknow', 'NYC']\n",
    "df=pd.DataFrame(index=index, columns=columns) "
   ]
  },
  {
   "cell_type": "code",
   "execution_count": 438,
   "metadata": {},
   "outputs": [
    {
     "data": {
      "text/html": [
       "<div>\n",
       "<style scoped>\n",
       "    .dataframe tbody tr th:only-of-type {\n",
       "        vertical-align: middle;\n",
       "    }\n",
       "\n",
       "    .dataframe tbody tr th {\n",
       "        vertical-align: top;\n",
       "    }\n",
       "\n",
       "    .dataframe thead th {\n",
       "        text-align: right;\n",
       "    }\n",
       "</style>\n",
       "<table border=\"1\" class=\"dataframe\">\n",
       "  <thead>\n",
       "    <tr style=\"text-align: right;\">\n",
       "      <th></th>\n",
       "    </tr>\n",
       "  </thead>\n",
       "  <tbody>\n",
       "    <tr>\n",
       "      <th>Bronx</th>\n",
       "    </tr>\n",
       "    <tr>\n",
       "      <th>Brooklyn</th>\n",
       "    </tr>\n",
       "    <tr>\n",
       "      <th>EWR</th>\n",
       "    </tr>\n",
       "    <tr>\n",
       "      <th>Manhattan</th>\n",
       "    </tr>\n",
       "    <tr>\n",
       "      <th>queens</th>\n",
       "    </tr>\n",
       "    <tr>\n",
       "      <th>Staten Island</th>\n",
       "    </tr>\n",
       "    <tr>\n",
       "      <th>Unknow</th>\n",
       "    </tr>\n",
       "    <tr>\n",
       "      <th>NYC</th>\n",
       "    </tr>\n",
       "  </tbody>\n",
       "</table>\n",
       "</div>"
      ],
      "text/plain": [
       "Empty DataFrame\n",
       "Columns: []\n",
       "Index: [Bronx, Brooklyn, EWR, Manhattan, queens, Staten Island, Unknow, NYC]"
      ]
     },
     "execution_count": 438,
     "metadata": {},
     "output_type": "execute_result"
    }
   ],
   "source": [
    "df"
   ]
  },
  {
   "cell_type": "code",
   "execution_count": 439,
   "metadata": {},
   "outputs": [],
   "source": [
    "df['January']=borAvgs\n"
   ]
  },
  {
   "cell_type": "code",
   "execution_count": 440,
   "metadata": {},
   "outputs": [
    {
     "data": {
      "text/html": [
       "<div>\n",
       "<style scoped>\n",
       "    .dataframe tbody tr th:only-of-type {\n",
       "        vertical-align: middle;\n",
       "    }\n",
       "\n",
       "    .dataframe tbody tr th {\n",
       "        vertical-align: top;\n",
       "    }\n",
       "\n",
       "    .dataframe thead th {\n",
       "        text-align: right;\n",
       "    }\n",
       "</style>\n",
       "<table border=\"1\" class=\"dataframe\">\n",
       "  <thead>\n",
       "    <tr style=\"text-align: right;\">\n",
       "      <th></th>\n",
       "      <th>January</th>\n",
       "    </tr>\n",
       "  </thead>\n",
       "  <tbody>\n",
       "    <tr>\n",
       "      <th>Bronx</th>\n",
       "      <td>238</td>\n",
       "    </tr>\n",
       "    <tr>\n",
       "      <th>Brooklyn</th>\n",
       "      <td>3233</td>\n",
       "    </tr>\n",
       "    <tr>\n",
       "      <th>EWR</th>\n",
       "      <td>18</td>\n",
       "    </tr>\n",
       "    <tr>\n",
       "      <th>Manhattan</th>\n",
       "      <td>256958</td>\n",
       "    </tr>\n",
       "    <tr>\n",
       "      <th>queens</th>\n",
       "      <td>16996</td>\n",
       "    </tr>\n",
       "    <tr>\n",
       "      <th>Staten Island</th>\n",
       "      <td>4</td>\n",
       "    </tr>\n",
       "    <tr>\n",
       "      <th>Unknow</th>\n",
       "      <td>5126</td>\n",
       "    </tr>\n",
       "    <tr>\n",
       "      <th>NYC</th>\n",
       "      <td>282573</td>\n",
       "    </tr>\n",
       "  </tbody>\n",
       "</table>\n",
       "</div>"
      ],
      "text/plain": [
       "               January\n",
       "Bronx              238\n",
       "Brooklyn          3233\n",
       "EWR                 18\n",
       "Manhattan       256958\n",
       "queens           16996\n",
       "Staten Island        4\n",
       "Unknow            5126\n",
       "NYC             282573"
      ]
     },
     "execution_count": 440,
     "metadata": {},
     "output_type": "execute_result"
    }
   ],
   "source": [
    "df"
   ]
  },
  {
   "cell_type": "markdown",
   "metadata": {},
   "source": [
    "Now we want to repeat and store our analysis for each month."
   ]
  },
  {
   "cell_type": "code",
   "execution_count": 441,
   "metadata": {},
   "outputs": [],
   "source": [
    "months=[' ','January','February','March','April','May','June']\n",
    "for i in range(2,7):\n",
    "    M1= pd.read_csv(r\"C:\\Users\\Egon\\Desktop\\Universita\\ADM\\homework2\\dati\\yellow_tripdata_2018-0\"+str(i)+\".csv\", encoding = 'latin-1')\n",
    "    M2 = M1.filter(['tpep_pickup_datetime', 'PULocationID'])\n",
    "    del M1\n",
    "    M2['pickup_day'] = pd.DatetimeIndex(M2['tpep_pickup_datetime']).day\n",
    "    M3 = M2.drop(columns = ['tpep_pickup_datetime'])\n",
    "    result = pd.merge(M3,\n",
    "                 borough[['LocationID', 'Borough']],\n",
    "                 left_on='PULocationID',\n",
    "                 right_on='LocationID',\n",
    "                 how='inner' \n",
    "                 )\n",
    "    M4 = result.drop(['LocationID'], 1)\n",
    "    M4.groupby(['Borough']).groups.keys()\n",
    "    s = M4.groupby('Borough')['pickup_day'].count()\n",
    "    borAvgs=[]\n",
    "    for j in range (7):\n",
    "        if months[i] == 'March' or months[i] == 'May':\n",
    "            borAvgs.append(s[j]//31)\n",
    "        if months[i] == 'February':\n",
    "            borAvgs.append(s[j]//28)\n",
    "        if months[i] == 'April' or months[i] == 'June':\n",
    "            borAvgs.append(s[j]//30)\n",
    "    NYAvgs=sum(borAvgs)\n",
    "    borAvgs.append(NYAvgs)\n",
    "    df[months[i]]=borAvgs\n"
   ]
  },
  {
   "cell_type": "code",
   "execution_count": 442,
   "metadata": {},
   "outputs": [
    {
     "data": {
      "text/html": [
       "<div>\n",
       "<style scoped>\n",
       "    .dataframe tbody tr th:only-of-type {\n",
       "        vertical-align: middle;\n",
       "    }\n",
       "\n",
       "    .dataframe tbody tr th {\n",
       "        vertical-align: top;\n",
       "    }\n",
       "\n",
       "    .dataframe thead th {\n",
       "        text-align: right;\n",
       "    }\n",
       "</style>\n",
       "<table border=\"1\" class=\"dataframe\">\n",
       "  <thead>\n",
       "    <tr style=\"text-align: right;\">\n",
       "      <th></th>\n",
       "      <th>January</th>\n",
       "      <th>February</th>\n",
       "      <th>March</th>\n",
       "      <th>April</th>\n",
       "      <th>May</th>\n",
       "      <th>June</th>\n",
       "    </tr>\n",
       "  </thead>\n",
       "  <tbody>\n",
       "    <tr>\n",
       "      <th>Bronx</th>\n",
       "      <td>238</td>\n",
       "      <td>234</td>\n",
       "      <td>333</td>\n",
       "      <td>347</td>\n",
       "      <td>350</td>\n",
       "      <td>340</td>\n",
       "    </tr>\n",
       "    <tr>\n",
       "      <th>Brooklyn</th>\n",
       "      <td>3233</td>\n",
       "      <td>3396</td>\n",
       "      <td>3965</td>\n",
       "      <td>3969</td>\n",
       "      <td>3961</td>\n",
       "      <td>4098</td>\n",
       "    </tr>\n",
       "    <tr>\n",
       "      <th>EWR</th>\n",
       "      <td>18</td>\n",
       "      <td>17</td>\n",
       "      <td>21</td>\n",
       "      <td>23</td>\n",
       "      <td>24</td>\n",
       "      <td>22</td>\n",
       "    </tr>\n",
       "    <tr>\n",
       "      <th>Manhattan</th>\n",
       "      <td>256958</td>\n",
       "      <td>277424</td>\n",
       "      <td>276408</td>\n",
       "      <td>280959</td>\n",
       "      <td>269354</td>\n",
       "      <td>262626</td>\n",
       "    </tr>\n",
       "    <tr>\n",
       "      <th>queens</th>\n",
       "      <td>16996</td>\n",
       "      <td>17304</td>\n",
       "      <td>18221</td>\n",
       "      <td>19877</td>\n",
       "      <td>19704</td>\n",
       "      <td>19158</td>\n",
       "    </tr>\n",
       "    <tr>\n",
       "      <th>Staten Island</th>\n",
       "      <td>4</td>\n",
       "      <td>3</td>\n",
       "      <td>4</td>\n",
       "      <td>4</td>\n",
       "      <td>4</td>\n",
       "      <td>5</td>\n",
       "    </tr>\n",
       "    <tr>\n",
       "      <th>Unknow</th>\n",
       "      <td>5126</td>\n",
       "      <td>4907</td>\n",
       "      <td>5251</td>\n",
       "      <td>5001</td>\n",
       "      <td>4150</td>\n",
       "      <td>4209</td>\n",
       "    </tr>\n",
       "    <tr>\n",
       "      <th>NYC</th>\n",
       "      <td>282573</td>\n",
       "      <td>303285</td>\n",
       "      <td>304203</td>\n",
       "      <td>310180</td>\n",
       "      <td>297547</td>\n",
       "      <td>290458</td>\n",
       "    </tr>\n",
       "  </tbody>\n",
       "</table>\n",
       "</div>"
      ],
      "text/plain": [
       "               January  February   March   April     May    June\n",
       "Bronx              238       234     333     347     350     340\n",
       "Brooklyn          3233      3396    3965    3969    3961    4098\n",
       "EWR                 18        17      21      23      24      22\n",
       "Manhattan       256958    277424  276408  280959  269354  262626\n",
       "queens           16996     17304   18221   19877   19704   19158\n",
       "Staten Island        4         3       4       4       4       5\n",
       "Unknow            5126      4907    5251    5001    4150    4209\n",
       "NYC             282573    303285  304203  310180  297547  290458"
      ]
     },
     "execution_count": 442,
     "metadata": {},
     "output_type": "execute_result"
    }
   ],
   "source": [
    "df"
   ]
  },
  {
   "cell_type": "markdown",
   "metadata": {},
   "source": [
    "We transpose the dataframe to get plot of the keys that we want (boroughs)."
   ]
  },
  {
   "cell_type": "code",
   "execution_count": 443,
   "metadata": {},
   "outputs": [
    {
     "data": {
      "text/html": [
       "<div>\n",
       "<style scoped>\n",
       "    .dataframe tbody tr th:only-of-type {\n",
       "        vertical-align: middle;\n",
       "    }\n",
       "\n",
       "    .dataframe tbody tr th {\n",
       "        vertical-align: top;\n",
       "    }\n",
       "\n",
       "    .dataframe thead th {\n",
       "        text-align: right;\n",
       "    }\n",
       "</style>\n",
       "<table border=\"1\" class=\"dataframe\">\n",
       "  <thead>\n",
       "    <tr style=\"text-align: right;\">\n",
       "      <th></th>\n",
       "      <th>Bronx</th>\n",
       "      <th>Brooklyn</th>\n",
       "      <th>EWR</th>\n",
       "      <th>Manhattan</th>\n",
       "      <th>queens</th>\n",
       "      <th>Staten Island</th>\n",
       "      <th>Unknow</th>\n",
       "      <th>NYC</th>\n",
       "    </tr>\n",
       "  </thead>\n",
       "  <tbody>\n",
       "    <tr>\n",
       "      <th>January</th>\n",
       "      <td>238</td>\n",
       "      <td>3233</td>\n",
       "      <td>18</td>\n",
       "      <td>256958</td>\n",
       "      <td>16996</td>\n",
       "      <td>4</td>\n",
       "      <td>5126</td>\n",
       "      <td>282573</td>\n",
       "    </tr>\n",
       "    <tr>\n",
       "      <th>February</th>\n",
       "      <td>234</td>\n",
       "      <td>3396</td>\n",
       "      <td>17</td>\n",
       "      <td>277424</td>\n",
       "      <td>17304</td>\n",
       "      <td>3</td>\n",
       "      <td>4907</td>\n",
       "      <td>303285</td>\n",
       "    </tr>\n",
       "    <tr>\n",
       "      <th>March</th>\n",
       "      <td>333</td>\n",
       "      <td>3965</td>\n",
       "      <td>21</td>\n",
       "      <td>276408</td>\n",
       "      <td>18221</td>\n",
       "      <td>4</td>\n",
       "      <td>5251</td>\n",
       "      <td>304203</td>\n",
       "    </tr>\n",
       "    <tr>\n",
       "      <th>April</th>\n",
       "      <td>347</td>\n",
       "      <td>3969</td>\n",
       "      <td>23</td>\n",
       "      <td>280959</td>\n",
       "      <td>19877</td>\n",
       "      <td>4</td>\n",
       "      <td>5001</td>\n",
       "      <td>310180</td>\n",
       "    </tr>\n",
       "    <tr>\n",
       "      <th>May</th>\n",
       "      <td>350</td>\n",
       "      <td>3961</td>\n",
       "      <td>24</td>\n",
       "      <td>269354</td>\n",
       "      <td>19704</td>\n",
       "      <td>4</td>\n",
       "      <td>4150</td>\n",
       "      <td>297547</td>\n",
       "    </tr>\n",
       "    <tr>\n",
       "      <th>June</th>\n",
       "      <td>340</td>\n",
       "      <td>4098</td>\n",
       "      <td>22</td>\n",
       "      <td>262626</td>\n",
       "      <td>19158</td>\n",
       "      <td>5</td>\n",
       "      <td>4209</td>\n",
       "      <td>290458</td>\n",
       "    </tr>\n",
       "  </tbody>\n",
       "</table>\n",
       "</div>"
      ],
      "text/plain": [
       "          Bronx  Brooklyn  EWR  Manhattan  queens  Staten Island  Unknow  \\\n",
       "January     238      3233   18     256958   16996              4    5126   \n",
       "February    234      3396   17     277424   17304              3    4907   \n",
       "March       333      3965   21     276408   18221              4    5251   \n",
       "April       347      3969   23     280959   19877              4    5001   \n",
       "May         350      3961   24     269354   19704              4    4150   \n",
       "June        340      4098   22     262626   19158              5    4209   \n",
       "\n",
       "             NYC  \n",
       "January   282573  \n",
       "February  303285  \n",
       "March     304203  \n",
       "April     310180  \n",
       "May       297547  \n",
       "June      290458  "
      ]
     },
     "execution_count": 443,
     "metadata": {},
     "output_type": "execute_result"
    }
   ],
   "source": [
    "df_tra=df.T\n",
    "df_tra"
   ]
  },
  {
   "cell_type": "markdown",
   "metadata": {},
   "source": [
    "We plot some graphs to get a good visualization of our problem.\n",
    "\n",
    "Graph of taxis taken in New York in each month:"
   ]
  },
  {
   "cell_type": "code",
   "execution_count": 450,
   "metadata": {
    "scrolled": false
   },
   "outputs": [
    {
     "data": {
      "text/plain": [
       "<matplotlib.axes._subplots.AxesSubplot at 0x2caa5d02908>"
      ]
     },
     "execution_count": 450,
     "metadata": {},
     "output_type": "execute_result"
    },
    {
     "data": {
      "image/png": "[encoded data removed]",
      "text/plain": [
       "<Figure size 1080x360 with 1 Axes>"
      ]
     },
     "metadata": {},
     "output_type": "display_data"
    }
   ],
   "source": [
    "df_tra['NYC'].plot(kind='bar', figsize=(15,5))\n"
   ]
  },
  {
   "cell_type": "markdown",
   "metadata": {},
   "source": [
    "Graph of taxis taken in New York in each month in each borough."
   ]
  },
  {
   "cell_type": "code",
   "execution_count": 449,
   "metadata": {},
   "outputs": [
    {
     "data": {
      "text/plain": [
       "<matplotlib.axes._subplots.AxesSubplot at 0x2cbb659ee80>"
      ]
     },
     "execution_count": 449,
     "metadata": {},
     "output_type": "execute_result"
    },
    {
     "data": {
      "image/png": "[encoded data removed]",
      "text/plain": [
       "<Figure size 1080x360 with 1 Axes>"
      ]
     },
     "metadata": {},
     "output_type": "display_data"
    }
   ],
   "source": [
    "df_tra.plot(kind='bar', figsize=(15,5))"
   ]
  },
  {
   "cell_type": "markdown",
   "metadata": {},
   "source": [
    "Another one:"
   ]
  },
  {
   "cell_type": "code",
   "execution_count": 446,
   "metadata": {},
   "outputs": [
    {
     "data": {
      "text/plain": [
       "<matplotlib.axes._subplots.AxesSubplot at 0x2cbe8aa1cc0>"
      ]
     },
     "execution_count": 446,
     "metadata": {},
     "output_type": "execute_result"
    },
    {
     "data": {
      "image/png": "[encoded data removed]",
      "text/plain": [
       "<Figure size 1080x360 with 1 Axes>"
      ]
     },
     "metadata": {},
     "output_type": "display_data"
    }
   ],
   "source": [
    "df_tra.plot(kind='line', figsize=(15,5))"
   ]
  },
  {
   "cell_type": "markdown",
   "metadata": {},
   "source": [
    "Unfortunatly those plots don't give us a very good representation becouse Boroughs are very differents from each other in average number of Taxis, so they don't fit well in a unique graph. However we can describe some minor common patterns."
   ]
  },
  {
   "cell_type": "markdown",
   "metadata": {},
   "source": [
    "## OBSERVATIONS\n",
    " 1.As it's easy to see from our data frame and from our graphs, Manhattan has the highest trafic of taxis in each of six month compared to other boroughs. \n",
    " 2.Another thing observable, is that pick ups in January and June are less frequent. April is the month with the highest number of pick ups. "
   ]
  },
  {
   "cell_type": "code",
   "execution_count": null,
   "metadata": {},
   "outputs": [],
   "source": []
  }
 ],
 "metadata": {
  "kernelspec": {
   "display_name": "Python 3",
   "language": "python",
   "name": "python3"
  },
  "language_info": {
   "codemirror_mode": {
    "name": "ipython",
    "version": 3
   },
   "file_extension": ".py",
   "mimetype": "text/x-python",
   "name": "python",
   "nbconvert_exporter": "python",
   "pygments_lexer": "ipython3",
   "version": "3.6.5"
  }
 },
 "nbformat": 4,
 "nbformat_minor": 2
}
